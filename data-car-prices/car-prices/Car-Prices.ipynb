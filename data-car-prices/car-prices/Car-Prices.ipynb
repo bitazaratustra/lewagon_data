{
 "cells": [
  {
   "cell_type": "markdown",
   "metadata": {},
   "source": [
    "# Car Prices"
   ]
  },
  {
   "cell_type": "markdown",
   "metadata": {},
   "source": [
    "🎯 The goal of this challenge is to prepare a dataset and apply some feature selection techniques that you have learned so far."
   ]
  },
  {
   "cell_type": "markdown",
   "metadata": {},
   "source": [
    "🚗 We are dealing with a dataset about cars and we would like to predict whether a car is expensive or cheap."
   ]
  },
  {
   "cell_type": "code",
   "execution_count": 1,
   "metadata": {},
   "outputs": [],
   "source": [
    "# Data manipulation\n",
    "import numpy as np\n",
    "import pandas as pd\n",
    "# Data visualisation\n",
    "import matplotlib.pyplot as plt\n",
    "import seaborn as sns\n",
    "# Checking whether a numerical feature has a normal distribution or not\n",
    "from statsmodels.graphics.gofplots import qqplot"
   ]
  },
  {
   "cell_type": "code",
   "execution_count": 2,
   "metadata": {},
   "outputs": [],
   "source": [
    "url = \"https://wagon-public-datasets.s3.amazonaws.com/Machine%20Learning%20Datasets/ML_Cars_dataset.csv\""
   ]
  },
  {
   "cell_type": "markdown",
   "metadata": {},
   "source": [
    "❓ Go ahead and load the CSV into a dataframe called `df`."
   ]
  },
  {
   "cell_type": "code",
   "execution_count": 5,
   "metadata": {
    "tags": [
     "challengify"
    ]
   },
   "outputs": [
    {
     "data": {
      "text/html": [
       "<div>\n",
       "<style scoped>\n",
       "    .dataframe tbody tr th:only-of-type {\n",
       "        vertical-align: middle;\n",
       "    }\n",
       "\n",
       "    .dataframe tbody tr th {\n",
       "        vertical-align: top;\n",
       "    }\n",
       "\n",
       "    .dataframe thead th {\n",
       "        text-align: right;\n",
       "    }\n",
       "</style>\n",
       "<table border=\"1\" class=\"dataframe\">\n",
       "  <thead>\n",
       "    <tr style=\"text-align: right;\">\n",
       "      <th></th>\n",
       "      <th>aspiration</th>\n",
       "      <th>enginelocation</th>\n",
       "      <th>carwidth</th>\n",
       "      <th>curbweight</th>\n",
       "      <th>enginetype</th>\n",
       "      <th>cylindernumber</th>\n",
       "      <th>stroke</th>\n",
       "      <th>peakrpm</th>\n",
       "      <th>price</th>\n",
       "    </tr>\n",
       "  </thead>\n",
       "  <tbody>\n",
       "    <tr>\n",
       "      <th>0</th>\n",
       "      <td>std</td>\n",
       "      <td>front</td>\n",
       "      <td>64.1</td>\n",
       "      <td>2548</td>\n",
       "      <td>dohc</td>\n",
       "      <td>four</td>\n",
       "      <td>2.68</td>\n",
       "      <td>5000</td>\n",
       "      <td>expensive</td>\n",
       "    </tr>\n",
       "    <tr>\n",
       "      <th>1</th>\n",
       "      <td>std</td>\n",
       "      <td>front</td>\n",
       "      <td>64.1</td>\n",
       "      <td>2548</td>\n",
       "      <td>dohc</td>\n",
       "      <td>four</td>\n",
       "      <td>2.68</td>\n",
       "      <td>5000</td>\n",
       "      <td>expensive</td>\n",
       "    </tr>\n",
       "    <tr>\n",
       "      <th>2</th>\n",
       "      <td>std</td>\n",
       "      <td>front</td>\n",
       "      <td>65.5</td>\n",
       "      <td>2823</td>\n",
       "      <td>ohcv</td>\n",
       "      <td>six</td>\n",
       "      <td>3.47</td>\n",
       "      <td>5000</td>\n",
       "      <td>expensive</td>\n",
       "    </tr>\n",
       "    <tr>\n",
       "      <th>3</th>\n",
       "      <td>std</td>\n",
       "      <td>front</td>\n",
       "      <td>NaN</td>\n",
       "      <td>2337</td>\n",
       "      <td>ohc</td>\n",
       "      <td>four</td>\n",
       "      <td>3.40</td>\n",
       "      <td>5500</td>\n",
       "      <td>expensive</td>\n",
       "    </tr>\n",
       "    <tr>\n",
       "      <th>4</th>\n",
       "      <td>std</td>\n",
       "      <td>front</td>\n",
       "      <td>66.4</td>\n",
       "      <td>2824</td>\n",
       "      <td>ohc</td>\n",
       "      <td>five</td>\n",
       "      <td>3.40</td>\n",
       "      <td>5500</td>\n",
       "      <td>expensive</td>\n",
       "    </tr>\n",
       "  </tbody>\n",
       "</table>\n",
       "</div>"
      ],
      "text/plain": [
       "  aspiration enginelocation carwidth  curbweight enginetype cylindernumber  \\\n",
       "0        std          front     64.1        2548       dohc           four   \n",
       "1        std          front     64.1        2548       dohc           four   \n",
       "2        std          front     65.5        2823       ohcv            six   \n",
       "3        std          front      NaN        2337        ohc           four   \n",
       "4        std          front     66.4        2824        ohc           five   \n",
       "\n",
       "   stroke  peakrpm      price  \n",
       "0    2.68     5000  expensive  \n",
       "1    2.68     5000  expensive  \n",
       "2    3.47     5000  expensive  \n",
       "3    3.40     5500  expensive  \n",
       "4    3.40     5500  expensive  "
      ]
     },
     "execution_count": 5,
     "metadata": {},
     "output_type": "execute_result"
    }
   ],
   "source": [
    "# YOUR CODE HERE\n",
    "df = pd.read_csv(url)\n",
    "df.head()"
   ]
  },
  {
   "cell_type": "markdown",
   "metadata": {},
   "source": [
    "ℹ️ The description of the dataset is available [here](https://wagon-public-datasets.s3.amazonaws.com/Machine%20Learning%20Datasets/ML_Cars_dataset_description.txt). Make sure to refer to it throughout the exercise."
   ]
  },
  {
   "cell_type": "markdown",
   "metadata": {},
   "source": [
    "## (1) Duplicates"
   ]
  },
  {
   "cell_type": "markdown",
   "metadata": {},
   "source": [
    "❓ Remove the duplicates from the dataset if there are any. ❓\n",
    "\n",
    "*Overwite the dataframe `df`*"
   ]
  },
  {
   "cell_type": "code",
   "execution_count": 7,
   "metadata": {
    "tags": [
     "challengify"
    ]
   },
   "outputs": [
    {
     "data": {
      "text/plain": [
       "(191, 9)"
      ]
     },
     "execution_count": 7,
     "metadata": {},
     "output_type": "execute_result"
    }
   ],
   "source": [
    "# YOUR CODE HERE\n",
    "\n",
    "df = df.drop_duplicates().reset_index(drop=True)\n",
    "\n",
    "df.shape"
   ]
  },
  {
   "cell_type": "markdown",
   "metadata": {},
   "source": [
    "## (2) Missing values"
   ]
  },
  {
   "cell_type": "markdown",
   "metadata": {},
   "source": [
    "❓ Find the missing values and impute them either with `strategy = \"most frequent\"` (categorical variables) or `strategy = \"median\"` (numerical variables) ❓\n"
   ]
  },
  {
   "cell_type": "code",
   "execution_count": 10,
   "metadata": {
    "tags": [
     "challengify"
    ]
   },
   "outputs": [
    {
     "data": {
      "text/html": [
       "<div>\n",
       "<style scoped>\n",
       "    .dataframe tbody tr th:only-of-type {\n",
       "        vertical-align: middle;\n",
       "    }\n",
       "\n",
       "    .dataframe tbody tr th {\n",
       "        vertical-align: top;\n",
       "    }\n",
       "\n",
       "    .dataframe thead th {\n",
       "        text-align: right;\n",
       "    }\n",
       "</style>\n",
       "<table border=\"1\" class=\"dataframe\">\n",
       "  <thead>\n",
       "    <tr style=\"text-align: right;\">\n",
       "      <th></th>\n",
       "      <th>aspiration</th>\n",
       "      <th>enginelocation</th>\n",
       "      <th>carwidth</th>\n",
       "      <th>curbweight</th>\n",
       "      <th>enginetype</th>\n",
       "      <th>cylindernumber</th>\n",
       "      <th>stroke</th>\n",
       "      <th>peakrpm</th>\n",
       "      <th>price</th>\n",
       "    </tr>\n",
       "  </thead>\n",
       "  <tbody>\n",
       "    <tr>\n",
       "      <th>0</th>\n",
       "      <td>std</td>\n",
       "      <td>front</td>\n",
       "      <td>64.1</td>\n",
       "      <td>2548</td>\n",
       "      <td>dohc</td>\n",
       "      <td>four</td>\n",
       "      <td>2.68</td>\n",
       "      <td>5000</td>\n",
       "      <td>expensive</td>\n",
       "    </tr>\n",
       "    <tr>\n",
       "      <th>1</th>\n",
       "      <td>std</td>\n",
       "      <td>front</td>\n",
       "      <td>65.5</td>\n",
       "      <td>2823</td>\n",
       "      <td>ohcv</td>\n",
       "      <td>six</td>\n",
       "      <td>3.47</td>\n",
       "      <td>5000</td>\n",
       "      <td>expensive</td>\n",
       "    </tr>\n",
       "    <tr>\n",
       "      <th>2</th>\n",
       "      <td>std</td>\n",
       "      <td>front</td>\n",
       "      <td>65.5</td>\n",
       "      <td>2337</td>\n",
       "      <td>ohc</td>\n",
       "      <td>four</td>\n",
       "      <td>3.40</td>\n",
       "      <td>5500</td>\n",
       "      <td>expensive</td>\n",
       "    </tr>\n",
       "    <tr>\n",
       "      <th>3</th>\n",
       "      <td>std</td>\n",
       "      <td>front</td>\n",
       "      <td>66.4</td>\n",
       "      <td>2824</td>\n",
       "      <td>ohc</td>\n",
       "      <td>five</td>\n",
       "      <td>3.40</td>\n",
       "      <td>5500</td>\n",
       "      <td>expensive</td>\n",
       "    </tr>\n",
       "    <tr>\n",
       "      <th>4</th>\n",
       "      <td>std</td>\n",
       "      <td>front</td>\n",
       "      <td>66.3</td>\n",
       "      <td>2507</td>\n",
       "      <td>ohc</td>\n",
       "      <td>five</td>\n",
       "      <td>3.40</td>\n",
       "      <td>5500</td>\n",
       "      <td>expensive</td>\n",
       "    </tr>\n",
       "  </tbody>\n",
       "</table>\n",
       "</div>"
      ],
      "text/plain": [
       "  aspiration enginelocation  carwidth  curbweight enginetype cylindernumber  \\\n",
       "0        std          front      64.1        2548       dohc           four   \n",
       "1        std          front      65.5        2823       ohcv            six   \n",
       "2        std          front      65.5        2337        ohc           four   \n",
       "3        std          front      66.4        2824        ohc           five   \n",
       "4        std          front      66.3        2507        ohc           five   \n",
       "\n",
       "   stroke  peakrpm      price  \n",
       "0    2.68     5000  expensive  \n",
       "1    3.47     5000  expensive  \n",
       "2    3.40     5500  expensive  \n",
       "3    3.40     5500  expensive  \n",
       "4    3.40     5500  expensive  "
      ]
     },
     "execution_count": 10,
     "metadata": {},
     "output_type": "execute_result"
    }
   ],
   "source": [
    "# YOUR CODE HERE\n",
    "import numpy as np\n",
    "from sklearn.impute import SimpleImputer\n",
    "\n",
    "df = df.replace(\"*\", np.nan) # Replace occurences of \"*\" by np.nan \n",
    "\n",
    "carwidth_imputer = SimpleImputer(strategy=\"median\") # Instanciate median imputer\n",
    "carwidth_imputer.fit(df[['carwidth']]) # Fit imputer to carwidth column\n",
    "df['carwidth'] = carwidth_imputer.transform(df[['carwidth']]) # Impute\n",
    "\n",
    "df.head()"
   ]
  },
  {
   "cell_type": "markdown",
   "metadata": {},
   "source": [
    "\n",
    "### `carwidth`"
   ]
  },
  {
   "cell_type": "markdown",
   "metadata": {},
   "source": [
    "<details>\n",
    "    <summary> 💡 <i>Hint</i> </summary>\n",
    "    <br>\n",
    "    ℹ️ <code>carwidth</code> has multiple representations for missing values. Some are <code>np.nans</code>, some are  <code>*</code>. Once located, they can be imputed by the median value, since missing values make up less than 30% of the data.\n",
    "</details> "
   ]
  },
  {
   "cell_type": "code",
   "execution_count": null,
   "metadata": {
    "tags": [
     "challengify"
    ]
   },
   "outputs": [],
   "source": [
    "# YOUR CODE HERE"
   ]
  },
  {
   "cell_type": "markdown",
   "metadata": {},
   "source": [
    "### `enginelocation`"
   ]
  },
  {
   "cell_type": "markdown",
   "metadata": {},
   "source": [
    "<details>\n",
    "    <summary>💡 <i>Hint</i> </summary>\n",
    "    <br>\n",
    "    ℹ️ Considering that <code>enginelocation</code> is a categorical feature, and that the vast majority of the category is <code>front</code>, impute with the most frequent.\n",
    "</details>"
   ]
  },
  {
   "cell_type": "code",
   "execution_count": 16,
   "metadata": {
    "tags": [
     "challengify"
    ]
   },
   "outputs": [],
   "source": [
    "# YOUR CODE HERE\n",
    "\n",
    "engine_imputer = SimpleImputer(strategy='most_frequent')\n",
    "engine_imputer.fit(df[['enginelocation']])\n",
    "\n",
    "df['enginelocation'] = engine_imputer.transform(df[['enginelocation']])\n"
   ]
  },
  {
   "cell_type": "markdown",
   "metadata": {},
   "source": [
    "🧪 **Test your code**"
   ]
  },
  {
   "cell_type": "code",
   "execution_count": 17,
   "metadata": {},
   "outputs": [
    {
     "name": "stdout",
     "output_type": "stream",
     "text": [
      "\n",
      "\u001b[1m============================= test session starts ==============================\u001b[0m\n",
      "platform darwin -- Python 3.8.12, pytest-7.1.3, pluggy-1.0.0 -- /Users/bita/.pyenv/versions/lewagon_current/bin/python3\n",
      "cachedir: .pytest_cache\n",
      "rootdir: /Users/bita/code/lewagon/data-car-prices/car-prices/tests\n",
      "plugins: asyncio-0.19.0, anyio-3.6.2\n",
      "asyncio: mode=strict\n",
      "\u001b[1mcollecting ... \u001b[0mcollected 2 items\n",
      "\n",
      "test_missing_values.py::TestMissing_values::test_carwidth \u001b[32mPASSED\u001b[0m\u001b[32m         [ 50%]\u001b[0m\n",
      "test_missing_values.py::TestMissing_values::test_engine_location \u001b[32mPASSED\u001b[0m\u001b[32m  [100%]\u001b[0m\n",
      "\n",
      "\u001b[32m============================== \u001b[32m\u001b[1m2 passed\u001b[0m\u001b[32m in 0.69s\u001b[0m\u001b[32m ===============================\u001b[0m\n",
      "\n",
      "\n",
      "💯 You can commit your code:\n",
      "\n",
      "\u001b[1;32mgit\u001b[39m add tests/missing_values.pickle\n",
      "\n",
      "\u001b[32mgit\u001b[39m commit -m \u001b[33m'Completed missing_values step'\u001b[39m\n",
      "\n",
      "\u001b[32mgit\u001b[39m push origin master\n",
      "\n"
     ]
    }
   ],
   "source": [
    "from nbresult import ChallengeResult\n",
    "\n",
    "result = ChallengeResult('missing_values',\n",
    "                         dataset = df)\n",
    "result.write()\n",
    "print(result.check())"
   ]
  },
  {
   "cell_type": "markdown",
   "metadata": {},
   "source": [
    "## (3) Scaling the numerical features"
   ]
  },
  {
   "cell_type": "code",
   "execution_count": 18,
   "metadata": {},
   "outputs": [
    {
     "name": "stdout",
     "output_type": "stream",
     "text": [
      "<class 'pandas.core.frame.DataFrame'>\n",
      "RangeIndex: 191 entries, 0 to 190\n",
      "Data columns (total 9 columns):\n",
      " #   Column          Non-Null Count  Dtype  \n",
      "---  ------          --------------  -----  \n",
      " 0   aspiration      191 non-null    object \n",
      " 1   enginelocation  191 non-null    object \n",
      " 2   carwidth        191 non-null    float64\n",
      " 3   curbweight      191 non-null    int64  \n",
      " 4   enginetype      191 non-null    object \n",
      " 5   cylindernumber  191 non-null    object \n",
      " 6   stroke          191 non-null    float64\n",
      " 7   peakrpm         191 non-null    int64  \n",
      " 8   price           191 non-null    object \n",
      "dtypes: float64(2), int64(2), object(5)\n",
      "memory usage: 13.6+ KB\n"
     ]
    }
   ],
   "source": [
    "# As a reminder, some information about the dataframe\n",
    "df.info()"
   ]
  },
  {
   "cell_type": "code",
   "execution_count": 19,
   "metadata": {},
   "outputs": [
    {
     "data": {
      "text/plain": [
       "Index(['carwidth', 'curbweight', 'stroke', 'peakrpm'], dtype='object')"
      ]
     },
     "execution_count": 19,
     "metadata": {},
     "output_type": "execute_result"
    }
   ],
   "source": [
    "# And here are the numerical features of the dataset we need to scale\n",
    "numerical_features = df.select_dtypes(exclude=['object']).columns\n",
    "numerical_features"
   ]
  },
  {
   "cell_type": "markdown",
   "metadata": {},
   "source": [
    "❓ **Question: Scaling the numerical features** ❓\n",
    "\n",
    "Investigate the numerical features for outliers and distribution, and apply the solutions below accordingly:\n",
    "- Robust Scaler\n",
    "- Standard Scaler\n",
    "\n",
    "Replace the original columns with the transformed values."
   ]
  },
  {
   "cell_type": "markdown",
   "metadata": {},
   "source": [
    "### `peakrpm` , `carwidth` , & `stroke`"
   ]
  },
  {
   "cell_type": "markdown",
   "metadata": {},
   "source": [
    "<details>\n",
    "    <summary>💡 <i>Hint</i> </summary>\n",
    "\n",
    "    \n",
    "ℹ️ <code>peakrpm</code>, <code>carwidth</code>, & <code>stroke</code> have normal distributions but also some outliers. Hence, it is advisable to use `RobustScaler()`.\n",
    "</details>"
   ]
  },
  {
   "cell_type": "code",
   "execution_count": 22,
   "metadata": {
    "tags": [
     "challengify"
    ]
   },
   "outputs": [
    {
     "data": {
      "image/png": "[encoded data removed]",
      "text/plain": [
       "<Figure size 1500x500 with 3 Axes>"
      ]
     },
     "metadata": {},
     "output_type": "display_data"
    }
   ],
   "source": [
    "# YOUR CODE HERE\n",
    "variable = 'stroke'\n",
    "\n",
    "fig, ax = plt.subplots(1,3,figsize=(15,5))\n",
    "\n",
    "ax[0].set_title(f\"Distribution of the {variable}\")\n",
    "sns.histplot(data = df, x = f\"{variable}\", kde=True, ax = ax[0])\n",
    "\n",
    "ax[1].set_title(f\"Boxplot of the {variable}\")\n",
    "sns.boxplot(data = df, x = f\"{variable}\", ax=ax[1])\n",
    "\n",
    "ax[2].set_title(f\"Gaussianity of:the {variable}\")\n",
    "qqplot(df[f\"{variable}\"],line='s',ax=ax[2]);"
   ]
  },
  {
   "cell_type": "code",
   "execution_count": 23,
   "metadata": {
    "tags": [
     "challengify"
    ]
   },
   "outputs": [
    {
     "data": {
      "text/html": [
       "<div>\n",
       "<style scoped>\n",
       "    .dataframe tbody tr th:only-of-type {\n",
       "        vertical-align: middle;\n",
       "    }\n",
       "\n",
       "    .dataframe tbody tr th {\n",
       "        vertical-align: top;\n",
       "    }\n",
       "\n",
       "    .dataframe thead th {\n",
       "        text-align: right;\n",
       "    }\n",
       "</style>\n",
       "<table border=\"1\" class=\"dataframe\">\n",
       "  <thead>\n",
       "    <tr style=\"text-align: right;\">\n",
       "      <th></th>\n",
       "      <th>aspiration</th>\n",
       "      <th>enginelocation</th>\n",
       "      <th>carwidth</th>\n",
       "      <th>curbweight</th>\n",
       "      <th>enginetype</th>\n",
       "      <th>cylindernumber</th>\n",
       "      <th>stroke</th>\n",
       "      <th>peakrpm</th>\n",
       "      <th>price</th>\n",
       "    </tr>\n",
       "  </thead>\n",
       "  <tbody>\n",
       "    <tr>\n",
       "      <th>0</th>\n",
       "      <td>std</td>\n",
       "      <td>front</td>\n",
       "      <td>-0.518519</td>\n",
       "      <td>2548</td>\n",
       "      <td>dohc</td>\n",
       "      <td>four</td>\n",
       "      <td>-2.033333</td>\n",
       "      <td>-0.142857</td>\n",
       "      <td>expensive</td>\n",
       "    </tr>\n",
       "    <tr>\n",
       "      <th>1</th>\n",
       "      <td>std</td>\n",
       "      <td>front</td>\n",
       "      <td>0.000000</td>\n",
       "      <td>2823</td>\n",
       "      <td>ohcv</td>\n",
       "      <td>six</td>\n",
       "      <td>0.600000</td>\n",
       "      <td>-0.142857</td>\n",
       "      <td>expensive</td>\n",
       "    </tr>\n",
       "    <tr>\n",
       "      <th>2</th>\n",
       "      <td>std</td>\n",
       "      <td>front</td>\n",
       "      <td>0.000000</td>\n",
       "      <td>2337</td>\n",
       "      <td>ohc</td>\n",
       "      <td>four</td>\n",
       "      <td>0.366667</td>\n",
       "      <td>0.571429</td>\n",
       "      <td>expensive</td>\n",
       "    </tr>\n",
       "    <tr>\n",
       "      <th>3</th>\n",
       "      <td>std</td>\n",
       "      <td>front</td>\n",
       "      <td>0.333333</td>\n",
       "      <td>2824</td>\n",
       "      <td>ohc</td>\n",
       "      <td>five</td>\n",
       "      <td>0.366667</td>\n",
       "      <td>0.571429</td>\n",
       "      <td>expensive</td>\n",
       "    </tr>\n",
       "    <tr>\n",
       "      <th>4</th>\n",
       "      <td>std</td>\n",
       "      <td>front</td>\n",
       "      <td>0.296296</td>\n",
       "      <td>2507</td>\n",
       "      <td>ohc</td>\n",
       "      <td>five</td>\n",
       "      <td>0.366667</td>\n",
       "      <td>0.571429</td>\n",
       "      <td>expensive</td>\n",
       "    </tr>\n",
       "  </tbody>\n",
       "</table>\n",
       "</div>"
      ],
      "text/plain": [
       "  aspiration enginelocation  carwidth  curbweight enginetype cylindernumber  \\\n",
       "0        std          front -0.518519        2548       dohc           four   \n",
       "1        std          front  0.000000        2823       ohcv            six   \n",
       "2        std          front  0.000000        2337        ohc           four   \n",
       "3        std          front  0.333333        2824        ohc           five   \n",
       "4        std          front  0.296296        2507        ohc           five   \n",
       "\n",
       "     stroke   peakrpm      price  \n",
       "0 -2.033333 -0.142857  expensive  \n",
       "1  0.600000 -0.142857  expensive  \n",
       "2  0.366667  0.571429  expensive  \n",
       "3  0.366667  0.571429  expensive  \n",
       "4  0.366667  0.571429  expensive  "
      ]
     },
     "execution_count": 23,
     "metadata": {},
     "output_type": "execute_result"
    }
   ],
   "source": [
    "# YOUR CODE HERE\n",
    "from sklearn.preprocessing import RobustScaler\n",
    "\n",
    "rb_scaler = RobustScaler() \n",
    "df['peakrpm'],df['carwidth'],df['stroke'] = rb_scaler.fit_transform(df[['peakrpm','carwidth','stroke']]).T\n",
    "df.head()"
   ]
  },
  {
   "cell_type": "markdown",
   "metadata": {},
   "source": [
    "### `curbweight`"
   ]
  },
  {
   "cell_type": "markdown",
   "metadata": {},
   "source": [
    "<details>\n",
    "    <summary>💡 <i>Hint</i> </summary>\n",
    "    <br>\n",
    "    ℹ️ <code>curbweight</code> has a normal distribution and no outliers. It can be Standard Scaled.\n",
    "</details>"
   ]
  },
  {
   "cell_type": "code",
   "execution_count": 24,
   "metadata": {
    "tags": [
     "challengify"
    ]
   },
   "outputs": [
    {
     "data": {
      "image/png": "[encoded data removed]",
      "text/plain": [
       "<Figure size 1500x500 with 3 Axes>"
      ]
     },
     "metadata": {},
     "output_type": "display_data"
    }
   ],
   "source": [
    "# YOUR CODE HERE\n",
    "ariable = 'curbweight'\n",
    "\n",
    "fig, ax = plt.subplots(1,3,figsize=(15,5))\n",
    "\n",
    "ax[0].set_title(f\"Distribution of the {variable}\")\n",
    "sns.histplot(data = df, x = f\"{variable}\", kde=True, ax = ax[0])\n",
    "\n",
    "ax[1].set_title(f\"Boxplot of the {variable}\")\n",
    "sns.boxplot(data = df, x = f\"{variable}\", ax=ax[1])\n",
    "\n",
    "ax[2].set_title(f\"Gaussianity of:the {variable}\")\n",
    "qqplot(df[f\"{variable}\"],line='s',ax=ax[2]);"
   ]
  },
  {
   "cell_type": "code",
   "execution_count": 25,
   "metadata": {
    "tags": [
     "challengify"
    ]
   },
   "outputs": [
    {
     "data": {
      "text/html": [
       "<div>\n",
       "<style scoped>\n",
       "    .dataframe tbody tr th:only-of-type {\n",
       "        vertical-align: middle;\n",
       "    }\n",
       "\n",
       "    .dataframe tbody tr th {\n",
       "        vertical-align: top;\n",
       "    }\n",
       "\n",
       "    .dataframe thead th {\n",
       "        text-align: right;\n",
       "    }\n",
       "</style>\n",
       "<table border=\"1\" class=\"dataframe\">\n",
       "  <thead>\n",
       "    <tr style=\"text-align: right;\">\n",
       "      <th></th>\n",
       "      <th>aspiration</th>\n",
       "      <th>enginelocation</th>\n",
       "      <th>carwidth</th>\n",
       "      <th>curbweight</th>\n",
       "      <th>enginetype</th>\n",
       "      <th>cylindernumber</th>\n",
       "      <th>stroke</th>\n",
       "      <th>peakrpm</th>\n",
       "      <th>price</th>\n",
       "    </tr>\n",
       "  </thead>\n",
       "  <tbody>\n",
       "    <tr>\n",
       "      <th>0</th>\n",
       "      <td>std</td>\n",
       "      <td>front</td>\n",
       "      <td>-0.518519</td>\n",
       "      <td>-0.048068</td>\n",
       "      <td>dohc</td>\n",
       "      <td>four</td>\n",
       "      <td>-2.033333</td>\n",
       "      <td>-0.142857</td>\n",
       "      <td>expensive</td>\n",
       "    </tr>\n",
       "    <tr>\n",
       "      <th>1</th>\n",
       "      <td>std</td>\n",
       "      <td>front</td>\n",
       "      <td>0.000000</td>\n",
       "      <td>0.476395</td>\n",
       "      <td>ohcv</td>\n",
       "      <td>six</td>\n",
       "      <td>0.600000</td>\n",
       "      <td>-0.142857</td>\n",
       "      <td>expensive</td>\n",
       "    </tr>\n",
       "    <tr>\n",
       "      <th>2</th>\n",
       "      <td>std</td>\n",
       "      <td>front</td>\n",
       "      <td>0.000000</td>\n",
       "      <td>-0.450474</td>\n",
       "      <td>ohc</td>\n",
       "      <td>four</td>\n",
       "      <td>0.366667</td>\n",
       "      <td>0.571429</td>\n",
       "      <td>expensive</td>\n",
       "    </tr>\n",
       "    <tr>\n",
       "      <th>3</th>\n",
       "      <td>std</td>\n",
       "      <td>front</td>\n",
       "      <td>0.333333</td>\n",
       "      <td>0.478302</td>\n",
       "      <td>ohc</td>\n",
       "      <td>five</td>\n",
       "      <td>0.366667</td>\n",
       "      <td>0.571429</td>\n",
       "      <td>expensive</td>\n",
       "    </tr>\n",
       "    <tr>\n",
       "      <th>4</th>\n",
       "      <td>std</td>\n",
       "      <td>front</td>\n",
       "      <td>0.296296</td>\n",
       "      <td>-0.126260</td>\n",
       "      <td>ohc</td>\n",
       "      <td>five</td>\n",
       "      <td>0.366667</td>\n",
       "      <td>0.571429</td>\n",
       "      <td>expensive</td>\n",
       "    </tr>\n",
       "  </tbody>\n",
       "</table>\n",
       "</div>"
      ],
      "text/plain": [
       "  aspiration enginelocation  carwidth  curbweight enginetype cylindernumber  \\\n",
       "0        std          front -0.518519   -0.048068       dohc           four   \n",
       "1        std          front  0.000000    0.476395       ohcv            six   \n",
       "2        std          front  0.000000   -0.450474        ohc           four   \n",
       "3        std          front  0.333333    0.478302        ohc           five   \n",
       "4        std          front  0.296296   -0.126260        ohc           five   \n",
       "\n",
       "     stroke   peakrpm      price  \n",
       "0 -2.033333 -0.142857  expensive  \n",
       "1  0.600000 -0.142857  expensive  \n",
       "2  0.366667  0.571429  expensive  \n",
       "3  0.366667  0.571429  expensive  \n",
       "4  0.366667  0.571429  expensive  "
      ]
     },
     "execution_count": 25,
     "metadata": {},
     "output_type": "execute_result"
    }
   ],
   "source": [
    "# YOUR CODE HERE\n",
    "from sklearn.preprocessing import StandardScaler\n",
    "\n",
    "std_scaler = StandardScaler()\n",
    "df['curbweight'] = std_scaler.fit_transform(df[['curbweight']])\n",
    "df.head()"
   ]
  },
  {
   "cell_type": "markdown",
   "metadata": {},
   "source": [
    "🧪 **Test your code**"
   ]
  },
  {
   "cell_type": "code",
   "execution_count": 26,
   "metadata": {},
   "outputs": [
    {
     "name": "stdout",
     "output_type": "stream",
     "text": [
      "\n",
      "\u001b[1m============================= test session starts ==============================\u001b[0m\n",
      "platform darwin -- Python 3.8.12, pytest-7.1.3, pluggy-1.0.0 -- /Users/bita/.pyenv/versions/lewagon_current/bin/python3\n",
      "cachedir: .pytest_cache\n",
      "rootdir: /Users/bita/code/lewagon/data-car-prices/car-prices/tests\n",
      "plugins: asyncio-0.19.0, anyio-3.6.2\n",
      "asyncio: mode=strict\n",
      "\u001b[1mcollecting ... \u001b[0mcollected 4 items\n",
      "\n",
      "test_scaling.py::TestScaling::test_carwidth \u001b[32mPASSED\u001b[0m\u001b[32m                       [ 25%]\u001b[0m\n",
      "test_scaling.py::TestScaling::test_curbweight \u001b[32mPASSED\u001b[0m\u001b[32m                     [ 50%]\u001b[0m\n",
      "test_scaling.py::TestScaling::test_peakrpm \u001b[32mPASSED\u001b[0m\u001b[32m                        [ 75%]\u001b[0m\n",
      "test_scaling.py::TestScaling::test_stroke \u001b[32mPASSED\u001b[0m\u001b[32m                         [100%]\u001b[0m\n",
      "\n",
      "\u001b[32m============================== \u001b[32m\u001b[1m4 passed\u001b[0m\u001b[32m in 0.83s\u001b[0m\u001b[32m ===============================\u001b[0m\n",
      "\n",
      "\n",
      "💯 You can commit your code:\n",
      "\n",
      "\u001b[1;32mgit\u001b[39m add tests/scaling.pickle\n",
      "\n",
      "\u001b[32mgit\u001b[39m commit -m \u001b[33m'Completed scaling step'\u001b[39m\n",
      "\n",
      "\u001b[32mgit\u001b[39m push origin master\n",
      "\n"
     ]
    }
   ],
   "source": [
    "from nbresult import ChallengeResult\n",
    "\n",
    "result = ChallengeResult('scaling',\n",
    "                         dataset = df\n",
    ")\n",
    "\n",
    "result.write()\n",
    "print(result.check())"
   ]
  },
  {
   "cell_type": "markdown",
   "metadata": {},
   "source": [
    "## (4) Encoding the categorical features"
   ]
  },
  {
   "cell_type": "markdown",
   "metadata": {},
   "source": [
    "❓ **Question: encoding the categorical variables** ❓\n",
    "\n",
    "👇 Investigate the features that require encoding, and apply the following techniques accordingly:\n",
    "\n",
    "- One-hot encoding\n",
    "- Manual ordinal encoding\n",
    "\n",
    "In the Dataframe, replace the original features with their encoded version(s)."
   ]
  },
  {
   "cell_type": "markdown",
   "metadata": {},
   "source": [
    "### `aspiration` & `enginelocation`"
   ]
  },
  {
   "cell_type": "markdown",
   "metadata": {},
   "source": [
    "<details>\n",
    "    <summary>💡 <i>Hint</i> </summary>\n",
    "    <br>\n",
    "    ℹ️ <code>aspiration</code> and <code>enginelocation</code> are binary categorical features.\n",
    "</details>"
   ]
  },
  {
   "cell_type": "code",
   "execution_count": 27,
   "metadata": {
    "tags": [
     "challengify"
    ]
   },
   "outputs": [
    {
     "data": {
      "text/html": [
       "<div>\n",
       "<style scoped>\n",
       "    .dataframe tbody tr th:only-of-type {\n",
       "        vertical-align: middle;\n",
       "    }\n",
       "\n",
       "    .dataframe tbody tr th {\n",
       "        vertical-align: top;\n",
       "    }\n",
       "\n",
       "    .dataframe thead th {\n",
       "        text-align: right;\n",
       "    }\n",
       "</style>\n",
       "<table border=\"1\" class=\"dataframe\">\n",
       "  <thead>\n",
       "    <tr style=\"text-align: right;\">\n",
       "      <th></th>\n",
       "      <th>aspiration</th>\n",
       "      <th>enginelocation</th>\n",
       "      <th>carwidth</th>\n",
       "      <th>curbweight</th>\n",
       "      <th>enginetype</th>\n",
       "      <th>cylindernumber</th>\n",
       "      <th>stroke</th>\n",
       "      <th>peakrpm</th>\n",
       "      <th>price</th>\n",
       "    </tr>\n",
       "  </thead>\n",
       "  <tbody>\n",
       "    <tr>\n",
       "      <th>0</th>\n",
       "      <td>0.0</td>\n",
       "      <td>0.0</td>\n",
       "      <td>-0.518519</td>\n",
       "      <td>-0.048068</td>\n",
       "      <td>dohc</td>\n",
       "      <td>four</td>\n",
       "      <td>-2.033333</td>\n",
       "      <td>-0.142857</td>\n",
       "      <td>expensive</td>\n",
       "    </tr>\n",
       "    <tr>\n",
       "      <th>1</th>\n",
       "      <td>0.0</td>\n",
       "      <td>0.0</td>\n",
       "      <td>0.000000</td>\n",
       "      <td>0.476395</td>\n",
       "      <td>ohcv</td>\n",
       "      <td>six</td>\n",
       "      <td>0.600000</td>\n",
       "      <td>-0.142857</td>\n",
       "      <td>expensive</td>\n",
       "    </tr>\n",
       "    <tr>\n",
       "      <th>2</th>\n",
       "      <td>0.0</td>\n",
       "      <td>0.0</td>\n",
       "      <td>0.000000</td>\n",
       "      <td>-0.450474</td>\n",
       "      <td>ohc</td>\n",
       "      <td>four</td>\n",
       "      <td>0.366667</td>\n",
       "      <td>0.571429</td>\n",
       "      <td>expensive</td>\n",
       "    </tr>\n",
       "    <tr>\n",
       "      <th>3</th>\n",
       "      <td>0.0</td>\n",
       "      <td>0.0</td>\n",
       "      <td>0.333333</td>\n",
       "      <td>0.478302</td>\n",
       "      <td>ohc</td>\n",
       "      <td>five</td>\n",
       "      <td>0.366667</td>\n",
       "      <td>0.571429</td>\n",
       "      <td>expensive</td>\n",
       "    </tr>\n",
       "    <tr>\n",
       "      <th>4</th>\n",
       "      <td>0.0</td>\n",
       "      <td>0.0</td>\n",
       "      <td>0.296296</td>\n",
       "      <td>-0.126260</td>\n",
       "      <td>ohc</td>\n",
       "      <td>five</td>\n",
       "      <td>0.366667</td>\n",
       "      <td>0.571429</td>\n",
       "      <td>expensive</td>\n",
       "    </tr>\n",
       "  </tbody>\n",
       "</table>\n",
       "</div>"
      ],
      "text/plain": [
       "   aspiration  enginelocation  carwidth  curbweight enginetype cylindernumber  \\\n",
       "0         0.0             0.0 -0.518519   -0.048068       dohc           four   \n",
       "1         0.0             0.0  0.000000    0.476395       ohcv            six   \n",
       "2         0.0             0.0  0.000000   -0.450474        ohc           four   \n",
       "3         0.0             0.0  0.333333    0.478302        ohc           five   \n",
       "4         0.0             0.0  0.296296   -0.126260        ohc           five   \n",
       "\n",
       "     stroke   peakrpm      price  \n",
       "0 -2.033333 -0.142857  expensive  \n",
       "1  0.600000 -0.142857  expensive  \n",
       "2  0.366667  0.571429  expensive  \n",
       "3  0.366667  0.571429  expensive  \n",
       "4  0.366667  0.571429  expensive  "
      ]
     },
     "execution_count": 27,
     "metadata": {},
     "output_type": "execute_result"
    }
   ],
   "source": [
    "# YOUR CODE HERE\n",
    "from sklearn.preprocessing import OneHotEncoder\n",
    "\n",
    "binary_encoder = OneHotEncoder(sparse=False, drop='if_binary')\n",
    "df['aspiration'], df['enginelocation'] = binary_encoder.fit_transform(df[['aspiration', 'enginelocation']]).T\n",
    "\n",
    "df.head()"
   ]
  },
  {
   "cell_type": "markdown",
   "metadata": {},
   "source": [
    "### `enginetype`"
   ]
  },
  {
   "cell_type": "markdown",
   "metadata": {},
   "source": [
    "<details>\n",
    "    <summary>💡 <i>Hint</i> </summary>\n",
    "    <br>\n",
    "    ℹ️ <code>enginetype</code> is a multicategorical feature and must be One hot encoded.\n",
    "</details>"
   ]
  },
  {
   "cell_type": "code",
   "execution_count": 28,
   "metadata": {
    "tags": [
     "challengify"
    ]
   },
   "outputs": [
    {
     "data": {
      "text/plain": [
       "[array(['dohc', 'dohcv', 'l', 'ohc', 'ohcf', 'ohcv', 'rotor'], dtype=object)]"
      ]
     },
     "metadata": {},
     "output_type": "display_data"
    },
    {
     "data": {
      "text/plain": [
       "array(['enginetype_dohc', 'enginetype_dohcv', 'enginetype_l',\n",
       "       'enginetype_ohc', 'enginetype_ohcf', 'enginetype_ohcv',\n",
       "       'enginetype_rotor'], dtype=object)"
      ]
     },
     "metadata": {},
     "output_type": "display_data"
    },
    {
     "data": {
      "text/html": [
       "<div>\n",
       "<style scoped>\n",
       "    .dataframe tbody tr th:only-of-type {\n",
       "        vertical-align: middle;\n",
       "    }\n",
       "\n",
       "    .dataframe tbody tr th {\n",
       "        vertical-align: top;\n",
       "    }\n",
       "\n",
       "    .dataframe thead th {\n",
       "        text-align: right;\n",
       "    }\n",
       "</style>\n",
       "<table border=\"1\" class=\"dataframe\">\n",
       "  <thead>\n",
       "    <tr style=\"text-align: right;\">\n",
       "      <th></th>\n",
       "      <th>aspiration</th>\n",
       "      <th>enginelocation</th>\n",
       "      <th>carwidth</th>\n",
       "      <th>curbweight</th>\n",
       "      <th>cylindernumber</th>\n",
       "      <th>stroke</th>\n",
       "      <th>peakrpm</th>\n",
       "      <th>price</th>\n",
       "      <th>enginetype_dohc</th>\n",
       "      <th>enginetype_dohcv</th>\n",
       "      <th>enginetype_l</th>\n",
       "      <th>enginetype_ohc</th>\n",
       "      <th>enginetype_ohcf</th>\n",
       "      <th>enginetype_ohcv</th>\n",
       "      <th>enginetype_rotor</th>\n",
       "    </tr>\n",
       "  </thead>\n",
       "  <tbody>\n",
       "    <tr>\n",
       "      <th>0</th>\n",
       "      <td>0.0</td>\n",
       "      <td>0.0</td>\n",
       "      <td>-0.518519</td>\n",
       "      <td>-0.048068</td>\n",
       "      <td>four</td>\n",
       "      <td>-2.033333</td>\n",
       "      <td>-0.142857</td>\n",
       "      <td>expensive</td>\n",
       "      <td>1.0</td>\n",
       "      <td>0.0</td>\n",
       "      <td>0.0</td>\n",
       "      <td>0.0</td>\n",
       "      <td>0.0</td>\n",
       "      <td>0.0</td>\n",
       "      <td>0.0</td>\n",
       "    </tr>\n",
       "    <tr>\n",
       "      <th>1</th>\n",
       "      <td>0.0</td>\n",
       "      <td>0.0</td>\n",
       "      <td>0.000000</td>\n",
       "      <td>0.476395</td>\n",
       "      <td>six</td>\n",
       "      <td>0.600000</td>\n",
       "      <td>-0.142857</td>\n",
       "      <td>expensive</td>\n",
       "      <td>0.0</td>\n",
       "      <td>0.0</td>\n",
       "      <td>0.0</td>\n",
       "      <td>0.0</td>\n",
       "      <td>0.0</td>\n",
       "      <td>1.0</td>\n",
       "      <td>0.0</td>\n",
       "    </tr>\n",
       "    <tr>\n",
       "      <th>2</th>\n",
       "      <td>0.0</td>\n",
       "      <td>0.0</td>\n",
       "      <td>0.000000</td>\n",
       "      <td>-0.450474</td>\n",
       "      <td>four</td>\n",
       "      <td>0.366667</td>\n",
       "      <td>0.571429</td>\n",
       "      <td>expensive</td>\n",
       "      <td>0.0</td>\n",
       "      <td>0.0</td>\n",
       "      <td>0.0</td>\n",
       "      <td>1.0</td>\n",
       "      <td>0.0</td>\n",
       "      <td>0.0</td>\n",
       "      <td>0.0</td>\n",
       "    </tr>\n",
       "    <tr>\n",
       "      <th>3</th>\n",
       "      <td>0.0</td>\n",
       "      <td>0.0</td>\n",
       "      <td>0.333333</td>\n",
       "      <td>0.478302</td>\n",
       "      <td>five</td>\n",
       "      <td>0.366667</td>\n",
       "      <td>0.571429</td>\n",
       "      <td>expensive</td>\n",
       "      <td>0.0</td>\n",
       "      <td>0.0</td>\n",
       "      <td>0.0</td>\n",
       "      <td>1.0</td>\n",
       "      <td>0.0</td>\n",
       "      <td>0.0</td>\n",
       "      <td>0.0</td>\n",
       "    </tr>\n",
       "    <tr>\n",
       "      <th>4</th>\n",
       "      <td>0.0</td>\n",
       "      <td>0.0</td>\n",
       "      <td>0.296296</td>\n",
       "      <td>-0.126260</td>\n",
       "      <td>five</td>\n",
       "      <td>0.366667</td>\n",
       "      <td>0.571429</td>\n",
       "      <td>expensive</td>\n",
       "      <td>0.0</td>\n",
       "      <td>0.0</td>\n",
       "      <td>0.0</td>\n",
       "      <td>1.0</td>\n",
       "      <td>0.0</td>\n",
       "      <td>0.0</td>\n",
       "      <td>0.0</td>\n",
       "    </tr>\n",
       "    <tr>\n",
       "      <th>...</th>\n",
       "      <td>...</td>\n",
       "      <td>...</td>\n",
       "      <td>...</td>\n",
       "      <td>...</td>\n",
       "      <td>...</td>\n",
       "      <td>...</td>\n",
       "      <td>...</td>\n",
       "      <td>...</td>\n",
       "      <td>...</td>\n",
       "      <td>...</td>\n",
       "      <td>...</td>\n",
       "      <td>...</td>\n",
       "      <td>...</td>\n",
       "      <td>...</td>\n",
       "      <td>...</td>\n",
       "    </tr>\n",
       "    <tr>\n",
       "      <th>186</th>\n",
       "      <td>0.0</td>\n",
       "      <td>0.0</td>\n",
       "      <td>1.259259</td>\n",
       "      <td>0.722416</td>\n",
       "      <td>four</td>\n",
       "      <td>-0.466667</td>\n",
       "      <td>0.428571</td>\n",
       "      <td>expensive</td>\n",
       "      <td>0.0</td>\n",
       "      <td>0.0</td>\n",
       "      <td>0.0</td>\n",
       "      <td>1.0</td>\n",
       "      <td>0.0</td>\n",
       "      <td>0.0</td>\n",
       "      <td>0.0</td>\n",
       "    </tr>\n",
       "    <tr>\n",
       "      <th>187</th>\n",
       "      <td>1.0</td>\n",
       "      <td>0.0</td>\n",
       "      <td>1.222222</td>\n",
       "      <td>0.907408</td>\n",
       "      <td>four</td>\n",
       "      <td>-0.466667</td>\n",
       "      <td>0.285714</td>\n",
       "      <td>expensive</td>\n",
       "      <td>0.0</td>\n",
       "      <td>0.0</td>\n",
       "      <td>0.0</td>\n",
       "      <td>1.0</td>\n",
       "      <td>0.0</td>\n",
       "      <td>0.0</td>\n",
       "      <td>0.0</td>\n",
       "    </tr>\n",
       "    <tr>\n",
       "      <th>188</th>\n",
       "      <td>0.0</td>\n",
       "      <td>0.0</td>\n",
       "      <td>1.259259</td>\n",
       "      <td>0.836844</td>\n",
       "      <td>six</td>\n",
       "      <td>-1.400000</td>\n",
       "      <td>0.571429</td>\n",
       "      <td>expensive</td>\n",
       "      <td>0.0</td>\n",
       "      <td>0.0</td>\n",
       "      <td>0.0</td>\n",
       "      <td>0.0</td>\n",
       "      <td>0.0</td>\n",
       "      <td>1.0</td>\n",
       "      <td>0.0</td>\n",
       "    </tr>\n",
       "    <tr>\n",
       "      <th>189</th>\n",
       "      <td>1.0</td>\n",
       "      <td>0.0</td>\n",
       "      <td>1.259259</td>\n",
       "      <td>1.227807</td>\n",
       "      <td>six</td>\n",
       "      <td>0.366667</td>\n",
       "      <td>-0.428571</td>\n",
       "      <td>expensive</td>\n",
       "      <td>0.0</td>\n",
       "      <td>0.0</td>\n",
       "      <td>0.0</td>\n",
       "      <td>1.0</td>\n",
       "      <td>0.0</td>\n",
       "      <td>0.0</td>\n",
       "      <td>0.0</td>\n",
       "    </tr>\n",
       "    <tr>\n",
       "      <th>190</th>\n",
       "      <td>1.0</td>\n",
       "      <td>0.0</td>\n",
       "      <td>1.259259</td>\n",
       "      <td>0.932201</td>\n",
       "      <td>four</td>\n",
       "      <td>-0.466667</td>\n",
       "      <td>0.428571</td>\n",
       "      <td>expensive</td>\n",
       "      <td>0.0</td>\n",
       "      <td>0.0</td>\n",
       "      <td>0.0</td>\n",
       "      <td>1.0</td>\n",
       "      <td>0.0</td>\n",
       "      <td>0.0</td>\n",
       "      <td>0.0</td>\n",
       "    </tr>\n",
       "  </tbody>\n",
       "</table>\n",
       "<p>191 rows × 15 columns</p>\n",
       "</div>"
      ],
      "text/plain": [
       "     aspiration  enginelocation  carwidth  curbweight cylindernumber  \\\n",
       "0           0.0             0.0 -0.518519   -0.048068           four   \n",
       "1           0.0             0.0  0.000000    0.476395            six   \n",
       "2           0.0             0.0  0.000000   -0.450474           four   \n",
       "3           0.0             0.0  0.333333    0.478302           five   \n",
       "4           0.0             0.0  0.296296   -0.126260           five   \n",
       "..          ...             ...       ...         ...            ...   \n",
       "186         0.0             0.0  1.259259    0.722416           four   \n",
       "187         1.0             0.0  1.222222    0.907408           four   \n",
       "188         0.0             0.0  1.259259    0.836844            six   \n",
       "189         1.0             0.0  1.259259    1.227807            six   \n",
       "190         1.0             0.0  1.259259    0.932201           four   \n",
       "\n",
       "       stroke   peakrpm      price  enginetype_dohc  enginetype_dohcv  \\\n",
       "0   -2.033333 -0.142857  expensive              1.0               0.0   \n",
       "1    0.600000 -0.142857  expensive              0.0               0.0   \n",
       "2    0.366667  0.571429  expensive              0.0               0.0   \n",
       "3    0.366667  0.571429  expensive              0.0               0.0   \n",
       "4    0.366667  0.571429  expensive              0.0               0.0   \n",
       "..        ...       ...        ...              ...               ...   \n",
       "186 -0.466667  0.428571  expensive              0.0               0.0   \n",
       "187 -0.466667  0.285714  expensive              0.0               0.0   \n",
       "188 -1.400000  0.571429  expensive              0.0               0.0   \n",
       "189  0.366667 -0.428571  expensive              0.0               0.0   \n",
       "190 -0.466667  0.428571  expensive              0.0               0.0   \n",
       "\n",
       "     enginetype_l  enginetype_ohc  enginetype_ohcf  enginetype_ohcv  \\\n",
       "0             0.0             0.0              0.0              0.0   \n",
       "1             0.0             0.0              0.0              1.0   \n",
       "2             0.0             1.0              0.0              0.0   \n",
       "3             0.0             1.0              0.0              0.0   \n",
       "4             0.0             1.0              0.0              0.0   \n",
       "..            ...             ...              ...              ...   \n",
       "186           0.0             1.0              0.0              0.0   \n",
       "187           0.0             1.0              0.0              0.0   \n",
       "188           0.0             0.0              0.0              1.0   \n",
       "189           0.0             1.0              0.0              0.0   \n",
       "190           0.0             1.0              0.0              0.0   \n",
       "\n",
       "     enginetype_rotor  \n",
       "0                 0.0  \n",
       "1                 0.0  \n",
       "2                 0.0  \n",
       "3                 0.0  \n",
       "4                 0.0  \n",
       "..                ...  \n",
       "186               0.0  \n",
       "187               0.0  \n",
       "188               0.0  \n",
       "189               0.0  \n",
       "190               0.0  \n",
       "\n",
       "[191 rows x 15 columns]"
      ]
     },
     "execution_count": 28,
     "metadata": {},
     "output_type": "execute_result"
    }
   ],
   "source": [
    "# YOUR CODE HERE\n",
    "from sklearn.preprocessing import OneHotEncoder\n",
    "\n",
    "# Instantiate a OneHotEncoder for the categorical feature EngineType\n",
    "ohe = OneHotEncoder(sparse=False)\n",
    "\n",
    "# Fitting it\n",
    "ohe.fit(df[['enginetype']])\n",
    "\n",
    "# Showing the categories detected by the encoder\n",
    "display(ohe.categories_) \n",
    "\n",
    "# Since Sklearn 1.1, we can retrieve the names of the generated columns\n",
    "display(ohe.get_feature_names_out()) \n",
    "\n",
    "# Let's encode EngineType\n",
    "enginetype_encoded = ohe.transform(df[['enginetype']])\n",
    "                         \n",
    "# Now we store the encoded values in the dataframe    \n",
    "df[ohe.get_feature_names_out()] = enginetype_encoded\n",
    "\n",
    "# We can get rid of the original column EngineType now\n",
    "df.drop(columns='enginetype', inplace = True)\n",
    "\n",
    "# And show df\n",
    "df"
   ]
  },
  {
   "cell_type": "code",
   "execution_count": 29,
   "metadata": {},
   "outputs": [
    {
     "data": {
      "text/plain": [
       "(191, 15)"
      ]
     },
     "execution_count": 29,
     "metadata": {},
     "output_type": "execute_result"
    }
   ],
   "source": [
    "df.shape"
   ]
  },
  {
   "cell_type": "markdown",
   "metadata": {},
   "source": [
    "### `cylindernumber`"
   ]
  },
  {
   "cell_type": "markdown",
   "metadata": {},
   "source": [
    "<details>\n",
    "    <summary>💡 Hint </summary>\n",
    "\n",
    "ℹ️ <code>cylindernumber</code> is an ordinal feature and must be manually encoded into numeric.\n",
    "\n",
    "</details>"
   ]
  },
  {
   "cell_type": "code",
   "execution_count": 30,
   "metadata": {
    "tags": [
     "challengify"
    ]
   },
   "outputs": [
    {
     "data": {
      "text/html": [
       "<div>\n",
       "<style scoped>\n",
       "    .dataframe tbody tr th:only-of-type {\n",
       "        vertical-align: middle;\n",
       "    }\n",
       "\n",
       "    .dataframe tbody tr th {\n",
       "        vertical-align: top;\n",
       "    }\n",
       "\n",
       "    .dataframe thead th {\n",
       "        text-align: right;\n",
       "    }\n",
       "</style>\n",
       "<table border=\"1\" class=\"dataframe\">\n",
       "  <thead>\n",
       "    <tr style=\"text-align: right;\">\n",
       "      <th></th>\n",
       "      <th>aspiration</th>\n",
       "      <th>enginelocation</th>\n",
       "      <th>carwidth</th>\n",
       "      <th>curbweight</th>\n",
       "      <th>cylindernumber</th>\n",
       "      <th>stroke</th>\n",
       "      <th>peakrpm</th>\n",
       "      <th>price</th>\n",
       "      <th>enginetype_dohc</th>\n",
       "      <th>enginetype_dohcv</th>\n",
       "      <th>enginetype_l</th>\n",
       "      <th>enginetype_ohc</th>\n",
       "      <th>enginetype_ohcf</th>\n",
       "      <th>enginetype_ohcv</th>\n",
       "      <th>enginetype_rotor</th>\n",
       "    </tr>\n",
       "  </thead>\n",
       "  <tbody>\n",
       "    <tr>\n",
       "      <th>0</th>\n",
       "      <td>0.0</td>\n",
       "      <td>0.0</td>\n",
       "      <td>-0.518519</td>\n",
       "      <td>-0.048068</td>\n",
       "      <td>4</td>\n",
       "      <td>-2.033333</td>\n",
       "      <td>-0.142857</td>\n",
       "      <td>expensive</td>\n",
       "      <td>1.0</td>\n",
       "      <td>0.0</td>\n",
       "      <td>0.0</td>\n",
       "      <td>0.0</td>\n",
       "      <td>0.0</td>\n",
       "      <td>0.0</td>\n",
       "      <td>0.0</td>\n",
       "    </tr>\n",
       "    <tr>\n",
       "      <th>1</th>\n",
       "      <td>0.0</td>\n",
       "      <td>0.0</td>\n",
       "      <td>0.000000</td>\n",
       "      <td>0.476395</td>\n",
       "      <td>6</td>\n",
       "      <td>0.600000</td>\n",
       "      <td>-0.142857</td>\n",
       "      <td>expensive</td>\n",
       "      <td>0.0</td>\n",
       "      <td>0.0</td>\n",
       "      <td>0.0</td>\n",
       "      <td>0.0</td>\n",
       "      <td>0.0</td>\n",
       "      <td>1.0</td>\n",
       "      <td>0.0</td>\n",
       "    </tr>\n",
       "    <tr>\n",
       "      <th>2</th>\n",
       "      <td>0.0</td>\n",
       "      <td>0.0</td>\n",
       "      <td>0.000000</td>\n",
       "      <td>-0.450474</td>\n",
       "      <td>4</td>\n",
       "      <td>0.366667</td>\n",
       "      <td>0.571429</td>\n",
       "      <td>expensive</td>\n",
       "      <td>0.0</td>\n",
       "      <td>0.0</td>\n",
       "      <td>0.0</td>\n",
       "      <td>1.0</td>\n",
       "      <td>0.0</td>\n",
       "      <td>0.0</td>\n",
       "      <td>0.0</td>\n",
       "    </tr>\n",
       "    <tr>\n",
       "      <th>3</th>\n",
       "      <td>0.0</td>\n",
       "      <td>0.0</td>\n",
       "      <td>0.333333</td>\n",
       "      <td>0.478302</td>\n",
       "      <td>5</td>\n",
       "      <td>0.366667</td>\n",
       "      <td>0.571429</td>\n",
       "      <td>expensive</td>\n",
       "      <td>0.0</td>\n",
       "      <td>0.0</td>\n",
       "      <td>0.0</td>\n",
       "      <td>1.0</td>\n",
       "      <td>0.0</td>\n",
       "      <td>0.0</td>\n",
       "      <td>0.0</td>\n",
       "    </tr>\n",
       "    <tr>\n",
       "      <th>4</th>\n",
       "      <td>0.0</td>\n",
       "      <td>0.0</td>\n",
       "      <td>0.296296</td>\n",
       "      <td>-0.126260</td>\n",
       "      <td>5</td>\n",
       "      <td>0.366667</td>\n",
       "      <td>0.571429</td>\n",
       "      <td>expensive</td>\n",
       "      <td>0.0</td>\n",
       "      <td>0.0</td>\n",
       "      <td>0.0</td>\n",
       "      <td>1.0</td>\n",
       "      <td>0.0</td>\n",
       "      <td>0.0</td>\n",
       "      <td>0.0</td>\n",
       "    </tr>\n",
       "  </tbody>\n",
       "</table>\n",
       "</div>"
      ],
      "text/plain": [
       "   aspiration  enginelocation  carwidth  curbweight  cylindernumber    stroke  \\\n",
       "0         0.0             0.0 -0.518519   -0.048068               4 -2.033333   \n",
       "1         0.0             0.0  0.000000    0.476395               6  0.600000   \n",
       "2         0.0             0.0  0.000000   -0.450474               4  0.366667   \n",
       "3         0.0             0.0  0.333333    0.478302               5  0.366667   \n",
       "4         0.0             0.0  0.296296   -0.126260               5  0.366667   \n",
       "\n",
       "    peakrpm      price  enginetype_dohc  enginetype_dohcv  enginetype_l  \\\n",
       "0 -0.142857  expensive              1.0               0.0           0.0   \n",
       "1 -0.142857  expensive              0.0               0.0           0.0   \n",
       "2  0.571429  expensive              0.0               0.0           0.0   \n",
       "3  0.571429  expensive              0.0               0.0           0.0   \n",
       "4  0.571429  expensive              0.0               0.0           0.0   \n",
       "\n",
       "   enginetype_ohc  enginetype_ohcf  enginetype_ohcv  enginetype_rotor  \n",
       "0             0.0              0.0              0.0               0.0  \n",
       "1             0.0              0.0              1.0               0.0  \n",
       "2             1.0              0.0              0.0               0.0  \n",
       "3             1.0              0.0              0.0               0.0  \n",
       "4             1.0              0.0              0.0               0.0  "
      ]
     },
     "execution_count": 30,
     "metadata": {},
     "output_type": "execute_result"
    }
   ],
   "source": [
    "# YOUR CODE HERE\n",
    "df['cylindernumber'] = df['cylindernumber'].map({'four': 4,\n",
    "                                                 'six': 6,\n",
    "                                                 \"five\":5,\n",
    "                                                 'three': 3,\n",
    "                                                 'twelve':12,\n",
    "                                                 'two':2,\n",
    "                                                 'eight':8})\n",
    "df.head()"
   ]
  },
  {
   "cell_type": "markdown",
   "metadata": {},
   "source": [
    "❓ Now that you've made `cylindernumber` into a numeric feature between 2 and 12, you need to scale it ❓\n",
    "\n",
    "<br/>\n",
    "\n",
    "<details>\n",
    "    <summary>💡 Hint </summary>\n",
    "\n",
    "Look at the current distribution of the `cylindernumber` and ask yourself the following questions:\n",
    "- Does scaling affect a feature's distribution ?\n",
    "- According to the distribution of this feature, what is the most appropriate scaling method?\n",
    "</details>"
   ]
  },
  {
   "cell_type": "code",
   "execution_count": 31,
   "metadata": {
    "tags": [
     "challengify"
    ]
   },
   "outputs": [
    {
     "data": {
      "text/plain": [
       "(array([5., 1., 0., 0., 0., 0., 0., 0., 0., 1.]),\n",
       " array([  1. ,  15.6,  30.2,  44.8,  59.4,  74. ,  88.6, 103.2, 117.8,\n",
       "        132.4, 147. ]),\n",
       " <BarContainer object of 10 artists>)"
      ]
     },
     "execution_count": 31,
     "metadata": {},
     "output_type": "execute_result"
    },
    {
     "data": {
      "image/png": "[encoded data removed]",
      "text/plain": [
       "<Figure size 640x480 with 1 Axes>"
      ]
     },
     "metadata": {},
     "output_type": "display_data"
    }
   ],
   "source": [
    "# YOUR CODE HERE\n",
    "import matplotlib.pyplot as plt\n",
    "plt.hist(df['cylindernumber'].value_counts())"
   ]
  },
  {
   "cell_type": "code",
   "execution_count": 32,
   "metadata": {},
   "outputs": [],
   "source": [
    "from sklearn.preprocessing import MinMaxScaler, RobustScaler\n",
    "\n",
    "mm_scaler = MinMaxScaler()\n",
    "mm = pd.DataFrame(mm_scaler.fit_transform(df[['cylindernumber']]))\n",
    "\n",
    "rb_scaler = RobustScaler()\n",
    "rb = pd.DataFrame(rb_scaler.fit_transform(df[['cylindernumber']]))"
   ]
  },
  {
   "cell_type": "code",
   "execution_count": 33,
   "metadata": {},
   "outputs": [
    {
     "data": {
      "text/html": [
       "<div>\n",
       "<style scoped>\n",
       "    .dataframe tbody tr th:only-of-type {\n",
       "        vertical-align: middle;\n",
       "    }\n",
       "\n",
       "    .dataframe tbody tr th {\n",
       "        vertical-align: top;\n",
       "    }\n",
       "\n",
       "    .dataframe thead th {\n",
       "        text-align: right;\n",
       "    }\n",
       "</style>\n",
       "<table border=\"1\" class=\"dataframe\">\n",
       "  <thead>\n",
       "    <tr style=\"text-align: right;\">\n",
       "      <th></th>\n",
       "      <th>aspiration</th>\n",
       "      <th>enginelocation</th>\n",
       "      <th>carwidth</th>\n",
       "      <th>curbweight</th>\n",
       "      <th>cylindernumber</th>\n",
       "      <th>stroke</th>\n",
       "      <th>peakrpm</th>\n",
       "      <th>price</th>\n",
       "      <th>enginetype_dohc</th>\n",
       "      <th>enginetype_dohcv</th>\n",
       "      <th>enginetype_l</th>\n",
       "      <th>enginetype_ohc</th>\n",
       "      <th>enginetype_ohcf</th>\n",
       "      <th>enginetype_ohcv</th>\n",
       "      <th>enginetype_rotor</th>\n",
       "    </tr>\n",
       "  </thead>\n",
       "  <tbody>\n",
       "    <tr>\n",
       "      <th>0</th>\n",
       "      <td>0.0</td>\n",
       "      <td>0.0</td>\n",
       "      <td>-0.518519</td>\n",
       "      <td>-0.048068</td>\n",
       "      <td>0.0</td>\n",
       "      <td>-2.033333</td>\n",
       "      <td>-0.142857</td>\n",
       "      <td>expensive</td>\n",
       "      <td>1.0</td>\n",
       "      <td>0.0</td>\n",
       "      <td>0.0</td>\n",
       "      <td>0.0</td>\n",
       "      <td>0.0</td>\n",
       "      <td>0.0</td>\n",
       "      <td>0.0</td>\n",
       "    </tr>\n",
       "    <tr>\n",
       "      <th>1</th>\n",
       "      <td>0.0</td>\n",
       "      <td>0.0</td>\n",
       "      <td>0.000000</td>\n",
       "      <td>0.476395</td>\n",
       "      <td>2.0</td>\n",
       "      <td>0.600000</td>\n",
       "      <td>-0.142857</td>\n",
       "      <td>expensive</td>\n",
       "      <td>0.0</td>\n",
       "      <td>0.0</td>\n",
       "      <td>0.0</td>\n",
       "      <td>0.0</td>\n",
       "      <td>0.0</td>\n",
       "      <td>1.0</td>\n",
       "      <td>0.0</td>\n",
       "    </tr>\n",
       "    <tr>\n",
       "      <th>2</th>\n",
       "      <td>0.0</td>\n",
       "      <td>0.0</td>\n",
       "      <td>0.000000</td>\n",
       "      <td>-0.450474</td>\n",
       "      <td>0.0</td>\n",
       "      <td>0.366667</td>\n",
       "      <td>0.571429</td>\n",
       "      <td>expensive</td>\n",
       "      <td>0.0</td>\n",
       "      <td>0.0</td>\n",
       "      <td>0.0</td>\n",
       "      <td>1.0</td>\n",
       "      <td>0.0</td>\n",
       "      <td>0.0</td>\n",
       "      <td>0.0</td>\n",
       "    </tr>\n",
       "    <tr>\n",
       "      <th>3</th>\n",
       "      <td>0.0</td>\n",
       "      <td>0.0</td>\n",
       "      <td>0.333333</td>\n",
       "      <td>0.478302</td>\n",
       "      <td>1.0</td>\n",
       "      <td>0.366667</td>\n",
       "      <td>0.571429</td>\n",
       "      <td>expensive</td>\n",
       "      <td>0.0</td>\n",
       "      <td>0.0</td>\n",
       "      <td>0.0</td>\n",
       "      <td>1.0</td>\n",
       "      <td>0.0</td>\n",
       "      <td>0.0</td>\n",
       "      <td>0.0</td>\n",
       "    </tr>\n",
       "    <tr>\n",
       "      <th>4</th>\n",
       "      <td>0.0</td>\n",
       "      <td>0.0</td>\n",
       "      <td>0.296296</td>\n",
       "      <td>-0.126260</td>\n",
       "      <td>1.0</td>\n",
       "      <td>0.366667</td>\n",
       "      <td>0.571429</td>\n",
       "      <td>expensive</td>\n",
       "      <td>0.0</td>\n",
       "      <td>0.0</td>\n",
       "      <td>0.0</td>\n",
       "      <td>1.0</td>\n",
       "      <td>0.0</td>\n",
       "      <td>0.0</td>\n",
       "      <td>0.0</td>\n",
       "    </tr>\n",
       "  </tbody>\n",
       "</table>\n",
       "</div>"
      ],
      "text/plain": [
       "   aspiration  enginelocation  carwidth  curbweight  cylindernumber    stroke  \\\n",
       "0         0.0             0.0 -0.518519   -0.048068             0.0 -2.033333   \n",
       "1         0.0             0.0  0.000000    0.476395             2.0  0.600000   \n",
       "2         0.0             0.0  0.000000   -0.450474             0.0  0.366667   \n",
       "3         0.0             0.0  0.333333    0.478302             1.0  0.366667   \n",
       "4         0.0             0.0  0.296296   -0.126260             1.0  0.366667   \n",
       "\n",
       "    peakrpm      price  enginetype_dohc  enginetype_dohcv  enginetype_l  \\\n",
       "0 -0.142857  expensive              1.0               0.0           0.0   \n",
       "1 -0.142857  expensive              0.0               0.0           0.0   \n",
       "2  0.571429  expensive              0.0               0.0           0.0   \n",
       "3  0.571429  expensive              0.0               0.0           0.0   \n",
       "4  0.571429  expensive              0.0               0.0           0.0   \n",
       "\n",
       "   enginetype_ohc  enginetype_ohcf  enginetype_ohcv  enginetype_rotor  \n",
       "0             0.0              0.0              0.0               0.0  \n",
       "1             0.0              0.0              1.0               0.0  \n",
       "2             1.0              0.0              0.0               0.0  \n",
       "3             1.0              0.0              0.0               0.0  \n",
       "4             1.0              0.0              0.0               0.0  "
      ]
     },
     "execution_count": 33,
     "metadata": {},
     "output_type": "execute_result"
    }
   ],
   "source": [
    "from sklearn.preprocessing import RobustScaler\n",
    "\n",
    "rb_scaler = RobustScaler()\n",
    "\n",
    "df['cylindernumber'] = rb_scaler.fit_transform(df[['cylindernumber']])\n",
    "\n",
    "df.head()"
   ]
  },
  {
   "cell_type": "markdown",
   "metadata": {},
   "source": [
    "<details>\n",
    "    <summary><i>Here is a screenshot of how your dataframe shoud look like after scaling and encoding</i></summary>\n",
    "    \n",
    "    \n",
    "<img src=\"https://wagon-public-datasets.s3.amazonaws.com/05-Machine-Learning/02-Prepare-the-dataset/car_price_after_scaling_and_encoding.png\">    \n",
    "\n",
    "</details>"
   ]
  },
  {
   "cell_type": "markdown",
   "metadata": {},
   "source": [
    "### `price`"
   ]
  },
  {
   "cell_type": "markdown",
   "metadata": {},
   "source": [
    "👇 Encode the target `price`."
   ]
  },
  {
   "cell_type": "markdown",
   "metadata": {},
   "source": [
    "<details>\n",
    "    <summary>💡 Hint </summary>\n",
    "    <br>\n",
    "    ℹ️ <code>price</code> is the target and must be Label encoded.\n",
    "</details>"
   ]
  },
  {
   "cell_type": "code",
   "execution_count": 34,
   "metadata": {
    "tags": [
     "challengify"
    ]
   },
   "outputs": [
    {
     "data": {
      "text/html": [
       "<div>\n",
       "<style scoped>\n",
       "    .dataframe tbody tr th:only-of-type {\n",
       "        vertical-align: middle;\n",
       "    }\n",
       "\n",
       "    .dataframe tbody tr th {\n",
       "        vertical-align: top;\n",
       "    }\n",
       "\n",
       "    .dataframe thead th {\n",
       "        text-align: right;\n",
       "    }\n",
       "</style>\n",
       "<table border=\"1\" class=\"dataframe\">\n",
       "  <thead>\n",
       "    <tr style=\"text-align: right;\">\n",
       "      <th></th>\n",
       "      <th>aspiration</th>\n",
       "      <th>enginelocation</th>\n",
       "      <th>carwidth</th>\n",
       "      <th>curbweight</th>\n",
       "      <th>cylindernumber</th>\n",
       "      <th>stroke</th>\n",
       "      <th>peakrpm</th>\n",
       "      <th>price</th>\n",
       "      <th>enginetype_dohc</th>\n",
       "      <th>enginetype_dohcv</th>\n",
       "      <th>enginetype_l</th>\n",
       "      <th>enginetype_ohc</th>\n",
       "      <th>enginetype_ohcf</th>\n",
       "      <th>enginetype_ohcv</th>\n",
       "      <th>enginetype_rotor</th>\n",
       "    </tr>\n",
       "  </thead>\n",
       "  <tbody>\n",
       "    <tr>\n",
       "      <th>0</th>\n",
       "      <td>0.0</td>\n",
       "      <td>0.0</td>\n",
       "      <td>-0.518519</td>\n",
       "      <td>-0.048068</td>\n",
       "      <td>0.0</td>\n",
       "      <td>-2.033333</td>\n",
       "      <td>-0.142857</td>\n",
       "      <td>1</td>\n",
       "      <td>1.0</td>\n",
       "      <td>0.0</td>\n",
       "      <td>0.0</td>\n",
       "      <td>0.0</td>\n",
       "      <td>0.0</td>\n",
       "      <td>0.0</td>\n",
       "      <td>0.0</td>\n",
       "    </tr>\n",
       "    <tr>\n",
       "      <th>1</th>\n",
       "      <td>0.0</td>\n",
       "      <td>0.0</td>\n",
       "      <td>0.000000</td>\n",
       "      <td>0.476395</td>\n",
       "      <td>2.0</td>\n",
       "      <td>0.600000</td>\n",
       "      <td>-0.142857</td>\n",
       "      <td>1</td>\n",
       "      <td>0.0</td>\n",
       "      <td>0.0</td>\n",
       "      <td>0.0</td>\n",
       "      <td>0.0</td>\n",
       "      <td>0.0</td>\n",
       "      <td>1.0</td>\n",
       "      <td>0.0</td>\n",
       "    </tr>\n",
       "    <tr>\n",
       "      <th>2</th>\n",
       "      <td>0.0</td>\n",
       "      <td>0.0</td>\n",
       "      <td>0.000000</td>\n",
       "      <td>-0.450474</td>\n",
       "      <td>0.0</td>\n",
       "      <td>0.366667</td>\n",
       "      <td>0.571429</td>\n",
       "      <td>1</td>\n",
       "      <td>0.0</td>\n",
       "      <td>0.0</td>\n",
       "      <td>0.0</td>\n",
       "      <td>1.0</td>\n",
       "      <td>0.0</td>\n",
       "      <td>0.0</td>\n",
       "      <td>0.0</td>\n",
       "    </tr>\n",
       "    <tr>\n",
       "      <th>3</th>\n",
       "      <td>0.0</td>\n",
       "      <td>0.0</td>\n",
       "      <td>0.333333</td>\n",
       "      <td>0.478302</td>\n",
       "      <td>1.0</td>\n",
       "      <td>0.366667</td>\n",
       "      <td>0.571429</td>\n",
       "      <td>1</td>\n",
       "      <td>0.0</td>\n",
       "      <td>0.0</td>\n",
       "      <td>0.0</td>\n",
       "      <td>1.0</td>\n",
       "      <td>0.0</td>\n",
       "      <td>0.0</td>\n",
       "      <td>0.0</td>\n",
       "    </tr>\n",
       "    <tr>\n",
       "      <th>4</th>\n",
       "      <td>0.0</td>\n",
       "      <td>0.0</td>\n",
       "      <td>0.296296</td>\n",
       "      <td>-0.126260</td>\n",
       "      <td>1.0</td>\n",
       "      <td>0.366667</td>\n",
       "      <td>0.571429</td>\n",
       "      <td>1</td>\n",
       "      <td>0.0</td>\n",
       "      <td>0.0</td>\n",
       "      <td>0.0</td>\n",
       "      <td>1.0</td>\n",
       "      <td>0.0</td>\n",
       "      <td>0.0</td>\n",
       "      <td>0.0</td>\n",
       "    </tr>\n",
       "  </tbody>\n",
       "</table>\n",
       "</div>"
      ],
      "text/plain": [
       "   aspiration  enginelocation  carwidth  curbweight  cylindernumber    stroke  \\\n",
       "0         0.0             0.0 -0.518519   -0.048068             0.0 -2.033333   \n",
       "1         0.0             0.0  0.000000    0.476395             2.0  0.600000   \n",
       "2         0.0             0.0  0.000000   -0.450474             0.0  0.366667   \n",
       "3         0.0             0.0  0.333333    0.478302             1.0  0.366667   \n",
       "4         0.0             0.0  0.296296   -0.126260             1.0  0.366667   \n",
       "\n",
       "    peakrpm  price  enginetype_dohc  enginetype_dohcv  enginetype_l  \\\n",
       "0 -0.142857      1              1.0               0.0           0.0   \n",
       "1 -0.142857      1              0.0               0.0           0.0   \n",
       "2  0.571429      1              0.0               0.0           0.0   \n",
       "3  0.571429      1              0.0               0.0           0.0   \n",
       "4  0.571429      1              0.0               0.0           0.0   \n",
       "\n",
       "   enginetype_ohc  enginetype_ohcf  enginetype_ohcv  enginetype_rotor  \n",
       "0             0.0              0.0              0.0               0.0  \n",
       "1             0.0              0.0              1.0               0.0  \n",
       "2             1.0              0.0              0.0               0.0  \n",
       "3             1.0              0.0              0.0               0.0  \n",
       "4             1.0              0.0              0.0               0.0  "
      ]
     },
     "execution_count": 34,
     "metadata": {},
     "output_type": "execute_result"
    }
   ],
   "source": [
    "# YOUR CODE HERE\n",
    "from sklearn.preprocessing import LabelEncoder\n",
    "\n",
    "df['price'] = LabelEncoder().fit_transform(df['price'])\n",
    "df.head()\n"
   ]
  },
  {
   "cell_type": "markdown",
   "metadata": {},
   "source": [
    "🧪 **Test your code**"
   ]
  },
  {
   "cell_type": "code",
   "execution_count": 35,
   "metadata": {},
   "outputs": [
    {
     "name": "stdout",
     "output_type": "stream",
     "text": [
      "\n",
      "\u001b[1m============================= test session starts ==============================\u001b[0m\n",
      "platform darwin -- Python 3.8.12, pytest-7.1.3, pluggy-1.0.0 -- /Users/bita/.pyenv/versions/lewagon_current/bin/python3\n",
      "cachedir: .pytest_cache\n",
      "rootdir: /Users/bita/code/lewagon/data-car-prices/car-prices/tests\n",
      "plugins: asyncio-0.19.0, anyio-3.6.2\n",
      "asyncio: mode=strict\n",
      "\u001b[1mcollecting ... \u001b[0mcollected 4 items\n",
      "\n",
      "test_encoding.py::TestEncoding::test_aspiration \u001b[32mPASSED\u001b[0m\u001b[32m                   [ 25%]\u001b[0m\n",
      "test_encoding.py::TestEncoding::test_enginelocation \u001b[32mPASSED\u001b[0m\u001b[32m               [ 50%]\u001b[0m\n",
      "test_encoding.py::TestEncoding::test_enginetype \u001b[32mPASSED\u001b[0m\u001b[32m                   [ 75%]\u001b[0m\n",
      "test_encoding.py::TestEncoding::test_price \u001b[32mPASSED\u001b[0m\u001b[32m                        [100%]\u001b[0m\n",
      "\n",
      "\u001b[32m============================== \u001b[32m\u001b[1m4 passed\u001b[0m\u001b[32m in 0.62s\u001b[0m\u001b[32m ===============================\u001b[0m\n",
      "\n",
      "\n",
      "💯 You can commit your code:\n",
      "\n",
      "\u001b[1;32mgit\u001b[39m add tests/encoding.pickle\n",
      "\n",
      "\u001b[32mgit\u001b[39m commit -m \u001b[33m'Completed encoding step'\u001b[39m\n",
      "\n",
      "\u001b[32mgit\u001b[39m push origin master\n",
      "\n"
     ]
    }
   ],
   "source": [
    "from nbresult import ChallengeResult\n",
    "\n",
    "result = ChallengeResult('encoding',\n",
    "                         dataset = df)\n",
    "result.write()\n",
    "print(result.check())"
   ]
  },
  {
   "cell_type": "markdown",
   "metadata": {},
   "source": [
    "## (5) Base Modelling"
   ]
  },
  {
   "cell_type": "markdown",
   "metadata": {},
   "source": [
    "👏 The dataset has been preprocessed and is now ready to be fitted to a model. "
   ]
  },
  {
   "cell_type": "markdown",
   "metadata": {},
   "source": [
    "❓**Question: a first attempt to evaluate a classification model** ❓\n",
    "\n",
    "Cross-validate a `LogisticRegression` on this preprocessed dataset and save its score under a variable named `base_model_score`."
   ]
  },
  {
   "cell_type": "code",
   "execution_count": 36,
   "metadata": {
    "tags": [
     "challengify"
    ]
   },
   "outputs": [
    {
     "data": {
      "text/plain": [
       "0.8797368421052632"
      ]
     },
     "execution_count": 36,
     "metadata": {},
     "output_type": "execute_result"
    }
   ],
   "source": [
    "# YOUR CODE HERE\n",
    "from sklearn.linear_model import LogisticRegression\n",
    "from sklearn.model_selection import cross_val_score\n",
    "\n",
    "X = df.drop(columns=['price'])\n",
    "y = df['price']\n",
    "\n",
    "model = LogisticRegression()\n",
    "\n",
    "scores = cross_val_score(model, X, y, cv=10)\n",
    "base_model_score = scores.mean()\n",
    "\n",
    "base_model_score"
   ]
  },
  {
   "cell_type": "markdown",
   "metadata": {},
   "source": [
    "🧪 **Test your code**"
   ]
  },
  {
   "cell_type": "code",
   "execution_count": 37,
   "metadata": {},
   "outputs": [
    {
     "name": "stdout",
     "output_type": "stream",
     "text": [
      "\n",
      "\u001b[1m============================= test session starts ==============================\u001b[0m\n",
      "platform darwin -- Python 3.8.12, pytest-7.1.3, pluggy-1.0.0 -- /Users/bita/.pyenv/versions/lewagon_current/bin/python3\n",
      "cachedir: .pytest_cache\n",
      "rootdir: /Users/bita/code/lewagon/data-car-prices/car-prices/tests\n",
      "plugins: asyncio-0.19.0, anyio-3.6.2\n",
      "asyncio: mode=strict\n",
      "\u001b[1mcollecting ... \u001b[0mcollected 1 item\n",
      "\n",
      "test_base_model.py::TestBase_model::test_base_model_score \u001b[32mPASSED\u001b[0m\u001b[32m         [100%]\u001b[0m\n",
      "\n",
      "\u001b[32m============================== \u001b[32m\u001b[1m1 passed\u001b[0m\u001b[32m in 0.15s\u001b[0m\u001b[32m ===============================\u001b[0m\n",
      "\n",
      "\n",
      "💯 You can commit your code:\n",
      "\n",
      "\u001b[1;32mgit\u001b[39m add tests/base_model.pickle\n",
      "\n",
      "\u001b[32mgit\u001b[39m commit -m \u001b[33m'Completed base_model step'\u001b[39m\n",
      "\n",
      "\u001b[32mgit\u001b[39m push origin master\n",
      "\n"
     ]
    }
   ],
   "source": [
    "from nbresult import ChallengeResult\n",
    "\n",
    "result = ChallengeResult('base_model',\n",
    "                         score = base_model_score\n",
    ")\n",
    "\n",
    "result.write()\n",
    "print(result.check())"
   ]
  },
  {
   "cell_type": "markdown",
   "metadata": {},
   "source": [
    "## (6) Feature Selection (with _Permutation Importance_)"
   ]
  },
  {
   "cell_type": "markdown",
   "metadata": {},
   "source": [
    "👩🏻‍🏫 A powerful way to detect whether a feature is relevant or not to predict a target is to:\n",
    "1. Run a model and score it\n",
    "2. Shuffle this feature, re-run the model and score it\n",
    "    - If the performance significantly dropped, the feature is important and you shoudn't have dropped it\n",
    "    - If the performance didn't decrease a lot, the feature may be discarded."
   ]
  },
  {
   "cell_type": "markdown",
   "metadata": {},
   "source": [
    "❓ **Questions** ❓\n",
    "\n",
    "1. Perform a feature permutation to detect which features bring the least amount of information to the model. \n",
    "2. Remove the weak features from your dataset until you notice model performance dropping substantially\n",
    "3. Using your new set of strong features, cross-validate a new model, and save its score under variable name `strong_model_score`."
   ]
  },
  {
   "cell_type": "code",
   "execution_count": 38,
   "metadata": {
    "scrolled": true,
    "tags": [
     "challengify"
    ]
   },
   "outputs": [
    {
     "name": "stdout",
     "output_type": "stream",
     "text": [
      "Before any feature permutation, the cross-validated accuracy is equal to 0.84\n",
      "After feature permutation, here are the decreases in terms of scores:\n"
     ]
    },
    {
     "data": {
      "text/html": [
       "<div>\n",
       "<style scoped>\n",
       "    .dataframe tbody tr th:only-of-type {\n",
       "        vertical-align: middle;\n",
       "    }\n",
       "\n",
       "    .dataframe tbody tr th {\n",
       "        vertical-align: top;\n",
       "    }\n",
       "\n",
       "    .dataframe thead th {\n",
       "        text-align: right;\n",
       "    }\n",
       "</style>\n",
       "<table border=\"1\" class=\"dataframe\">\n",
       "  <thead>\n",
       "    <tr style=\"text-align: right;\">\n",
       "      <th></th>\n",
       "      <th>feature</th>\n",
       "      <th>feature_importance</th>\n",
       "    </tr>\n",
       "  </thead>\n",
       "  <tbody>\n",
       "    <tr>\n",
       "      <th>3</th>\n",
       "      <td>curbweight</td>\n",
       "      <td>0.289424</td>\n",
       "    </tr>\n",
       "    <tr>\n",
       "      <th>2</th>\n",
       "      <td>carwidth</td>\n",
       "      <td>0.105026</td>\n",
       "    </tr>\n",
       "    <tr>\n",
       "      <th>5</th>\n",
       "      <td>stroke</td>\n",
       "      <td>0.02911</td>\n",
       "    </tr>\n",
       "    <tr>\n",
       "      <th>11</th>\n",
       "      <td>enginetype_ohcf</td>\n",
       "      <td>0.017749</td>\n",
       "    </tr>\n",
       "    <tr>\n",
       "      <th>10</th>\n",
       "      <td>enginetype_ohc</td>\n",
       "      <td>0.015393</td>\n",
       "    </tr>\n",
       "    <tr>\n",
       "      <th>6</th>\n",
       "      <td>peakrpm</td>\n",
       "      <td>0.01534</td>\n",
       "    </tr>\n",
       "    <tr>\n",
       "      <th>13</th>\n",
       "      <td>enginetype_rotor</td>\n",
       "      <td>0.010995</td>\n",
       "    </tr>\n",
       "    <tr>\n",
       "      <th>4</th>\n",
       "      <td>cylindernumber</td>\n",
       "      <td>0.008848</td>\n",
       "    </tr>\n",
       "    <tr>\n",
       "      <th>0</th>\n",
       "      <td>aspiration</td>\n",
       "      <td>0.008534</td>\n",
       "    </tr>\n",
       "    <tr>\n",
       "      <th>7</th>\n",
       "      <td>enginetype_dohc</td>\n",
       "      <td>0.005236</td>\n",
       "    </tr>\n",
       "    <tr>\n",
       "      <th>12</th>\n",
       "      <td>enginetype_ohcv</td>\n",
       "      <td>0.000157</td>\n",
       "    </tr>\n",
       "    <tr>\n",
       "      <th>1</th>\n",
       "      <td>enginelocation</td>\n",
       "      <td>0.000157</td>\n",
       "    </tr>\n",
       "    <tr>\n",
       "      <th>8</th>\n",
       "      <td>enginetype_dohcv</td>\n",
       "      <td>0.0</td>\n",
       "    </tr>\n",
       "    <tr>\n",
       "      <th>9</th>\n",
       "      <td>enginetype_l</td>\n",
       "      <td>0.0</td>\n",
       "    </tr>\n",
       "  </tbody>\n",
       "</table>\n",
       "</div>"
      ],
      "text/plain": [
       "             feature feature_importance\n",
       "3         curbweight           0.289424\n",
       "2           carwidth           0.105026\n",
       "5             stroke            0.02911\n",
       "11   enginetype_ohcf           0.017749\n",
       "10    enginetype_ohc           0.015393\n",
       "6            peakrpm            0.01534\n",
       "13  enginetype_rotor           0.010995\n",
       "4     cylindernumber           0.008848\n",
       "0         aspiration           0.008534\n",
       "7    enginetype_dohc           0.005236\n",
       "12   enginetype_ohcv           0.000157\n",
       "1     enginelocation           0.000157\n",
       "8   enginetype_dohcv                0.0\n",
       "9       enginetype_l                0.0"
      ]
     },
     "execution_count": 38,
     "metadata": {},
     "output_type": "execute_result"
    }
   ],
   "source": [
    "# YOUR CODE HERE\n",
    "import numpy as np\n",
    "from sklearn.model_selection import cross_validate\n",
    "from sklearn.inspection import permutation_importance\n",
    "\n",
    "# Evaluate your model without feature permutation\n",
    "model = LogisticRegression()\n",
    "cv_results = cross_validate(model, X, y, cv = 5)\n",
    "score = cv_results[\"test_score\"].mean()\n",
    "print(f\"Before any feature permutation, the cross-validated accuracy is equal to {round(score,2)}\")\n",
    "\n",
    "## Question 1 - Permutation importance\n",
    "model = LogisticRegression().fit(X,y) # Fit the model \n",
    "permutation_score = permutation_importance(model, X, y, n_repeats=100) # Perform Permutation\n",
    "importance_df = pd.DataFrame(np.vstack((X.columns,\n",
    "                                        permutation_score.importances_mean)).T, # Unstack results\n",
    "                            columns = ['feature','feature_importance']) \n",
    "\n",
    "print(\"After feature permutation, here are the decreases in terms of scores:\")\n",
    "importance_df = importance_df.sort_values(by=\"feature_importance\", ascending = False) # Order by importance\n",
    "importance_df"
   ]
  },
  {
   "cell_type": "code",
   "execution_count": 40,
   "metadata": {},
   "outputs": [
    {
     "data": {
      "text/plain": [
       "array(['stroke', 'enginetype_ohcf', 'enginetype_ohc', 'peakrpm',\n",
       "       'enginetype_rotor', 'cylindernumber', 'aspiration',\n",
       "       'enginetype_dohc', 'enginetype_ohcv', 'enginelocation',\n",
       "       'enginetype_dohcv', 'enginetype_l'], dtype=object)"
      ]
     },
     "execution_count": 40,
     "metadata": {},
     "output_type": "execute_result"
    }
   ],
   "source": [
    "## Question 2 - remove weak features\n",
    "\n",
    "# I want to get rid of features which caused less than this  in terms of performance\n",
    "threshold = 0.05 \n",
    "\n",
    "# Decompose this one-liner piece of code step by step if you don't understand it at first sight!\n",
    "weak_features = importance_df[importance_df.feature_importance <= threshold][\"feature\"].values\n",
    "weak_features"
   ]
  },
  {
   "cell_type": "code",
   "execution_count": 42,
   "metadata": {},
   "outputs": [
    {
     "name": "stdout",
     "output_type": "stream",
     "text": [
      "Our strong features are ['carwidth', 'curbweight']\n",
      "Before removing weak features, the cross-validated accuracy was equal to 0.84\n",
      "The LogisticRegression fitted with the strong features only has a score of 0.91\n"
     ]
    }
   ],
   "source": [
    "X_strong_features = df.drop(columns=list(weak_features) + [\"price\"])\n",
    "\n",
    "print(f\"Our strong features are {list(X_strong_features.columns)}\")\n",
    "\n",
    "model = LogisticRegression()\n",
    "\n",
    "scores = cross_val_score(model, X_strong_features, y, cv = 5)\n",
    "strong_model_score = scores.mean()\n",
    "\n",
    "print(f\"Before removing weak features, the cross-validated accuracy was equal to {round(score,2)}\")\n",
    "\n",
    "print(f\"The LogisticRegression fitted with the strong features only has a score of {round(strong_model_score,2)}\")\n",
    "\n",
    "#### NOTE - The score may even be better because \n",
    "### some features were bringing nothing else than noise to the model"
   ]
  },
  {
   "cell_type": "markdown",
   "metadata": {},
   "source": [
    "🧪 **Test your code**"
   ]
  },
  {
   "cell_type": "code",
   "execution_count": 43,
   "metadata": {},
   "outputs": [
    {
     "name": "stdout",
     "output_type": "stream",
     "text": [
      "\n",
      "\u001b[1m============================= test session starts ==============================\u001b[0m\n",
      "platform darwin -- Python 3.8.12, pytest-7.1.3, pluggy-1.0.0 -- /Users/bita/.pyenv/versions/lewagon_current/bin/python3\n",
      "cachedir: .pytest_cache\n",
      "rootdir: /Users/bita/code/lewagon/data-car-prices/car-prices/tests\n",
      "plugins: asyncio-0.19.0, anyio-3.6.2\n",
      "asyncio: mode=strict\n",
      "\u001b[1mcollecting ... \u001b[0mcollected 1 item\n",
      "\n",
      "test_strong_model.py::TestStrong_model::test_strong_model_score \u001b[32mPASSED\u001b[0m\u001b[32m   [100%]\u001b[0m\n",
      "\n",
      "\u001b[32m============================== \u001b[32m\u001b[1m1 passed\u001b[0m\u001b[32m in 0.15s\u001b[0m\u001b[32m ===============================\u001b[0m\n",
      "\n",
      "\n",
      "💯 You can commit your code:\n",
      "\n",
      "\u001b[1;32mgit\u001b[39m add tests/strong_model.pickle\n",
      "\n",
      "\u001b[32mgit\u001b[39m commit -m \u001b[33m'Completed strong_model step'\u001b[39m\n",
      "\n",
      "\u001b[32mgit\u001b[39m push origin master\n",
      "\n"
     ]
    }
   ],
   "source": [
    "from nbresult import ChallengeResult\n",
    "\n",
    "result = ChallengeResult('strong_model',\n",
    "                         score = strong_model_score\n",
    ")\n",
    "\n",
    "result.write()\n",
    "print(result.check())"
   ]
  },
  {
   "cell_type": "markdown",
   "metadata": {},
   "source": [
    "## Bonus - Stratifying your data ⚖️"
   ]
  },
  {
   "cell_type": "markdown",
   "metadata": {},
   "source": [
    "💡 As we split our data into training and testing, we need to be mindful of the proportion of categorical variables in our dataset - whether it's the classes of our target `y` or a categorical feature in `X`.\n",
    "\n",
    "Let's have a look at an example 👇\n",
    "\n",
    "❓ Split your original `X` and `y` into training and testing data, using sklearn's `train_test_split`; use `random_state=1` and `test_size=0.3` to have comparable results."
   ]
  },
  {
   "cell_type": "code",
   "execution_count": 44,
   "metadata": {
    "tags": [
     "challengify"
    ]
   },
   "outputs": [],
   "source": [
    "# YOUR CODE HERE\n",
    "from sklearn.model_selection import train_test_split\n",
    "\n",
    "X_train, X_test, y_train, y_test = train_test_split(X, y, test_size=0.3, random_state=1)"
   ]
  },
  {
   "cell_type": "markdown",
   "metadata": {},
   "source": [
    "❓ Check the proportion of `price` class `1` cars in your training dataset and testing dataset.\n",
    "\n",
    "> _If you check the proportion of them in the raw `df`, it should be very close to 50/50_"
   ]
  },
  {
   "cell_type": "code",
   "execution_count": 45,
   "metadata": {
    "tags": [
     "challengify"
    ]
   },
   "outputs": [
    {
     "name": "stdout",
     "output_type": "stream",
     "text": [
      "--------------------------------------------------\n",
      "##### Random state set = 1\n",
      "Training data share of class 1 cars: 0.504\n",
      "Testing data share of class 1 cars: 0.517\n",
      "--------------------------------------------------\n",
      "##### Random state set = 2\n",
      "Training data share of class 1 cars: 0.481\n",
      "Testing data share of class 1 cars: 0.569\n",
      "--------------------------------------------------\n",
      "##### Random state set = 3\n",
      "Training data share of class 1 cars: 0.504\n",
      "Testing data share of class 1 cars: 0.517\n",
      "--------------------------------------------------\n",
      "##### Random state set = 4\n",
      "Training data share of class 1 cars: 0.534\n",
      "Testing data share of class 1 cars: 0.448\n",
      "--------------------------------------------------\n",
      "##### Random state set = 5\n",
      "Training data share of class 1 cars: 0.534\n",
      "Testing data share of class 1 cars: 0.448\n",
      "--------------------------------------------------\n",
      "##### Random state set = 6\n",
      "Training data share of class 1 cars: 0.496\n",
      "Testing data share of class 1 cars: 0.534\n",
      "--------------------------------------------------\n",
      "##### Random state set = 7\n",
      "Training data share of class 1 cars: 0.534\n",
      "Testing data share of class 1 cars: 0.448\n",
      "--------------------------------------------------\n",
      "##### Random state set = 8\n",
      "Training data share of class 1 cars: 0.489\n",
      "Testing data share of class 1 cars: 0.552\n",
      "--------------------------------------------------\n",
      "##### Random state set = 9\n",
      "Training data share of class 1 cars: 0.579\n",
      "Testing data share of class 1 cars: 0.345\n",
      "--------------------------------------------------\n",
      "##### Random state set = 10\n",
      "Training data share of class 1 cars: 0.489\n",
      "Testing data share of class 1 cars: 0.552\n"
     ]
    }
   ],
   "source": [
    "# YOUR CODE HERE\n",
    "for i in range(1, 11):\n",
    "    \n",
    "    print(\"-\"*50)\n",
    "    print(\"##### Random state set =\", i)\n",
    "    X_train, X_test, y_train, y_test = train_test_split(X, y, test_size=0.3, random_state=i)\n",
    "    print('Training data share of class 1 cars:', round(y_train.mean(), 3))\n",
    "    print('Testing data share of class 1 cars:', round(y_test.mean(), 3))"
   ]
  },
  {
   "cell_type": "markdown",
   "metadata": {},
   "source": [
    "It should still be pretty close to 50/50 ☝️ \n",
    "\n",
    "***But what if we change the random state?*** \n",
    "\n",
    "❓ Loop through random states 1 through 10, each time calculating the share of `price` class `1` cars in the training and testing data. ❓"
   ]
  },
  {
   "cell_type": "code",
   "execution_count": null,
   "metadata": {
    "tags": [
     "challengify"
    ]
   },
   "outputs": [],
   "source": [
    "# YOUR CODE HERE"
   ]
  },
  {
   "cell_type": "markdown",
   "metadata": {},
   "source": [
    "You will observe that the proportion changes every time, sometimes even quite drastically 😱! This can affect model performance!\n",
    "\n",
    "❓ Compare the test score of a logistic regression when trained using `train_test_split(random_state=1)` _vs._ `random_state=9` ❓ \n",
    "\n",
    "Remember to fit on training data and score on testing data."
   ]
  },
  {
   "cell_type": "code",
   "execution_count": null,
   "metadata": {
    "tags": [
     "challengify"
    ]
   },
   "outputs": [],
   "source": [
    "# YOUR CODE HERE"
   ]
  },
  {
   "cell_type": "markdown",
   "metadata": {},
   "source": [
    "👀 You should see a much lower score with `random_state=9` because the proportion of class `1` cars in that test set is 34.5%, quite far from the 57.9% in the training set or even the 50% in the original dataset.\n",
    "\n",
    "This is substantial, as this accidental imbalance in our dataset can not only make model performance worse, but also distort the \"reality\" during training or scoring 🧐"
   ]
  },
  {
   "cell_type": "markdown",
   "metadata": {},
   "source": [
    "***So how do we fix this issue? How do we keep the same distribution of classes across the train set and the test set? 🔧***"
   ]
  },
  {
   "cell_type": "markdown",
   "metadata": {},
   "source": [
    "🎁 Luckily, this is taken care of by `cross_validate` in sklearn, when the estimator (a.k.a the model) is a classifier and the target is a class. Check out the documentation of the `cv` parameter in 📚 [**sklearn.model_selection.cross_validate**](https://scikit-learn.org/stable/modules/generated/sklearn.model_selection.cross_validate.html).\n",
    "\n",
    "The answer is to use the following:\n",
    "\n",
    ">📚 [**Stratification**](https://scikit-learn.org/stable/modules/cross_validation.html#stratification)"
   ]
  },
  {
   "cell_type": "markdown",
   "metadata": {},
   "source": [
    "### Stratification of the target"
   ]
  },
  {
   "cell_type": "markdown",
   "metadata": {},
   "source": [
    "💡 We can also use the ***strafification*** technique in a `train_test_split`.\n",
    "\n",
    "❓ Run through the same 1 to 10 random state loop again, but this time also ***pass `stratify=y` into the holdout method***. ❓"
   ]
  },
  {
   "cell_type": "code",
   "execution_count": null,
   "metadata": {
    "tags": [
     "challengify"
    ]
   },
   "outputs": [],
   "source": [
    "# YOUR CODE HERE"
   ]
  },
  {
   "cell_type": "markdown",
   "metadata": {},
   "source": [
    "👀 Even if the random state is changing, the proportion of classes inside the training and testing data is kept the same as in the original `y`. This is what _stratification_ is."
   ]
  },
  {
   "cell_type": "markdown",
   "metadata": {},
   "source": [
    "Using `train_test_split` with the `stratify` parameter, we can also preserve proportions of a feature across training and testing data. This can be extremely important, for example:\n",
    "\n",
    "- preserving proportion of male and female customers in predicting churn 🙋‍♂️ 🙋\n",
    "- preserving the proportion big and small houses in predicting their prices 🏠 🏰\n",
    "- preserving distribution of 1-5 review scores (multiclass!) in recommending the next product 🛍️\n",
    "- etc...\n",
    "\n",
    "For instance, in our dataset, to holdout the same share of `aspiration` feature in both training and testing data, we could simply write `train_test_split(X, y, test_size=0.3, stratify=X.aspiration)`"
   ]
  },
  {
   "cell_type": "markdown",
   "metadata": {},
   "source": [
    "---"
   ]
  },
  {
   "cell_type": "markdown",
   "metadata": {},
   "source": [
    "As we saw, **`cross_validate` [can automatically stratify the target](https://scikit-learn.org/stable/modules/generated/sklearn.model_selection.cross_validate.html#:~:text=For%20int/None%20inputs%2C%20if%20the%20estimator%20is%20a%20classifier%20and%20y%20is%20either%20binary%20or%20multiclass%2C%20StratifiedKFold%20is%20used.), but not the features...** 🤔 We need a bit of extra work for that.\n",
    "\n",
    "We need `StratifiedKFold` 🔬\n",
    "\n"
   ]
  },
  {
   "cell_type": "markdown",
   "metadata": {},
   "source": [
    "### Stratification - generalized"
   ]
  },
  {
   "cell_type": "markdown",
   "metadata": {},
   "source": [
    "📚 [**StratifiedKFold**](https://scikit-learn.org/stable/modules/generated/sklearn.model_selection.StratifiedKFold.html) allows us to split the data into `K` splits, while stratifying on certain columns (features or target).\n",
    "\n",
    "This way, we can do a manual cross-validation while keeping proportions on the categorical features of interest - let's try it with the binary `aspiration` feature:"
   ]
  },
  {
   "cell_type": "code",
   "execution_count": null,
   "metadata": {},
   "outputs": [],
   "source": [
    "from sklearn.model_selection import StratifiedKFold\n",
    "\n",
    "# initializing a stratified k-fold that will split the data into 5 folds\n",
    "skf = StratifiedKFold(n_splits=5)\n",
    "scores = []\n",
    "\n",
    "# .split() method creates an iterator; 'X.aspiration' is the feature that we stratify by\n",
    "for train_indices, test_indices in skf.split(X, X.aspiration):\n",
    "    \n",
    "    # 'train_indices' and 'test_indices' are lists of indices that produce proportional splits\n",
    "    X_train, X_test = X.iloc[train_indices], X.iloc[test_indices]\n",
    "    y_train, y_test = y.iloc[train_indices], y.iloc[test_indices]\n",
    "    \n",
    "    # initialize and fit a model\n",
    "    model = LogisticRegression()\n",
    "    model.fit(X_train, y_train)\n",
    "    \n",
    "    # append a score to get an average of 5 folds in the end\n",
    "    scores.append(model.score(X_test, y_test))\n",
    "    \n",
    "np.array(scores).mean()"
   ]
  },
  {
   "cell_type": "markdown",
   "metadata": {},
   "source": [
    "📖 Some sklearn reads on **stratification**:\n",
    "\n",
    "- [Visualization of how different holdout methods in sklearn work](https://scikit-learn.org/stable/auto_examples/model_selection/plot_cv_indices.html#sphx-glr-auto-examples-model-selection-plot-cv-indices-py)\n",
    "- [Overall cross-validation and stratification understanding](https://scikit-learn.org/stable/modules/cross_validation.html#stratification)"
   ]
  },
  {
   "cell_type": "markdown",
   "metadata": {},
   "source": [
    "🏁 Congratulations! You have prepared a whole dataset, ran feature selection and even learned about stratification 💪\n",
    "\n",
    "💾 Don't forget to git add/commit/push your notebook...\n",
    "\n",
    "🚀 ... and move on to the next challenge!"
   ]
  }
 ],
 "metadata": {
  "kernelspec": {
   "display_name": "Python 3 (ipykernel)",
   "language": "python",
   "name": "python3"
  },
  "language_info": {
   "codemirror_mode": {
    "name": "ipython",
    "version": 3
   },
   "file_extension": ".py",
   "mimetype": "text/x-python",
   "name": "python",
   "nbconvert_exporter": "python",
   "pygments_lexer": "ipython3",
   "version": "3.8.12"
  },
  "toc": {
   "base_numbering": 1,
   "nav_menu": {},
   "number_sections": true,
   "sideBar": true,
   "skip_h1_title": false,
   "title_cell": "Table of Contents",
   "title_sidebar": "Contents",
   "toc_cell": false,
   "toc_position": {},
   "toc_section_display": true,
   "toc_window_display": false
  }
 },
 "nbformat": 4,
 "nbformat_minor": 4
}
