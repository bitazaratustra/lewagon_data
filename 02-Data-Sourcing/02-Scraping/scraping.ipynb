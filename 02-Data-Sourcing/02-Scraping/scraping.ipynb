{
 "cells": [
  {
   "cell_type": "code",
   "execution_count": 17,
   "id": "349a5db2",
   "metadata": {},
   "outputs": [],
   "source": [
    "import requests\n",
    "from bs4 import BeautifulSoup\n",
    "\n",
    "import numpy as np\n",
    "import pandas as pd\n",
    "\n",
    "%matplotlib inline\n",
    "import matplotlib"
   ]
  },
  {
   "cell_type": "code",
   "execution_count": 18,
   "id": "61defcf7",
   "metadata": {},
   "outputs": [],
   "source": [
    "url = \"http://books.toscrape.com/\"\n",
    "response = requests.get(url)\n",
    "soup = BeautifulSoup(response.content, 'html.parser')"
   ]
  },
  {
   "cell_type": "code",
   "execution_count": 19,
   "id": "88574862",
   "metadata": {},
   "outputs": [],
   "source": [
    "books_html = soup.find_all(\"article\", class_=\"product_pod\")\n"
   ]
  },
  {
   "cell_type": "markdown",
   "id": "796527af",
   "metadata": {},
   "source": [
    "## Parsing _one_ book"
   ]
  },
  {
   "cell_type": "code",
   "execution_count": 20,
   "id": "8083fc12",
   "metadata": {},
   "outputs": [],
   "source": [
    "book_title =  book.find(\"h3\").find(\"a\").attrs[\"title\"]"
   ]
  },
  {
   "cell_type": "code",
   "execution_count": 21,
   "id": "837b1314",
   "metadata": {},
   "outputs": [
    {
     "data": {
      "text/plain": [
       "{'href': 'catalogue/a-light-in-the-attic_1000/index.html',\n",
       " 'title': 'A Light in the Attic'}"
      ]
     },
     "execution_count": 21,
     "metadata": {},
     "output_type": "execute_result"
    }
   ],
   "source": [
    "books_html[0].find(\"h3\").find(\"a\").attrs"
   ]
  },
  {
   "cell_type": "code",
   "execution_count": 22,
   "id": "ed6469d1",
   "metadata": {},
   "outputs": [
    {
     "data": {
      "text/plain": [
       "'A Light in the Attic'"
      ]
     },
     "execution_count": 22,
     "metadata": {},
     "output_type": "execute_result"
    }
   ],
   "source": [
    "book_title = books_html[0].find(\"h3\").find(\"a\").attrs[\"title\"]\n",
    "book_title"
   ]
  },
  {
   "cell_type": "code",
   "execution_count": 23,
   "id": "b67f8602",
   "metadata": {},
   "outputs": [],
   "source": [
    "price_test = books_html[0].find('p', class_='price_color').string"
   ]
  },
  {
   "cell_type": "code",
   "execution_count": 24,
   "id": "ac9d0707",
   "metadata": {},
   "outputs": [],
   "source": [
    "book_price = float(price_test[1:])"
   ]
  },
  {
   "cell_type": "code",
   "execution_count": 25,
   "id": "d0de5c47",
   "metadata": {},
   "outputs": [
    {
     "data": {
      "text/plain": [
       "51.77"
      ]
     },
     "execution_count": 25,
     "metadata": {},
     "output_type": "execute_result"
    }
   ],
   "source": [
    "book_price"
   ]
  },
  {
   "cell_type": "code",
   "execution_count": 26,
   "id": "ab7fd9d5",
   "metadata": {},
   "outputs": [],
   "source": [
    "star_test = books_html[0].find('p', class_= 'star-rating')"
   ]
  },
  {
   "cell_type": "code",
   "execution_count": 27,
   "id": "f23bb997",
   "metadata": {},
   "outputs": [],
   "source": [
    "def parse_rating(rating_classes):\n",
    "    if 'One' in rating_classes:\n",
    "        return 1\n",
    "    elif 'Two' in rating_classes:\n",
    "        return 2\n",
    "    elif 'Three' in rating_classes:\n",
    "        return 3\n",
    "    elif 'Four' in rating_classes:\n",
    "        return 4\n",
    "    elif 'Five' in rating_classes:\n",
    "        return 5\n",
    "    else:\n",
    "        return 0"
   ]
  },
  {
   "cell_type": "code",
   "execution_count": 28,
   "id": "a7050e07",
   "metadata": {},
   "outputs": [],
   "source": [
    "book_rating = parse_rating(books_html[0].find(\"p\", class_=\"star-rating\").attrs['class'])"
   ]
  },
  {
   "cell_type": "markdown",
   "id": "e58fea35",
   "metadata": {},
   "source": [
    "## Parsing _all_ books"
   ]
  },
  {
   "cell_type": "code",
   "execution_count": 30,
   "id": "605bc2a9",
   "metadata": {},
   "outputs": [],
   "source": [
    "books_dict = { 'Title': [], 'Price': [], 'Rating': [] }\n",
    "for book in books_html:\n",
    "    title = book.find(\"h3\").find(\"a\").attrs[\"title\"]\n",
    "    price = float(book.find(\"p\", class_=\"price_color\").text[1:])\n",
    "    rating = parse_rating(book.find(\"p\", class_=\"star-rating\").attrs['class'])\n",
    "    books_dict[\"Title\"].append(title)\n",
    "    books_dict[\"Price\"].append(price)\n",
    "    books_dict[\"Rating\"].append(rating)"
   ]
  },
  {
   "cell_type": "code",
   "execution_count": 31,
   "id": "5b3fff47",
   "metadata": {},
   "outputs": [
    {
     "data": {
      "text/plain": [
       "{'Title': ['A Light in the Attic',\n",
       "  'Tipping the Velvet',\n",
       "  'Soumission',\n",
       "  'Sharp Objects',\n",
       "  'Sapiens: A Brief History of Humankind',\n",
       "  'The Requiem Red',\n",
       "  'The Dirty Little Secrets of Getting Your Dream Job',\n",
       "  'The Coming Woman: A Novel Based on the Life of the Infamous Feminist, Victoria Woodhull',\n",
       "  'The Boys in the Boat: Nine Americans and Their Epic Quest for Gold at the 1936 Berlin Olympics',\n",
       "  'The Black Maria',\n",
       "  'Starving Hearts (Triangular Trade Trilogy, #1)',\n",
       "  \"Shakespeare's Sonnets\",\n",
       "  'Set Me Free',\n",
       "  \"Scott Pilgrim's Precious Little Life (Scott Pilgrim #1)\",\n",
       "  'Rip it Up and Start Again',\n",
       "  'Our Band Could Be Your Life: Scenes from the American Indie Underground, 1981-1991',\n",
       "  'Olio',\n",
       "  'Mesaerion: The Best Science Fiction Stories 1800-1849',\n",
       "  'Libertarianism for Beginners',\n",
       "  \"It's Only the Himalayas\"],\n",
       " 'Price': [51.77,\n",
       "  53.74,\n",
       "  50.1,\n",
       "  47.82,\n",
       "  54.23,\n",
       "  22.65,\n",
       "  33.34,\n",
       "  17.93,\n",
       "  22.6,\n",
       "  52.15,\n",
       "  13.99,\n",
       "  20.66,\n",
       "  17.46,\n",
       "  52.29,\n",
       "  35.02,\n",
       "  57.25,\n",
       "  23.88,\n",
       "  37.59,\n",
       "  51.33,\n",
       "  45.17],\n",
       " 'Rating': [3, 1, 1, 4, 5, 1, 4, 3, 4, 1, 2, 4, 5, 5, 5, 3, 1, 1, 2, 2]}"
      ]
     },
     "execution_count": 31,
     "metadata": {},
     "output_type": "execute_result"
    }
   ],
   "source": [
    "books_dict"
   ]
  },
  {
   "cell_type": "code",
   "execution_count": 33,
   "id": "f43c06eb",
   "metadata": {},
   "outputs": [
    {
     "data": {
      "text/plain": [
       "3"
      ]
     },
     "execution_count": 33,
     "metadata": {},
     "output_type": "execute_result"
    }
   ],
   "source": [
    "len(books_dict)         # You should have 3 key:value pairs\n"
   ]
  },
  {
   "cell_type": "code",
   "execution_count": 34,
   "id": "d982e4d5",
   "metadata": {},
   "outputs": [
    {
     "data": {
      "text/plain": [
       "20"
      ]
     },
     "execution_count": 34,
     "metadata": {},
     "output_type": "execute_result"
    }
   ],
   "source": [
    "len(books_dict[\"Title\"]) # Each value should contain 20 elements from the 20 books, as many as on the web page!"
   ]
  },
  {
   "cell_type": "code",
   "execution_count": 36,
   "id": "110b7977",
   "metadata": {},
   "outputs": [
    {
     "data": {
      "text/html": [
       "<div>\n",
       "<style scoped>\n",
       "    .dataframe tbody tr th:only-of-type {\n",
       "        vertical-align: middle;\n",
       "    }\n",
       "\n",
       "    .dataframe tbody tr th {\n",
       "        vertical-align: top;\n",
       "    }\n",
       "\n",
       "    .dataframe thead th {\n",
       "        text-align: right;\n",
       "    }\n",
       "</style>\n",
       "<table border=\"1\" class=\"dataframe\">\n",
       "  <thead>\n",
       "    <tr style=\"text-align: right;\">\n",
       "      <th></th>\n",
       "      <th>Title</th>\n",
       "      <th>Price</th>\n",
       "      <th>Rating</th>\n",
       "    </tr>\n",
       "  </thead>\n",
       "  <tbody>\n",
       "    <tr>\n",
       "      <th>0</th>\n",
       "      <td>A Light in the Attic</td>\n",
       "      <td>51.77</td>\n",
       "      <td>3</td>\n",
       "    </tr>\n",
       "    <tr>\n",
       "      <th>1</th>\n",
       "      <td>Tipping the Velvet</td>\n",
       "      <td>53.74</td>\n",
       "      <td>1</td>\n",
       "    </tr>\n",
       "    <tr>\n",
       "      <th>2</th>\n",
       "      <td>Soumission</td>\n",
       "      <td>50.10</td>\n",
       "      <td>1</td>\n",
       "    </tr>\n",
       "    <tr>\n",
       "      <th>3</th>\n",
       "      <td>Sharp Objects</td>\n",
       "      <td>47.82</td>\n",
       "      <td>4</td>\n",
       "    </tr>\n",
       "    <tr>\n",
       "      <th>4</th>\n",
       "      <td>Sapiens: A Brief History of Humankind</td>\n",
       "      <td>54.23</td>\n",
       "      <td>5</td>\n",
       "    </tr>\n",
       "    <tr>\n",
       "      <th>5</th>\n",
       "      <td>The Requiem Red</td>\n",
       "      <td>22.65</td>\n",
       "      <td>1</td>\n",
       "    </tr>\n",
       "    <tr>\n",
       "      <th>6</th>\n",
       "      <td>The Dirty Little Secrets of Getting Your Dream...</td>\n",
       "      <td>33.34</td>\n",
       "      <td>4</td>\n",
       "    </tr>\n",
       "    <tr>\n",
       "      <th>7</th>\n",
       "      <td>The Coming Woman: A Novel Based on the Life of...</td>\n",
       "      <td>17.93</td>\n",
       "      <td>3</td>\n",
       "    </tr>\n",
       "    <tr>\n",
       "      <th>8</th>\n",
       "      <td>The Boys in the Boat: Nine Americans and Their...</td>\n",
       "      <td>22.60</td>\n",
       "      <td>4</td>\n",
       "    </tr>\n",
       "    <tr>\n",
       "      <th>9</th>\n",
       "      <td>The Black Maria</td>\n",
       "      <td>52.15</td>\n",
       "      <td>1</td>\n",
       "    </tr>\n",
       "    <tr>\n",
       "      <th>10</th>\n",
       "      <td>Starving Hearts (Triangular Trade Trilogy, #1)</td>\n",
       "      <td>13.99</td>\n",
       "      <td>2</td>\n",
       "    </tr>\n",
       "    <tr>\n",
       "      <th>11</th>\n",
       "      <td>Shakespeare's Sonnets</td>\n",
       "      <td>20.66</td>\n",
       "      <td>4</td>\n",
       "    </tr>\n",
       "    <tr>\n",
       "      <th>12</th>\n",
       "      <td>Set Me Free</td>\n",
       "      <td>17.46</td>\n",
       "      <td>5</td>\n",
       "    </tr>\n",
       "    <tr>\n",
       "      <th>13</th>\n",
       "      <td>Scott Pilgrim's Precious Little Life (Scott Pi...</td>\n",
       "      <td>52.29</td>\n",
       "      <td>5</td>\n",
       "    </tr>\n",
       "    <tr>\n",
       "      <th>14</th>\n",
       "      <td>Rip it Up and Start Again</td>\n",
       "      <td>35.02</td>\n",
       "      <td>5</td>\n",
       "    </tr>\n",
       "    <tr>\n",
       "      <th>15</th>\n",
       "      <td>Our Band Could Be Your Life: Scenes from the A...</td>\n",
       "      <td>57.25</td>\n",
       "      <td>3</td>\n",
       "    </tr>\n",
       "    <tr>\n",
       "      <th>16</th>\n",
       "      <td>Olio</td>\n",
       "      <td>23.88</td>\n",
       "      <td>1</td>\n",
       "    </tr>\n",
       "    <tr>\n",
       "      <th>17</th>\n",
       "      <td>Mesaerion: The Best Science Fiction Stories 18...</td>\n",
       "      <td>37.59</td>\n",
       "      <td>1</td>\n",
       "    </tr>\n",
       "    <tr>\n",
       "      <th>18</th>\n",
       "      <td>Libertarianism for Beginners</td>\n",
       "      <td>51.33</td>\n",
       "      <td>2</td>\n",
       "    </tr>\n",
       "    <tr>\n",
       "      <th>19</th>\n",
       "      <td>It's Only the Himalayas</td>\n",
       "      <td>45.17</td>\n",
       "      <td>2</td>\n",
       "    </tr>\n",
       "  </tbody>\n",
       "</table>\n",
       "</div>"
      ],
      "text/plain": [
       "                                                Title  Price  Rating\n",
       "0                                A Light in the Attic  51.77       3\n",
       "1                                  Tipping the Velvet  53.74       1\n",
       "2                                          Soumission  50.10       1\n",
       "3                                       Sharp Objects  47.82       4\n",
       "4               Sapiens: A Brief History of Humankind  54.23       5\n",
       "5                                     The Requiem Red  22.65       1\n",
       "6   The Dirty Little Secrets of Getting Your Dream...  33.34       4\n",
       "7   The Coming Woman: A Novel Based on the Life of...  17.93       3\n",
       "8   The Boys in the Boat: Nine Americans and Their...  22.60       4\n",
       "9                                     The Black Maria  52.15       1\n",
       "10     Starving Hearts (Triangular Trade Trilogy, #1)  13.99       2\n",
       "11                              Shakespeare's Sonnets  20.66       4\n",
       "12                                        Set Me Free  17.46       5\n",
       "13  Scott Pilgrim's Precious Little Life (Scott Pi...  52.29       5\n",
       "14                          Rip it Up and Start Again  35.02       5\n",
       "15  Our Band Could Be Your Life: Scenes from the A...  57.25       3\n",
       "16                                               Olio  23.88       1\n",
       "17  Mesaerion: The Best Science Fiction Stories 18...  37.59       1\n",
       "18                       Libertarianism for Beginners  51.33       2\n",
       "19                            It's Only the Himalayas  45.17       2"
      ]
     },
     "execution_count": 36,
     "metadata": {},
     "output_type": "execute_result"
    }
   ],
   "source": [
    "books_df = pd.DataFrame.from_dict(books_dict)\n",
    "books_df"
   ]
  },
  {
   "cell_type": "code",
   "execution_count": 37,
   "id": "963052fc",
   "metadata": {},
   "outputs": [
    {
     "data": {
      "text/plain": [
       "<AxesSubplot:xlabel='Rating'>"
      ]
     },
     "execution_count": 37,
     "metadata": {},
     "output_type": "execute_result"
    },
    {
     "data": {
      "image/png": "[encoded data removed]",
      "text/plain": [
       "<Figure size 432x288 with 1 Axes>"
      ]
     },
     "metadata": {
      "needs_background": "light"
     },
     "output_type": "display_data"
    }
   ],
   "source": [
    "books_df.groupby(\"Rating\").count()[\"Title\"].plot(kind=\"bar\")\n"
   ]
  },
  {
   "cell_type": "code",
   "execution_count": 38,
   "id": "ca891414",
   "metadata": {},
   "outputs": [
    {
     "name": "stdout",
     "output_type": "stream",
     "text": [
      "\u001b[1m============================= test session starts ==============================\u001b[0m\n",
      "platform linux -- Python 3.8.12, pytest-6.2.5, py-1.11.0, pluggy-1.0.0 -- /home/bitazaratustra/.pyenv/versions/lewagon/bin/python3\n",
      "cachedir: .pytest_cache\n",
      "rootdir: /home/bitazaratustra/code/bitazaratustra/data-challenges/02-Data-Toolkit/02-Data-Sourcing/02-Scraping\n",
      "plugins: anyio-3.4.0\n",
      "\u001b[1mcollecting ... \u001b[0mcollected 6 items\n",
      "\n",
      "tests/test_books.py::TestBooks::test_books_df_columns_name \u001b[32mPASSED\u001b[0m\u001b[32m        [ 16%]\u001b[0m\n",
      "tests/test_books.py::TestBooks::test_books_df_columns_size \u001b[32mPASSED\u001b[0m\u001b[32m        [ 33%]\u001b[0m\n",
      "tests/test_books.py::TestBooks::test_books_dict_id_defined \u001b[32mPASSED\u001b[0m\u001b[32m        [ 50%]\u001b[0m\n",
      "tests/test_books.py::TestBooks::test_first_book_price \u001b[32mPASSED\u001b[0m\u001b[32m             [ 66%]\u001b[0m\n",
      "tests/test_books.py::TestBooks::test_first_book_rating \u001b[32mPASSED\u001b[0m\u001b[32m            [ 83%]\u001b[0m\n",
      "tests/test_books.py::TestBooks::test_first_book_title \u001b[32mPASSED\u001b[0m\u001b[32m             [100%]\u001b[0m\n",
      "\n",
      "\u001b[32m============================== \u001b[32m\u001b[1m6 passed\u001b[0m\u001b[32m in 0.48s\u001b[0m\u001b[32m ===============================\u001b[0m\n",
      "\n",
      "\n",
      "💯 You can commit your code:\n",
      "\n",
      "\u001b[1;32mgit\u001b[39m add tests/books.pickle\n",
      "\n",
      "\u001b[32mgit\u001b[39m commit -m \u001b[33m'Completed books step'\u001b[39m\n",
      "\n",
      "\u001b[32mgit\u001b[39m push origin master\n"
     ]
    }
   ],
   "source": [
    "from nbresult import ChallengeResult\n",
    "\n",
    "result = ChallengeResult('books',\n",
    "    books_dict=books_dict,\n",
    "    columns=books_df.columns,\n",
    "    title=str(books_df.loc[0,'Title']),\n",
    "    price=books_df.loc[0,'Price'],\n",
    "    rating=books_df.loc[0,'Rating']\n",
    ")\n",
    "result.write()\n",
    "print(result.check())"
   ]
  },
  {
   "cell_type": "code",
   "execution_count": 39,
   "id": "a030a92a",
   "metadata": {},
   "outputs": [
    {
     "data": {
      "text/plain": [
       "'http://books.toscrape.com/catalogue/page-1.html'"
      ]
     },
     "execution_count": 39,
     "metadata": {},
     "output_type": "execute_result"
    }
   ],
   "source": [
    "page = 1\n",
    "url = f\"http://books.toscrape.com/catalogue/page-{page}.html\"\n",
    "url"
   ]
  },
  {
   "cell_type": "code",
   "execution_count": 40,
   "id": "bd0ed107",
   "metadata": {},
   "outputs": [
    {
     "name": "stdout",
     "output_type": "stream",
     "text": [
      "http://books.toscrape.com/catalogue/page-1.html\n",
      "http://books.toscrape.com/catalogue/page-2.html\n",
      "http://books.toscrape.com/catalogue/page-3.html\n"
     ]
    }
   ],
   "source": [
    "MAX_PAGE = 3\n",
    "for page in range(1, MAX_PAGE + 1):\n",
    "    url = f\"http://books.toscrape.com/catalogue/page-{page}.html\"\n",
    "    print(url)"
   ]
  },
  {
   "cell_type": "code",
   "execution_count": 63,
   "id": "722ce580",
   "metadata": {},
   "outputs": [],
   "source": [
    "all_books_dict = { 'Title': [], 'Price': [], 'Rating': [] }\n",
    "for page in range(1,51):\n",
    "    url = f\"http://books.toscrape.com/catalogue/page-{page}.html\"\n",
    "    response = requests.get(url)\n",
    "    soup = BeautifulSoup(response.content, 'html.parser')\n",
    "    books_html = soup.find_all(\"article\", class_=\"product_pod\")\n",
    "    for book in books_html:\n",
    "        title = book.find(\"h3\").find(\"a\").attrs[\"title\"]\n",
    "        price = float(book.find(\"p\", class_=\"price_color\").text[1:])\n",
    "        rating = parse_rating(book.find(\"p\", class_=\"star-rating\").attrs['class'])\n",
    "        all_books_dict[\"Title\"].append(title)\n",
    "        all_books_dict[\"Price\"].append(price)\n",
    "        all_books_dict[\"Rating\"].append(rating)\n"
   ]
  },
  {
   "cell_type": "code",
   "execution_count": 64,
   "id": "31e66110",
   "metadata": {},
   "outputs": [
    {
     "data": {
      "text/plain": [
       "1000"
      ]
     },
     "execution_count": 64,
     "metadata": {},
     "output_type": "execute_result"
    }
   ],
   "source": [
    "len(all_books_dict['Title'])"
   ]
  },
  {
   "cell_type": "code",
   "execution_count": 65,
   "id": "fb55a6ff",
   "metadata": {},
   "outputs": [
    {
     "data": {
      "text/html": [
       "<div>\n",
       "<style scoped>\n",
       "    .dataframe tbody tr th:only-of-type {\n",
       "        vertical-align: middle;\n",
       "    }\n",
       "\n",
       "    .dataframe tbody tr th {\n",
       "        vertical-align: top;\n",
       "    }\n",
       "\n",
       "    .dataframe thead th {\n",
       "        text-align: right;\n",
       "    }\n",
       "</style>\n",
       "<table border=\"1\" class=\"dataframe\">\n",
       "  <thead>\n",
       "    <tr style=\"text-align: right;\">\n",
       "      <th></th>\n",
       "      <th>Title</th>\n",
       "      <th>Price</th>\n",
       "      <th>Rating</th>\n",
       "    </tr>\n",
       "  </thead>\n",
       "  <tbody>\n",
       "    <tr>\n",
       "      <th>995</th>\n",
       "      <td>Alice in Wonderland (Alice's Adventures in Won...</td>\n",
       "      <td>55.53</td>\n",
       "      <td>1</td>\n",
       "    </tr>\n",
       "    <tr>\n",
       "      <th>996</th>\n",
       "      <td>Ajin: Demi-Human, Volume 1 (Ajin: Demi-Human #1)</td>\n",
       "      <td>57.06</td>\n",
       "      <td>4</td>\n",
       "    </tr>\n",
       "    <tr>\n",
       "      <th>997</th>\n",
       "      <td>A Spy's Devotion (The Regency Spies of London #1)</td>\n",
       "      <td>16.97</td>\n",
       "      <td>5</td>\n",
       "    </tr>\n",
       "    <tr>\n",
       "      <th>998</th>\n",
       "      <td>1st to Die (Women's Murder Club #1)</td>\n",
       "      <td>53.98</td>\n",
       "      <td>1</td>\n",
       "    </tr>\n",
       "    <tr>\n",
       "      <th>999</th>\n",
       "      <td>1,000 Places to See Before You Die</td>\n",
       "      <td>26.08</td>\n",
       "      <td>5</td>\n",
       "    </tr>\n",
       "  </tbody>\n",
       "</table>\n",
       "</div>"
      ],
      "text/plain": [
       "                                                 Title  Price  Rating\n",
       "995  Alice in Wonderland (Alice's Adventures in Won...  55.53       1\n",
       "996   Ajin: Demi-Human, Volume 1 (Ajin: Demi-Human #1)  57.06       4\n",
       "997  A Spy's Devotion (The Regency Spies of London #1)  16.97       5\n",
       "998                1st to Die (Women's Murder Club #1)  53.98       1\n",
       "999                 1,000 Places to See Before You Die  26.08       5"
      ]
     },
     "execution_count": 65,
     "metadata": {},
     "output_type": "execute_result"
    }
   ],
   "source": [
    "all_books_df = pd.DataFrame.from_dict(alls_books_dict)\n",
    "all_books_df.tail()"
   ]
  },
  {
   "cell_type": "code",
   "execution_count": 66,
   "id": "f1a6c349",
   "metadata": {},
   "outputs": [
    {
     "data": {
      "text/plain": [
       "<AxesSubplot:xlabel='Rating'>"
      ]
     },
     "execution_count": 66,
     "metadata": {},
     "output_type": "execute_result"
    },
    {
     "data": {
      "image/png": "[encoded data removed]",
      "text/plain": [
       "<Figure size 432x288 with 1 Axes>"
      ]
     },
     "metadata": {
      "needs_background": "light"
     },
     "output_type": "display_data"
    }
   ],
   "source": [
    "all_books_df.groupby(\"Rating\").count()[\"Title\"].plot(kind=\"bar\")"
   ]
  },
  {
   "cell_type": "code",
   "execution_count": 67,
   "id": "c83d56be",
   "metadata": {},
   "outputs": [],
   "source": [
    "all_books_df.to_csv(\"books.csv\")"
   ]
  },
  {
   "cell_type": "code",
   "execution_count": 68,
   "id": "12b8c960",
   "metadata": {},
   "outputs": [],
   "source": [
    "all_books_df.to_excel('books.xlsx', sheet_name='Books')"
   ]
  },
  {
   "cell_type": "code",
   "execution_count": null,
   "id": "2eded445",
   "metadata": {},
   "outputs": [],
   "source": []
  }
 ],
 "metadata": {
  "kernelspec": {
   "display_name": "Python 3 (ipykernel)",
   "language": "python",
   "name": "python3"
  },
  "language_info": {
   "codemirror_mode": {
    "name": "ipython",
    "version": 3
   },
   "file_extension": ".py",
   "mimetype": "text/x-python",
   "name": "python",
   "nbconvert_exporter": "python",
   "pygments_lexer": "ipython3",
   "version": "3.8.12"
  },
  "toc": {
   "base_numbering": 1,
   "nav_menu": {},
   "number_sections": true,
   "sideBar": true,
   "skip_h1_title": false,
   "title_cell": "Table of Contents",
   "title_sidebar": "Contents",
   "toc_cell": false,
   "toc_position": {},
   "toc_section_display": true,
   "toc_window_display": false
  }
 },
 "nbformat": 4,
 "nbformat_minor": 5
}
