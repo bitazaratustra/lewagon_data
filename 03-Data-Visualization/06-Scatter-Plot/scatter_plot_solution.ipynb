{
 "cells": [
  {
   "cell_type": "markdown",
   "metadata": {},
   "source": [
    "# Scatter Plots"
   ]
  },
  {
   "cell_type": "code",
   "execution_count": null,
   "metadata": {},
   "outputs": [],
   "source": [
    "import numpy as np\n",
    "import pandas as pd\n",
    "import matplotlib.pyplot as plt\n",
    "%matplotlib inline\n",
    "import seaborn as sns"
   ]
  },
  {
   "cell_type": "markdown",
   "metadata": {},
   "source": [
    "Run the line below to download the dataset"
   ]
  },
  {
   "cell_type": "code",
   "execution_count": null,
   "metadata": {},
   "outputs": [],
   "source": [
    "!curl https://wagon-public-datasets.s3.amazonaws.com/02-Data-Toolkit/03-Data-Visualization/4_ThreeNum.csv > 4_ThreeNum.csv"
   ]
  },
  {
   "cell_type": "code",
   "execution_count": null,
   "metadata": {},
   "outputs": [],
   "source": [
    "gdp_df = pd.read_csv('4_ThreeNum.csv')\n",
    "gdp_df.head()"
   ]
  },
  {
   "cell_type": "code",
   "execution_count": null,
   "metadata": {},
   "outputs": [],
   "source": [
    "gdp_df.describe()"
   ]
  },
  {
   "cell_type": "markdown",
   "metadata": {},
   "source": [
    "## Part 1"
   ]
  },
  {
   "cell_type": "code",
   "execution_count": null,
   "metadata": {},
   "outputs": [],
   "source": [
    "colors = ['#73B2AF','#95D697', '#82618C',  '#7F8DAE', '#FCED7C']\n",
    "#['Gulf Stream','Granny Smith Apple', 'French lilac', 'Ship Cove', 'Yellow']\n",
    "plt.figure(figsize=(20, 10))\n",
    "ax = sns.scatterplot(\n",
    "    x=\"gdpPercap\",\n",
    "    y=\"lifeExp\",\n",
    "    hue=\"continent\",\n",
    "    data=gdp_df,\n",
    "    size=\"pop\",\n",
    "    sizes=(20, 3000),\n",
    "    palette=sns.color_palette(colors)\n",
    ")\n",
    "sns.despine(top=True, bottom=True, left=True, right=True)\n",
    "ax.xaxis.set_label_coords(0.97, -0.05)\n",
    "ax.yaxis.set_label_coords(-0.025, 0.93)\n",
    "ax.grid(b=True)\n",
    "ax.tick_params(axis=u'both', which=u'both',length=0)\n",
    "handles, labels = ax.get_legend_handles_labels()\n",
    "ax.legend(handles[-5:], ('Population (M)','250','500','750','1250'), bbox_to_anchor=(0.2, -.15, 1., .102), loc='lower left',\n",
    "           ncol=5, borderpad=2, frameon=False, handletextpad=2.5, columnspacing=4)"
   ]
  },
  {
   "cell_type": "code",
   "execution_count": null,
   "metadata": {},
   "outputs": [],
   "source": [
    "handles, labels = ax.get_legend_handles_labels()\n",
    "\n",
    "labels"
   ]
  },
  {
   "cell_type": "markdown",
   "metadata": {},
   "source": [
    "## Part 2"
   ]
  },
  {
   "cell_type": "code",
   "execution_count": null,
   "metadata": {},
   "outputs": [],
   "source": [
    "plt.figure(figsize=(20, 10))\n",
    "plt.figure(figsize=(20, 10))\n",
    "ax = sns.scatterplot(\n",
    "    x=\"gdpPercap\",\n",
    "    y=\"lifeExp\",\n",
    "    hue=\"continent\",\n",
    "    data=gdp_df,\n",
    "    size=\"pop\",\n",
    "    sizes=(20, 3000),\n",
    "    palette=sns.color_palette(colors)\n",
    ")\n",
    "ax.spines['right'].set_visible(False)\n",
    "ax.spines['top'].set_visible(False)\n",
    "ax.spines['left'].set_visible(False)\n",
    "ax.spines['bottom'].set_visible(False)\n",
    "ax.xaxis.set_label_coords(0.97, -0.05)\n",
    "ax.yaxis.set_label_coords(-0.025, 0.93)\n",
    "ax.grid(b=True)\n",
    "ax.tick_params(axis=u'both', which=u'both',length=0)\n",
    "handles, labels = ax.get_legend_handles_labels()\n",
    "\n",
    "ax.legend_.remove()\n",
    "\n",
    "for idx, row in gdp_df.iterrows():\n",
    "    if row[\"gdpPercap\"] > 5000 and row[\"lifeExp\"] < 65:\n",
    "        ax.text(row[\"gdpPercap\"], row[\"lifeExp\"], row[\"country\"])"
   ]
  },
  {
   "cell_type": "markdown",
   "metadata": {},
   "source": [
    "## 3. Interactive plot with plotly"
   ]
  },
  {
   "cell_type": "code",
   "execution_count": null,
   "metadata": {},
   "outputs": [],
   "source": [
    "import plotly.express as px"
   ]
  },
  {
   "cell_type": "code",
   "execution_count": null,
   "metadata": {},
   "outputs": [],
   "source": [
    "fig = px.scatter(\n",
    "    gdp_df,\n",
    "    x=\"gdpPercap\",\n",
    "    y=\"lifeExp\",\n",
    "    size=\"pop\",\n",
    "    color=\"continent\",\n",
    "    hover_name=\"country\",\n",
    "    size_max=60,\n",
    ")\n",
    "fig.show()"
   ]
  },
  {
   "cell_type": "code",
   "execution_count": null,
   "metadata": {},
   "outputs": [],
   "source": []
  }
 ],
 "metadata": {
  "kernelspec": {
   "display_name": "Python 3",
   "language": "python",
   "name": "python3"
  }
 },
 "nbformat": 4,
 "nbformat_minor": 2
}
