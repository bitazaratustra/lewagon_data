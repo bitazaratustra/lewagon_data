{
 "cells": [
  {
   "cell_type": "code",
   "execution_count": null,
   "metadata": {},
   "outputs": [],
   "source": [
    "import numpy as np\n",
    "import pandas as pd\n",
    "import matplotlib as plt\n",
    "%matplotlib inline\n",
    "import seaborn as sns"
   ]
  },
  {
   "cell_type": "markdown",
   "metadata": {},
   "source": [
    "Run the line below to download the dataset"
   ]
  },
  {
   "cell_type": "code",
   "execution_count": null,
   "metadata": {},
   "outputs": [],
   "source": [
    "!curl https://wagon-public-datasets.s3.amazonaws.com/02-Data-Toolkit/03-Data-Visualization/5_OneCatSevNumOrdered.csv > 5_OneCatSevNumOrdered.csv"
   ]
  },
  {
   "cell_type": "code",
   "execution_count": null,
   "metadata": {},
   "outputs": [],
   "source": [
    "file = '5_OneCatSevNumOrdered.csv'"
   ]
  },
  {
   "cell_type": "code",
   "execution_count": null,
   "metadata": {},
   "outputs": [],
   "source": [
    "df = pd.read_csv(file)\n",
    "df.head()"
   ]
  },
  {
   "cell_type": "markdown",
   "metadata": {},
   "source": [
    "### Simple bar plot\n",
    "Create a simple bar plot of the frequency of each name overall.\n",
    "(matplotlib)"
   ]
  },
  {
   "cell_type": "code",
   "execution_count": null,
   "metadata": {},
   "outputs": [],
   "source": [
    "df.groupby(['name'])['n'].sum().plot(kind=\"bar\")"
   ]
  },
  {
   "cell_type": "markdown",
   "metadata": {},
   "source": [
    "### Grouped bar plot\n",
    "Now let’s re-create this plot from the article using seaborn.\n",
    "Make sure you are using a similar color palette, the same years and names."
   ]
  },
  {
   "cell_type": "code",
   "execution_count": null,
   "metadata": {},
   "outputs": [],
   "source": [
    "# 1920, 1960, 2000\n",
    "y1920 = df['year'] == 1920\n",
    "y1960 = df['year'] == 1960\n",
    "y2000 = df['year'] == 2000\n",
    "y_selection = (y1920 | y1960 | y2000)\n",
    "\n",
    "name1 = df['name'] == 'Ashley'\n",
    "name2 = df['name'] == 'Betty'\n",
    "name3 = df['name'] == 'Helen'\n",
    "name4 = df['name'] == 'Patricia'\n",
    "name_selection = (name1 | name2 | name3 | name4)\n",
    "\n",
    "selection = (y_selection & name_selection)\n",
    "df_extract = df[selection]\n",
    "df_extract = df_extract.sort_values('name', ascending=True)"
   ]
  },
  {
   "cell_type": "code",
   "execution_count": null,
   "metadata": {},
   "outputs": [],
   "source": [
    "colors = ['#440c53','#2f688e','#34b779','#fde825']\n",
    "sns.set_style('whitegrid')\n",
    "g = sns.catplot(x=\"year\", y=\"n\", hue=\"name\", data=df_extract,\n",
    "                height=6, kind=\"bar\", \n",
    "                palette=sns.color_palette(colors))\n",
    "g.despine(left=True)\n",
    "g.set_ylabels(\"Number of baby\")"
   ]
  },
  {
   "cell_type": "code",
   "execution_count": null,
   "metadata": {},
   "outputs": [],
   "source": [
    "df_pivot = df_extract[['year','name','n']]\n",
    "df_pivot = df_pivot.pivot(index='year', columns='name', values='n')\n",
    "df_pivot.loc[:,['Ashley','Betty', 'Helen', 'Patricia']].plot.bar(stacked=True, color=colors, figsize=(10,7))"
   ]
  },
  {
   "cell_type": "code",
   "execution_count": null,
   "metadata": {},
   "outputs": [],
   "source": []
  }
 ],
 "metadata": {
  "kernelspec": {
   "display_name": "Python 3",
   "language": "python",
   "name": "python3"
  }
 },
 "nbformat": 4,
 "nbformat_minor": 4
}
