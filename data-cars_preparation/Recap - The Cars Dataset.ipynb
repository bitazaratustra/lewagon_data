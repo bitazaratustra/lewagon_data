{
 "cells": [
  {
   "cell_type": "markdown",
   "metadata": {},
   "source": [
    "# Recap - The Cars Dataset"
   ]
  },
  {
   "cell_type": "code",
   "execution_count": 1,
   "metadata": {},
   "outputs": [],
   "source": [
    "# 1 - DATA MANIPULATION\n",
    "import pandas as pd\n",
    "import numpy as np\n",
    "\n",
    "# 2 - DATA VISUALISATION\n",
    "import matplotlib.pyplot as plt\n",
    "import seaborn as sns\n",
    "\n",
    "# 3 - STATISTICS\n",
    "from statsmodels.graphics.gofplots import qqplot\n",
    "\n",
    "# 4 - MACHINE LEARNING\n",
    "\n",
    "## 4.1 - Preprocessing\n",
    "\n",
    "### 4.1.1 - Scalers\n",
    "from sklearn.preprocessing import StandardScaler, RobustScaler, MinMaxScaler\n",
    "\n",
    "### 4.1.2 - Encoders\n",
    "from sklearn.preprocessing import OneHotEncoder\n",
    "from sklearn.preprocessing import LabelEncoder\n",
    "\n",
    "### 4.1.3 - Crossvalidation, Training, Model\n",
    "from sklearn.model_selection import cross_validate\n",
    "from sklearn.model_selection import train_test_split\n",
    "from sklearn.linear_model import LogisticRegression\n",
    "\n",
    "### 4.1.4 - Evaluation\n",
    "from sklearn.metrics import confusion_matrix\n",
    "from sklearn.metrics  import ConfusionMatrixDisplay"
   ]
  },
  {
   "cell_type": "markdown",
   "metadata": {},
   "source": [
    "# 🚗 The Cars dataset"
   ]
  },
  {
   "cell_type": "markdown",
   "metadata": {},
   "source": [
    "👇 Run the code down below to import the [***ML_Cars_Recap_dataset.csv dataset***](https://wagon-public-datasets.s3.amazonaws.com/Machine%20Learning%20Datasets/ML_Cars_Recap_dataset.csv) - _this version is slightly different from the one in the challenge 3._"
   ]
  },
  {
   "cell_type": "code",
   "execution_count": 2,
   "metadata": {},
   "outputs": [
    {
     "data": {
      "text/html": [
       "<div>\n",
       "<style scoped>\n",
       "    .dataframe tbody tr th:only-of-type {\n",
       "        vertical-align: middle;\n",
       "    }\n",
       "\n",
       "    .dataframe tbody tr th {\n",
       "        vertical-align: top;\n",
       "    }\n",
       "\n",
       "    .dataframe thead th {\n",
       "        text-align: right;\n",
       "    }\n",
       "</style>\n",
       "<table border=\"1\" class=\"dataframe\">\n",
       "  <thead>\n",
       "    <tr style=\"text-align: right;\">\n",
       "      <th></th>\n",
       "      <th>aspiration</th>\n",
       "      <th>carwidth</th>\n",
       "      <th>curbweight</th>\n",
       "      <th>enginetype</th>\n",
       "      <th>cylindernumber</th>\n",
       "      <th>stroke</th>\n",
       "      <th>peakrpm</th>\n",
       "      <th>price</th>\n",
       "    </tr>\n",
       "  </thead>\n",
       "  <tbody>\n",
       "    <tr>\n",
       "      <th>0</th>\n",
       "      <td>std</td>\n",
       "      <td>64.10000</td>\n",
       "      <td>2548.0</td>\n",
       "      <td>dohc</td>\n",
       "      <td>four</td>\n",
       "      <td>2.68</td>\n",
       "      <td>5000.0</td>\n",
       "      <td>expensive</td>\n",
       "    </tr>\n",
       "    <tr>\n",
       "      <th>1</th>\n",
       "      <td>std</td>\n",
       "      <td>64.10000</td>\n",
       "      <td>2548.0</td>\n",
       "      <td>dohc</td>\n",
       "      <td>four</td>\n",
       "      <td>2.68</td>\n",
       "      <td>5000.0</td>\n",
       "      <td>expensive</td>\n",
       "    </tr>\n",
       "    <tr>\n",
       "      <th>2</th>\n",
       "      <td>std</td>\n",
       "      <td>65.50000</td>\n",
       "      <td>2823.0</td>\n",
       "      <td>ohcv</td>\n",
       "      <td>six</td>\n",
       "      <td>3.47</td>\n",
       "      <td>5000.0</td>\n",
       "      <td>expensive</td>\n",
       "    </tr>\n",
       "    <tr>\n",
       "      <th>3</th>\n",
       "      <td>std</td>\n",
       "      <td>65.88794</td>\n",
       "      <td>2337.0</td>\n",
       "      <td>ohc</td>\n",
       "      <td>four</td>\n",
       "      <td>3.40</td>\n",
       "      <td>5500.0</td>\n",
       "      <td>expensive</td>\n",
       "    </tr>\n",
       "    <tr>\n",
       "      <th>4</th>\n",
       "      <td>std</td>\n",
       "      <td>66.40000</td>\n",
       "      <td>2824.0</td>\n",
       "      <td>ohc</td>\n",
       "      <td>five</td>\n",
       "      <td>3.40</td>\n",
       "      <td>5500.0</td>\n",
       "      <td>expensive</td>\n",
       "    </tr>\n",
       "  </tbody>\n",
       "</table>\n",
       "</div>"
      ],
      "text/plain": [
       "  aspiration  carwidth  curbweight enginetype cylindernumber  stroke  peakrpm  \\\n",
       "0        std  64.10000      2548.0       dohc           four    2.68   5000.0   \n",
       "1        std  64.10000      2548.0       dohc           four    2.68   5000.0   \n",
       "2        std  65.50000      2823.0       ohcv            six    3.47   5000.0   \n",
       "3        std  65.88794      2337.0        ohc           four    3.40   5500.0   \n",
       "4        std  66.40000      2824.0        ohc           five    3.40   5500.0   \n",
       "\n",
       "       price  \n",
       "0  expensive  \n",
       "1  expensive  \n",
       "2  expensive  \n",
       "3  expensive  \n",
       "4  expensive  "
      ]
     },
     "execution_count": 2,
     "metadata": {},
     "output_type": "execute_result"
    }
   ],
   "source": [
    "aws_url = \"https://wagon-public-datasets.s3.amazonaws.com/Machine%20Learning%20Datasets/ML_Cars_Recap_dataset.csv\"\n",
    "cars = pd.read_csv(aws_url)\n",
    "cars.head()\n",
    "\n",
    "\n",
    "# Note: It is a common practice to store csv online. This one is stored on the AWS account of LeWagon"
   ]
  },
  {
   "cell_type": "code",
   "execution_count": 3,
   "metadata": {},
   "outputs": [
    {
     "data": {
      "text/plain": [
       "(205, 8)"
      ]
     },
     "execution_count": 3,
     "metadata": {},
     "output_type": "execute_result"
    }
   ],
   "source": [
    "cars.shape # 205 cars x 8 features"
   ]
  },
  {
   "cell_type": "markdown",
   "metadata": {},
   "source": [
    "ℹ️ The description of the dataset is available [here](https://wagon-public-datasets.s3.amazonaws.com/Machine%20Learning%20Datasets/ML_Cars_dataset_description.txt)."
   ]
  },
  {
   "cell_type": "markdown",
   "metadata": {},
   "source": [
    "❓ **Question (Information)** ❓ Collect some basic information about your dataset."
   ]
  },
  {
   "cell_type": "code",
   "execution_count": 4,
   "metadata": {
    "tags": [
     "challengify"
    ]
   },
   "outputs": [
    {
     "name": "stdout",
     "output_type": "stream",
     "text": [
      "<class 'pandas.core.frame.DataFrame'>\n",
      "RangeIndex: 205 entries, 0 to 204\n",
      "Data columns (total 8 columns):\n",
      " #   Column          Non-Null Count  Dtype  \n",
      "---  ------          --------------  -----  \n",
      " 0   aspiration      205 non-null    object \n",
      " 1   carwidth        205 non-null    float64\n",
      " 2   curbweight      205 non-null    float64\n",
      " 3   enginetype      205 non-null    object \n",
      " 4   cylindernumber  205 non-null    object \n",
      " 5   stroke          205 non-null    float64\n",
      " 6   peakrpm         205 non-null    float64\n",
      " 7   price           205 non-null    object \n",
      "dtypes: float64(4), object(4)\n",
      "memory usage: 12.9+ KB\n"
     ]
    }
   ],
   "source": [
    "# YOUR CODE HERE\n",
    "cars.info()"
   ]
  },
  {
   "cell_type": "code",
   "execution_count": 5,
   "metadata": {},
   "outputs": [
    {
     "data": {
      "text/html": [
       "<div>\n",
       "<style scoped>\n",
       "    .dataframe tbody tr th:only-of-type {\n",
       "        vertical-align: middle;\n",
       "    }\n",
       "\n",
       "    .dataframe tbody tr th {\n",
       "        vertical-align: top;\n",
       "    }\n",
       "\n",
       "    .dataframe thead th {\n",
       "        text-align: right;\n",
       "    }\n",
       "</style>\n",
       "<table border=\"1\" class=\"dataframe\">\n",
       "  <thead>\n",
       "    <tr style=\"text-align: right;\">\n",
       "      <th></th>\n",
       "      <th>carwidth</th>\n",
       "      <th>curbweight</th>\n",
       "      <th>stroke</th>\n",
       "      <th>peakrpm</th>\n",
       "    </tr>\n",
       "  </thead>\n",
       "  <tbody>\n",
       "    <tr>\n",
       "      <th>count</th>\n",
       "      <td>205.000000</td>\n",
       "      <td>205.000000</td>\n",
       "      <td>205.000000</td>\n",
       "      <td>205.000000</td>\n",
       "    </tr>\n",
       "    <tr>\n",
       "      <th>mean</th>\n",
       "      <td>65.887940</td>\n",
       "      <td>2555.565854</td>\n",
       "      <td>3.255415</td>\n",
       "      <td>5125.121951</td>\n",
       "    </tr>\n",
       "    <tr>\n",
       "      <th>std</th>\n",
       "      <td>2.074414</td>\n",
       "      <td>520.680204</td>\n",
       "      <td>0.313597</td>\n",
       "      <td>476.985643</td>\n",
       "    </tr>\n",
       "    <tr>\n",
       "      <th>min</th>\n",
       "      <td>60.300000</td>\n",
       "      <td>1488.000000</td>\n",
       "      <td>2.070000</td>\n",
       "      <td>4150.000000</td>\n",
       "    </tr>\n",
       "    <tr>\n",
       "      <th>25%</th>\n",
       "      <td>64.200000</td>\n",
       "      <td>2145.000000</td>\n",
       "      <td>3.110000</td>\n",
       "      <td>4800.000000</td>\n",
       "    </tr>\n",
       "    <tr>\n",
       "      <th>50%</th>\n",
       "      <td>65.500000</td>\n",
       "      <td>2414.000000</td>\n",
       "      <td>3.290000</td>\n",
       "      <td>5200.000000</td>\n",
       "    </tr>\n",
       "    <tr>\n",
       "      <th>75%</th>\n",
       "      <td>66.500000</td>\n",
       "      <td>2935.000000</td>\n",
       "      <td>3.410000</td>\n",
       "      <td>5500.000000</td>\n",
       "    </tr>\n",
       "    <tr>\n",
       "      <th>max</th>\n",
       "      <td>72.300000</td>\n",
       "      <td>4066.000000</td>\n",
       "      <td>4.170000</td>\n",
       "      <td>6600.000000</td>\n",
       "    </tr>\n",
       "  </tbody>\n",
       "</table>\n",
       "</div>"
      ],
      "text/plain": [
       "         carwidth   curbweight      stroke      peakrpm\n",
       "count  205.000000   205.000000  205.000000   205.000000\n",
       "mean    65.887940  2555.565854    3.255415  5125.121951\n",
       "std      2.074414   520.680204    0.313597   476.985643\n",
       "min     60.300000  1488.000000    2.070000  4150.000000\n",
       "25%     64.200000  2145.000000    3.110000  4800.000000\n",
       "50%     65.500000  2414.000000    3.290000  5200.000000\n",
       "75%     66.500000  2935.000000    3.410000  5500.000000\n",
       "max     72.300000  4066.000000    4.170000  6600.000000"
      ]
     },
     "execution_count": 5,
     "metadata": {},
     "output_type": "execute_result"
    }
   ],
   "source": [
    "cars.describe()"
   ]
  },
  {
   "cell_type": "code",
   "execution_count": 6,
   "metadata": {},
   "outputs": [
    {
     "data": {
      "text/plain": [
       "aspiration         object\n",
       "carwidth          float64\n",
       "curbweight        float64\n",
       "enginetype         object\n",
       "cylindernumber     object\n",
       "stroke            float64\n",
       "peakrpm           float64\n",
       "price              object\n",
       "dtype: object"
      ]
     },
     "execution_count": 6,
     "metadata": {},
     "output_type": "execute_result"
    }
   ],
   "source": [
    "cars.dtypes"
   ]
  },
  {
   "cell_type": "code",
   "execution_count": 7,
   "metadata": {},
   "outputs": [
    {
     "data": {
      "text/plain": [
       "14"
      ]
     },
     "execution_count": 7,
     "metadata": {},
     "output_type": "execute_result"
    }
   ],
   "source": [
    "cars.duplicated().sum()"
   ]
  },
  {
   "cell_type": "code",
   "execution_count": 8,
   "metadata": {},
   "outputs": [
    {
     "data": {
      "text/plain": [
       "aspiration        0\n",
       "carwidth          0\n",
       "curbweight        0\n",
       "enginetype        0\n",
       "cylindernumber    0\n",
       "stroke            0\n",
       "peakrpm           0\n",
       "price             0\n",
       "dtype: int64"
      ]
     },
     "execution_count": 8,
     "metadata": {},
     "output_type": "execute_result"
    }
   ],
   "source": [
    "cars.isnull().sum()"
   ]
  },
  {
   "cell_type": "markdown",
   "metadata": {},
   "source": [
    "# (1) 🛠 Data preparation"
   ]
  },
  {
   "cell_type": "markdown",
   "metadata": {},
   "source": [
    "## (1.0) Pre-requisites"
   ]
  },
  {
   "cell_type": "markdown",
   "metadata": {},
   "source": [
    "❓ **Question (Potential anomalies)** ❓ \n",
    "\n",
    "- Are there columns which need to be modified because of their data types? \n",
    "    - Please proceed accordingly."
   ]
  },
  {
   "cell_type": "code",
   "execution_count": 9,
   "metadata": {
    "tags": [
     "challengify"
    ]
   },
   "outputs": [
    {
     "data": {
      "text/plain": [
       "four      159\n",
       "six        24\n",
       "five       11\n",
       "eight       5\n",
       "two         4\n",
       "three       1\n",
       "twelve      1\n",
       "Name: cylindernumber, dtype: int64"
      ]
     },
     "execution_count": 9,
     "metadata": {},
     "output_type": "execute_result"
    }
   ],
   "source": [
    "# YOUR CODE HERE\n",
    "cars['cylindernumber'].value_counts() "
   ]
  },
  {
   "cell_type": "code",
   "execution_count": 10,
   "metadata": {},
   "outputs": [
    {
     "data": {
      "text/plain": [
       "4     159\n",
       "6      24\n",
       "5      11\n",
       "8       5\n",
       "2       4\n",
       "3       1\n",
       "12      1\n",
       "Name: cylindernumber, dtype: int64"
      ]
     },
     "execution_count": 10,
     "metadata": {},
     "output_type": "execute_result"
    }
   ],
   "source": [
    "cars['cylindernumber'] = cars['cylindernumber'].map({\"four\":4,\n",
    "                                                    \"six\":6,\n",
    "                                                    \"five\":5,\n",
    "                                                    \"eight\":8,\n",
    "                                                    \"two\":2,\n",
    "                                                    \"three\":3,\n",
    "                                                    \"twelve\":12})\n",
    "\n",
    "cars['cylindernumber'].value_counts()"
   ]
  },
  {
   "cell_type": "code",
   "execution_count": null,
   "metadata": {},
   "outputs": [],
   "source": []
  },
  {
   "cell_type": "code",
   "execution_count": null,
   "metadata": {},
   "outputs": [],
   "source": []
  },
  {
   "cell_type": "markdown",
   "metadata": {},
   "source": [
    "## (1.1) Duplicates"
   ]
  },
  {
   "cell_type": "markdown",
   "metadata": {},
   "source": [
    "❓ **Question (Duplicated rows)** ❓ \n",
    "\n",
    "Compute the number of duplicated rows that the cars dataset has."
   ]
  },
  {
   "cell_type": "code",
   "execution_count": 11,
   "metadata": {
    "tags": [
     "challengify"
    ]
   },
   "outputs": [
    {
     "data": {
      "text/plain": [
       "14"
      ]
     },
     "execution_count": 11,
     "metadata": {},
     "output_type": "execute_result"
    }
   ],
   "source": [
    "# YOUR CODE HERE\n",
    "cars.duplicated().sum()"
   ]
  },
  {
   "cell_type": "markdown",
   "metadata": {},
   "source": [
    "❓ **Question (Remove duplicates)** ❓ "
   ]
  },
  {
   "cell_type": "code",
   "execution_count": 12,
   "metadata": {
    "tags": [
     "challengify"
    ]
   },
   "outputs": [],
   "source": [
    "# YOUR CODE HERE\n",
    "cars = cars.drop_duplicates().reset_index(drop=True)"
   ]
  },
  {
   "cell_type": "code",
   "execution_count": 13,
   "metadata": {},
   "outputs": [
    {
     "data": {
      "text/html": [
       "<div>\n",
       "<style scoped>\n",
       "    .dataframe tbody tr th:only-of-type {\n",
       "        vertical-align: middle;\n",
       "    }\n",
       "\n",
       "    .dataframe tbody tr th {\n",
       "        vertical-align: top;\n",
       "    }\n",
       "\n",
       "    .dataframe thead th {\n",
       "        text-align: right;\n",
       "    }\n",
       "</style>\n",
       "<table border=\"1\" class=\"dataframe\">\n",
       "  <thead>\n",
       "    <tr style=\"text-align: right;\">\n",
       "      <th></th>\n",
       "      <th>aspiration</th>\n",
       "      <th>carwidth</th>\n",
       "      <th>curbweight</th>\n",
       "      <th>enginetype</th>\n",
       "      <th>cylindernumber</th>\n",
       "      <th>stroke</th>\n",
       "      <th>peakrpm</th>\n",
       "      <th>price</th>\n",
       "    </tr>\n",
       "  </thead>\n",
       "  <tbody>\n",
       "    <tr>\n",
       "      <th>0</th>\n",
       "      <td>std</td>\n",
       "      <td>64.10000</td>\n",
       "      <td>2548.0</td>\n",
       "      <td>dohc</td>\n",
       "      <td>4</td>\n",
       "      <td>2.68</td>\n",
       "      <td>5000.0</td>\n",
       "      <td>expensive</td>\n",
       "    </tr>\n",
       "    <tr>\n",
       "      <th>1</th>\n",
       "      <td>std</td>\n",
       "      <td>65.50000</td>\n",
       "      <td>2823.0</td>\n",
       "      <td>ohcv</td>\n",
       "      <td>6</td>\n",
       "      <td>3.47</td>\n",
       "      <td>5000.0</td>\n",
       "      <td>expensive</td>\n",
       "    </tr>\n",
       "    <tr>\n",
       "      <th>2</th>\n",
       "      <td>std</td>\n",
       "      <td>65.88794</td>\n",
       "      <td>2337.0</td>\n",
       "      <td>ohc</td>\n",
       "      <td>4</td>\n",
       "      <td>3.40</td>\n",
       "      <td>5500.0</td>\n",
       "      <td>expensive</td>\n",
       "    </tr>\n",
       "    <tr>\n",
       "      <th>3</th>\n",
       "      <td>std</td>\n",
       "      <td>66.40000</td>\n",
       "      <td>2824.0</td>\n",
       "      <td>ohc</td>\n",
       "      <td>5</td>\n",
       "      <td>3.40</td>\n",
       "      <td>5500.0</td>\n",
       "      <td>expensive</td>\n",
       "    </tr>\n",
       "    <tr>\n",
       "      <th>4</th>\n",
       "      <td>std</td>\n",
       "      <td>66.30000</td>\n",
       "      <td>2507.0</td>\n",
       "      <td>ohc</td>\n",
       "      <td>5</td>\n",
       "      <td>3.40</td>\n",
       "      <td>5500.0</td>\n",
       "      <td>expensive</td>\n",
       "    </tr>\n",
       "    <tr>\n",
       "      <th>...</th>\n",
       "      <td>...</td>\n",
       "      <td>...</td>\n",
       "      <td>...</td>\n",
       "      <td>...</td>\n",
       "      <td>...</td>\n",
       "      <td>...</td>\n",
       "      <td>...</td>\n",
       "      <td>...</td>\n",
       "    </tr>\n",
       "    <tr>\n",
       "      <th>186</th>\n",
       "      <td>std</td>\n",
       "      <td>68.90000</td>\n",
       "      <td>2952.0</td>\n",
       "      <td>ohc</td>\n",
       "      <td>4</td>\n",
       "      <td>3.15</td>\n",
       "      <td>5400.0</td>\n",
       "      <td>expensive</td>\n",
       "    </tr>\n",
       "    <tr>\n",
       "      <th>187</th>\n",
       "      <td>turbo</td>\n",
       "      <td>68.80000</td>\n",
       "      <td>3049.0</td>\n",
       "      <td>ohc</td>\n",
       "      <td>4</td>\n",
       "      <td>3.15</td>\n",
       "      <td>5300.0</td>\n",
       "      <td>expensive</td>\n",
       "    </tr>\n",
       "    <tr>\n",
       "      <th>188</th>\n",
       "      <td>std</td>\n",
       "      <td>68.90000</td>\n",
       "      <td>3012.0</td>\n",
       "      <td>ohcv</td>\n",
       "      <td>6</td>\n",
       "      <td>2.87</td>\n",
       "      <td>5500.0</td>\n",
       "      <td>expensive</td>\n",
       "    </tr>\n",
       "    <tr>\n",
       "      <th>189</th>\n",
       "      <td>turbo</td>\n",
       "      <td>68.90000</td>\n",
       "      <td>3217.0</td>\n",
       "      <td>ohc</td>\n",
       "      <td>6</td>\n",
       "      <td>3.40</td>\n",
       "      <td>4800.0</td>\n",
       "      <td>expensive</td>\n",
       "    </tr>\n",
       "    <tr>\n",
       "      <th>190</th>\n",
       "      <td>turbo</td>\n",
       "      <td>68.90000</td>\n",
       "      <td>3062.0</td>\n",
       "      <td>ohc</td>\n",
       "      <td>4</td>\n",
       "      <td>3.15</td>\n",
       "      <td>5400.0</td>\n",
       "      <td>expensive</td>\n",
       "    </tr>\n",
       "  </tbody>\n",
       "</table>\n",
       "<p>191 rows × 8 columns</p>\n",
       "</div>"
      ],
      "text/plain": [
       "    aspiration  carwidth  curbweight enginetype  cylindernumber  stroke  \\\n",
       "0          std  64.10000      2548.0       dohc               4    2.68   \n",
       "1          std  65.50000      2823.0       ohcv               6    3.47   \n",
       "2          std  65.88794      2337.0        ohc               4    3.40   \n",
       "3          std  66.40000      2824.0        ohc               5    3.40   \n",
       "4          std  66.30000      2507.0        ohc               5    3.40   \n",
       "..         ...       ...         ...        ...             ...     ...   \n",
       "186        std  68.90000      2952.0        ohc               4    3.15   \n",
       "187      turbo  68.80000      3049.0        ohc               4    3.15   \n",
       "188        std  68.90000      3012.0       ohcv               6    2.87   \n",
       "189      turbo  68.90000      3217.0        ohc               6    3.40   \n",
       "190      turbo  68.90000      3062.0        ohc               4    3.15   \n",
       "\n",
       "     peakrpm      price  \n",
       "0     5000.0  expensive  \n",
       "1     5000.0  expensive  \n",
       "2     5500.0  expensive  \n",
       "3     5500.0  expensive  \n",
       "4     5500.0  expensive  \n",
       "..       ...        ...  \n",
       "186   5400.0  expensive  \n",
       "187   5300.0  expensive  \n",
       "188   5500.0  expensive  \n",
       "189   4800.0  expensive  \n",
       "190   5400.0  expensive  \n",
       "\n",
       "[191 rows x 8 columns]"
      ]
     },
     "execution_count": 13,
     "metadata": {},
     "output_type": "execute_result"
    }
   ],
   "source": [
    "cars"
   ]
  },
  {
   "cell_type": "markdown",
   "metadata": {},
   "source": [
    "## (1.2) Missing data"
   ]
  },
  {
   "cell_type": "markdown",
   "metadata": {},
   "source": [
    "❓ **Question (`NaN`)** ❓ \n",
    "\n",
    "What is the percentage of `NaN` for each feature?"
   ]
  },
  {
   "cell_type": "code",
   "execution_count": 14,
   "metadata": {
    "tags": [
     "challengify"
    ]
   },
   "outputs": [
    {
     "data": {
      "text/plain": [
       "aspiration        0.0\n",
       "carwidth          0.0\n",
       "curbweight        0.0\n",
       "enginetype        0.0\n",
       "cylindernumber    0.0\n",
       "stroke            0.0\n",
       "peakrpm           0.0\n",
       "price             0.0\n",
       "dtype: float64"
      ]
     },
     "execution_count": 14,
     "metadata": {},
     "output_type": "execute_result"
    }
   ],
   "source": [
    "# YOUR CODE HERE\n",
    "cars.isnull().sum()/len(cars)*100"
   ]
  },
  {
   "cell_type": "markdown",
   "metadata": {},
   "source": [
    "<details>\n",
    "    <summary><i>Answer</i></summary>\n",
    "    \n",
    "😇 It is a miracle but we do not have missing values here. You can move to the next section of this notebook :) \n",
    "    \n",
    "</details>"
   ]
  },
  {
   "cell_type": "markdown",
   "metadata": {},
   "source": [
    "## (1.3) Defining the features $X$ and the target $y$"
   ]
  },
  {
   "cell_type": "markdown",
   "metadata": {},
   "source": [
    "❓ **Question** ❓\n",
    "\n",
    "- Store the features of this dataset in a variable $X$\n",
    "- Store the target in a variable $y$."
   ]
  },
  {
   "cell_type": "code",
   "execution_count": 15,
   "metadata": {
    "tags": [
     "challengify"
    ]
   },
   "outputs": [
    {
     "data": {
      "text/plain": [
       "Index(['aspiration', 'carwidth', 'curbweight', 'enginetype', 'cylindernumber',\n",
       "       'stroke', 'peakrpm', 'price'],\n",
       "      dtype='object')"
      ]
     },
     "execution_count": 15,
     "metadata": {},
     "output_type": "execute_result"
    }
   ],
   "source": [
    "# YOUR CODE HERE\n",
    "cars.columns"
   ]
  },
  {
   "cell_type": "code",
   "execution_count": 16,
   "metadata": {},
   "outputs": [],
   "source": [
    "X = cars[['aspiration', 'carwidth', 'curbweight', 'enginetype', 'cylindernumber',\n",
    "       'stroke', 'peakrpm']]\n",
    "y = cars['price']"
   ]
  },
  {
   "cell_type": "code",
   "execution_count": null,
   "metadata": {},
   "outputs": [],
   "source": []
  },
  {
   "cell_type": "markdown",
   "metadata": {},
   "source": [
    "❓ **Question (Quick look at the target)** ❓ What is the proportion of \"cheap\" cars vs. \"expensive\" cars ? "
   ]
  },
  {
   "cell_type": "code",
   "execution_count": 17,
   "metadata": {
    "tags": [
     "challengify"
    ]
   },
   "outputs": [
    {
     "data": {
      "text/plain": [
       "expensive    0.61\n",
       "cheap        0.39\n",
       "Name: price, dtype: float64"
      ]
     },
     "execution_count": 17,
     "metadata": {},
     "output_type": "execute_result"
    }
   ],
   "source": [
    "# YOUR CODE HERE\n",
    "round(y.value_counts(normalize=True),2)"
   ]
  },
  {
   "cell_type": "markdown",
   "metadata": {},
   "source": [
    "## (1.4) Scaling numerical features"
   ]
  },
  {
   "cell_type": "markdown",
   "metadata": {},
   "source": [
    "❓ **Question (quick glance at the numerical columns)** ❓\n",
    "\n",
    "- Show the boxplots of all the numerical columns in one line of code\n",
    "- Do the same with their distributions using histograms"
   ]
  },
  {
   "cell_type": "markdown",
   "metadata": {},
   "source": [
    "❓ **Question (Focus on the numerical columns)** ❓\n",
    "\n",
    "Store the numerical columns of the cars dataset into `cars_num`."
   ]
  },
  {
   "cell_type": "code",
   "execution_count": 18,
   "metadata": {},
   "outputs": [
    {
     "data": {
      "text/html": [
       "<div>\n",
       "<style scoped>\n",
       "    .dataframe tbody tr th:only-of-type {\n",
       "        vertical-align: middle;\n",
       "    }\n",
       "\n",
       "    .dataframe tbody tr th {\n",
       "        vertical-align: top;\n",
       "    }\n",
       "\n",
       "    .dataframe thead th {\n",
       "        text-align: right;\n",
       "    }\n",
       "</style>\n",
       "<table border=\"1\" class=\"dataframe\">\n",
       "  <thead>\n",
       "    <tr style=\"text-align: right;\">\n",
       "      <th></th>\n",
       "      <th>carwidth</th>\n",
       "      <th>curbweight</th>\n",
       "      <th>cylindernumber</th>\n",
       "      <th>stroke</th>\n",
       "      <th>peakrpm</th>\n",
       "    </tr>\n",
       "  </thead>\n",
       "  <tbody>\n",
       "    <tr>\n",
       "      <th>0</th>\n",
       "      <td>64.10000</td>\n",
       "      <td>2548.0</td>\n",
       "      <td>4</td>\n",
       "      <td>2.68</td>\n",
       "      <td>5000.0</td>\n",
       "    </tr>\n",
       "    <tr>\n",
       "      <th>1</th>\n",
       "      <td>65.50000</td>\n",
       "      <td>2823.0</td>\n",
       "      <td>6</td>\n",
       "      <td>3.47</td>\n",
       "      <td>5000.0</td>\n",
       "    </tr>\n",
       "    <tr>\n",
       "      <th>2</th>\n",
       "      <td>65.88794</td>\n",
       "      <td>2337.0</td>\n",
       "      <td>4</td>\n",
       "      <td>3.40</td>\n",
       "      <td>5500.0</td>\n",
       "    </tr>\n",
       "    <tr>\n",
       "      <th>3</th>\n",
       "      <td>66.40000</td>\n",
       "      <td>2824.0</td>\n",
       "      <td>5</td>\n",
       "      <td>3.40</td>\n",
       "      <td>5500.0</td>\n",
       "    </tr>\n",
       "    <tr>\n",
       "      <th>4</th>\n",
       "      <td>66.30000</td>\n",
       "      <td>2507.0</td>\n",
       "      <td>5</td>\n",
       "      <td>3.40</td>\n",
       "      <td>5500.0</td>\n",
       "    </tr>\n",
       "    <tr>\n",
       "      <th>...</th>\n",
       "      <td>...</td>\n",
       "      <td>...</td>\n",
       "      <td>...</td>\n",
       "      <td>...</td>\n",
       "      <td>...</td>\n",
       "    </tr>\n",
       "    <tr>\n",
       "      <th>186</th>\n",
       "      <td>68.90000</td>\n",
       "      <td>2952.0</td>\n",
       "      <td>4</td>\n",
       "      <td>3.15</td>\n",
       "      <td>5400.0</td>\n",
       "    </tr>\n",
       "    <tr>\n",
       "      <th>187</th>\n",
       "      <td>68.80000</td>\n",
       "      <td>3049.0</td>\n",
       "      <td>4</td>\n",
       "      <td>3.15</td>\n",
       "      <td>5300.0</td>\n",
       "    </tr>\n",
       "    <tr>\n",
       "      <th>188</th>\n",
       "      <td>68.90000</td>\n",
       "      <td>3012.0</td>\n",
       "      <td>6</td>\n",
       "      <td>2.87</td>\n",
       "      <td>5500.0</td>\n",
       "    </tr>\n",
       "    <tr>\n",
       "      <th>189</th>\n",
       "      <td>68.90000</td>\n",
       "      <td>3217.0</td>\n",
       "      <td>6</td>\n",
       "      <td>3.40</td>\n",
       "      <td>4800.0</td>\n",
       "    </tr>\n",
       "    <tr>\n",
       "      <th>190</th>\n",
       "      <td>68.90000</td>\n",
       "      <td>3062.0</td>\n",
       "      <td>4</td>\n",
       "      <td>3.15</td>\n",
       "      <td>5400.0</td>\n",
       "    </tr>\n",
       "  </tbody>\n",
       "</table>\n",
       "<p>191 rows × 5 columns</p>\n",
       "</div>"
      ],
      "text/plain": [
       "     carwidth  curbweight  cylindernumber  stroke  peakrpm\n",
       "0    64.10000      2548.0               4    2.68   5000.0\n",
       "1    65.50000      2823.0               6    3.47   5000.0\n",
       "2    65.88794      2337.0               4    3.40   5500.0\n",
       "3    66.40000      2824.0               5    3.40   5500.0\n",
       "4    66.30000      2507.0               5    3.40   5500.0\n",
       "..        ...         ...             ...     ...      ...\n",
       "186  68.90000      2952.0               4    3.15   5400.0\n",
       "187  68.80000      3049.0               4    3.15   5300.0\n",
       "188  68.90000      3012.0               6    2.87   5500.0\n",
       "189  68.90000      3217.0               6    3.40   4800.0\n",
       "190  68.90000      3062.0               4    3.15   5400.0\n",
       "\n",
       "[191 rows x 5 columns]"
      ]
     },
     "execution_count": 18,
     "metadata": {},
     "output_type": "execute_result"
    }
   ],
   "source": [
    "###########################\n",
    "# Manual solution         # - not very smart\n",
    "###########################\n",
    "\n",
    "# num_features = [\"carwidth\", \"curbweight\", \"cylindernumber\", \"stroke\", \"peakrpm\"]\n",
    "# cars_num = X[num_features]\n",
    "\n",
    "# That is one way to select the numerical features...\n",
    "# But not very smart...\n",
    "\n",
    "###########################\n",
    "# Elegant solution        # - much better\n",
    "###########################\n",
    "\n",
    "cars_num = X.select_dtypes(exclude = ['object']) # selecting only the numerical features\n",
    "cars_num"
   ]
  },
  {
   "cell_type": "markdown",
   "metadata": {},
   "source": [
    "❓ **Question (Robust Scaler)** ❓\n",
    "\n",
    "👨🏻‍🏫 Robust Scaling all the numerical features is a quick and efficient way of scaling."
   ]
  },
  {
   "cell_type": "code",
   "execution_count": 19,
   "metadata": {},
   "outputs": [
    {
     "data": {
      "text/html": [
       "<div>\n",
       "<style scoped>\n",
       "    .dataframe tbody tr th:only-of-type {\n",
       "        vertical-align: middle;\n",
       "    }\n",
       "\n",
       "    .dataframe tbody tr th {\n",
       "        vertical-align: top;\n",
       "    }\n",
       "\n",
       "    .dataframe thead th {\n",
       "        text-align: right;\n",
       "    }\n",
       "</style>\n",
       "<table border=\"1\" class=\"dataframe\">\n",
       "  <thead>\n",
       "    <tr style=\"text-align: right;\">\n",
       "      <th></th>\n",
       "      <th>carwidth</th>\n",
       "      <th>curbweight</th>\n",
       "      <th>cylindernumber</th>\n",
       "      <th>stroke</th>\n",
       "      <th>peakrpm</th>\n",
       "    </tr>\n",
       "  </thead>\n",
       "  <tbody>\n",
       "    <tr>\n",
       "      <th>0</th>\n",
       "      <td>-0.555556</td>\n",
       "      <td>0.135659</td>\n",
       "      <td>0.0</td>\n",
       "      <td>-2.033333</td>\n",
       "      <td>-0.142857</td>\n",
       "    </tr>\n",
       "    <tr>\n",
       "      <th>1</th>\n",
       "      <td>-0.037037</td>\n",
       "      <td>0.490956</td>\n",
       "      <td>2.0</td>\n",
       "      <td>0.600000</td>\n",
       "      <td>-0.142857</td>\n",
       "    </tr>\n",
       "    <tr>\n",
       "      <th>2</th>\n",
       "      <td>0.106644</td>\n",
       "      <td>-0.136951</td>\n",
       "      <td>0.0</td>\n",
       "      <td>0.366667</td>\n",
       "      <td>0.571429</td>\n",
       "    </tr>\n",
       "    <tr>\n",
       "      <th>3</th>\n",
       "      <td>0.296296</td>\n",
       "      <td>0.492248</td>\n",
       "      <td>1.0</td>\n",
       "      <td>0.366667</td>\n",
       "      <td>0.571429</td>\n",
       "    </tr>\n",
       "    <tr>\n",
       "      <th>4</th>\n",
       "      <td>0.259259</td>\n",
       "      <td>0.082687</td>\n",
       "      <td>1.0</td>\n",
       "      <td>0.366667</td>\n",
       "      <td>0.571429</td>\n",
       "    </tr>\n",
       "    <tr>\n",
       "      <th>...</th>\n",
       "      <td>...</td>\n",
       "      <td>...</td>\n",
       "      <td>...</td>\n",
       "      <td>...</td>\n",
       "      <td>...</td>\n",
       "    </tr>\n",
       "    <tr>\n",
       "      <th>186</th>\n",
       "      <td>1.222222</td>\n",
       "      <td>0.657623</td>\n",
       "      <td>0.0</td>\n",
       "      <td>-0.466667</td>\n",
       "      <td>0.428571</td>\n",
       "    </tr>\n",
       "    <tr>\n",
       "      <th>187</th>\n",
       "      <td>1.185185</td>\n",
       "      <td>0.782946</td>\n",
       "      <td>0.0</td>\n",
       "      <td>-0.466667</td>\n",
       "      <td>0.285714</td>\n",
       "    </tr>\n",
       "    <tr>\n",
       "      <th>188</th>\n",
       "      <td>1.222222</td>\n",
       "      <td>0.735142</td>\n",
       "      <td>2.0</td>\n",
       "      <td>-1.400000</td>\n",
       "      <td>0.571429</td>\n",
       "    </tr>\n",
       "    <tr>\n",
       "      <th>189</th>\n",
       "      <td>1.222222</td>\n",
       "      <td>1.000000</td>\n",
       "      <td>2.0</td>\n",
       "      <td>0.366667</td>\n",
       "      <td>-0.428571</td>\n",
       "    </tr>\n",
       "    <tr>\n",
       "      <th>190</th>\n",
       "      <td>1.222222</td>\n",
       "      <td>0.799742</td>\n",
       "      <td>0.0</td>\n",
       "      <td>-0.466667</td>\n",
       "      <td>0.428571</td>\n",
       "    </tr>\n",
       "  </tbody>\n",
       "</table>\n",
       "<p>191 rows × 5 columns</p>\n",
       "</div>"
      ],
      "text/plain": [
       "     carwidth  curbweight  cylindernumber    stroke   peakrpm\n",
       "0   -0.555556    0.135659             0.0 -2.033333 -0.142857\n",
       "1   -0.037037    0.490956             2.0  0.600000 -0.142857\n",
       "2    0.106644   -0.136951             0.0  0.366667  0.571429\n",
       "3    0.296296    0.492248             1.0  0.366667  0.571429\n",
       "4    0.259259    0.082687             1.0  0.366667  0.571429\n",
       "..        ...         ...             ...       ...       ...\n",
       "186  1.222222    0.657623             0.0 -0.466667  0.428571\n",
       "187  1.185185    0.782946             0.0 -0.466667  0.285714\n",
       "188  1.222222    0.735142             2.0 -1.400000  0.571429\n",
       "189  1.222222    1.000000             2.0  0.366667 -0.428571\n",
       "190  1.222222    0.799742             0.0 -0.466667  0.428571\n",
       "\n",
       "[191 rows x 5 columns]"
      ]
     },
     "execution_count": 19,
     "metadata": {},
     "output_type": "execute_result"
    }
   ],
   "source": [
    "# Instantiating a RobustScaler\n",
    "robust_scaler = RobustScaler()\n",
    "\n",
    "# Creating a copy of the original numerical features \n",
    "cars_num_scaled = cars_num.copy()\n",
    "\n",
    "# Scaling the features and storing them in the copy\n",
    "cars_num_scaled = pd.DataFrame(robust_scaler.fit_transform(cars_num_scaled),\n",
    "                               columns = cars_num.columns)\n",
    "\n",
    "# Showing the scaled features\n",
    "cars_num_scaled"
   ]
  },
  {
   "cell_type": "markdown",
   "metadata": {},
   "source": [
    "## (1.5) Encoding categorical features"
   ]
  },
  {
   "cell_type": "markdown",
   "metadata": {},
   "source": [
    "❓ **Question (Focus on the categorical columns)** ❓\n",
    "\n",
    "Store the categorical columns of the cars dataset into `cars_categorical`."
   ]
  },
  {
   "cell_type": "code",
   "execution_count": 20,
   "metadata": {},
   "outputs": [
    {
     "data": {
      "text/html": [
       "<div>\n",
       "<style scoped>\n",
       "    .dataframe tbody tr th:only-of-type {\n",
       "        vertical-align: middle;\n",
       "    }\n",
       "\n",
       "    .dataframe tbody tr th {\n",
       "        vertical-align: top;\n",
       "    }\n",
       "\n",
       "    .dataframe thead th {\n",
       "        text-align: right;\n",
       "    }\n",
       "</style>\n",
       "<table border=\"1\" class=\"dataframe\">\n",
       "  <thead>\n",
       "    <tr style=\"text-align: right;\">\n",
       "      <th></th>\n",
       "      <th>aspiration</th>\n",
       "      <th>enginetype</th>\n",
       "    </tr>\n",
       "  </thead>\n",
       "  <tbody>\n",
       "    <tr>\n",
       "      <th>0</th>\n",
       "      <td>std</td>\n",
       "      <td>dohc</td>\n",
       "    </tr>\n",
       "    <tr>\n",
       "      <th>1</th>\n",
       "      <td>std</td>\n",
       "      <td>ohcv</td>\n",
       "    </tr>\n",
       "    <tr>\n",
       "      <th>2</th>\n",
       "      <td>std</td>\n",
       "      <td>ohc</td>\n",
       "    </tr>\n",
       "    <tr>\n",
       "      <th>3</th>\n",
       "      <td>std</td>\n",
       "      <td>ohc</td>\n",
       "    </tr>\n",
       "    <tr>\n",
       "      <th>4</th>\n",
       "      <td>std</td>\n",
       "      <td>ohc</td>\n",
       "    </tr>\n",
       "    <tr>\n",
       "      <th>...</th>\n",
       "      <td>...</td>\n",
       "      <td>...</td>\n",
       "    </tr>\n",
       "    <tr>\n",
       "      <th>186</th>\n",
       "      <td>std</td>\n",
       "      <td>ohc</td>\n",
       "    </tr>\n",
       "    <tr>\n",
       "      <th>187</th>\n",
       "      <td>turbo</td>\n",
       "      <td>ohc</td>\n",
       "    </tr>\n",
       "    <tr>\n",
       "      <th>188</th>\n",
       "      <td>std</td>\n",
       "      <td>ohcv</td>\n",
       "    </tr>\n",
       "    <tr>\n",
       "      <th>189</th>\n",
       "      <td>turbo</td>\n",
       "      <td>ohc</td>\n",
       "    </tr>\n",
       "    <tr>\n",
       "      <th>190</th>\n",
       "      <td>turbo</td>\n",
       "      <td>ohc</td>\n",
       "    </tr>\n",
       "  </tbody>\n",
       "</table>\n",
       "<p>191 rows × 2 columns</p>\n",
       "</div>"
      ],
      "text/plain": [
       "    aspiration enginetype\n",
       "0          std       dohc\n",
       "1          std       ohcv\n",
       "2          std        ohc\n",
       "3          std        ohc\n",
       "4          std        ohc\n",
       "..         ...        ...\n",
       "186        std        ohc\n",
       "187      turbo        ohc\n",
       "188        std       ohcv\n",
       "189      turbo        ohc\n",
       "190      turbo        ohc\n",
       "\n",
       "[191 rows x 2 columns]"
      ]
     },
     "execution_count": 20,
     "metadata": {},
     "output_type": "execute_result"
    }
   ],
   "source": [
    "# Manual solution --> not very smart\n",
    "\n",
    "# categorical_features = [\"aspiration\", \"enginetype\"]\n",
    "# cars_categorical = X[categorical_features]\n",
    "\n",
    "# Elegant solution --> much better\n",
    "cars_categorical = X.select_dtypes(include = ['object']) # selecting only the categorical features\n",
    "cars_categorical"
   ]
  },
  {
   "cell_type": "markdown",
   "metadata": {},
   "source": [
    "❓ **Question: What is the expected number of columns generated if we encode the categorical features** ❓"
   ]
  },
  {
   "cell_type": "code",
   "execution_count": 21,
   "metadata": {
    "tags": [
     "challengify"
    ]
   },
   "outputs": [
    {
     "data": {
      "text/plain": [
       "9"
      ]
     },
     "execution_count": 21,
     "metadata": {},
     "output_type": "execute_result"
    }
   ],
   "source": [
    "# YOUR CODE HERE\n",
    "len(cars_categorical.aspiration.unique()) + len(cars_categorical.enginetype.unique())"
   ]
  },
  {
   "cell_type": "code",
   "execution_count": 22,
   "metadata": {},
   "outputs": [
    {
     "data": {
      "text/plain": [
       "[array(['std', 'turbo'], dtype=object),\n",
       " array(['dohc', 'dohcv', 'l', 'ohc', 'ohcf', 'ohcv', 'rotor'], dtype=object)]"
      ]
     },
     "metadata": {},
     "output_type": "display_data"
    },
    {
     "data": {
      "text/plain": [
       "array(['aspiration_turbo', 'enginetype_dohc', 'enginetype_l',\n",
       "       'enginetype_ohc', 'enginetype_ohcf', 'enginetype_ohcv',\n",
       "       'enginetype_infrequent_sklearn'], dtype=object)"
      ]
     },
     "metadata": {},
     "output_type": "display_data"
    },
    {
     "data": {
      "text/html": [
       "<div>\n",
       "<style scoped>\n",
       "    .dataframe tbody tr th:only-of-type {\n",
       "        vertical-align: middle;\n",
       "    }\n",
       "\n",
       "    .dataframe tbody tr th {\n",
       "        vertical-align: top;\n",
       "    }\n",
       "\n",
       "    .dataframe thead th {\n",
       "        text-align: right;\n",
       "    }\n",
       "</style>\n",
       "<table border=\"1\" class=\"dataframe\">\n",
       "  <thead>\n",
       "    <tr style=\"text-align: right;\">\n",
       "      <th></th>\n",
       "      <th>aspiration_turbo</th>\n",
       "      <th>enginetype_dohc</th>\n",
       "      <th>enginetype_l</th>\n",
       "      <th>enginetype_ohc</th>\n",
       "      <th>enginetype_ohcf</th>\n",
       "      <th>enginetype_ohcv</th>\n",
       "      <th>enginetype_infrequent_sklearn</th>\n",
       "    </tr>\n",
       "  </thead>\n",
       "  <tbody>\n",
       "    <tr>\n",
       "      <th>0</th>\n",
       "      <td>0.0</td>\n",
       "      <td>1.0</td>\n",
       "      <td>0.0</td>\n",
       "      <td>0.0</td>\n",
       "      <td>0.0</td>\n",
       "      <td>0.0</td>\n",
       "      <td>0.0</td>\n",
       "    </tr>\n",
       "    <tr>\n",
       "      <th>1</th>\n",
       "      <td>0.0</td>\n",
       "      <td>0.0</td>\n",
       "      <td>0.0</td>\n",
       "      <td>0.0</td>\n",
       "      <td>0.0</td>\n",
       "      <td>1.0</td>\n",
       "      <td>0.0</td>\n",
       "    </tr>\n",
       "    <tr>\n",
       "      <th>2</th>\n",
       "      <td>0.0</td>\n",
       "      <td>0.0</td>\n",
       "      <td>0.0</td>\n",
       "      <td>1.0</td>\n",
       "      <td>0.0</td>\n",
       "      <td>0.0</td>\n",
       "      <td>0.0</td>\n",
       "    </tr>\n",
       "    <tr>\n",
       "      <th>3</th>\n",
       "      <td>0.0</td>\n",
       "      <td>0.0</td>\n",
       "      <td>0.0</td>\n",
       "      <td>1.0</td>\n",
       "      <td>0.0</td>\n",
       "      <td>0.0</td>\n",
       "      <td>0.0</td>\n",
       "    </tr>\n",
       "    <tr>\n",
       "      <th>4</th>\n",
       "      <td>0.0</td>\n",
       "      <td>0.0</td>\n",
       "      <td>0.0</td>\n",
       "      <td>1.0</td>\n",
       "      <td>0.0</td>\n",
       "      <td>0.0</td>\n",
       "      <td>0.0</td>\n",
       "    </tr>\n",
       "    <tr>\n",
       "      <th>...</th>\n",
       "      <td>...</td>\n",
       "      <td>...</td>\n",
       "      <td>...</td>\n",
       "      <td>...</td>\n",
       "      <td>...</td>\n",
       "      <td>...</td>\n",
       "      <td>...</td>\n",
       "    </tr>\n",
       "    <tr>\n",
       "      <th>186</th>\n",
       "      <td>0.0</td>\n",
       "      <td>0.0</td>\n",
       "      <td>0.0</td>\n",
       "      <td>1.0</td>\n",
       "      <td>0.0</td>\n",
       "      <td>0.0</td>\n",
       "      <td>0.0</td>\n",
       "    </tr>\n",
       "    <tr>\n",
       "      <th>187</th>\n",
       "      <td>1.0</td>\n",
       "      <td>0.0</td>\n",
       "      <td>0.0</td>\n",
       "      <td>1.0</td>\n",
       "      <td>0.0</td>\n",
       "      <td>0.0</td>\n",
       "      <td>0.0</td>\n",
       "    </tr>\n",
       "    <tr>\n",
       "      <th>188</th>\n",
       "      <td>0.0</td>\n",
       "      <td>0.0</td>\n",
       "      <td>0.0</td>\n",
       "      <td>0.0</td>\n",
       "      <td>0.0</td>\n",
       "      <td>1.0</td>\n",
       "      <td>0.0</td>\n",
       "    </tr>\n",
       "    <tr>\n",
       "      <th>189</th>\n",
       "      <td>1.0</td>\n",
       "      <td>0.0</td>\n",
       "      <td>0.0</td>\n",
       "      <td>1.0</td>\n",
       "      <td>0.0</td>\n",
       "      <td>0.0</td>\n",
       "      <td>0.0</td>\n",
       "    </tr>\n",
       "    <tr>\n",
       "      <th>190</th>\n",
       "      <td>1.0</td>\n",
       "      <td>0.0</td>\n",
       "      <td>0.0</td>\n",
       "      <td>1.0</td>\n",
       "      <td>0.0</td>\n",
       "      <td>0.0</td>\n",
       "      <td>0.0</td>\n",
       "    </tr>\n",
       "  </tbody>\n",
       "</table>\n",
       "<p>191 rows × 7 columns</p>\n",
       "</div>"
      ],
      "text/plain": [
       "     aspiration_turbo  enginetype_dohc  enginetype_l  enginetype_ohc  \\\n",
       "0                 0.0              1.0           0.0             0.0   \n",
       "1                 0.0              0.0           0.0             0.0   \n",
       "2                 0.0              0.0           0.0             1.0   \n",
       "3                 0.0              0.0           0.0             1.0   \n",
       "4                 0.0              0.0           0.0             1.0   \n",
       "..                ...              ...           ...             ...   \n",
       "186               0.0              0.0           0.0             1.0   \n",
       "187               1.0              0.0           0.0             1.0   \n",
       "188               0.0              0.0           0.0             0.0   \n",
       "189               1.0              0.0           0.0             1.0   \n",
       "190               1.0              0.0           0.0             1.0   \n",
       "\n",
       "     enginetype_ohcf  enginetype_ohcv  enginetype_infrequent_sklearn  \n",
       "0                0.0              0.0                            0.0  \n",
       "1                0.0              1.0                            0.0  \n",
       "2                0.0              0.0                            0.0  \n",
       "3                0.0              0.0                            0.0  \n",
       "4                0.0              0.0                            0.0  \n",
       "..               ...              ...                            ...  \n",
       "186              0.0              0.0                            0.0  \n",
       "187              0.0              0.0                            0.0  \n",
       "188              0.0              1.0                            0.0  \n",
       "189              0.0              0.0                            0.0  \n",
       "190              0.0              0.0                            0.0  \n",
       "\n",
       "[191 rows x 7 columns]"
      ]
     },
     "execution_count": 22,
     "metadata": {},
     "output_type": "execute_result"
    }
   ],
   "source": [
    "ohe = OneHotEncoder(drop = \"if_binary\", sparse = False, min_frequency = 0.05)\n",
    "\n",
    "# Fitting it to the categorical features\n",
    "ohe.fit(cars_categorical)\n",
    "\n",
    "# Printing the different categories detected by the OHE\n",
    "display(ohe.categories_)\n",
    "\n",
    "# Since Sklearn 1.1, you can retrieve the names of the generated columns\n",
    "display(ohe.get_feature_names_out())\n",
    "\n",
    "# Storing the encoded features\n",
    "encoded_features = pd.DataFrame(ohe.transform(cars_categorical),\n",
    "                               columns = ohe.get_feature_names_out())\n",
    "encoded_features"
   ]
  },
  {
   "cell_type": "markdown",
   "metadata": {},
   "source": [
    "❓ **Question (OneHotEncoder): Encode the categorical features** ❓\n",
    "\n",
    "<details>\n",
    "    <summary><i>Hints</i></summary>\n",
    "    \n",
    "- Drop a column when a categorical feature is binary\n",
    "- Use full matrixes (Sklearn estimators don't understand sparse matrixes)\n",
    "- Store them into a Pandas DataFrame called `encoded_features`\n",
    "    - 💡 Once that the OHE is fitted to a DataFrame, the new columns' names are accessible through _`get_features_names_out()`_\n",
    "    \n",
    "</details>"
   ]
  },
  {
   "cell_type": "markdown",
   "metadata": {},
   "source": [
    "## (1.6) Concatenating all the preprocessed features together $X_{preprocessed}$"
   ]
  },
  {
   "cell_type": "markdown",
   "metadata": {},
   "source": [
    "❓ **Question (aggregating all the preprocessed features together)** ❓\n",
    "\n",
    "Concatenate `cars_num_scaled` and `cars_categorical` into `X_preprocessed`"
   ]
  },
  {
   "cell_type": "code",
   "execution_count": 23,
   "metadata": {
    "tags": [
     "challengify"
    ]
   },
   "outputs": [
    {
     "data": {
      "text/html": [
       "<div>\n",
       "<style scoped>\n",
       "    .dataframe tbody tr th:only-of-type {\n",
       "        vertical-align: middle;\n",
       "    }\n",
       "\n",
       "    .dataframe tbody tr th {\n",
       "        vertical-align: top;\n",
       "    }\n",
       "\n",
       "    .dataframe thead th {\n",
       "        text-align: right;\n",
       "    }\n",
       "</style>\n",
       "<table border=\"1\" class=\"dataframe\">\n",
       "  <thead>\n",
       "    <tr style=\"text-align: right;\">\n",
       "      <th></th>\n",
       "      <th>carwidth</th>\n",
       "      <th>curbweight</th>\n",
       "      <th>cylindernumber</th>\n",
       "      <th>stroke</th>\n",
       "      <th>peakrpm</th>\n",
       "      <th>aspiration_turbo</th>\n",
       "      <th>enginetype_dohc</th>\n",
       "      <th>enginetype_l</th>\n",
       "      <th>enginetype_ohc</th>\n",
       "      <th>enginetype_ohcf</th>\n",
       "      <th>enginetype_ohcv</th>\n",
       "      <th>enginetype_infrequent_sklearn</th>\n",
       "    </tr>\n",
       "  </thead>\n",
       "  <tbody>\n",
       "    <tr>\n",
       "      <th>0</th>\n",
       "      <td>-0.555556</td>\n",
       "      <td>0.135659</td>\n",
       "      <td>0.0</td>\n",
       "      <td>-2.033333</td>\n",
       "      <td>-0.142857</td>\n",
       "      <td>0.0</td>\n",
       "      <td>1.0</td>\n",
       "      <td>0.0</td>\n",
       "      <td>0.0</td>\n",
       "      <td>0.0</td>\n",
       "      <td>0.0</td>\n",
       "      <td>0.0</td>\n",
       "    </tr>\n",
       "    <tr>\n",
       "      <th>1</th>\n",
       "      <td>-0.037037</td>\n",
       "      <td>0.490956</td>\n",
       "      <td>2.0</td>\n",
       "      <td>0.600000</td>\n",
       "      <td>-0.142857</td>\n",
       "      <td>0.0</td>\n",
       "      <td>0.0</td>\n",
       "      <td>0.0</td>\n",
       "      <td>0.0</td>\n",
       "      <td>0.0</td>\n",
       "      <td>1.0</td>\n",
       "      <td>0.0</td>\n",
       "    </tr>\n",
       "    <tr>\n",
       "      <th>2</th>\n",
       "      <td>0.106644</td>\n",
       "      <td>-0.136951</td>\n",
       "      <td>0.0</td>\n",
       "      <td>0.366667</td>\n",
       "      <td>0.571429</td>\n",
       "      <td>0.0</td>\n",
       "      <td>0.0</td>\n",
       "      <td>0.0</td>\n",
       "      <td>1.0</td>\n",
       "      <td>0.0</td>\n",
       "      <td>0.0</td>\n",
       "      <td>0.0</td>\n",
       "    </tr>\n",
       "    <tr>\n",
       "      <th>3</th>\n",
       "      <td>0.296296</td>\n",
       "      <td>0.492248</td>\n",
       "      <td>1.0</td>\n",
       "      <td>0.366667</td>\n",
       "      <td>0.571429</td>\n",
       "      <td>0.0</td>\n",
       "      <td>0.0</td>\n",
       "      <td>0.0</td>\n",
       "      <td>1.0</td>\n",
       "      <td>0.0</td>\n",
       "      <td>0.0</td>\n",
       "      <td>0.0</td>\n",
       "    </tr>\n",
       "    <tr>\n",
       "      <th>4</th>\n",
       "      <td>0.259259</td>\n",
       "      <td>0.082687</td>\n",
       "      <td>1.0</td>\n",
       "      <td>0.366667</td>\n",
       "      <td>0.571429</td>\n",
       "      <td>0.0</td>\n",
       "      <td>0.0</td>\n",
       "      <td>0.0</td>\n",
       "      <td>1.0</td>\n",
       "      <td>0.0</td>\n",
       "      <td>0.0</td>\n",
       "      <td>0.0</td>\n",
       "    </tr>\n",
       "    <tr>\n",
       "      <th>...</th>\n",
       "      <td>...</td>\n",
       "      <td>...</td>\n",
       "      <td>...</td>\n",
       "      <td>...</td>\n",
       "      <td>...</td>\n",
       "      <td>...</td>\n",
       "      <td>...</td>\n",
       "      <td>...</td>\n",
       "      <td>...</td>\n",
       "      <td>...</td>\n",
       "      <td>...</td>\n",
       "      <td>...</td>\n",
       "    </tr>\n",
       "    <tr>\n",
       "      <th>186</th>\n",
       "      <td>1.222222</td>\n",
       "      <td>0.657623</td>\n",
       "      <td>0.0</td>\n",
       "      <td>-0.466667</td>\n",
       "      <td>0.428571</td>\n",
       "      <td>0.0</td>\n",
       "      <td>0.0</td>\n",
       "      <td>0.0</td>\n",
       "      <td>1.0</td>\n",
       "      <td>0.0</td>\n",
       "      <td>0.0</td>\n",
       "      <td>0.0</td>\n",
       "    </tr>\n",
       "    <tr>\n",
       "      <th>187</th>\n",
       "      <td>1.185185</td>\n",
       "      <td>0.782946</td>\n",
       "      <td>0.0</td>\n",
       "      <td>-0.466667</td>\n",
       "      <td>0.285714</td>\n",
       "      <td>1.0</td>\n",
       "      <td>0.0</td>\n",
       "      <td>0.0</td>\n",
       "      <td>1.0</td>\n",
       "      <td>0.0</td>\n",
       "      <td>0.0</td>\n",
       "      <td>0.0</td>\n",
       "    </tr>\n",
       "    <tr>\n",
       "      <th>188</th>\n",
       "      <td>1.222222</td>\n",
       "      <td>0.735142</td>\n",
       "      <td>2.0</td>\n",
       "      <td>-1.400000</td>\n",
       "      <td>0.571429</td>\n",
       "      <td>0.0</td>\n",
       "      <td>0.0</td>\n",
       "      <td>0.0</td>\n",
       "      <td>0.0</td>\n",
       "      <td>0.0</td>\n",
       "      <td>1.0</td>\n",
       "      <td>0.0</td>\n",
       "    </tr>\n",
       "    <tr>\n",
       "      <th>189</th>\n",
       "      <td>1.222222</td>\n",
       "      <td>1.000000</td>\n",
       "      <td>2.0</td>\n",
       "      <td>0.366667</td>\n",
       "      <td>-0.428571</td>\n",
       "      <td>1.0</td>\n",
       "      <td>0.0</td>\n",
       "      <td>0.0</td>\n",
       "      <td>1.0</td>\n",
       "      <td>0.0</td>\n",
       "      <td>0.0</td>\n",
       "      <td>0.0</td>\n",
       "    </tr>\n",
       "    <tr>\n",
       "      <th>190</th>\n",
       "      <td>1.222222</td>\n",
       "      <td>0.799742</td>\n",
       "      <td>0.0</td>\n",
       "      <td>-0.466667</td>\n",
       "      <td>0.428571</td>\n",
       "      <td>1.0</td>\n",
       "      <td>0.0</td>\n",
       "      <td>0.0</td>\n",
       "      <td>1.0</td>\n",
       "      <td>0.0</td>\n",
       "      <td>0.0</td>\n",
       "      <td>0.0</td>\n",
       "    </tr>\n",
       "  </tbody>\n",
       "</table>\n",
       "<p>191 rows × 12 columns</p>\n",
       "</div>"
      ],
      "text/plain": [
       "     carwidth  curbweight  cylindernumber    stroke   peakrpm  \\\n",
       "0   -0.555556    0.135659             0.0 -2.033333 -0.142857   \n",
       "1   -0.037037    0.490956             2.0  0.600000 -0.142857   \n",
       "2    0.106644   -0.136951             0.0  0.366667  0.571429   \n",
       "3    0.296296    0.492248             1.0  0.366667  0.571429   \n",
       "4    0.259259    0.082687             1.0  0.366667  0.571429   \n",
       "..        ...         ...             ...       ...       ...   \n",
       "186  1.222222    0.657623             0.0 -0.466667  0.428571   \n",
       "187  1.185185    0.782946             0.0 -0.466667  0.285714   \n",
       "188  1.222222    0.735142             2.0 -1.400000  0.571429   \n",
       "189  1.222222    1.000000             2.0  0.366667 -0.428571   \n",
       "190  1.222222    0.799742             0.0 -0.466667  0.428571   \n",
       "\n",
       "     aspiration_turbo  enginetype_dohc  enginetype_l  enginetype_ohc  \\\n",
       "0                 0.0              1.0           0.0             0.0   \n",
       "1                 0.0              0.0           0.0             0.0   \n",
       "2                 0.0              0.0           0.0             1.0   \n",
       "3                 0.0              0.0           0.0             1.0   \n",
       "4                 0.0              0.0           0.0             1.0   \n",
       "..                ...              ...           ...             ...   \n",
       "186               0.0              0.0           0.0             1.0   \n",
       "187               1.0              0.0           0.0             1.0   \n",
       "188               0.0              0.0           0.0             0.0   \n",
       "189               1.0              0.0           0.0             1.0   \n",
       "190               1.0              0.0           0.0             1.0   \n",
       "\n",
       "     enginetype_ohcf  enginetype_ohcv  enginetype_infrequent_sklearn  \n",
       "0                0.0              0.0                            0.0  \n",
       "1                0.0              1.0                            0.0  \n",
       "2                0.0              0.0                            0.0  \n",
       "3                0.0              0.0                            0.0  \n",
       "4                0.0              0.0                            0.0  \n",
       "..               ...              ...                            ...  \n",
       "186              0.0              0.0                            0.0  \n",
       "187              0.0              0.0                            0.0  \n",
       "188              0.0              1.0                            0.0  \n",
       "189              0.0              0.0                            0.0  \n",
       "190              0.0              0.0                            0.0  \n",
       "\n",
       "[191 rows x 12 columns]"
      ]
     },
     "execution_count": 23,
     "metadata": {},
     "output_type": "execute_result"
    }
   ],
   "source": [
    "# YOUR CODE HERE\n",
    "X_preprocessed = pd.concat([cars_num_scaled, encoded_features], axis = 1)\n",
    "X_preprocessed"
   ]
  },
  {
   "cell_type": "markdown",
   "metadata": {},
   "source": [
    "## (1.7) Encoding the target"
   ]
  },
  {
   "cell_type": "markdown",
   "metadata": {},
   "source": [
    "❓ **Question (Encoding the categorical target)** ❓\n",
    "\n",
    "Encode the target using 📚[***LabelEncoder***](https://scikit-learn.org/stable/modules/generated/sklearn.preprocessing.LabelEncoder.html)."
   ]
  },
  {
   "cell_type": "code",
   "execution_count": 24,
   "metadata": {
    "tags": [
     "challengify"
    ]
   },
   "outputs": [
    {
     "data": {
      "text/html": [
       "<div>\n",
       "<style scoped>\n",
       "    .dataframe tbody tr th:only-of-type {\n",
       "        vertical-align: middle;\n",
       "    }\n",
       "\n",
       "    .dataframe tbody tr th {\n",
       "        vertical-align: top;\n",
       "    }\n",
       "\n",
       "    .dataframe thead th {\n",
       "        text-align: right;\n",
       "    }\n",
       "</style>\n",
       "<table border=\"1\" class=\"dataframe\">\n",
       "  <thead>\n",
       "    <tr style=\"text-align: right;\">\n",
       "      <th></th>\n",
       "      <th>target</th>\n",
       "      <th>encoded_target</th>\n",
       "    </tr>\n",
       "  </thead>\n",
       "  <tbody>\n",
       "    <tr>\n",
       "      <th>56</th>\n",
       "      <td>expensive</td>\n",
       "      <td>1</td>\n",
       "    </tr>\n",
       "    <tr>\n",
       "      <th>178</th>\n",
       "      <td>expensive</td>\n",
       "      <td>1</td>\n",
       "    </tr>\n",
       "    <tr>\n",
       "      <th>128</th>\n",
       "      <td>cheap</td>\n",
       "      <td>0</td>\n",
       "    </tr>\n",
       "    <tr>\n",
       "      <th>129</th>\n",
       "      <td>cheap</td>\n",
       "      <td>0</td>\n",
       "    </tr>\n",
       "    <tr>\n",
       "      <th>52</th>\n",
       "      <td>expensive</td>\n",
       "      <td>1</td>\n",
       "    </tr>\n",
       "    <tr>\n",
       "      <th>22</th>\n",
       "      <td>cheap</td>\n",
       "      <td>0</td>\n",
       "    </tr>\n",
       "    <tr>\n",
       "      <th>2</th>\n",
       "      <td>expensive</td>\n",
       "      <td>1</td>\n",
       "    </tr>\n",
       "    <tr>\n",
       "      <th>32</th>\n",
       "      <td>cheap</td>\n",
       "      <td>0</td>\n",
       "    </tr>\n",
       "    <tr>\n",
       "      <th>127</th>\n",
       "      <td>cheap</td>\n",
       "      <td>0</td>\n",
       "    </tr>\n",
       "    <tr>\n",
       "      <th>36</th>\n",
       "      <td>expensive</td>\n",
       "      <td>1</td>\n",
       "    </tr>\n",
       "  </tbody>\n",
       "</table>\n",
       "</div>"
      ],
      "text/plain": [
       "        target  encoded_target\n",
       "56   expensive               1\n",
       "178  expensive               1\n",
       "128      cheap               0\n",
       "129      cheap               0\n",
       "52   expensive               1\n",
       "22       cheap               0\n",
       "2    expensive               1\n",
       "32       cheap               0\n",
       "127      cheap               0\n",
       "36   expensive               1"
      ]
     },
     "execution_count": 24,
     "metadata": {},
     "output_type": "execute_result"
    }
   ],
   "source": [
    "# YOUR CODE HERE\n",
    "from sklearn.preprocessing import LabelEncoder\n",
    "\n",
    "target_encoder = LabelEncoder()\n",
    "\n",
    "y_encoded = target_encoder.fit_transform(y)\n",
    "\n",
    "pd.DataFrame({\"target\":y, \"encoded_target\":y_encoded}).sample(10)"
   ]
  },
  {
   "cell_type": "markdown",
   "metadata": {},
   "source": [
    "# (2) 🏋🏻‍♂️ Modeling (Logistic Regression)"
   ]
  },
  {
   "cell_type": "markdown",
   "metadata": {},
   "source": [
    "🎯 Our goal is to predict whether a car will be expensive or cheap based on some features."
   ]
  },
  {
   "cell_type": "markdown",
   "metadata": {},
   "source": [
    "## (2.0) Cross-Validation"
   ]
  },
  {
   "cell_type": "markdown",
   "metadata": {},
   "source": [
    "👩‍🏫 In Machine Learning, when you want to compare different models, a Cross Validation is a robust method to roughly assess the performance of each individual submodel."
   ]
  },
  {
   "cell_type": "markdown",
   "metadata": {},
   "source": [
    "❓ **Question (CrossValidation)** ❓\n",
    "\n",
    "What is the potential performance of a LogisticRegression for this dataset?"
   ]
  },
  {
   "cell_type": "code",
   "execution_count": 25,
   "metadata": {
    "tags": [
     "challengify"
    ]
   },
   "outputs": [
    {
     "name": "stdout",
     "output_type": "stream",
     "text": [
      "Here is the accuracy for each of the 5 folds: [0.92307692 0.89473684 0.92105263 0.92105263 0.84210526]\n",
      "The average accuracy is : 0.9004048582995952\n"
     ]
    }
   ],
   "source": [
    "# YOUR CODE HERE\n",
    "from sklearn.linear_model import LogisticRegression\n",
    "from sklearn.model_selection import cross_validate\n",
    "\n",
    "logreg_model = LogisticRegression()\n",
    "number_of_folds = 5\n",
    "\n",
    "cv = cross_validate(logreg_model, X_preprocessed, y_encoded, cv=number_of_folds)\n",
    "\n",
    "print(f\"Here is the accuracy for each of the {number_of_folds} folds: {cv['test_score']}\")\n",
    "print(f\"The average accuracy is : {cv['test_score'].mean()}\")\n",
    "      "
   ]
  },
  {
   "cell_type": "markdown",
   "metadata": {},
   "source": [
    "- 🚀 This accuracy is promising, let's go further !\n",
    "- 🗣 We will discuss what is a good Regression/Classification model in the `Performance Metrics` unit."
   ]
  },
  {
   "cell_type": "markdown",
   "metadata": {},
   "source": [
    "## (2.1) Holdout Method"
   ]
  },
  {
   "cell_type": "markdown",
   "metadata": {},
   "source": [
    "❓ **Question (Holdout): train/test split your dataset with a 70/30 ratio** ❓\n",
    "\n",
    "<details>\n",
    "    <summary><i>Hint</i></summary>\n",
    "\n",
    "- For a binary target, you actually don't have to use to `LabelEncoder`.\n",
    "    - Sklearn is smart enough to detect a binary target.\n",
    "    \n",
    "</details>"
   ]
  },
  {
   "cell_type": "code",
   "execution_count": 26,
   "metadata": {
    "tags": [
     "challengify"
    ]
   },
   "outputs": [
    {
     "data": {
      "text/plain": [
       "((133, 12), (58, 12), (133,), (58,))"
      ]
     },
     "execution_count": 26,
     "metadata": {},
     "output_type": "execute_result"
    }
   ],
   "source": [
    "# YOUR CODE HERE\n",
    "X_train, X_test, y_train, y_test = train_test_split(X_preprocessed, y, test_size = 0.30)\n",
    "\n",
    "X_train.shape, X_test.shape, y_train.shape, y_test.shape"
   ]
  },
  {
   "cell_type": "markdown",
   "metadata": {},
   "source": [
    "## (2.2) Training and evaluating"
   ]
  },
  {
   "cell_type": "markdown",
   "metadata": {},
   "source": [
    "❓ **Question: Train/Evaluate a Logistic Regression model** ❓"
   ]
  },
  {
   "cell_type": "code",
   "execution_count": 27,
   "metadata": {},
   "outputs": [
    {
     "data": {
      "text/plain": [
       "0.8793103448275862"
      ]
     },
     "execution_count": 27,
     "metadata": {},
     "output_type": "execute_result"
    }
   ],
   "source": [
    "# Instantiate a Logistic Regression model\n",
    "logreg = LogisticRegression(max_iter = 100)\n",
    "\n",
    "# Train the model\n",
    "logreg.fit(X_train, y_train)\n",
    "\n",
    "# Evaluate the model\n",
    "logreg.score(X_test, y_test)"
   ]
  },
  {
   "cell_type": "markdown",
   "metadata": {},
   "source": [
    "## (2.3) Predicting"
   ]
  },
  {
   "cell_type": "markdown",
   "metadata": {},
   "source": [
    "❓ **Question (Predicting a new \"point\")**❓\n",
    "\n",
    "Does your ML algorithm (the Logistic Regression you've just trained) think that a car with the following features will be expensive? "
   ]
  },
  {
   "cell_type": "code",
   "execution_count": 28,
   "metadata": {
    "scrolled": true
   },
   "outputs": [
    {
     "data": {
      "text/html": [
       "<div>\n",
       "<style scoped>\n",
       "    .dataframe tbody tr th:only-of-type {\n",
       "        vertical-align: middle;\n",
       "    }\n",
       "\n",
       "    .dataframe tbody tr th {\n",
       "        vertical-align: top;\n",
       "    }\n",
       "\n",
       "    .dataframe thead th {\n",
       "        text-align: right;\n",
       "    }\n",
       "</style>\n",
       "<table border=\"1\" class=\"dataframe\">\n",
       "  <thead>\n",
       "    <tr style=\"text-align: right;\">\n",
       "      <th></th>\n",
       "      <th>aspiration</th>\n",
       "      <th>carwidth</th>\n",
       "      <th>curbweight</th>\n",
       "      <th>enginetype</th>\n",
       "      <th>cylindernumber</th>\n",
       "      <th>stroke</th>\n",
       "      <th>peakrpm</th>\n",
       "    </tr>\n",
       "  </thead>\n",
       "  <tbody>\n",
       "    <tr>\n",
       "      <th>0</th>\n",
       "      <td>std</td>\n",
       "      <td>65.88794</td>\n",
       "      <td>1874.0</td>\n",
       "      <td>ohc</td>\n",
       "      <td>four</td>\n",
       "      <td>3.11</td>\n",
       "      <td>5400.0</td>\n",
       "    </tr>\n",
       "  </tbody>\n",
       "</table>\n",
       "</div>"
      ],
      "text/plain": [
       "  aspiration  carwidth  curbweight enginetype cylindernumber  stroke  peakrpm\n",
       "0        std  65.88794      1874.0        ohc           four    3.11   5400.0"
      ]
     },
     "execution_count": 28,
     "metadata": {},
     "output_type": "execute_result"
    }
   ],
   "source": [
    "new_car = pd.DataFrame(columns = X.columns)\n",
    "new_car.loc[0] = ['std', 65.88793969849246, 1874.0, 'ohc', 'four', 3.11, 5400.0]\n",
    "new_car"
   ]
  },
  {
   "cell_type": "markdown",
   "metadata": {},
   "source": [
    "> 👨🏻‍🏫 **To make a prediction, this new car has to be through the same transformations as the ones performed in the training set!**\n",
    "\n",
    "🌠 Have a look at the big picture of this recap [here](https://wagon-public-datasets.s3.amazonaws.com/05-Machine-Learning/prepare_dataset_fit_transform.png)!"
   ]
  },
  {
   "cell_type": "code",
   "execution_count": 29,
   "metadata": {},
   "outputs": [
    {
     "data": {
      "text/html": [
       "<div>\n",
       "<style scoped>\n",
       "    .dataframe tbody tr th:only-of-type {\n",
       "        vertical-align: middle;\n",
       "    }\n",
       "\n",
       "    .dataframe tbody tr th {\n",
       "        vertical-align: top;\n",
       "    }\n",
       "\n",
       "    .dataframe thead th {\n",
       "        text-align: right;\n",
       "    }\n",
       "</style>\n",
       "<table border=\"1\" class=\"dataframe\">\n",
       "  <thead>\n",
       "    <tr style=\"text-align: right;\">\n",
       "      <th></th>\n",
       "      <th>aspiration</th>\n",
       "      <th>carwidth</th>\n",
       "      <th>curbweight</th>\n",
       "      <th>enginetype</th>\n",
       "      <th>cylindernumber</th>\n",
       "      <th>stroke</th>\n",
       "      <th>peakrpm</th>\n",
       "    </tr>\n",
       "  </thead>\n",
       "  <tbody>\n",
       "    <tr>\n",
       "      <th>0</th>\n",
       "      <td>std</td>\n",
       "      <td>65.88794</td>\n",
       "      <td>1874.0</td>\n",
       "      <td>ohc</td>\n",
       "      <td>4</td>\n",
       "      <td>3.11</td>\n",
       "      <td>5400.0</td>\n",
       "    </tr>\n",
       "  </tbody>\n",
       "</table>\n",
       "</div>"
      ],
      "text/plain": [
       "  aspiration  carwidth  curbweight enginetype  cylindernumber  stroke  peakrpm\n",
       "0        std  65.88794      1874.0        ohc               4    3.11   5400.0"
      ]
     },
     "execution_count": 29,
     "metadata": {},
     "output_type": "execute_result"
    }
   ],
   "source": [
    "new_car[\"cylindernumber\"] = 4\n",
    "new_car"
   ]
  },
  {
   "cell_type": "code",
   "execution_count": 30,
   "metadata": {},
   "outputs": [
    {
     "name": "stdout",
     "output_type": "stream",
     "text": [
      "🔴 Before scaling:\n"
     ]
    },
    {
     "data": {
      "text/html": [
       "<div>\n",
       "<style scoped>\n",
       "    .dataframe tbody tr th:only-of-type {\n",
       "        vertical-align: middle;\n",
       "    }\n",
       "\n",
       "    .dataframe tbody tr th {\n",
       "        vertical-align: top;\n",
       "    }\n",
       "\n",
       "    .dataframe thead th {\n",
       "        text-align: right;\n",
       "    }\n",
       "</style>\n",
       "<table border=\"1\" class=\"dataframe\">\n",
       "  <thead>\n",
       "    <tr style=\"text-align: right;\">\n",
       "      <th></th>\n",
       "      <th>carwidth</th>\n",
       "      <th>curbweight</th>\n",
       "      <th>cylindernumber</th>\n",
       "      <th>stroke</th>\n",
       "      <th>peakrpm</th>\n",
       "    </tr>\n",
       "  </thead>\n",
       "  <tbody>\n",
       "    <tr>\n",
       "      <th>0</th>\n",
       "      <td>65.88794</td>\n",
       "      <td>1874.0</td>\n",
       "      <td>4</td>\n",
       "      <td>3.11</td>\n",
       "      <td>5400.0</td>\n",
       "    </tr>\n",
       "  </tbody>\n",
       "</table>\n",
       "</div>"
      ],
      "text/plain": [
       "   carwidth  curbweight  cylindernumber  stroke  peakrpm\n",
       "0  65.88794      1874.0               4    3.11   5400.0"
      ]
     },
     "metadata": {},
     "output_type": "display_data"
    },
    {
     "name": "stdout",
     "output_type": "stream",
     "text": [
      "🟢 After scaling:\n"
     ]
    },
    {
     "data": {
      "text/plain": [
       "array([[ 0.10664433, -0.73514212,  0.        , -0.6       ,  0.42857143]])"
      ]
     },
     "metadata": {},
     "output_type": "display_data"
    },
    {
     "data": {
      "text/html": [
       "<div>\n",
       "<style scoped>\n",
       "    .dataframe tbody tr th:only-of-type {\n",
       "        vertical-align: middle;\n",
       "    }\n",
       "\n",
       "    .dataframe tbody tr th {\n",
       "        vertical-align: top;\n",
       "    }\n",
       "\n",
       "    .dataframe thead th {\n",
       "        text-align: right;\n",
       "    }\n",
       "</style>\n",
       "<table border=\"1\" class=\"dataframe\">\n",
       "  <thead>\n",
       "    <tr style=\"text-align: right;\">\n",
       "      <th></th>\n",
       "      <th>carwidth</th>\n",
       "      <th>curbweight</th>\n",
       "      <th>cylindernumber</th>\n",
       "      <th>stroke</th>\n",
       "      <th>peakrpm</th>\n",
       "    </tr>\n",
       "  </thead>\n",
       "  <tbody>\n",
       "    <tr>\n",
       "      <th>0</th>\n",
       "      <td>0.106644</td>\n",
       "      <td>-0.735142</td>\n",
       "      <td>0.0</td>\n",
       "      <td>-0.6</td>\n",
       "      <td>0.428571</td>\n",
       "    </tr>\n",
       "  </tbody>\n",
       "</table>\n",
       "</div>"
      ],
      "text/plain": [
       "   carwidth  curbweight  cylindernumber  stroke   peakrpm\n",
       "0  0.106644   -0.735142             0.0    -0.6  0.428571"
      ]
     },
     "metadata": {},
     "output_type": "display_data"
    }
   ],
   "source": [
    "print(\"🔴 Before scaling:\")\n",
    "num_features = new_car.select_dtypes(exclude = [\"object\"]).copy()\n",
    "display(num_features)\n",
    "\n",
    "print(\"🟢 After scaling:\")\n",
    "num_features_scaled = robust_scaler.transform(num_features)\n",
    "\n",
    "display(num_features_scaled)\n",
    "\n",
    "num_features_scaled = pd.DataFrame(num_features_scaled, columns = num_features.columns)\n",
    "display(num_features_scaled)\n",
    "# $CHALLENGIFY_END"
   ]
  },
  {
   "cell_type": "code",
   "execution_count": 37,
   "metadata": {},
   "outputs": [
    {
     "name": "stdout",
     "output_type": "stream",
     "text": [
      "🔴 Before Encoding:\n"
     ]
    },
    {
     "data": {
      "text/html": [
       "<div>\n",
       "<style scoped>\n",
       "    .dataframe tbody tr th:only-of-type {\n",
       "        vertical-align: middle;\n",
       "    }\n",
       "\n",
       "    .dataframe tbody tr th {\n",
       "        vertical-align: top;\n",
       "    }\n",
       "\n",
       "    .dataframe thead th {\n",
       "        text-align: right;\n",
       "    }\n",
       "</style>\n",
       "<table border=\"1\" class=\"dataframe\">\n",
       "  <thead>\n",
       "    <tr style=\"text-align: right;\">\n",
       "      <th></th>\n",
       "      <th>aspiration</th>\n",
       "      <th>enginetype</th>\n",
       "    </tr>\n",
       "  </thead>\n",
       "  <tbody>\n",
       "    <tr>\n",
       "      <th>0</th>\n",
       "      <td>std</td>\n",
       "      <td>ohc</td>\n",
       "    </tr>\n",
       "  </tbody>\n",
       "</table>\n",
       "</div>"
      ],
      "text/plain": [
       "  aspiration enginetype\n",
       "0        std        ohc"
      ]
     },
     "metadata": {},
     "output_type": "display_data"
    },
    {
     "name": "stdout",
     "output_type": "stream",
     "text": [
      "🟢 After Encoding:\n"
     ]
    },
    {
     "data": {
      "text/html": [
       "<div>\n",
       "<style scoped>\n",
       "    .dataframe tbody tr th:only-of-type {\n",
       "        vertical-align: middle;\n",
       "    }\n",
       "\n",
       "    .dataframe tbody tr th {\n",
       "        vertical-align: top;\n",
       "    }\n",
       "\n",
       "    .dataframe thead th {\n",
       "        text-align: right;\n",
       "    }\n",
       "</style>\n",
       "<table border=\"1\" class=\"dataframe\">\n",
       "  <thead>\n",
       "    <tr style=\"text-align: right;\">\n",
       "      <th></th>\n",
       "      <th>aspiration_turbo</th>\n",
       "      <th>enginetype_dohc</th>\n",
       "      <th>enginetype_l</th>\n",
       "      <th>enginetype_ohc</th>\n",
       "      <th>enginetype_ohcf</th>\n",
       "      <th>enginetype_ohcv</th>\n",
       "      <th>enginetype_infrequent_sklearn</th>\n",
       "    </tr>\n",
       "  </thead>\n",
       "  <tbody>\n",
       "    <tr>\n",
       "      <th>0</th>\n",
       "      <td>0.0</td>\n",
       "      <td>0.0</td>\n",
       "      <td>0.0</td>\n",
       "      <td>1.0</td>\n",
       "      <td>0.0</td>\n",
       "      <td>0.0</td>\n",
       "      <td>0.0</td>\n",
       "    </tr>\n",
       "  </tbody>\n",
       "</table>\n",
       "</div>"
      ],
      "text/plain": [
       "   aspiration_turbo  enginetype_dohc  enginetype_l  enginetype_ohc  \\\n",
       "0               0.0              0.0           0.0             1.0   \n",
       "\n",
       "   enginetype_ohcf  enginetype_ohcv  enginetype_infrequent_sklearn  \n",
       "0              0.0              0.0                            0.0  "
      ]
     },
     "metadata": {},
     "output_type": "display_data"
    }
   ],
   "source": [
    "# 2 - Encoding the categorical features\n",
    "\n",
    "print(\"🔴 Before Encoding:\")\n",
    "\n",
    "categorical_features = new_car.select_dtypes(include = [\"object\"]).copy()\n",
    "display(categorical_features)\n",
    "\n",
    "print(\"🟢 After Encoding:\")\n",
    "\n",
    "\n",
    "categorical_features_encoded = pd.DataFrame(ohe.transform(categorical_features),\n",
    "                               columns = ohe.get_feature_names_out())\n",
    "\n",
    "display(categorical_features_encoded)"
   ]
  },
  {
   "cell_type": "code",
   "execution_count": 32,
   "metadata": {},
   "outputs": [],
   "source": [
    "# 3 - Aggregating the numerical features and categorical features together\n",
    "\n",
    "pd.concat()"
   ]
  },
  {
   "cell_type": "code",
   "execution_count": 33,
   "metadata": {
    "tags": [
     "delete_end"
    ]
   },
   "outputs": [],
   "source": [
    "# 4 - Prediction\n",
    "\n",
    "pass  # YOUR CODE HERE"
   ]
  },
  {
   "cell_type": "markdown",
   "metadata": {},
   "source": [
    "# (3) 🧑🏿‍🏫 Warning about Data Leakage"
   ]
  },
  {
   "cell_type": "markdown",
   "metadata": {},
   "source": [
    "<img src=\"https://wagon-public-datasets.s3.amazonaws.com/05-Machine-Learning/cross_validation_data_leakage.png\"  width=600 height=300>"
   ]
  },
  {
   "cell_type": "markdown",
   "metadata": {},
   "source": [
    "🏁 Congratulations! You are an expert at preparing a dataset now !\n",
    "\n",
    "🧑🏻‍🏫 Don't forget your flashcards and see you for the next section: `Performance Metrics`!"
   ]
  }
 ],
 "metadata": {
  "kernelspec": {
   "display_name": "Python 3 (ipykernel)",
   "language": "python",
   "name": "python3"
  },
  "language_info": {
   "codemirror_mode": {
    "name": "ipython",
    "version": 3
   },
   "file_extension": ".py",
   "mimetype": "text/x-python",
   "name": "python",
   "nbconvert_exporter": "python",
   "pygments_lexer": "ipython3",
   "version": "3.8.12"
  },
  "toc": {
   "base_numbering": 1,
   "nav_menu": {},
   "number_sections": true,
   "sideBar": true,
   "skip_h1_title": false,
   "title_cell": "Table of Contents",
   "title_sidebar": "Contents",
   "toc_cell": false,
   "toc_position": {},
   "toc_section_display": true,
   "toc_window_display": false
  }
 },
 "nbformat": 4,
 "nbformat_minor": 4
}
