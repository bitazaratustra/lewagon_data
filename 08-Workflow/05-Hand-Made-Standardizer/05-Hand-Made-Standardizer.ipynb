{
 "cells": [
  {
   "cell_type": "markdown",
   "metadata": {},
   "source": [
    "# Handmade Standardizer"
   ]
  },
  {
   "cell_type": "markdown",
   "metadata": {},
   "source": [
    "🧑🏻‍🏫 In this challenge, we are going to create our *own* StandardScaler. Are you wondering why? Glad you asked!\n",
    "\n",
    "🎯 The goals of this exercise are to:\n",
    "- understand `stateless transformers` vs. `stateful transformers`\n",
    "- manipulate `FeatureUnion`"
   ]
  },
  {
   "cell_type": "markdown",
   "metadata": {},
   "source": [
    "## (1) 📚 Stateless Transformer vs. Stateful Transformer"
   ]
  },
  {
   "cell_type": "markdown",
   "metadata": {},
   "source": [
    "🔢 Consider the following training set and the following test set..."
   ]
  },
  {
   "cell_type": "code",
   "execution_count": 1,
   "metadata": {},
   "outputs": [
    {
     "name": "stdout",
     "output_type": "stream",
     "text": [
      "This is the training dataset:\n"
     ]
    },
    {
     "data": {
      "text/html": [
       "<div>\n",
       "<style scoped>\n",
       "    .dataframe tbody tr th:only-of-type {\n",
       "        vertical-align: middle;\n",
       "    }\n",
       "\n",
       "    .dataframe tbody tr th {\n",
       "        vertical-align: top;\n",
       "    }\n",
       "\n",
       "    .dataframe thead th {\n",
       "        text-align: right;\n",
       "    }\n",
       "</style>\n",
       "<table border=\"1\" class=\"dataframe\">\n",
       "  <thead>\n",
       "    <tr style=\"text-align: right;\">\n",
       "      <th></th>\n",
       "      <th>A</th>\n",
       "      <th>B</th>\n",
       "      <th>C</th>\n",
       "    </tr>\n",
       "  </thead>\n",
       "  <tbody>\n",
       "    <tr>\n",
       "      <th>0</th>\n",
       "      <td>1</td>\n",
       "      <td>4</td>\n",
       "      <td>7</td>\n",
       "    </tr>\n",
       "    <tr>\n",
       "      <th>1</th>\n",
       "      <td>2</td>\n",
       "      <td>5</td>\n",
       "      <td>8</td>\n",
       "    </tr>\n",
       "    <tr>\n",
       "      <th>2</th>\n",
       "      <td>3</td>\n",
       "      <td>6</td>\n",
       "      <td>9</td>\n",
       "    </tr>\n",
       "  </tbody>\n",
       "</table>\n",
       "</div>"
      ],
      "text/plain": [
       "   A  B  C\n",
       "0  1  4  7\n",
       "1  2  5  8\n",
       "2  3  6  9"
      ]
     },
     "metadata": {},
     "output_type": "display_data"
    },
    {
     "name": "stdout",
     "output_type": "stream",
     "text": [
      "This is the test dataset:\n"
     ]
    },
    {
     "data": {
      "text/html": [
       "<div>\n",
       "<style scoped>\n",
       "    .dataframe tbody tr th:only-of-type {\n",
       "        vertical-align: middle;\n",
       "    }\n",
       "\n",
       "    .dataframe tbody tr th {\n",
       "        vertical-align: top;\n",
       "    }\n",
       "\n",
       "    .dataframe thead th {\n",
       "        text-align: right;\n",
       "    }\n",
       "</style>\n",
       "<table border=\"1\" class=\"dataframe\">\n",
       "  <thead>\n",
       "    <tr style=\"text-align: right;\">\n",
       "      <th></th>\n",
       "      <th>A</th>\n",
       "      <th>B</th>\n",
       "      <th>C</th>\n",
       "    </tr>\n",
       "  </thead>\n",
       "  <tbody>\n",
       "    <tr>\n",
       "      <th>0</th>\n",
       "      <td>1</td>\n",
       "      <td>2</td>\n",
       "      <td>3</td>\n",
       "    </tr>\n",
       "    <tr>\n",
       "      <th>1</th>\n",
       "      <td>2</td>\n",
       "      <td>3</td>\n",
       "      <td>4</td>\n",
       "    </tr>\n",
       "    <tr>\n",
       "      <th>2</th>\n",
       "      <td>3</td>\n",
       "      <td>4</td>\n",
       "      <td>10</td>\n",
       "    </tr>\n",
       "  </tbody>\n",
       "</table>\n",
       "</div>"
      ],
      "text/plain": [
       "   A  B   C\n",
       "0  1  2   3\n",
       "1  2  3   4\n",
       "2  3  4  10"
      ]
     },
     "metadata": {},
     "output_type": "display_data"
    }
   ],
   "source": [
    "import numpy as np\n",
    "import pandas as pd\n",
    "\n",
    "X_train = pd.DataFrame({\n",
    "    'A': {0: 1, 1: 2, 2: 3},\n",
    "    'B': {0: 4, 1: 5, 2: 6},\n",
    "    'C': {0: 7, 1: 8, 2: 9}})\n",
    "\n",
    "print(\"This is the training dataset:\")\n",
    "display(X_train)\n",
    "\n",
    "print(\"This is the test dataset:\")\n",
    "X_test = pd.DataFrame({\n",
    "    'A': {0: 1, 1: 2, 2: 3},\n",
    "    'B': {0: 2, 1: 3, 2: 4},\n",
    "    'C': {0: 3, 1: 4, 2: 10}})\n",
    "display(X_test)"
   ]
  },
  {
   "cell_type": "markdown",
   "metadata": {},
   "source": [
    "🛠 ...and the following union which:\n",
    "- scales the features\n",
    "- creates a new feature which is the average of the other (unscaled) features"
   ]
  },
  {
   "cell_type": "code",
   "execution_count": 2,
   "metadata": {},
   "outputs": [
    {
     "data": {
      "text/html": [
       "<style>#sk-9f7a1f20-88c1-4bf6-905c-925e0d1ae844 {color: black;background-color: white;}#sk-9f7a1f20-88c1-4bf6-905c-925e0d1ae844 pre{padding: 0;}#sk-9f7a1f20-88c1-4bf6-905c-925e0d1ae844 div.sk-toggleable {background-color: white;}#sk-9f7a1f20-88c1-4bf6-905c-925e0d1ae844 label.sk-toggleable__label {cursor: pointer;display: block;width: 100%;margin-bottom: 0;padding: 0.3em;box-sizing: border-box;text-align: center;}#sk-9f7a1f20-88c1-4bf6-905c-925e0d1ae844 label.sk-toggleable__label-arrow:before {content: \"▸\";float: left;margin-right: 0.25em;color: #696969;}#sk-9f7a1f20-88c1-4bf6-905c-925e0d1ae844 label.sk-toggleable__label-arrow:hover:before {color: black;}#sk-9f7a1f20-88c1-4bf6-905c-925e0d1ae844 div.sk-estimator:hover label.sk-toggleable__label-arrow:before {color: black;}#sk-9f7a1f20-88c1-4bf6-905c-925e0d1ae844 div.sk-toggleable__content {max-height: 0;max-width: 0;overflow: hidden;text-align: left;background-color: #f0f8ff;}#sk-9f7a1f20-88c1-4bf6-905c-925e0d1ae844 div.sk-toggleable__content pre {margin: 0.2em;color: black;border-radius: 0.25em;background-color: #f0f8ff;}#sk-9f7a1f20-88c1-4bf6-905c-925e0d1ae844 input.sk-toggleable__control:checked~div.sk-toggleable__content {max-height: 200px;max-width: 100%;overflow: auto;}#sk-9f7a1f20-88c1-4bf6-905c-925e0d1ae844 input.sk-toggleable__control:checked~label.sk-toggleable__label-arrow:before {content: \"▾\";}#sk-9f7a1f20-88c1-4bf6-905c-925e0d1ae844 div.sk-estimator input.sk-toggleable__control:checked~label.sk-toggleable__label {background-color: #d4ebff;}#sk-9f7a1f20-88c1-4bf6-905c-925e0d1ae844 div.sk-label input.sk-toggleable__control:checked~label.sk-toggleable__label {background-color: #d4ebff;}#sk-9f7a1f20-88c1-4bf6-905c-925e0d1ae844 input.sk-hidden--visually {border: 0;clip: rect(1px 1px 1px 1px);clip: rect(1px, 1px, 1px, 1px);height: 1px;margin: -1px;overflow: hidden;padding: 0;position: absolute;width: 1px;}#sk-9f7a1f20-88c1-4bf6-905c-925e0d1ae844 div.sk-estimator {font-family: monospace;background-color: #f0f8ff;border: 1px dotted black;border-radius: 0.25em;box-sizing: border-box;margin-bottom: 0.5em;}#sk-9f7a1f20-88c1-4bf6-905c-925e0d1ae844 div.sk-estimator:hover {background-color: #d4ebff;}#sk-9f7a1f20-88c1-4bf6-905c-925e0d1ae844 div.sk-parallel-item::after {content: \"\";width: 100%;border-bottom: 1px solid gray;flex-grow: 1;}#sk-9f7a1f20-88c1-4bf6-905c-925e0d1ae844 div.sk-label:hover label.sk-toggleable__label {background-color: #d4ebff;}#sk-9f7a1f20-88c1-4bf6-905c-925e0d1ae844 div.sk-serial::before {content: \"\";position: absolute;border-left: 1px solid gray;box-sizing: border-box;top: 2em;bottom: 0;left: 50%;}#sk-9f7a1f20-88c1-4bf6-905c-925e0d1ae844 div.sk-serial {display: flex;flex-direction: column;align-items: center;background-color: white;padding-right: 0.2em;padding-left: 0.2em;}#sk-9f7a1f20-88c1-4bf6-905c-925e0d1ae844 div.sk-item {z-index: 1;}#sk-9f7a1f20-88c1-4bf6-905c-925e0d1ae844 div.sk-parallel {display: flex;align-items: stretch;justify-content: center;background-color: white;}#sk-9f7a1f20-88c1-4bf6-905c-925e0d1ae844 div.sk-parallel::before {content: \"\";position: absolute;border-left: 1px solid gray;box-sizing: border-box;top: 2em;bottom: 0;left: 50%;}#sk-9f7a1f20-88c1-4bf6-905c-925e0d1ae844 div.sk-parallel-item {display: flex;flex-direction: column;position: relative;background-color: white;}#sk-9f7a1f20-88c1-4bf6-905c-925e0d1ae844 div.sk-parallel-item:first-child::after {align-self: flex-end;width: 50%;}#sk-9f7a1f20-88c1-4bf6-905c-925e0d1ae844 div.sk-parallel-item:last-child::after {align-self: flex-start;width: 50%;}#sk-9f7a1f20-88c1-4bf6-905c-925e0d1ae844 div.sk-parallel-item:only-child::after {width: 0;}#sk-9f7a1f20-88c1-4bf6-905c-925e0d1ae844 div.sk-dashed-wrapped {border: 1px dashed gray;margin: 0 0.4em 0.5em 0.4em;box-sizing: border-box;padding-bottom: 0.4em;background-color: white;position: relative;}#sk-9f7a1f20-88c1-4bf6-905c-925e0d1ae844 div.sk-label label {font-family: monospace;font-weight: bold;background-color: white;display: inline-block;line-height: 1.2em;}#sk-9f7a1f20-88c1-4bf6-905c-925e0d1ae844 div.sk-label-container {position: relative;z-index: 2;text-align: center;}#sk-9f7a1f20-88c1-4bf6-905c-925e0d1ae844 div.sk-container {/* jupyter's `normalize.less` sets `[hidden] { display: none; }` but bootstrap.min.css set `[hidden] { display: none !important; }` so we also need the `!important` here to be able to override the default hidden behavior on the sphinx rendered scikit-learn.org. See: https://github.com/scikit-learn/scikit-learn/issues/21755 */display: inline-block !important;position: relative;}#sk-9f7a1f20-88c1-4bf6-905c-925e0d1ae844 div.sk-text-repr-fallback {display: none;}</style><div id=\"sk-9f7a1f20-88c1-4bf6-905c-925e0d1ae844\" class=\"sk-top-container\"><div class=\"sk-text-repr-fallback\"><pre>FeatureUnion(transformer_list=[(&#x27;standardscaler&#x27;, StandardScaler()),\n",
       "                               (&#x27;functiontransformer&#x27;,\n",
       "                                FunctionTransformer(func=&lt;function &lt;lambda&gt; at 0x7f37de27fc10&gt;))])</pre><b>Please rerun this cell to show the HTML repr or trust the notebook.</b></div><div class=\"sk-container\" hidden><div class=\"sk-item sk-dashed-wrapped\"><div class=\"sk-label-container\"><div class=\"sk-label sk-toggleable\"><input class=\"sk-toggleable__control sk-hidden--visually\" id=\"d9bdb1a9-f959-4970-9496-7ce18551ef06\" type=\"checkbox\" ><label for=\"d9bdb1a9-f959-4970-9496-7ce18551ef06\" class=\"sk-toggleable__label sk-toggleable__label-arrow\">FeatureUnion</label><div class=\"sk-toggleable__content\"><pre>FeatureUnion(transformer_list=[(&#x27;standardscaler&#x27;, StandardScaler()),\n",
       "                               (&#x27;functiontransformer&#x27;,\n",
       "                                FunctionTransformer(func=&lt;function &lt;lambda&gt; at 0x7f37de27fc10&gt;))])</pre></div></div></div><div class=\"sk-parallel\"><div class=\"sk-parallel-item\"><div class=\"sk-item\"><div class=\"sk-label-container\"><div class=\"sk-label sk-toggleable\"><label>standardscaler</label></div></div><div class=\"sk-serial\"><div class=\"sk-item\"><div class=\"sk-estimator sk-toggleable\"><input class=\"sk-toggleable__control sk-hidden--visually\" id=\"7c421999-0066-4a3b-973b-f23d0e8a78fc\" type=\"checkbox\" ><label for=\"7c421999-0066-4a3b-973b-f23d0e8a78fc\" class=\"sk-toggleable__label sk-toggleable__label-arrow\">StandardScaler</label><div class=\"sk-toggleable__content\"><pre>StandardScaler()</pre></div></div></div></div></div></div><div class=\"sk-parallel-item\"><div class=\"sk-item\"><div class=\"sk-label-container\"><div class=\"sk-label sk-toggleable\"><label>functiontransformer</label></div></div><div class=\"sk-serial\"><div class=\"sk-item\"><div class=\"sk-estimator sk-toggleable\"><input class=\"sk-toggleable__control sk-hidden--visually\" id=\"d3c6b8cf-40fa-493d-b769-02f802c746e0\" type=\"checkbox\" ><label for=\"d3c6b8cf-40fa-493d-b769-02f802c746e0\" class=\"sk-toggleable__label sk-toggleable__label-arrow\">FunctionTransformer</label><div class=\"sk-toggleable__content\"><pre>FunctionTransformer(func=&lt;function &lt;lambda&gt; at 0x7f37de27fc10&gt;)</pre></div></div></div></div></div></div></div></div></div></div>"
      ],
      "text/plain": [
       "FeatureUnion(transformer_list=[('standardscaler', StandardScaler()),\n",
       "                               ('functiontransformer',\n",
       "                                FunctionTransformer(func=<function <lambda> at 0x7f37de27fc10>))])"
      ]
     },
     "execution_count": 2,
     "metadata": {},
     "output_type": "execute_result"
    }
   ],
   "source": [
    "from sklearn import set_config; set_config(display='diagram')\n",
    "from sklearn.preprocessing import FunctionTransformer, StandardScaler\n",
    "from sklearn.pipeline import make_pipeline, make_union\n",
    "\n",
    "standard_scaler = StandardScaler()\n",
    "feature_averager = FunctionTransformer(lambda df: pd.DataFrame(1/3 * (df[\"A\"] + df[\"B\"] + df[\"C\"])))\n",
    "pipeline = make_union(standard_scaler, feature_averager)\n",
    "pipeline"
   ]
  },
  {
   "cell_type": "markdown",
   "metadata": {},
   "source": [
    "▶️ Let's :\n",
    "- fit the pipeline to the training set \n",
    "- and transform both the training set and the test set"
   ]
  },
  {
   "cell_type": "code",
   "execution_count": 3,
   "metadata": {},
   "outputs": [
    {
     "data": {
      "text/html": [
       "<style>#sk-95d02a83-60a8-4ad1-b2f8-7cdfb5ee07f1 {color: black;background-color: white;}#sk-95d02a83-60a8-4ad1-b2f8-7cdfb5ee07f1 pre{padding: 0;}#sk-95d02a83-60a8-4ad1-b2f8-7cdfb5ee07f1 div.sk-toggleable {background-color: white;}#sk-95d02a83-60a8-4ad1-b2f8-7cdfb5ee07f1 label.sk-toggleable__label {cursor: pointer;display: block;width: 100%;margin-bottom: 0;padding: 0.3em;box-sizing: border-box;text-align: center;}#sk-95d02a83-60a8-4ad1-b2f8-7cdfb5ee07f1 label.sk-toggleable__label-arrow:before {content: \"▸\";float: left;margin-right: 0.25em;color: #696969;}#sk-95d02a83-60a8-4ad1-b2f8-7cdfb5ee07f1 label.sk-toggleable__label-arrow:hover:before {color: black;}#sk-95d02a83-60a8-4ad1-b2f8-7cdfb5ee07f1 div.sk-estimator:hover label.sk-toggleable__label-arrow:before {color: black;}#sk-95d02a83-60a8-4ad1-b2f8-7cdfb5ee07f1 div.sk-toggleable__content {max-height: 0;max-width: 0;overflow: hidden;text-align: left;background-color: #f0f8ff;}#sk-95d02a83-60a8-4ad1-b2f8-7cdfb5ee07f1 div.sk-toggleable__content pre {margin: 0.2em;color: black;border-radius: 0.25em;background-color: #f0f8ff;}#sk-95d02a83-60a8-4ad1-b2f8-7cdfb5ee07f1 input.sk-toggleable__control:checked~div.sk-toggleable__content {max-height: 200px;max-width: 100%;overflow: auto;}#sk-95d02a83-60a8-4ad1-b2f8-7cdfb5ee07f1 input.sk-toggleable__control:checked~label.sk-toggleable__label-arrow:before {content: \"▾\";}#sk-95d02a83-60a8-4ad1-b2f8-7cdfb5ee07f1 div.sk-estimator input.sk-toggleable__control:checked~label.sk-toggleable__label {background-color: #d4ebff;}#sk-95d02a83-60a8-4ad1-b2f8-7cdfb5ee07f1 div.sk-label input.sk-toggleable__control:checked~label.sk-toggleable__label {background-color: #d4ebff;}#sk-95d02a83-60a8-4ad1-b2f8-7cdfb5ee07f1 input.sk-hidden--visually {border: 0;clip: rect(1px 1px 1px 1px);clip: rect(1px, 1px, 1px, 1px);height: 1px;margin: -1px;overflow: hidden;padding: 0;position: absolute;width: 1px;}#sk-95d02a83-60a8-4ad1-b2f8-7cdfb5ee07f1 div.sk-estimator {font-family: monospace;background-color: #f0f8ff;border: 1px dotted black;border-radius: 0.25em;box-sizing: border-box;margin-bottom: 0.5em;}#sk-95d02a83-60a8-4ad1-b2f8-7cdfb5ee07f1 div.sk-estimator:hover {background-color: #d4ebff;}#sk-95d02a83-60a8-4ad1-b2f8-7cdfb5ee07f1 div.sk-parallel-item::after {content: \"\";width: 100%;border-bottom: 1px solid gray;flex-grow: 1;}#sk-95d02a83-60a8-4ad1-b2f8-7cdfb5ee07f1 div.sk-label:hover label.sk-toggleable__label {background-color: #d4ebff;}#sk-95d02a83-60a8-4ad1-b2f8-7cdfb5ee07f1 div.sk-serial::before {content: \"\";position: absolute;border-left: 1px solid gray;box-sizing: border-box;top: 2em;bottom: 0;left: 50%;}#sk-95d02a83-60a8-4ad1-b2f8-7cdfb5ee07f1 div.sk-serial {display: flex;flex-direction: column;align-items: center;background-color: white;padding-right: 0.2em;padding-left: 0.2em;}#sk-95d02a83-60a8-4ad1-b2f8-7cdfb5ee07f1 div.sk-item {z-index: 1;}#sk-95d02a83-60a8-4ad1-b2f8-7cdfb5ee07f1 div.sk-parallel {display: flex;align-items: stretch;justify-content: center;background-color: white;}#sk-95d02a83-60a8-4ad1-b2f8-7cdfb5ee07f1 div.sk-parallel::before {content: \"\";position: absolute;border-left: 1px solid gray;box-sizing: border-box;top: 2em;bottom: 0;left: 50%;}#sk-95d02a83-60a8-4ad1-b2f8-7cdfb5ee07f1 div.sk-parallel-item {display: flex;flex-direction: column;position: relative;background-color: white;}#sk-95d02a83-60a8-4ad1-b2f8-7cdfb5ee07f1 div.sk-parallel-item:first-child::after {align-self: flex-end;width: 50%;}#sk-95d02a83-60a8-4ad1-b2f8-7cdfb5ee07f1 div.sk-parallel-item:last-child::after {align-self: flex-start;width: 50%;}#sk-95d02a83-60a8-4ad1-b2f8-7cdfb5ee07f1 div.sk-parallel-item:only-child::after {width: 0;}#sk-95d02a83-60a8-4ad1-b2f8-7cdfb5ee07f1 div.sk-dashed-wrapped {border: 1px dashed gray;margin: 0 0.4em 0.5em 0.4em;box-sizing: border-box;padding-bottom: 0.4em;background-color: white;position: relative;}#sk-95d02a83-60a8-4ad1-b2f8-7cdfb5ee07f1 div.sk-label label {font-family: monospace;font-weight: bold;background-color: white;display: inline-block;line-height: 1.2em;}#sk-95d02a83-60a8-4ad1-b2f8-7cdfb5ee07f1 div.sk-label-container {position: relative;z-index: 2;text-align: center;}#sk-95d02a83-60a8-4ad1-b2f8-7cdfb5ee07f1 div.sk-container {/* jupyter's `normalize.less` sets `[hidden] { display: none; }` but bootstrap.min.css set `[hidden] { display: none !important; }` so we also need the `!important` here to be able to override the default hidden behavior on the sphinx rendered scikit-learn.org. See: https://github.com/scikit-learn/scikit-learn/issues/21755 */display: inline-block !important;position: relative;}#sk-95d02a83-60a8-4ad1-b2f8-7cdfb5ee07f1 div.sk-text-repr-fallback {display: none;}</style><div id=\"sk-95d02a83-60a8-4ad1-b2f8-7cdfb5ee07f1\" class=\"sk-top-container\"><div class=\"sk-text-repr-fallback\"><pre>FeatureUnion(transformer_list=[(&#x27;standardscaler&#x27;, StandardScaler()),\n",
       "                               (&#x27;functiontransformer&#x27;,\n",
       "                                FunctionTransformer(func=&lt;function &lt;lambda&gt; at 0x7f37de27fc10&gt;))])</pre><b>Please rerun this cell to show the HTML repr or trust the notebook.</b></div><div class=\"sk-container\" hidden><div class=\"sk-item sk-dashed-wrapped\"><div class=\"sk-label-container\"><div class=\"sk-label sk-toggleable\"><input class=\"sk-toggleable__control sk-hidden--visually\" id=\"e1bbd480-87a3-433b-9278-f318878b7f8c\" type=\"checkbox\" ><label for=\"e1bbd480-87a3-433b-9278-f318878b7f8c\" class=\"sk-toggleable__label sk-toggleable__label-arrow\">FeatureUnion</label><div class=\"sk-toggleable__content\"><pre>FeatureUnion(transformer_list=[(&#x27;standardscaler&#x27;, StandardScaler()),\n",
       "                               (&#x27;functiontransformer&#x27;,\n",
       "                                FunctionTransformer(func=&lt;function &lt;lambda&gt; at 0x7f37de27fc10&gt;))])</pre></div></div></div><div class=\"sk-parallel\"><div class=\"sk-parallel-item\"><div class=\"sk-item\"><div class=\"sk-label-container\"><div class=\"sk-label sk-toggleable\"><label>standardscaler</label></div></div><div class=\"sk-serial\"><div class=\"sk-item\"><div class=\"sk-estimator sk-toggleable\"><input class=\"sk-toggleable__control sk-hidden--visually\" id=\"0cbb893c-2171-4288-b188-1e9b4555420b\" type=\"checkbox\" ><label for=\"0cbb893c-2171-4288-b188-1e9b4555420b\" class=\"sk-toggleable__label sk-toggleable__label-arrow\">StandardScaler</label><div class=\"sk-toggleable__content\"><pre>StandardScaler()</pre></div></div></div></div></div></div><div class=\"sk-parallel-item\"><div class=\"sk-item\"><div class=\"sk-label-container\"><div class=\"sk-label sk-toggleable\"><label>functiontransformer</label></div></div><div class=\"sk-serial\"><div class=\"sk-item\"><div class=\"sk-estimator sk-toggleable\"><input class=\"sk-toggleable__control sk-hidden--visually\" id=\"e35a7906-9981-4ce1-b928-1537f9bb73ba\" type=\"checkbox\" ><label for=\"e35a7906-9981-4ce1-b928-1537f9bb73ba\" class=\"sk-toggleable__label sk-toggleable__label-arrow\">FunctionTransformer</label><div class=\"sk-toggleable__content\"><pre>FunctionTransformer(func=&lt;function &lt;lambda&gt; at 0x7f37de27fc10&gt;)</pre></div></div></div></div></div></div></div></div></div></div>"
      ],
      "text/plain": [
       "FeatureUnion(transformer_list=[('standardscaler', StandardScaler()),\n",
       "                               ('functiontransformer',\n",
       "                                FunctionTransformer(func=<function <lambda> at 0x7f37de27fc10>))])"
      ]
     },
     "execution_count": 3,
     "metadata": {},
     "output_type": "execute_result"
    }
   ],
   "source": [
    "pipeline.fit(X_train)"
   ]
  },
  {
   "cell_type": "code",
   "execution_count": 4,
   "metadata": {},
   "outputs": [
    {
     "data": {
      "text/html": [
       "<div>\n",
       "<style scoped>\n",
       "    .dataframe tbody tr th:only-of-type {\n",
       "        vertical-align: middle;\n",
       "    }\n",
       "\n",
       "    .dataframe tbody tr th {\n",
       "        vertical-align: top;\n",
       "    }\n",
       "\n",
       "    .dataframe thead th {\n",
       "        text-align: right;\n",
       "    }\n",
       "</style>\n",
       "<table border=\"1\" class=\"dataframe\">\n",
       "  <thead>\n",
       "    <tr style=\"text-align: right;\">\n",
       "      <th></th>\n",
       "      <th>0</th>\n",
       "      <th>1</th>\n",
       "      <th>2</th>\n",
       "      <th>3</th>\n",
       "    </tr>\n",
       "  </thead>\n",
       "  <tbody>\n",
       "    <tr>\n",
       "      <th>0</th>\n",
       "      <td>-1.224745</td>\n",
       "      <td>-1.224745</td>\n",
       "      <td>-1.224745</td>\n",
       "      <td>4.0</td>\n",
       "    </tr>\n",
       "    <tr>\n",
       "      <th>1</th>\n",
       "      <td>0.000000</td>\n",
       "      <td>0.000000</td>\n",
       "      <td>0.000000</td>\n",
       "      <td>5.0</td>\n",
       "    </tr>\n",
       "    <tr>\n",
       "      <th>2</th>\n",
       "      <td>1.224745</td>\n",
       "      <td>1.224745</td>\n",
       "      <td>1.224745</td>\n",
       "      <td>6.0</td>\n",
       "    </tr>\n",
       "  </tbody>\n",
       "</table>\n",
       "</div>"
      ],
      "text/plain": [
       "          0         1         2    3\n",
       "0 -1.224745 -1.224745 -1.224745  4.0\n",
       "1  0.000000  0.000000  0.000000  5.0\n",
       "2  1.224745  1.224745  1.224745  6.0"
      ]
     },
     "execution_count": 4,
     "metadata": {},
     "output_type": "execute_result"
    }
   ],
   "source": [
    "X_train_transformed = pd.DataFrame(pipeline.transform(X_train))\n",
    "X_train_transformed"
   ]
  },
  {
   "cell_type": "code",
   "execution_count": 5,
   "metadata": {},
   "outputs": [
    {
     "data": {
      "text/html": [
       "<div>\n",
       "<style scoped>\n",
       "    .dataframe tbody tr th:only-of-type {\n",
       "        vertical-align: middle;\n",
       "    }\n",
       "\n",
       "    .dataframe tbody tr th {\n",
       "        vertical-align: top;\n",
       "    }\n",
       "\n",
       "    .dataframe thead th {\n",
       "        text-align: right;\n",
       "    }\n",
       "</style>\n",
       "<table border=\"1\" class=\"dataframe\">\n",
       "  <thead>\n",
       "    <tr style=\"text-align: right;\">\n",
       "      <th></th>\n",
       "      <th>0</th>\n",
       "      <th>1</th>\n",
       "      <th>2</th>\n",
       "      <th>3</th>\n",
       "    </tr>\n",
       "  </thead>\n",
       "  <tbody>\n",
       "    <tr>\n",
       "      <th>0</th>\n",
       "      <td>-1.224745</td>\n",
       "      <td>-3.674235</td>\n",
       "      <td>-6.123724</td>\n",
       "      <td>2.000000</td>\n",
       "    </tr>\n",
       "    <tr>\n",
       "      <th>1</th>\n",
       "      <td>0.000000</td>\n",
       "      <td>-2.449490</td>\n",
       "      <td>-4.898979</td>\n",
       "      <td>3.000000</td>\n",
       "    </tr>\n",
       "    <tr>\n",
       "      <th>2</th>\n",
       "      <td>1.224745</td>\n",
       "      <td>-1.224745</td>\n",
       "      <td>2.449490</td>\n",
       "      <td>5.666667</td>\n",
       "    </tr>\n",
       "  </tbody>\n",
       "</table>\n",
       "</div>"
      ],
      "text/plain": [
       "          0         1         2         3\n",
       "0 -1.224745 -3.674235 -6.123724  2.000000\n",
       "1  0.000000 -2.449490 -4.898979  3.000000\n",
       "2  1.224745 -1.224745  2.449490  5.666667"
      ]
     },
     "execution_count": 5,
     "metadata": {},
     "output_type": "execute_result"
    }
   ],
   "source": [
    "X_test_transformed = pd.DataFrame(pipeline.transform(X_test))\n",
    "X_test_transformed"
   ]
  },
  {
   "cell_type": "markdown",
   "metadata": {},
   "source": [
    "👨🏻‍🏫 Notice how the `StandardScaler` and the `FunctionTransformer` are fundamentally different ❗️\n",
    "\n",
    "When we fitted the pipeline and used it to transform the training set and test set:\n",
    "\n",
    "* **`FunctionTransformer (feature_averager)`**:\n",
    "    * did _not_ \"learn\" anything during the *.fit()*\n",
    "    * just performed a **stateless transformation**: $ \\large (X_1, X_2, X_3) \\rightarrow \\frac{(X_1 + X_2 + X_3)}{3}$\n",
    "\n",
    "\n",
    "* **`StandardScaler`**:\n",
    "    * \"learned\" $\\mu_{\\color{blue}{train}}$ and $\\sigma\n",
    "   _{\\color{blue}{train}}$ during the *.fit()*\n",
    "    * performed a **stateful stransformation** using these learned values both in the train set and the test set:\n",
    "        * $ \\large X_{\\color{blue}{train-scaled}} =  \\frac{X_{\\color{blue}{train}} -\\mu_{\\color{blue}{train}}}{\\sigma_{\\color{blue}{train}}}$\n",
    "        * $ \\large X_{\\color{red}{test-scaled}} =  \\frac{X_{\\color{red}{test}} -\\mu_{\\color{blue}{train}}}{\\sigma_{\\color{blue}{train}}}$"
   ]
  },
  {
   "cell_type": "markdown",
   "metadata": {},
   "source": [
    "## (2) 💻 Create your own state-full transformer"
   ]
  },
  {
   "cell_type": "markdown",
   "metadata": {},
   "source": [
    "🤔 What if we would like to code our own **stateful custom transformer** ? \n",
    "\n",
    "💪 We could code our own class !"
   ]
  },
  {
   "cell_type": "markdown",
   "metadata": {},
   "source": [
    "### (2.1) 💻 Custom Standardizer"
   ]
  },
  {
   "cell_type": "markdown",
   "metadata": {
    "slideshow": {
     "slide_type": "subslide"
    }
   },
   "source": [
    "❓ **Questions: Coding your own class** ❓\n",
    "\n",
    "1. Code your own class `CustomStandardizer` \n",
    "    * It should behave exactly like the  `StandardScaler` from Scikit Learn, this means having:\n",
    "        * a `.fit()` method which computes (\"learns\") $\\mu_{\\color{blue}{train}}$ and $\\sigma\n",
    "   _{\\color{blue}{train}}$\n",
    "        * and a `.transform()` method.\n",
    "\n",
    "\n",
    "2. Fit it on `X_train` \n",
    "\n",
    "3. Transform both `X_train` and `X_test` \n",
    "\n",
    "4. Compare your `CustomStandardizer` with the `StandardScaler` from Scikit Learn to make sure you got it right !"
   ]
  },
  {
   "cell_type": "code",
   "execution_count": 6,
   "metadata": {},
   "outputs": [],
   "source": [
    "#########################################\n",
    "# 1 - Code the CustomStandardizer Class #\n",
    "#########################################\n",
    "\n",
    "# TransformerMixin inheritance is used to create fit_transform() method from fit() and transform()\n",
    "from sklearn.base import TransformerMixin, BaseEstimator\n",
    "import numpy as np\n",
    "\n",
    "\n",
    "class CustomStandardizer(TransformerMixin, BaseEstimator):\n",
    "    \n",
    "    def __init__(self):\n",
    "        pass\n",
    "    \n",
    "    def fit(self, X, y=None):\n",
    "        '''\n",
    "        Stores what needs to be stored as instance attributes. \n",
    "        ReturnS \"self\" to allow chaining fit and transform.\n",
    "        '''\n",
    "        self.mean = X.mean()\n",
    "        self.std = X.std(ddof=0)\n",
    "        return self\n",
    "    \n",
    "    def transform(self, X, y=None):\n",
    "        return (X - self.mean) / self.std\n",
    "        \n",
    "    def inverse_transform(self, X, y=None):\n",
    "        return self.std * X + self.mean\n",
    "    "
   ]
  },
  {
   "cell_type": "code",
   "execution_count": 7,
   "metadata": {},
   "outputs": [
    {
     "data": {
      "text/html": [
       "<style>#sk-d3f23586-ca95-4d34-9234-10aedf00bc8c {color: black;background-color: white;}#sk-d3f23586-ca95-4d34-9234-10aedf00bc8c pre{padding: 0;}#sk-d3f23586-ca95-4d34-9234-10aedf00bc8c div.sk-toggleable {background-color: white;}#sk-d3f23586-ca95-4d34-9234-10aedf00bc8c label.sk-toggleable__label {cursor: pointer;display: block;width: 100%;margin-bottom: 0;padding: 0.3em;box-sizing: border-box;text-align: center;}#sk-d3f23586-ca95-4d34-9234-10aedf00bc8c label.sk-toggleable__label-arrow:before {content: \"▸\";float: left;margin-right: 0.25em;color: #696969;}#sk-d3f23586-ca95-4d34-9234-10aedf00bc8c label.sk-toggleable__label-arrow:hover:before {color: black;}#sk-d3f23586-ca95-4d34-9234-10aedf00bc8c div.sk-estimator:hover label.sk-toggleable__label-arrow:before {color: black;}#sk-d3f23586-ca95-4d34-9234-10aedf00bc8c div.sk-toggleable__content {max-height: 0;max-width: 0;overflow: hidden;text-align: left;background-color: #f0f8ff;}#sk-d3f23586-ca95-4d34-9234-10aedf00bc8c div.sk-toggleable__content pre {margin: 0.2em;color: black;border-radius: 0.25em;background-color: #f0f8ff;}#sk-d3f23586-ca95-4d34-9234-10aedf00bc8c input.sk-toggleable__control:checked~div.sk-toggleable__content {max-height: 200px;max-width: 100%;overflow: auto;}#sk-d3f23586-ca95-4d34-9234-10aedf00bc8c input.sk-toggleable__control:checked~label.sk-toggleable__label-arrow:before {content: \"▾\";}#sk-d3f23586-ca95-4d34-9234-10aedf00bc8c div.sk-estimator input.sk-toggleable__control:checked~label.sk-toggleable__label {background-color: #d4ebff;}#sk-d3f23586-ca95-4d34-9234-10aedf00bc8c div.sk-label input.sk-toggleable__control:checked~label.sk-toggleable__label {background-color: #d4ebff;}#sk-d3f23586-ca95-4d34-9234-10aedf00bc8c input.sk-hidden--visually {border: 0;clip: rect(1px 1px 1px 1px);clip: rect(1px, 1px, 1px, 1px);height: 1px;margin: -1px;overflow: hidden;padding: 0;position: absolute;width: 1px;}#sk-d3f23586-ca95-4d34-9234-10aedf00bc8c div.sk-estimator {font-family: monospace;background-color: #f0f8ff;border: 1px dotted black;border-radius: 0.25em;box-sizing: border-box;margin-bottom: 0.5em;}#sk-d3f23586-ca95-4d34-9234-10aedf00bc8c div.sk-estimator:hover {background-color: #d4ebff;}#sk-d3f23586-ca95-4d34-9234-10aedf00bc8c div.sk-parallel-item::after {content: \"\";width: 100%;border-bottom: 1px solid gray;flex-grow: 1;}#sk-d3f23586-ca95-4d34-9234-10aedf00bc8c div.sk-label:hover label.sk-toggleable__label {background-color: #d4ebff;}#sk-d3f23586-ca95-4d34-9234-10aedf00bc8c div.sk-serial::before {content: \"\";position: absolute;border-left: 1px solid gray;box-sizing: border-box;top: 2em;bottom: 0;left: 50%;}#sk-d3f23586-ca95-4d34-9234-10aedf00bc8c div.sk-serial {display: flex;flex-direction: column;align-items: center;background-color: white;padding-right: 0.2em;padding-left: 0.2em;}#sk-d3f23586-ca95-4d34-9234-10aedf00bc8c div.sk-item {z-index: 1;}#sk-d3f23586-ca95-4d34-9234-10aedf00bc8c div.sk-parallel {display: flex;align-items: stretch;justify-content: center;background-color: white;}#sk-d3f23586-ca95-4d34-9234-10aedf00bc8c div.sk-parallel::before {content: \"\";position: absolute;border-left: 1px solid gray;box-sizing: border-box;top: 2em;bottom: 0;left: 50%;}#sk-d3f23586-ca95-4d34-9234-10aedf00bc8c div.sk-parallel-item {display: flex;flex-direction: column;position: relative;background-color: white;}#sk-d3f23586-ca95-4d34-9234-10aedf00bc8c div.sk-parallel-item:first-child::after {align-self: flex-end;width: 50%;}#sk-d3f23586-ca95-4d34-9234-10aedf00bc8c div.sk-parallel-item:last-child::after {align-self: flex-start;width: 50%;}#sk-d3f23586-ca95-4d34-9234-10aedf00bc8c div.sk-parallel-item:only-child::after {width: 0;}#sk-d3f23586-ca95-4d34-9234-10aedf00bc8c div.sk-dashed-wrapped {border: 1px dashed gray;margin: 0 0.4em 0.5em 0.4em;box-sizing: border-box;padding-bottom: 0.4em;background-color: white;position: relative;}#sk-d3f23586-ca95-4d34-9234-10aedf00bc8c div.sk-label label {font-family: monospace;font-weight: bold;background-color: white;display: inline-block;line-height: 1.2em;}#sk-d3f23586-ca95-4d34-9234-10aedf00bc8c div.sk-label-container {position: relative;z-index: 2;text-align: center;}#sk-d3f23586-ca95-4d34-9234-10aedf00bc8c div.sk-container {/* jupyter's `normalize.less` sets `[hidden] { display: none; }` but bootstrap.min.css set `[hidden] { display: none !important; }` so we also need the `!important` here to be able to override the default hidden behavior on the sphinx rendered scikit-learn.org. See: https://github.com/scikit-learn/scikit-learn/issues/21755 */display: inline-block !important;position: relative;}#sk-d3f23586-ca95-4d34-9234-10aedf00bc8c div.sk-text-repr-fallback {display: none;}</style><div id=\"sk-d3f23586-ca95-4d34-9234-10aedf00bc8c\" class=\"sk-top-container\"><div class=\"sk-text-repr-fallback\"><pre>CustomStandardizer()</pre><b>Please rerun this cell to show the HTML repr or trust the notebook.</b></div><div class=\"sk-container\" hidden><div class=\"sk-item\"><div class=\"sk-estimator sk-toggleable\"><input class=\"sk-toggleable__control sk-hidden--visually\" id=\"7fb5f9d0-afe0-4861-8838-42cde7b80e76\" type=\"checkbox\" checked><label for=\"7fb5f9d0-afe0-4861-8838-42cde7b80e76\" class=\"sk-toggleable__label sk-toggleable__label-arrow\">CustomStandardizer</label><div class=\"sk-toggleable__content\"><pre>CustomStandardizer()</pre></div></div></div></div></div>"
      ],
      "text/plain": [
       "CustomStandardizer()"
      ]
     },
     "execution_count": 7,
     "metadata": {},
     "output_type": "execute_result"
    }
   ],
   "source": [
    "#########################################\n",
    "# 2 - Fit the CustomStandardizer Class  #\n",
    "#########################################\n",
    "\n",
    "custom_standardizer = CustomStandardizer()\n",
    "custom_standardizer.fit(X_train)"
   ]
  },
  {
   "cell_type": "code",
   "execution_count": 8,
   "metadata": {},
   "outputs": [],
   "source": [
    "#########################################\n",
    "# 3 - Transform                         #\n",
    "#########################################\n",
    "\n",
    "train = custom_standardizer.transform(X_train)\n",
    "test = custom_standardizer.transform(X_test)\n"
   ]
  },
  {
   "cell_type": "markdown",
   "metadata": {},
   "source": [
    "🧪 **Test your code**"
   ]
  },
  {
   "cell_type": "code",
   "execution_count": 9,
   "metadata": {},
   "outputs": [
    {
     "name": "stdout",
     "output_type": "stream",
     "text": [
      "\u001b[1m============================= test session starts ==============================\u001b[0m\n",
      "platform linux -- Python 3.8.12, pytest-6.2.5, py-1.11.0, pluggy-1.0.0 -- /home/bitazaratustra/.pyenv/versions/lewagon/bin/python3\n",
      "cachedir: .pytest_cache\n",
      "rootdir: /home/bitazaratustra/code/bitazaratustra/data-challenges/05-ML/08-Workflow/05-Hand-Made-Standardizer\n",
      "plugins: anyio-3.4.0\n",
      "\u001b[1mcollecting ... \u001b[0mcollected 1 item\n",
      "\n",
      "tests/test_standardizer.py::TestStandardizer::test_solution \u001b[32mPASSED\u001b[0m\u001b[32m       [100%]\u001b[0m\n",
      "\n",
      "\u001b[32m============================== \u001b[32m\u001b[1m1 passed\u001b[0m\u001b[32m in 0.14s\u001b[0m\u001b[32m ===============================\u001b[0m\n",
      "\n",
      "\n",
      "💯 You can commit your code:\n",
      "\n",
      "\u001b[1;32mgit\u001b[39m add tests/standardizer.pickle\n",
      "\n",
      "\u001b[32mgit\u001b[39m commit -m \u001b[33m'Completed standardizer step'\u001b[39m\n",
      "\n",
      "\u001b[32mgit\u001b[39m push origin master\n"
     ]
    }
   ],
   "source": [
    "from nbresult import ChallengeResult\n",
    "\n",
    "tmp = CustomStandardizer()\n",
    "tmp_train = np.array(tmp.fit_transform(X_train))\n",
    "tmp_test = np.array(tmp.transform(X_test))\n",
    "\n",
    "result = ChallengeResult('standardizer', \n",
    "                         X_train_transformed=tmp_train,\n",
    "                         X_test_transformed=tmp_test\n",
    ")\n",
    "\n",
    "result.write()\n",
    "print(result.check())"
   ]
  },
  {
   "cell_type": "markdown",
   "metadata": {},
   "source": [
    "<details>\n",
    "<summary>💡 <i>Hints</i> (🧪 if the tests  above fail only by a small margin) </summary>\n",
    "\n",
    "* Be careful there is a slight difference between `np.std()` and `pd.std` methods! \n",
    "    \n",
    "* This [Stackoverflow post](https://stackoverflow.com/questions/44220290/sklearn-standardscaler-result-different-to-manual-result) might help 😉\n",
    "      \n",
    "</details>"
   ]
  },
  {
   "cell_type": "markdown",
   "metadata": {},
   "source": [
    "### (2.2) 💻 Inverse Transform"
   ]
  },
  {
   "cell_type": "markdown",
   "metadata": {},
   "source": [
    "❓ **Question (Inverse Transform)** ❓\n",
    "\n",
    "_StandardScaler_ from Scikit Learn has a [`.inverse_transform()`](https://scikit-learn.org/stable/modules/generated/sklearn.preprocessing.StandardScaler.html#sklearn.preprocessing.StandardScaler.inverse_transform) method that helps you revert back to the unscaled dataset.\n",
    "\n",
    "1. Go back to your `CustomStandardizer` class and implement your own `.inverse_transform()` method.\n",
    "\n",
    "2. Try it on your scaled training set and your scaled test set."
   ]
  },
  {
   "cell_type": "code",
   "execution_count": 11,
   "metadata": {},
   "outputs": [
    {
     "name": "stdout",
     "output_type": "stream",
     "text": [
      "     A    B    C\n",
      "0  1.0  4.0  7.0\n",
      "1  2.0  5.0  8.0\n",
      "2  3.0  6.0  9.0\n",
      "          A         B         C\n",
      "0 -1.224745 -1.224745 -1.224745\n",
      "1  0.000000  0.000000  0.000000\n",
      "2  1.224745  1.224745  1.224745\n"
     ]
    }
   ],
   "source": [
    "# YOUR CODE HERE\n",
    "print(X_train_detransformed)\n",
    "print(train)"
   ]
  },
  {
   "cell_type": "code",
   "execution_count": 12,
   "metadata": {},
   "outputs": [],
   "source": [
    "# Try your inverse transform and run the test down below to make sure you coded it correctly\n",
    "X_train_detransformed = custom_standardizer.inverse_transform(train)\n",
    "X_test_detransformed = custom_standardizer.inverse_transform(test)"
   ]
  },
  {
   "cell_type": "markdown",
   "metadata": {},
   "source": [
    "🧪 **Test your code**"
   ]
  },
  {
   "cell_type": "code",
   "execution_count": 13,
   "metadata": {},
   "outputs": [],
   "source": [
    "assert np.allclose(X_train_detransformed, X_train)\n",
    "assert np.allclose(X_test_detransformed, X_test)"
   ]
  },
  {
   "cell_type": "markdown",
   "metadata": {},
   "source": [
    "### (2.3) 💻 Complete custom pipeline!"
   ]
  },
  {
   "cell_type": "markdown",
   "metadata": {},
   "source": [
    "💪 We've managed to replicate Scikit-Learn's `StandardScaler`.\n",
    "\n",
    "🌶 Let's spice it up!"
   ]
  },
  {
   "cell_type": "markdown",
   "metadata": {},
   "source": [
    "❓ **Question: improve the previous `CustomStandardizer` custom transformer with a shrinking factor** ❓\n",
    "\n",
    "\n",
    "The `CustomStandardizer(shrink_factor = 1)` class should take one additional argument to perform a stronger scaling, in a sense that the scaling is proportional to $\\sigma_{\\color{blue}{train}}$ 👇:\n",
    "- $ \\large X_{\\color{blue}{train-scaled}} =  (\\frac{X_{\\color{blue}{train}} -\\mu_{\\color{blue}{train}}}{\\sigma_{\\color{blue}{train}}}) \\times \\frac{1}{shrinkfactor}$\n",
    "- $ \\large X_{\\color{red}{test-scaled}} =  (\\frac{X_{\\color{red}{test}} -\\mu_{\\color{blue}{train}}}{\\sigma_{\\color{blue}{train}}}) \\times \\frac{1}{shrinkfactor}$\n"
   ]
  },
  {
   "cell_type": "code",
   "execution_count": 14,
   "metadata": {},
   "outputs": [],
   "source": [
    "###################################\n",
    "# Custom Standardizer             #\n",
    "###################################\n",
    "\n",
    "\n",
    "\n",
    "class CustomStandardizer(TransformerMixin, BaseEstimator):\n",
    "    \n",
    "    def __init__(self, shrink_factor = 1):\n",
    "        self.shrink_factor = shrink_factor\n",
    "    \n",
    "    def fit(self, X, y=None):\n",
    "        '''\n",
    "        Stores what needs to be stored as instance attributes. \n",
    "        Returns \"self\" to allow chaining fit and transform.\n",
    "        '''\n",
    "        self.mean = X.mean()\n",
    "        self.std = X.std(ddof=0)\n",
    "        return self\n",
    "    \n",
    "    def transform(self, X, y=None): \n",
    "        return ((X - self.mean) / self.std) / self.shrink_factor\n",
    "    def inverse_transform(self, X, y=None):\n",
    "        return self.std * X * slf.shrink_factor + self.mean"
   ]
  },
  {
   "cell_type": "markdown",
   "metadata": {},
   "source": [
    "🧪 **Test you new `CustomStandardizer`** custom transformer with (`shrink_factor = 2`) by fitting on `X_train` and transforming both `X_train` and `X_test` and store the transformed dataframes into `X_train_transformed` and `X_test_transformed`"
   ]
  },
  {
   "cell_type": "code",
   "execution_count": 15,
   "metadata": {
    "tags": [
     "challengify"
    ]
   },
   "outputs": [],
   "source": [
    "# YOUR CODE HERE\n",
    "custom_scaler = CustomStandardizer(shrink_factor=2).fit(X_train)\n",
    "X_train_transformed = custom_scaler.transform(X_train)\n",
    "\n",
    "X_test_transformed = custom_scaler.transform(X_test)"
   ]
  },
  {
   "cell_type": "markdown",
   "metadata": {},
   "source": [
    "🧪 **Test your code**"
   ]
  },
  {
   "cell_type": "code",
   "execution_count": 16,
   "metadata": {},
   "outputs": [
    {
     "name": "stdout",
     "output_type": "stream",
     "text": [
      "\u001b[1m============================= test session starts ==============================\u001b[0m\n",
      "platform linux -- Python 3.8.12, pytest-6.2.5, py-1.11.0, pluggy-1.0.0 -- /home/bitazaratustra/.pyenv/versions/lewagon/bin/python3\n",
      "cachedir: .pytest_cache\n",
      "rootdir: /home/bitazaratustra/code/bitazaratustra/data-challenges/05-ML/08-Workflow/05-Hand-Made-Standardizer\n",
      "plugins: anyio-3.4.0\n",
      "\u001b[1mcollecting ... \u001b[0mcollected 1 item\n",
      "\n",
      "tests/test_new_standardizer.py::TestNewStandardizer::test_solution \u001b[32mPASSED\u001b[0m\u001b[32m [100%]\u001b[0m\n",
      "\n",
      "\u001b[32m============================== \u001b[32m\u001b[1m1 passed\u001b[0m\u001b[32m in 0.15s\u001b[0m\u001b[32m ===============================\u001b[0m\n",
      "\n",
      "\n",
      "💯 You can commit your code:\n",
      "\n",
      "\u001b[1;32mgit\u001b[39m add tests/new_standardizer.pickle\n",
      "\n",
      "\u001b[32mgit\u001b[39m commit -m \u001b[33m'Completed new_standardizer step'\u001b[39m\n",
      "\n",
      "\u001b[32mgit\u001b[39m push origin master\n"
     ]
    }
   ],
   "source": [
    "from nbresult import ChallengeResult\n",
    "\n",
    "tmp = CustomStandardizer(shrink_factor=2).fit(X_train)\n",
    "tmp_train = np.array(tmp.fit_transform(X_train))\n",
    "tmp_test = np.array(tmp.transform(X_test))\n",
    "\n",
    "result = ChallengeResult('new_standardizer', \n",
    "                         X_train_transformed=tmp_train,\n",
    "                         X_test_transformed=tmp_test\n",
    ")\n",
    "\n",
    "result.write()\n",
    "print(result.check())"
   ]
  },
  {
   "cell_type": "code",
   "execution_count": 17,
   "metadata": {},
   "outputs": [],
   "source": [
    " #Run the following cells to ensure you got the right transformations \n",
    " truth_train = np.array([\n",
    "     [-0.612372, -0.612372, -0.612372],\n",
    "     [0.000000, 0.000000, 0.000000],\n",
    "     [0.612372, 0.612372, 0.612372]\n",
    " ])\n",
    " truth_test = np.array([\n",
    "     [-0.612372, -1.837117, -3.061862],\n",
    "     [ 0.        , -1.224745, -2.449490],\n",
    "     [ 0.612372, -0.612372,  1.224745]])"
   ]
  },
  {
   "cell_type": "code",
   "execution_count": 18,
   "metadata": {},
   "outputs": [
    {
     "data": {
      "text/plain": [
       "True"
      ]
     },
     "execution_count": 18,
     "metadata": {},
     "output_type": "execute_result"
    }
   ],
   "source": [
    "#Asserts\n",
    "np.allclose(X_train_transformed, truth_train)"
   ]
  },
  {
   "cell_type": "code",
   "execution_count": 19,
   "metadata": {},
   "outputs": [
    {
     "data": {
      "text/plain": [
       "True"
      ]
     },
     "execution_count": 19,
     "metadata": {},
     "output_type": "execute_result"
    }
   ],
   "source": [
    "#Assert - Test\n",
    "np.allclose(X_test_transformed, truth_test)"
   ]
  },
  {
   "cell_type": "markdown",
   "metadata": {},
   "source": [
    "❓ **Question: \"tweak\" the previous `FeatureAverager` custom transformer** ❓\n",
    "\n",
    "This modified `FeatureAverager()` class:\n",
    "- still computes the average of the three different features...\n",
    "- ...and now divides the result by the maximum value for each row \n",
    "    - _Note: don't try to interpret this operation, let's just be creative and practice our skills coding a custom class :)_\n",
    "\n",
    "$$(X_1, X_2, X_3) \\rightarrow \\frac{1/3 \\times (X_1 + X_2 + X_3)}{max(X_1, X_2, X_3)}$$\n"
   ]
  },
  {
   "cell_type": "code",
   "execution_count": 20,
   "metadata": {},
   "outputs": [],
   "source": [
    "###################################\n",
    "# Feature Averager                #\n",
    "###################################\n",
    "\n",
    "class FeatureAverager(TransformerMixin, BaseEstimator):\n",
    "    \n",
    "    def __init__(self):\n",
    "        pass\n",
    "    \n",
    "    def fit(self, X, y=None):\n",
    "        '''\n",
    "        Stores what needs to be stored as instance attributes. \n",
    "        Returns \"self\" to allow chaining fit and transform.\n",
    "        '''\n",
    "        return self\n",
    "    \n",
    "    def transform(self, X, y=None): \n",
    "        features_sum = X['A'] + X['B'] + X['C']\n",
    "        max_factor = np.max(X, axis = \"columns\")\n",
    "        feature_averager = (1/3 * features_sum) / max_factor\n",
    "        return pd.DataFrame(feature_averager)\n",
    "    "
   ]
  },
  {
   "cell_type": "markdown",
   "metadata": {},
   "source": [
    "🧪 **Test you `FeatureAverager` custom transformer** by fitting on `X_train`  and transforming both `X_train` and `X_test`"
   ]
  },
  {
   "cell_type": "code",
   "execution_count": 21,
   "metadata": {},
   "outputs": [],
   "source": [
    "custom_feature_averager = FeatureAverager().fit(X_train)\n",
    "\n",
    "X_train_tranformed = custom_feature_averager.transform(X_train)\n",
    "X_test_transformed = custom_feature_averager.transform(X_test)"
   ]
  },
  {
   "cell_type": "code",
   "execution_count": 22,
   "metadata": {},
   "outputs": [
    {
     "name": "stdout",
     "output_type": "stream",
     "text": [
      "\u001b[1m============================= test session starts ==============================\u001b[0m\n",
      "platform linux -- Python 3.8.12, pytest-6.2.5, py-1.11.0, pluggy-1.0.0 -- /home/bitazaratustra/.pyenv/versions/lewagon/bin/python3\n",
      "cachedir: .pytest_cache\n",
      "rootdir: /home/bitazaratustra/code/bitazaratustra/data-challenges/05-ML/08-Workflow/05-Hand-Made-Standardizer\n",
      "plugins: anyio-3.4.0\n",
      "\u001b[1mcollecting ... \u001b[0mcollected 1 item\n",
      "\n",
      "tests/test_feature_averager.py::TestFeatureAverager::test_solution \u001b[32mPASSED\u001b[0m\u001b[32m [100%]\u001b[0m\n",
      "\n",
      "\u001b[32m============================== \u001b[32m\u001b[1m1 passed\u001b[0m\u001b[32m in 0.16s\u001b[0m\u001b[32m ===============================\u001b[0m\n",
      "\n",
      "\n",
      "💯 You can commit your code:\n",
      "\n",
      "\u001b[1;32mgit\u001b[39m add tests/feature_averager.pickle\n",
      "\n",
      "\u001b[32mgit\u001b[39m commit -m \u001b[33m'Completed feature_averager step'\u001b[39m\n",
      "\n",
      "\u001b[32mgit\u001b[39m push origin master\n"
     ]
    }
   ],
   "source": [
    "from nbresult import ChallengeResult\n",
    "\n",
    "tmp = FeatureAverager()\n",
    "tmp_train = np.array(tmp.fit_transform(X_train))\n",
    "tmp_test = np.array(tmp.transform(X_test))\n",
    "\n",
    "result = ChallengeResult('feature_averager', \n",
    "                         X_train_transformed=tmp_train,\n",
    "                         X_test_transformed=tmp_test\n",
    ")\n",
    "\n",
    "result.write()\n",
    "print(result.check())"
   ]
  },
  {
   "cell_type": "markdown",
   "metadata": {},
   "source": [
    "❓ **Question (Feature Union)**❓\n",
    "\n",
    "1. Use both `CustomStandardizer` and `FeatureAverager` to create a `FeatureUnion` pipeline.\n",
    "\n",
    "2. Fit the pipeline to `X_train` and transform both `X_train` and `X_test` (`shrink_factor = 3`)\n",
    "\n",
    "3. Make sure you pass the final test of this challenge."
   ]
  },
  {
   "cell_type": "code",
   "execution_count": 23,
   "metadata": {},
   "outputs": [
    {
     "data": {
      "text/html": [
       "<style>#sk-a56c4b8c-0924-4efc-8887-175d8850f8ec {color: black;background-color: white;}#sk-a56c4b8c-0924-4efc-8887-175d8850f8ec pre{padding: 0;}#sk-a56c4b8c-0924-4efc-8887-175d8850f8ec div.sk-toggleable {background-color: white;}#sk-a56c4b8c-0924-4efc-8887-175d8850f8ec label.sk-toggleable__label {cursor: pointer;display: block;width: 100%;margin-bottom: 0;padding: 0.3em;box-sizing: border-box;text-align: center;}#sk-a56c4b8c-0924-4efc-8887-175d8850f8ec label.sk-toggleable__label-arrow:before {content: \"▸\";float: left;margin-right: 0.25em;color: #696969;}#sk-a56c4b8c-0924-4efc-8887-175d8850f8ec label.sk-toggleable__label-arrow:hover:before {color: black;}#sk-a56c4b8c-0924-4efc-8887-175d8850f8ec div.sk-estimator:hover label.sk-toggleable__label-arrow:before {color: black;}#sk-a56c4b8c-0924-4efc-8887-175d8850f8ec div.sk-toggleable__content {max-height: 0;max-width: 0;overflow: hidden;text-align: left;background-color: #f0f8ff;}#sk-a56c4b8c-0924-4efc-8887-175d8850f8ec div.sk-toggleable__content pre {margin: 0.2em;color: black;border-radius: 0.25em;background-color: #f0f8ff;}#sk-a56c4b8c-0924-4efc-8887-175d8850f8ec input.sk-toggleable__control:checked~div.sk-toggleable__content {max-height: 200px;max-width: 100%;overflow: auto;}#sk-a56c4b8c-0924-4efc-8887-175d8850f8ec input.sk-toggleable__control:checked~label.sk-toggleable__label-arrow:before {content: \"▾\";}#sk-a56c4b8c-0924-4efc-8887-175d8850f8ec div.sk-estimator input.sk-toggleable__control:checked~label.sk-toggleable__label {background-color: #d4ebff;}#sk-a56c4b8c-0924-4efc-8887-175d8850f8ec div.sk-label input.sk-toggleable__control:checked~label.sk-toggleable__label {background-color: #d4ebff;}#sk-a56c4b8c-0924-4efc-8887-175d8850f8ec input.sk-hidden--visually {border: 0;clip: rect(1px 1px 1px 1px);clip: rect(1px, 1px, 1px, 1px);height: 1px;margin: -1px;overflow: hidden;padding: 0;position: absolute;width: 1px;}#sk-a56c4b8c-0924-4efc-8887-175d8850f8ec div.sk-estimator {font-family: monospace;background-color: #f0f8ff;border: 1px dotted black;border-radius: 0.25em;box-sizing: border-box;margin-bottom: 0.5em;}#sk-a56c4b8c-0924-4efc-8887-175d8850f8ec div.sk-estimator:hover {background-color: #d4ebff;}#sk-a56c4b8c-0924-4efc-8887-175d8850f8ec div.sk-parallel-item::after {content: \"\";width: 100%;border-bottom: 1px solid gray;flex-grow: 1;}#sk-a56c4b8c-0924-4efc-8887-175d8850f8ec div.sk-label:hover label.sk-toggleable__label {background-color: #d4ebff;}#sk-a56c4b8c-0924-4efc-8887-175d8850f8ec div.sk-serial::before {content: \"\";position: absolute;border-left: 1px solid gray;box-sizing: border-box;top: 2em;bottom: 0;left: 50%;}#sk-a56c4b8c-0924-4efc-8887-175d8850f8ec div.sk-serial {display: flex;flex-direction: column;align-items: center;background-color: white;padding-right: 0.2em;padding-left: 0.2em;}#sk-a56c4b8c-0924-4efc-8887-175d8850f8ec div.sk-item {z-index: 1;}#sk-a56c4b8c-0924-4efc-8887-175d8850f8ec div.sk-parallel {display: flex;align-items: stretch;justify-content: center;background-color: white;}#sk-a56c4b8c-0924-4efc-8887-175d8850f8ec div.sk-parallel::before {content: \"\";position: absolute;border-left: 1px solid gray;box-sizing: border-box;top: 2em;bottom: 0;left: 50%;}#sk-a56c4b8c-0924-4efc-8887-175d8850f8ec div.sk-parallel-item {display: flex;flex-direction: column;position: relative;background-color: white;}#sk-a56c4b8c-0924-4efc-8887-175d8850f8ec div.sk-parallel-item:first-child::after {align-self: flex-end;width: 50%;}#sk-a56c4b8c-0924-4efc-8887-175d8850f8ec div.sk-parallel-item:last-child::after {align-self: flex-start;width: 50%;}#sk-a56c4b8c-0924-4efc-8887-175d8850f8ec div.sk-parallel-item:only-child::after {width: 0;}#sk-a56c4b8c-0924-4efc-8887-175d8850f8ec div.sk-dashed-wrapped {border: 1px dashed gray;margin: 0 0.4em 0.5em 0.4em;box-sizing: border-box;padding-bottom: 0.4em;background-color: white;position: relative;}#sk-a56c4b8c-0924-4efc-8887-175d8850f8ec div.sk-label label {font-family: monospace;font-weight: bold;background-color: white;display: inline-block;line-height: 1.2em;}#sk-a56c4b8c-0924-4efc-8887-175d8850f8ec div.sk-label-container {position: relative;z-index: 2;text-align: center;}#sk-a56c4b8c-0924-4efc-8887-175d8850f8ec div.sk-container {/* jupyter's `normalize.less` sets `[hidden] { display: none; }` but bootstrap.min.css set `[hidden] { display: none !important; }` so we also need the `!important` here to be able to override the default hidden behavior on the sphinx rendered scikit-learn.org. See: https://github.com/scikit-learn/scikit-learn/issues/21755 */display: inline-block !important;position: relative;}#sk-a56c4b8c-0924-4efc-8887-175d8850f8ec div.sk-text-repr-fallback {display: none;}</style><div id=\"sk-a56c4b8c-0924-4efc-8887-175d8850f8ec\" class=\"sk-top-container\"><div class=\"sk-text-repr-fallback\"><pre>FeatureUnion(transformer_list=[(&#x27;customstandardizer&#x27;,\n",
       "                                CustomStandardizer(shrink_factor=3)),\n",
       "                               (&#x27;featureaverager&#x27;, FeatureAverager())])</pre><b>Please rerun this cell to show the HTML repr or trust the notebook.</b></div><div class=\"sk-container\" hidden><div class=\"sk-item sk-dashed-wrapped\"><div class=\"sk-label-container\"><div class=\"sk-label sk-toggleable\"><input class=\"sk-toggleable__control sk-hidden--visually\" id=\"134d5650-b678-4093-9876-2f9588d1b898\" type=\"checkbox\" ><label for=\"134d5650-b678-4093-9876-2f9588d1b898\" class=\"sk-toggleable__label sk-toggleable__label-arrow\">FeatureUnion</label><div class=\"sk-toggleable__content\"><pre>FeatureUnion(transformer_list=[(&#x27;customstandardizer&#x27;,\n",
       "                                CustomStandardizer(shrink_factor=3)),\n",
       "                               (&#x27;featureaverager&#x27;, FeatureAverager())])</pre></div></div></div><div class=\"sk-parallel\"><div class=\"sk-parallel-item\"><div class=\"sk-item\"><div class=\"sk-label-container\"><div class=\"sk-label sk-toggleable\"><label>customstandardizer</label></div></div><div class=\"sk-serial\"><div class=\"sk-item\"><div class=\"sk-estimator sk-toggleable\"><input class=\"sk-toggleable__control sk-hidden--visually\" id=\"7f4b112f-dffc-42c6-8fa7-dfcbcde32460\" type=\"checkbox\" ><label for=\"7f4b112f-dffc-42c6-8fa7-dfcbcde32460\" class=\"sk-toggleable__label sk-toggleable__label-arrow\">CustomStandardizer</label><div class=\"sk-toggleable__content\"><pre>CustomStandardizer(shrink_factor=3)</pre></div></div></div></div></div></div><div class=\"sk-parallel-item\"><div class=\"sk-item\"><div class=\"sk-label-container\"><div class=\"sk-label sk-toggleable\"><label>featureaverager</label></div></div><div class=\"sk-serial\"><div class=\"sk-item\"><div class=\"sk-estimator sk-toggleable\"><input class=\"sk-toggleable__control sk-hidden--visually\" id=\"a89dd567-1066-4dcf-93e0-b3c011d6259d\" type=\"checkbox\" ><label for=\"a89dd567-1066-4dcf-93e0-b3c011d6259d\" class=\"sk-toggleable__label sk-toggleable__label-arrow\">FeatureAverager</label><div class=\"sk-toggleable__content\"><pre>FeatureAverager()</pre></div></div></div></div></div></div></div></div></div></div>"
      ],
      "text/plain": [
       "FeatureUnion(transformer_list=[('customstandardizer',\n",
       "                                CustomStandardizer(shrink_factor=3)),\n",
       "                               ('featureaverager', FeatureAverager())])"
      ]
     },
     "execution_count": 23,
     "metadata": {},
     "output_type": "execute_result"
    }
   ],
   "source": [
    "#####################\n",
    "# 1 - Feature Union #\n",
    "#####################\n",
    "\n",
    "custom_standardizer = CustomStandardizer(shrink_factor=3)\n",
    "custom_feature_averager = FeatureAverager()\n",
    "\n",
    "pipeline = make_union(custom_standardizer, custom_feature_averager)\n",
    "pipeline"
   ]
  },
  {
   "cell_type": "code",
   "execution_count": 24,
   "metadata": {},
   "outputs": [],
   "source": [
    "#########################\n",
    "# 2 - Fit and Transform #\n",
    "#########################\n",
    "\n",
    "pipeline.fit(X_train)\n",
    "\n",
    "X_train_transformed = pd.DataFrame(pipeline.transform(X_train))\n",
    "X_test_transformed = pd.DataFrame(pipeline.transform(X_test))"
   ]
  },
  {
   "cell_type": "code",
   "execution_count": 25,
   "metadata": {},
   "outputs": [
    {
     "name": "stdout",
     "output_type": "stream",
     "text": [
      "\u001b[1m============================= test session starts ==============================\u001b[0m\n",
      "platform linux -- Python 3.8.12, pytest-6.2.5, py-1.11.0, pluggy-1.0.0 -- /home/bitazaratustra/.pyenv/versions/lewagon/bin/python3\n",
      "cachedir: .pytest_cache\n",
      "rootdir: /home/bitazaratustra/code/bitazaratustra/data-challenges/05-ML/08-Workflow/05-Hand-Made-Standardizer\n",
      "plugins: anyio-3.4.0\n",
      "\u001b[1mcollecting ... \u001b[0mcollected 1 item\n",
      "\n",
      "tests/test_feature_union_custom_transformers.py::TestFeatureUnionCustomTransformers::test_solution \u001b[32mPASSED\u001b[0m\u001b[32m [100%]\u001b[0m\n",
      "\n",
      "\u001b[32m============================== \u001b[32m\u001b[1m1 passed\u001b[0m\u001b[32m in 0.15s\u001b[0m\u001b[32m ===============================\u001b[0m\n",
      "\n",
      "\n",
      "💯 You can commit your code:\n",
      "\n",
      "\u001b[1;32mgit\u001b[39m add tests/feature_union_custom_transformers.pickle\n",
      "\n",
      "\u001b[32mgit\u001b[39m commit -m \u001b[33m'Completed feature_union_custom_transformers step'\u001b[39m\n",
      "\n",
      "\u001b[32mgit\u001b[39m push origin master\n"
     ]
    }
   ],
   "source": [
    "from nbresult import ChallengeResult\n",
    "\n",
    "tmp = pipeline\n",
    "tmp_train = np.array(tmp.fit_transform(X_train))\n",
    "tmp_test = np.array(tmp.transform(X_test))\n",
    "\n",
    "\n",
    "\n",
    "result = ChallengeResult('feature_union_custom_transformers', \n",
    "                         X_train_transformed=tmp_train,\n",
    "                         X_test_transformed=tmp_test\n",
    ")\n",
    "\n",
    "result.write()\n",
    "print(result.check())"
   ]
  },
  {
   "cell_type": "markdown",
   "metadata": {},
   "source": [
    "🏁 Congratulations! You discovered how to create your own Transformer!\n",
    "\n",
    "💾 Don't forget to `git add/commit/push` your notebook...\n",
    "\n",
    "🚀 ... and move on to the next challenge!"
   ]
  },
  {
   "cell_type": "code",
   "execution_count": null,
   "metadata": {},
   "outputs": [],
   "source": []
  }
 ],
 "metadata": {
  "kernelspec": {
   "display_name": "Python 3 (ipykernel)",
   "language": "python",
   "name": "python3"
  },
  "language_info": {
   "codemirror_mode": {
    "name": "ipython",
    "version": 3
   },
   "file_extension": ".py",
   "mimetype": "text/x-python",
   "name": "python",
   "nbconvert_exporter": "python",
   "pygments_lexer": "ipython3",
   "version": "3.8.12"
  },
  "toc": {
   "base_numbering": 1,
   "nav_menu": {},
   "number_sections": true,
   "sideBar": true,
   "skip_h1_title": false,
   "title_cell": "Table of Contents",
   "title_sidebar": "Contents",
   "toc_cell": false,
   "toc_position": {},
   "toc_section_display": true,
   "toc_window_display": false
  }
 },
 "nbformat": 4,
 "nbformat_minor": 4
}
