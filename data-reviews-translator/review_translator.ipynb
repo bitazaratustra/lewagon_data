{
 "cells": [
  {
   "cell_type": "markdown",
   "metadata": {},
   "source": [
    "# (Optional) Olist reviews' - Translations...\n",
    "\n",
    "* Unless you speak 🇧🇷 Brazilian Portuguese, let's translate the `order_reviews` in 🇬🇧 English !\n",
    "\n",
    "* You will need to install  `pip install googletrans==4.0.0-rc1`"
   ]
  },
  {
   "cell_type": "markdown",
   "metadata": {},
   "source": [
    "☢️ If you have any problem with this API, don't waste time fixing it, this package is quite unstable... Keep it mind that:\n",
    "- it is an optional challenge\n",
    "- you can still do it the old way, copy-pasting some reviews in Google Translate to get a sense of what the reviews written in Brazilian Portuguese mean."
   ]
  },
  {
   "cell_type": "markdown",
   "metadata": {},
   "source": [
    "## Review Translator"
   ]
  },
  {
   "cell_type": "markdown",
   "metadata": {},
   "source": [
    "👉 Load the `reviews` and select a sample of rewiews associated to a one-star rating"
   ]
  },
  {
   "cell_type": "code",
   "execution_count": 1,
   "metadata": {},
   "outputs": [],
   "source": [
    "# Load data \n",
    "from olist.data import Olist\n",
    "data = Olist().get_data()"
   ]
  },
  {
   "cell_type": "code",
   "execution_count": 31,
   "metadata": {},
   "outputs": [
    {
     "name": "stdout",
     "output_type": "stream",
     "text": [
      "Collecting googletrans==4.0.0-rc1\n",
      "  Downloading googletrans-4.0.0rc1.tar.gz (20 kB)\n",
      "  Preparing metadata (setup.py) ... \u001b[?25ldone\n",
      "\u001b[?25hCollecting httpx==0.13.3\n",
      "  Downloading httpx-0.13.3-py3-none-any.whl (55 kB)\n",
      "\u001b[2K     \u001b[90m━━━━━━━━━━━━━━━━━━━━━━━━━━━━━━━━━━━━━━━━\u001b[0m \u001b[32m55.1/55.1 kB\u001b[0m \u001b[31m2.4 MB/s\u001b[0m eta \u001b[36m0:00:00\u001b[0m\n",
      "\u001b[?25hCollecting chardet==3.*\n",
      "  Downloading chardet-3.0.4-py2.py3-none-any.whl (133 kB)\n",
      "\u001b[2K     \u001b[90m━━━━━━━━━━━━━━━━━━━━━━━━━━━━━━━━━━━━━━━\u001b[0m \u001b[32m133.4/133.4 kB\u001b[0m \u001b[31m5.5 MB/s\u001b[0m eta \u001b[36m0:00:00\u001b[0m\n",
      "\u001b[?25hRequirement already satisfied: certifi in /Users/bita/.pyenv/versions/3.8.12/envs/lewagon_current/lib/python3.8/site-packages (from httpx==0.13.3->googletrans==4.0.0-rc1) (2022.9.24)\n",
      "Requirement already satisfied: idna==2.* in /Users/bita/.pyenv/versions/3.8.12/envs/lewagon_current/lib/python3.8/site-packages (from httpx==0.13.3->googletrans==4.0.0-rc1) (2.10)\n",
      "Collecting httpcore==0.9.*\n",
      "  Downloading httpcore-0.9.1-py3-none-any.whl (42 kB)\n",
      "\u001b[2K     \u001b[90m━━━━━━━━━━━━━━━━━━━━━━━━━━━━━━━━━━━━━━━━\u001b[0m \u001b[32m42.6/42.6 kB\u001b[0m \u001b[31m2.0 MB/s\u001b[0m eta \u001b[36m0:00:00\u001b[0m\n",
      "\u001b[?25hRequirement already satisfied: sniffio in /Users/bita/.pyenv/versions/3.8.12/envs/lewagon_current/lib/python3.8/site-packages (from httpx==0.13.3->googletrans==4.0.0-rc1) (1.3.0)\n",
      "Requirement already satisfied: rfc3986<2,>=1.3 in /Users/bita/.pyenv/versions/3.8.12/envs/lewagon_current/lib/python3.8/site-packages (from httpx==0.13.3->googletrans==4.0.0-rc1) (1.5.0)\n",
      "Collecting hstspreload\n",
      "  Downloading hstspreload-2023.1.1-py3-none-any.whl (1.5 MB)\n",
      "\u001b[2K     \u001b[90m━━━━━━━━━━━━━━━━━━━━━━━━━━━━━━━━━━━━━━━━\u001b[0m \u001b[32m1.5/1.5 MB\u001b[0m \u001b[31m12.8 MB/s\u001b[0m eta \u001b[36m0:00:00\u001b[0m00:01\u001b[0m00:01\u001b[0m\n",
      "\u001b[?25hCollecting h11<0.10,>=0.8\n",
      "  Downloading h11-0.9.0-py2.py3-none-any.whl (53 kB)\n",
      "\u001b[2K     \u001b[90m━━━━━━━━━━━━━━━━━━━━━━━━━━━━━━━━━━━━━━━━\u001b[0m \u001b[32m53.6/53.6 kB\u001b[0m \u001b[31m2.6 MB/s\u001b[0m eta \u001b[36m0:00:00\u001b[0m\n",
      "\u001b[?25hCollecting h2==3.*\n",
      "  Downloading h2-3.2.0-py2.py3-none-any.whl (65 kB)\n",
      "\u001b[2K     \u001b[90m━━━━━━━━━━━━━━━━━━━━━━━━━━━━━━━━━━━━━━━━\u001b[0m \u001b[32m65.0/65.0 kB\u001b[0m \u001b[31m3.5 MB/s\u001b[0m eta \u001b[36m0:00:00\u001b[0m\n",
      "\u001b[?25hCollecting hpack<4,>=3.0\n",
      "  Downloading hpack-3.0.0-py2.py3-none-any.whl (38 kB)\n",
      "Collecting hyperframe<6,>=5.2.0\n",
      "  Downloading hyperframe-5.2.0-py2.py3-none-any.whl (12 kB)\n",
      "Building wheels for collected packages: googletrans\n",
      "  Building wheel for googletrans (setup.py) ... \u001b[?25ldone\n",
      "\u001b[?25h  Created wheel for googletrans: filename=googletrans-4.0.0rc1-py3-none-any.whl size=17414 sha256=9972c7614efe82a79f05e6a6da21017f387689239dd7d3e41def4004f90c25f4\n",
      "  Stored in directory: /Users/bita/Library/Caches/pip/wheels/a9/25/af/715361fa79594524c89c75d293def652045f3fdce6ca398712\n",
      "Successfully built googletrans\n",
      "Installing collected packages: hyperframe, hpack, h11, chardet, hstspreload, h2, httpcore, httpx, googletrans\n",
      "  Attempting uninstall: h11\n",
      "    Found existing installation: h11 0.12.0\n",
      "    Uninstalling h11-0.12.0:\n",
      "      Successfully uninstalled h11-0.12.0\n",
      "  Attempting uninstall: chardet\n",
      "    Found existing installation: chardet 4.0.0\n",
      "    Uninstalling chardet-4.0.0:\n",
      "      Successfully uninstalled chardet-4.0.0\n",
      "  Attempting uninstall: httpcore\n",
      "    Found existing installation: httpcore 0.15.0\n",
      "    Uninstalling httpcore-0.15.0:\n",
      "      Successfully uninstalled httpcore-0.15.0\n",
      "  Attempting uninstall: httpx\n",
      "    Found existing installation: httpx 0.23.0\n",
      "    Uninstalling httpx-0.23.0:\n",
      "      Successfully uninstalled httpx-0.23.0\n",
      "Successfully installed chardet-3.0.4 googletrans-4.0.0rc1 h11-0.9.0 h2-3.2.0 hpack-3.0.0 hstspreload-2023.1.1 httpcore-0.9.1 httpx-0.13.3 hyperframe-5.2.0\n"
     ]
    }
   ],
   "source": [
    "!pip install googletrans==4.0.0-rc1"
   ]
  },
  {
   "cell_type": "markdown",
   "metadata": {},
   "source": [
    "👀 Select a sample of 20 low scores reviews (randomly) and convert it into a list."
   ]
  },
  {
   "cell_type": "code",
   "execution_count": 32,
   "metadata": {
    "tags": [
     "challengify"
    ]
   },
   "outputs": [
    {
     "data": {
      "text/plain": [
       "dict_keys(['sellers', 'product_category_name_translation', 'orders', 'order_items', 'customers', 'geolocation', 'order_payments', 'order_reviews', 'products'])"
      ]
     },
     "execution_count": 32,
     "metadata": {},
     "output_type": "execute_result"
    }
   ],
   "source": [
    "# YOUR CODE HERE\n",
    "data.keys()"
   ]
  },
  {
   "cell_type": "code",
   "execution_count": 33,
   "metadata": {},
   "outputs": [],
   "source": [
    "low_reviews_sample =\\\n",
    "    data['order_reviews'].dropna().query(\"review_score==1\").sample(20)\n",
    "\n",
    "low_reviews_sample_list=\\\n",
    "    low_reviews_sample['review_comment_message'].tolist()"
   ]
  },
  {
   "cell_type": "code",
   "execution_count": 34,
   "metadata": {},
   "outputs": [
    {
     "name": "stdout",
     "output_type": "stream",
     "text": [
      "Good morning,\n",
      "\n",
      "Even today awaiting the order.How can I evaluate?Bad? \n",
      "\n",
      "I received the wrong product, I would like to return, and I want my money back. \n",
      "\n",
      "I can't evaluate what I didn't receive \n",
      "\n",
      "It does not match the photo, it did not come with the 4 batteries as the ad and simply did not work in any of the 3 Smart televisions I have from the Samsung brand.\n",
      "Very neglect with consumer !!! \n",
      "\n",
      "The wireless keyboard came with a lack of piece that makes it impossible for connectivity with the PC and the mouse came dirty, yellowish, used aspect.I requested the return with issuance of credit voucher. \n",
      "\n",
      "Terrible \n",
      "\n",
      "Very bad carpet quality, dirty just to touch and smaller than specified. \n",
      "\n",
      "I bought two products and only delivered one. \n",
      "\n",
      "We cannot admit such a reputable network as Lannister.com to have as a partner such a company !!! \n",
      "\n",
      "It is difficult to evaluate if I have not received the product yet \n",
      "\n",
      "weak product \n",
      "\n",
      "Material not delivered on time \n",
      "\n",
      "Just a detail, the glass film is not recommended for Xperia XA1 because its screen is shaken and the film does not adhere to the margins.The recommended film is gel. \n",
      "\n",
      "The product came in the original box, without any protection, the mail during delivery tore the entire box, and when testing, I found that only one of the headphones worked.I asked for the exchange. \n",
      "\n",
      "I didn't get the right product ... I was wrong.And it's not this supplier in NFe \n",
      "\n",
      "Lojas Americana is always perfect, but the product is very fragile and the hourly adjustment pin always falls, and the clock time is late. \n",
      "\n",
      "Goodnight.I requested the black pillowcase and received brown ... \n",
      "\n",
      "Goodnight,\n",
      "I went to check the progress of the product and viewed in the email that the product had been delivered, and I received nothing.\n",
      "I await answer.\n",
      "What is going on anyway? \n",
      "\n",
      "My product arrived all broken, I want to exchange, for another one of the same \n",
      "\n",
      "The product is good, only the delivery that took \n",
      "\n"
     ]
    }
   ],
   "source": [
    "from googletrans import Translator\n",
    "translator = Translator()\n",
    "\n",
    "translations = []\n",
    "for review in low_reviews_sample_list:\n",
    "    translation = translator.translate(review, src='pt', dest='en')\n",
    "    print(translation.text, '\\n')\n",
    "    translations.append(translation)"
   ]
  },
  {
   "cell_type": "code",
   "execution_count": null,
   "metadata": {},
   "outputs": [],
   "source": []
  },
  {
   "cell_type": "markdown",
   "metadata": {},
   "source": [
    "🗣 Translate these reviews using the `google_translator` package you've previously installed before starting this challenge:"
   ]
  },
  {
   "cell_type": "code",
   "execution_count": null,
   "metadata": {
    "tags": [
     "challengify"
    ]
   },
   "outputs": [],
   "source": [
    "# YOUR CODE HERE"
   ]
  },
  {
   "cell_type": "markdown",
   "metadata": {},
   "source": [
    "**Insights** 💡\n",
    "- Some bad reviews are linked to the delivery (`wait_time`, missed deadline,  etc...)\n",
    "- But some bad reviews are linked to the seller or the product...\n",
    "\n",
    "How can we differentiate between the two possible causes?\n",
    "\n",
    "That's something important Olist needs to know:\n",
    "- should we remove some products from the catalogue?\n",
    "- or remove some sellers from their marketplace?\n",
    "\n",
    "🗓 Agenda:\n",
    "\n",
    "* 👀 We still have 3 days to analyse Olist, and you can continue later after the bootcamp to practice your data analyst skills\n",
    "\n",
    "* 🗣 We will run some `Natural Language Processing` algorithms on the Day 10 of Machine Learning to extract some information about these reviews\n"
   ]
  }
 ],
 "metadata": {
  "kernelspec": {
   "display_name": "Python 3 (ipykernel)",
   "language": "python",
   "name": "python3"
  },
  "language_info": {
   "codemirror_mode": {
    "name": "ipython",
    "version": 3
   },
   "file_extension": ".py",
   "mimetype": "text/x-python",
   "name": "python",
   "nbconvert_exporter": "python",
   "pygments_lexer": "ipython3",
   "version": "3.8.12"
  },
  "toc": {
   "base_numbering": 1,
   "nav_menu": {},
   "number_sections": true,
   "sideBar": true,
   "skip_h1_title": false,
   "title_cell": "Table of Contents",
   "title_sidebar": "Contents",
   "toc_cell": false,
   "toc_position": {},
   "toc_section_display": true,
   "toc_window_display": false
  }
 },
 "nbformat": 4,
 "nbformat_minor": 4
}
