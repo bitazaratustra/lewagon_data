{
 "cells": [
  {
   "cell_type": "markdown",
   "metadata": {},
   "source": [
    "# KNN Recommender "
   ]
  },
  {
   "cell_type": "markdown",
   "metadata": {},
   "source": [
    "👉 K-Nearest-Neighbors (KNN) models can be used to model and make predictions, but they can alternatively be utilized to find the closest points in a dataset.  \n",
    "\n",
    "👨🏻‍🏫 In this recap, we will use a KNN model to create a basic music recommender system."
   ]
  },
  {
   "cell_type": "code",
   "execution_count": 4,
   "metadata": {},
   "outputs": [
    {
     "data": {
      "text/html": [
       "<div>\n",
       "<style scoped>\n",
       "    .dataframe tbody tr th:only-of-type {\n",
       "        vertical-align: middle;\n",
       "    }\n",
       "\n",
       "    .dataframe tbody tr th {\n",
       "        vertical-align: top;\n",
       "    }\n",
       "\n",
       "    .dataframe thead th {\n",
       "        text-align: right;\n",
       "    }\n",
       "</style>\n",
       "<table border=\"1\" class=\"dataframe\">\n",
       "  <thead>\n",
       "    <tr style=\"text-align: right;\">\n",
       "      <th></th>\n",
       "      <th>name</th>\n",
       "      <th>artists</th>\n",
       "      <th>popularity</th>\n",
       "      <th>danceability</th>\n",
       "      <th>valence</th>\n",
       "      <th>energy</th>\n",
       "      <th>explicit</th>\n",
       "      <th>key</th>\n",
       "      <th>liveness</th>\n",
       "      <th>loudness</th>\n",
       "      <th>speechiness</th>\n",
       "      <th>tempo</th>\n",
       "    </tr>\n",
       "  </thead>\n",
       "  <tbody>\n",
       "    <tr>\n",
       "      <th>0</th>\n",
       "      <td>We're For The Dark - Remastered 2010</td>\n",
       "      <td>['Badfinger']</td>\n",
       "      <td>22</td>\n",
       "      <td>0.678</td>\n",
       "      <td>0.559</td>\n",
       "      <td>0.432</td>\n",
       "      <td>0</td>\n",
       "      <td>3</td>\n",
       "      <td>0.0727</td>\n",
       "      <td>-12.696</td>\n",
       "      <td>0.0334</td>\n",
       "      <td>117.674</td>\n",
       "    </tr>\n",
       "    <tr>\n",
       "      <th>1</th>\n",
       "      <td>Sixty Years On - Piano Demo</td>\n",
       "      <td>['Elton John']</td>\n",
       "      <td>25</td>\n",
       "      <td>0.456</td>\n",
       "      <td>0.259</td>\n",
       "      <td>0.368</td>\n",
       "      <td>0</td>\n",
       "      <td>6</td>\n",
       "      <td>0.1560</td>\n",
       "      <td>-10.692</td>\n",
       "      <td>0.0280</td>\n",
       "      <td>143.783</td>\n",
       "    </tr>\n",
       "    <tr>\n",
       "      <th>2</th>\n",
       "      <td>Got to Find Another Way</td>\n",
       "      <td>['The Guess Who']</td>\n",
       "      <td>21</td>\n",
       "      <td>0.433</td>\n",
       "      <td>0.833</td>\n",
       "      <td>0.724</td>\n",
       "      <td>0</td>\n",
       "      <td>0</td>\n",
       "      <td>0.1700</td>\n",
       "      <td>-9.803</td>\n",
       "      <td>0.0378</td>\n",
       "      <td>84.341</td>\n",
       "    </tr>\n",
       "    <tr>\n",
       "      <th>3</th>\n",
       "      <td>Feelin' Alright - Live At The Fillmore East/1970</td>\n",
       "      <td>['Joe Cocker']</td>\n",
       "      <td>22</td>\n",
       "      <td>0.436</td>\n",
       "      <td>0.870</td>\n",
       "      <td>0.914</td>\n",
       "      <td>0</td>\n",
       "      <td>5</td>\n",
       "      <td>0.8550</td>\n",
       "      <td>-6.955</td>\n",
       "      <td>0.0610</td>\n",
       "      <td>174.005</td>\n",
       "    </tr>\n",
       "    <tr>\n",
       "      <th>4</th>\n",
       "      <td>Caravan - Take 7</td>\n",
       "      <td>['Van Morrison']</td>\n",
       "      <td>23</td>\n",
       "      <td>0.669</td>\n",
       "      <td>0.564</td>\n",
       "      <td>0.412</td>\n",
       "      <td>0</td>\n",
       "      <td>7</td>\n",
       "      <td>0.4010</td>\n",
       "      <td>-13.095</td>\n",
       "      <td>0.0679</td>\n",
       "      <td>78.716</td>\n",
       "    </tr>\n",
       "  </tbody>\n",
       "</table>\n",
       "</div>"
      ],
      "text/plain": [
       "                                               name            artists  \\\n",
       "0              We're For The Dark - Remastered 2010      ['Badfinger']   \n",
       "1                       Sixty Years On - Piano Demo     ['Elton John']   \n",
       "2                           Got to Find Another Way  ['The Guess Who']   \n",
       "3  Feelin' Alright - Live At The Fillmore East/1970     ['Joe Cocker']   \n",
       "4                                  Caravan - Take 7   ['Van Morrison']   \n",
       "\n",
       "   popularity  danceability  valence  energy  explicit  key  liveness  \\\n",
       "0          22         0.678    0.559   0.432         0    3    0.0727   \n",
       "1          25         0.456    0.259   0.368         0    6    0.1560   \n",
       "2          21         0.433    0.833   0.724         0    0    0.1700   \n",
       "3          22         0.436    0.870   0.914         0    5    0.8550   \n",
       "4          23         0.669    0.564   0.412         0    7    0.4010   \n",
       "\n",
       "   loudness  speechiness    tempo  \n",
       "0   -12.696       0.0334  117.674  \n",
       "1   -10.692       0.0280  143.783  \n",
       "2    -9.803       0.0378   84.341  \n",
       "3    -6.955       0.0610  174.005  \n",
       "4   -13.095       0.0679   78.716  "
      ]
     },
     "execution_count": 4,
     "metadata": {},
     "output_type": "execute_result"
    }
   ],
   "source": [
    "import pandas as pd\n",
    "\n",
    "url = 'https://wagon-public-datasets.s3.amazonaws.com/Machine%20Learning%20Datasets/ML_spotify_data.csv'\n",
    "\n",
    "# Using pandas, load the data from the provided URL\n",
    "pass  # YOUR CODE HERE\n",
    "\n",
    "df = pd.read_csv(url)\n",
    "df.head()"
   ]
  },
  {
   "cell_type": "markdown",
   "metadata": {},
   "source": [
    "🎯 Let's find songs that are \"similar\" to Queen's mythical *Another One Bites the Dust*."
   ]
  },
  {
   "cell_type": "code",
   "execution_count": 5,
   "metadata": {},
   "outputs": [
    {
     "data": {
      "text/html": [
       "<div>\n",
       "<style scoped>\n",
       "    .dataframe tbody tr th:only-of-type {\n",
       "        vertical-align: middle;\n",
       "    }\n",
       "\n",
       "    .dataframe tbody tr th {\n",
       "        vertical-align: top;\n",
       "    }\n",
       "\n",
       "    .dataframe thead th {\n",
       "        text-align: right;\n",
       "    }\n",
       "</style>\n",
       "<table border=\"1\" class=\"dataframe\">\n",
       "  <thead>\n",
       "    <tr style=\"text-align: right;\">\n",
       "      <th></th>\n",
       "      <th>name</th>\n",
       "      <th>artists</th>\n",
       "      <th>popularity</th>\n",
       "      <th>danceability</th>\n",
       "      <th>valence</th>\n",
       "      <th>energy</th>\n",
       "      <th>explicit</th>\n",
       "      <th>key</th>\n",
       "      <th>liveness</th>\n",
       "      <th>loudness</th>\n",
       "      <th>speechiness</th>\n",
       "      <th>tempo</th>\n",
       "    </tr>\n",
       "  </thead>\n",
       "  <tbody>\n",
       "    <tr>\n",
       "      <th>4295</th>\n",
       "      <td>Another One Bites The Dust - Live at Wembley '86</td>\n",
       "      <td>['Queen']</td>\n",
       "      <td>29</td>\n",
       "      <td>0.534</td>\n",
       "      <td>0.114</td>\n",
       "      <td>0.984</td>\n",
       "      <td>0</td>\n",
       "      <td>4</td>\n",
       "      <td>0.982</td>\n",
       "      <td>-5.058</td>\n",
       "      <td>0.297</td>\n",
       "      <td>115.991</td>\n",
       "    </tr>\n",
       "  </tbody>\n",
       "</table>\n",
       "</div>"
      ],
      "text/plain": [
       "                                                  name    artists  popularity  \\\n",
       "4295  Another One Bites The Dust - Live at Wembley '86  ['Queen']          29   \n",
       "\n",
       "      danceability  valence  energy  explicit  key  liveness  loudness  \\\n",
       "4295         0.534    0.114   0.984         0    4     0.982    -5.058   \n",
       "\n",
       "      speechiness    tempo  \n",
       "4295        0.297  115.991  "
      ]
     },
     "execution_count": 5,
     "metadata": {},
     "output_type": "execute_result"
    }
   ],
   "source": [
    "queen_song = df.iloc[4295:4296] # Another One Bites the Dust - Queen\n",
    "\n",
    "queen_song"
   ]
  },
  {
   "cell_type": "markdown",
   "metadata": {},
   "source": [
    "## 1. Calculating the distances"
   ]
  },
  {
   "cell_type": "markdown",
   "metadata": {},
   "source": [
    "👇 First, train the KNN to have it learn the distances between each observation of the dataset.  \n",
    "Since we are only concerned with the similarity of features between the songs, it doesn't matter which target the model is fitted on."
   ]
  },
  {
   "cell_type": "code",
   "execution_count": 22,
   "metadata": {
    "tags": [
     "challengify"
    ]
   },
   "outputs": [],
   "source": [
    "# YOUR CODE HERE\n",
    "from sklearn.neighbors import KNeighborsRegressor\n",
    "from sklearn.model_selection import cross_validate\n",
    "\n"
   ]
  },
  {
   "cell_type": "code",
   "execution_count": 23,
   "metadata": {},
   "outputs": [],
   "source": [
    "y = df['tempo']"
   ]
  },
  {
   "cell_type": "code",
   "execution_count": 24,
   "metadata": {},
   "outputs": [],
   "source": [
    "X = df.drop(columns=['tempo', 'name', 'artists'])"
   ]
  },
  {
   "cell_type": "code",
   "execution_count": 26,
   "metadata": {},
   "outputs": [],
   "source": [
    "\n",
    "knn_model = KNeighborsRegressor().fit(X,y)"
   ]
  },
  {
   "cell_type": "code",
   "execution_count": null,
   "metadata": {},
   "outputs": [],
   "source": []
  },
  {
   "cell_type": "markdown",
   "metadata": {},
   "source": [
    "Check out the [documentation](https://scikit-learn.org/stable/modules/generated/sklearn.neighbors.KNeighborsRegressor.html#sklearn.neighbors.KNeighborsRegressor.kneighbors)"
   ]
  },
  {
   "cell_type": "markdown",
   "metadata": {},
   "source": [
    "## 2. Passing the new point"
   ]
  },
  {
   "cell_type": "markdown",
   "metadata": {},
   "source": [
    "👇 You can now pass a new point to the KNN model and find its closest point."
   ]
  },
  {
   "cell_type": "code",
   "execution_count": 27,
   "metadata": {},
   "outputs": [
    {
     "data": {
      "text/html": [
       "<div>\n",
       "<style scoped>\n",
       "    .dataframe tbody tr th:only-of-type {\n",
       "        vertical-align: middle;\n",
       "    }\n",
       "\n",
       "    .dataframe tbody tr th {\n",
       "        vertical-align: top;\n",
       "    }\n",
       "\n",
       "    .dataframe thead th {\n",
       "        text-align: right;\n",
       "    }\n",
       "</style>\n",
       "<table border=\"1\" class=\"dataframe\">\n",
       "  <thead>\n",
       "    <tr style=\"text-align: right;\">\n",
       "      <th></th>\n",
       "      <th>name</th>\n",
       "      <th>artists</th>\n",
       "      <th>popularity</th>\n",
       "      <th>danceability</th>\n",
       "      <th>valence</th>\n",
       "      <th>energy</th>\n",
       "      <th>explicit</th>\n",
       "      <th>key</th>\n",
       "      <th>liveness</th>\n",
       "      <th>loudness</th>\n",
       "      <th>speechiness</th>\n",
       "      <th>tempo</th>\n",
       "    </tr>\n",
       "  </thead>\n",
       "  <tbody>\n",
       "    <tr>\n",
       "      <th>4295</th>\n",
       "      <td>Another One Bites The Dust - Live at Wembley '86</td>\n",
       "      <td>['Queen']</td>\n",
       "      <td>29</td>\n",
       "      <td>0.534</td>\n",
       "      <td>0.114</td>\n",
       "      <td>0.984</td>\n",
       "      <td>0</td>\n",
       "      <td>4</td>\n",
       "      <td>0.982</td>\n",
       "      <td>-5.058</td>\n",
       "      <td>0.297</td>\n",
       "      <td>115.991</td>\n",
       "    </tr>\n",
       "  </tbody>\n",
       "</table>\n",
       "</div>"
      ],
      "text/plain": [
       "                                                  name    artists  popularity  \\\n",
       "4295  Another One Bites The Dust - Live at Wembley '86  ['Queen']          29   \n",
       "\n",
       "      danceability  valence  energy  explicit  key  liveness  loudness  \\\n",
       "4295         0.534    0.114   0.984         0    4     0.982    -5.058   \n",
       "\n",
       "      speechiness    tempo  \n",
       "4295        0.297  115.991  "
      ]
     },
     "execution_count": 27,
     "metadata": {},
     "output_type": "execute_result"
    }
   ],
   "source": [
    "queen_song"
   ]
  },
  {
   "cell_type": "code",
   "execution_count": 30,
   "metadata": {
    "tags": [
     "challengify"
    ]
   },
   "outputs": [
    {
     "data": {
      "text/plain": [
       "(array([[0.        , 0.43673618, 0.9505509 ]]), array([[4295, 2668, 2700]]))"
      ]
     },
     "execution_count": 30,
     "metadata": {},
     "output_type": "execute_result"
    }
   ],
   "source": [
    "# YOUR CODE HERE\n",
    "knn_model.kneighbors(queen_song.drop(columns=['name','artists', 'tempo']), n_neighbors=3)"
   ]
  },
  {
   "cell_type": "code",
   "execution_count": null,
   "metadata": {},
   "outputs": [],
   "source": []
  },
  {
   "cell_type": "markdown",
   "metadata": {},
   "source": [
    "## 3. Making a playlist!"
   ]
  },
  {
   "cell_type": "markdown",
   "metadata": {},
   "source": [
    "👇 Make a playlist with 10 songs based on Queen's *Another One Bites the Dust*, sorted by increasing tempo."
   ]
  },
  {
   "cell_type": "code",
   "execution_count": null,
   "metadata": {},
   "outputs": [],
   "source": [
    "queen_song"
   ]
  },
  {
   "cell_type": "code",
   "execution_count": 43,
   "metadata": {
    "tags": [
     "challengify"
    ]
   },
   "outputs": [],
   "source": [
    "# YOUR CODE HERE\n",
    "lista_recomendaciones = list(knn_model.kneighbors(queen_song.drop(columns=['name', 'artists','tempo']), n_neighbors=10))"
   ]
  },
  {
   "cell_type": "code",
   "execution_count": 47,
   "metadata": {},
   "outputs": [
    {
     "data": {
      "text/html": [
       "<div>\n",
       "<style scoped>\n",
       "    .dataframe tbody tr th:only-of-type {\n",
       "        vertical-align: middle;\n",
       "    }\n",
       "\n",
       "    .dataframe tbody tr th {\n",
       "        vertical-align: top;\n",
       "    }\n",
       "\n",
       "    .dataframe thead th {\n",
       "        text-align: right;\n",
       "    }\n",
       "</style>\n",
       "<table border=\"1\" class=\"dataframe\">\n",
       "  <thead>\n",
       "    <tr style=\"text-align: right;\">\n",
       "      <th></th>\n",
       "      <th>name</th>\n",
       "      <th>artists</th>\n",
       "      <th>popularity</th>\n",
       "      <th>danceability</th>\n",
       "      <th>valence</th>\n",
       "      <th>energy</th>\n",
       "      <th>explicit</th>\n",
       "      <th>key</th>\n",
       "      <th>liveness</th>\n",
       "      <th>loudness</th>\n",
       "      <th>speechiness</th>\n",
       "      <th>tempo</th>\n",
       "    </tr>\n",
       "  </thead>\n",
       "  <tbody>\n",
       "    <tr>\n",
       "      <th>4295</th>\n",
       "      <td>Another One Bites The Dust - Live at Wembley '86</td>\n",
       "      <td>['Queen']</td>\n",
       "      <td>29</td>\n",
       "      <td>0.534</td>\n",
       "      <td>0.1140</td>\n",
       "      <td>0.984</td>\n",
       "      <td>0</td>\n",
       "      <td>4</td>\n",
       "      <td>0.9820</td>\n",
       "      <td>-5.058</td>\n",
       "      <td>0.2970</td>\n",
       "      <td>115.991</td>\n",
       "    </tr>\n",
       "    <tr>\n",
       "      <th>2668</th>\n",
       "      <td>Under The Gun</td>\n",
       "      <td>['KISS']</td>\n",
       "      <td>29</td>\n",
       "      <td>0.515</td>\n",
       "      <td>0.0833</td>\n",
       "      <td>0.967</td>\n",
       "      <td>0</td>\n",
       "      <td>4</td>\n",
       "      <td>0.5700</td>\n",
       "      <td>-5.127</td>\n",
       "      <td>0.1760</td>\n",
       "      <td>119.875</td>\n",
       "    </tr>\n",
       "    <tr>\n",
       "      <th>2700</th>\n",
       "      <td>君のハートはマリンブルー</td>\n",
       "      <td>['オメガトライブ', 'Kiyotaka Sugiyama']</td>\n",
       "      <td>29</td>\n",
       "      <td>0.602</td>\n",
       "      <td>0.6240</td>\n",
       "      <td>0.794</td>\n",
       "      <td>0</td>\n",
       "      <td>4</td>\n",
       "      <td>0.4130</td>\n",
       "      <td>-5.512</td>\n",
       "      <td>0.0271</td>\n",
       "      <td>113.612</td>\n",
       "    </tr>\n",
       "    <tr>\n",
       "      <th>3247</th>\n",
       "      <td>Life of My Own</td>\n",
       "      <td>['Cro-Mags']</td>\n",
       "      <td>29</td>\n",
       "      <td>0.231</td>\n",
       "      <td>0.1670</td>\n",
       "      <td>0.979</td>\n",
       "      <td>0</td>\n",
       "      <td>4</td>\n",
       "      <td>0.0978</td>\n",
       "      <td>-4.634</td>\n",
       "      <td>0.1940</td>\n",
       "      <td>104.094</td>\n",
       "    </tr>\n",
       "    <tr>\n",
       "      <th>1203</th>\n",
       "      <td>I Saw Her Standing There - Live From Madison S...</td>\n",
       "      <td>['Elton John', 'John Lennon']</td>\n",
       "      <td>28</td>\n",
       "      <td>0.332</td>\n",
       "      <td>0.6070</td>\n",
       "      <td>0.946</td>\n",
       "      <td>0</td>\n",
       "      <td>4</td>\n",
       "      <td>0.6880</td>\n",
       "      <td>-5.256</td>\n",
       "      <td>0.0721</td>\n",
       "      <td>163.363</td>\n",
       "    </tr>\n",
       "    <tr>\n",
       "      <th>3519</th>\n",
       "      <td>Soy Drácula</td>\n",
       "      <td>['Mister Chivo']</td>\n",
       "      <td>29</td>\n",
       "      <td>0.574</td>\n",
       "      <td>0.8840</td>\n",
       "      <td>0.918</td>\n",
       "      <td>0</td>\n",
       "      <td>4</td>\n",
       "      <td>0.3460</td>\n",
       "      <td>-5.792</td>\n",
       "      <td>0.0426</td>\n",
       "      <td>93.134</td>\n",
       "    </tr>\n",
       "    <tr>\n",
       "      <th>4273</th>\n",
       "      <td>SNES Battle Stage</td>\n",
       "      <td>['AWJC Media']</td>\n",
       "      <td>30</td>\n",
       "      <td>0.494</td>\n",
       "      <td>0.7180</td>\n",
       "      <td>0.866</td>\n",
       "      <td>0</td>\n",
       "      <td>4</td>\n",
       "      <td>0.2890</td>\n",
       "      <td>-5.188</td>\n",
       "      <td>0.0355</td>\n",
       "      <td>191.967</td>\n",
       "    </tr>\n",
       "    <tr>\n",
       "      <th>4082</th>\n",
       "      <td>Breed</td>\n",
       "      <td>['Nirvana']</td>\n",
       "      <td>30</td>\n",
       "      <td>0.262</td>\n",
       "      <td>0.2630</td>\n",
       "      <td>0.969</td>\n",
       "      <td>0</td>\n",
       "      <td>4</td>\n",
       "      <td>0.1330</td>\n",
       "      <td>-4.675</td>\n",
       "      <td>0.0894</td>\n",
       "      <td>158.433</td>\n",
       "    </tr>\n",
       "    <tr>\n",
       "      <th>901</th>\n",
       "      <td>Whirlwind</td>\n",
       "      <td>['Roxy Music']</td>\n",
       "      <td>28</td>\n",
       "      <td>0.461</td>\n",
       "      <td>0.5610</td>\n",
       "      <td>0.949</td>\n",
       "      <td>0</td>\n",
       "      <td>4</td>\n",
       "      <td>0.2850</td>\n",
       "      <td>-4.502</td>\n",
       "      <td>0.0661</td>\n",
       "      <td>133.749</td>\n",
       "    </tr>\n",
       "    <tr>\n",
       "      <th>3285</th>\n",
       "      <td>Among The Living</td>\n",
       "      <td>['Anthrax']</td>\n",
       "      <td>30</td>\n",
       "      <td>0.314</td>\n",
       "      <td>0.0486</td>\n",
       "      <td>0.997</td>\n",
       "      <td>0</td>\n",
       "      <td>4</td>\n",
       "      <td>0.1540</td>\n",
       "      <td>-4.290</td>\n",
       "      <td>0.2160</td>\n",
       "      <td>102.900</td>\n",
       "    </tr>\n",
       "  </tbody>\n",
       "</table>\n",
       "</div>"
      ],
      "text/plain": [
       "                                                   name  \\\n",
       "4295   Another One Bites The Dust - Live at Wembley '86   \n",
       "2668                                      Under The Gun   \n",
       "2700                                      君のハートはマリンブルー   \n",
       "3247                                     Life of My Own   \n",
       "1203  I Saw Her Standing There - Live From Madison S...   \n",
       "3519                                        Soy Drácula   \n",
       "4273                                  SNES Battle Stage   \n",
       "4082                                              Breed   \n",
       "901                                           Whirlwind   \n",
       "3285                                   Among The Living   \n",
       "\n",
       "                               artists  popularity  danceability  valence  \\\n",
       "4295                         ['Queen']          29         0.534   0.1140   \n",
       "2668                          ['KISS']          29         0.515   0.0833   \n",
       "2700  ['オメガトライブ', 'Kiyotaka Sugiyama']          29         0.602   0.6240   \n",
       "3247                      ['Cro-Mags']          29         0.231   0.1670   \n",
       "1203     ['Elton John', 'John Lennon']          28         0.332   0.6070   \n",
       "3519                  ['Mister Chivo']          29         0.574   0.8840   \n",
       "4273                    ['AWJC Media']          30         0.494   0.7180   \n",
       "4082                       ['Nirvana']          30         0.262   0.2630   \n",
       "901                     ['Roxy Music']          28         0.461   0.5610   \n",
       "3285                       ['Anthrax']          30         0.314   0.0486   \n",
       "\n",
       "      energy  explicit  key  liveness  loudness  speechiness    tempo  \n",
       "4295   0.984         0    4    0.9820    -5.058       0.2970  115.991  \n",
       "2668   0.967         0    4    0.5700    -5.127       0.1760  119.875  \n",
       "2700   0.794         0    4    0.4130    -5.512       0.0271  113.612  \n",
       "3247   0.979         0    4    0.0978    -4.634       0.1940  104.094  \n",
       "1203   0.946         0    4    0.6880    -5.256       0.0721  163.363  \n",
       "3519   0.918         0    4    0.3460    -5.792       0.0426   93.134  \n",
       "4273   0.866         0    4    0.2890    -5.188       0.0355  191.967  \n",
       "4082   0.969         0    4    0.1330    -4.675       0.0894  158.433  \n",
       "901    0.949         0    4    0.2850    -4.502       0.0661  133.749  \n",
       "3285   0.997         0    4    0.1540    -4.290       0.2160  102.900  "
      ]
     },
     "execution_count": 47,
     "metadata": {},
     "output_type": "execute_result"
    }
   ],
   "source": [
    "df.loc[lista_recomendaciones[1][0],:].sort_v"
   ]
  },
  {
   "cell_type": "code",
   "execution_count": null,
   "metadata": {},
   "outputs": [],
   "source": []
  }
 ],
 "metadata": {
  "kernelspec": {
   "display_name": "Python 3 (ipykernel)",
   "language": "python",
   "name": "python3"
  },
  "language_info": {
   "codemirror_mode": {
    "name": "ipython",
    "version": 3
   },
   "file_extension": ".py",
   "mimetype": "text/x-python",
   "name": "python",
   "nbconvert_exporter": "python",
   "pygments_lexer": "ipython3",
   "version": "3.8.12"
  },
  "toc": {
   "base_numbering": 1,
   "nav_menu": {},
   "number_sections": true,
   "sideBar": true,
   "skip_h1_title": false,
   "title_cell": "Table of Contents",
   "title_sidebar": "Contents",
   "toc_cell": false,
   "toc_position": {},
   "toc_section_display": true,
   "toc_window_display": false
  }
 },
 "nbformat": 4,
 "nbformat_minor": 4
}
