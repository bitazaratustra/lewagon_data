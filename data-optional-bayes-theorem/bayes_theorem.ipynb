{
 "cells": [
  {
   "cell_type": "markdown",
   "id": "8f5d5957",
   "metadata": {},
   "source": [
    "# The `Bayes Theorem` (Optional Challenge)"
   ]
  },
  {
   "cell_type": "code",
   "execution_count": 1,
   "id": "ef6057b4",
   "metadata": {},
   "outputs": [],
   "source": [
    "import pandas as pd\n",
    "import numpy as np"
   ]
  },
  {
   "cell_type": "markdown",
   "id": "8e5950e5",
   "metadata": {},
   "source": [
    "Do you remember this theorem covered during the lecture ? \n",
    "\n",
    "* The Bayes Theorem allows you to compute `a conditional probability`.\n",
    "* It is widely used in Machine Learning to `update your knowledge`\n",
    "* Despite its pretty simple formula, it can `highlight unexpected insights`\n",
    "\n",
    "🧑🏻‍🏫 What is the `Bayes Theorem` ? According to [Brilliant](https://brilliant.org/wiki/bayes-theorem/) :\n",
    "\n",
    "> Bayes' theorem is a formula that describes how to update the probabilities of hypotheses (A) when given evidence (Data).\n",
    "\n",
    "\n",
    "🧮 The formula is the following:\n",
    "\n",
    "$$ \\mathbb{P}(A | Data) =  \\mathbb{P}(A) \\times \\frac{\\mathbb{P}(Data | A) }{\\mathbb{P}(Data)}$$"
   ]
  },
  {
   "cell_type": "markdown",
   "id": "ccea0e3a",
   "metadata": {},
   "source": [
    "## 0) Challenge context: Should we play sport outside expecting some weather conditions ?"
   ]
  },
  {
   "cell_type": "markdown",
   "id": "b20e69d3",
   "metadata": {},
   "source": [
    "* In this challenge, we'll try to recompute this formula.\n",
    "\n",
    "* We have a dataset with `weather conditions` (Rain, Sunny, Overcast) and `play` (Yes, No) suggesting whether a sport game should be played based on the weather conditions."
   ]
  },
  {
   "cell_type": "code",
   "execution_count": 2,
   "id": "23206c09",
   "metadata": {},
   "outputs": [
    {
     "data": {
      "text/html": [
       "<div>\n",
       "<style scoped>\n",
       "    .dataframe tbody tr th:only-of-type {\n",
       "        vertical-align: middle;\n",
       "    }\n",
       "\n",
       "    .dataframe tbody tr th {\n",
       "        vertical-align: top;\n",
       "    }\n",
       "\n",
       "    .dataframe thead th {\n",
       "        text-align: right;\n",
       "    }\n",
       "</style>\n",
       "<table border=\"1\" class=\"dataframe\">\n",
       "  <thead>\n",
       "    <tr style=\"text-align: right;\">\n",
       "      <th></th>\n",
       "      <th>weather</th>\n",
       "      <th>play</th>\n",
       "    </tr>\n",
       "  </thead>\n",
       "  <tbody>\n",
       "    <tr>\n",
       "      <th>0</th>\n",
       "      <td>Sunny</td>\n",
       "      <td>No</td>\n",
       "    </tr>\n",
       "    <tr>\n",
       "      <th>1</th>\n",
       "      <td>Overcast</td>\n",
       "      <td>Yes</td>\n",
       "    </tr>\n",
       "    <tr>\n",
       "      <th>2</th>\n",
       "      <td>Rainy</td>\n",
       "      <td>Yes</td>\n",
       "    </tr>\n",
       "    <tr>\n",
       "      <th>3</th>\n",
       "      <td>Sunny</td>\n",
       "      <td>Yes</td>\n",
       "    </tr>\n",
       "    <tr>\n",
       "      <th>4</th>\n",
       "      <td>Sunny</td>\n",
       "      <td>Yes</td>\n",
       "    </tr>\n",
       "    <tr>\n",
       "      <th>5</th>\n",
       "      <td>Overcast</td>\n",
       "      <td>Yes</td>\n",
       "    </tr>\n",
       "    <tr>\n",
       "      <th>6</th>\n",
       "      <td>Rainy</td>\n",
       "      <td>No</td>\n",
       "    </tr>\n",
       "    <tr>\n",
       "      <th>7</th>\n",
       "      <td>Rainy</td>\n",
       "      <td>No</td>\n",
       "    </tr>\n",
       "    <tr>\n",
       "      <th>8</th>\n",
       "      <td>Sunny</td>\n",
       "      <td>Yes</td>\n",
       "    </tr>\n",
       "    <tr>\n",
       "      <th>9</th>\n",
       "      <td>Rainy</td>\n",
       "      <td>Yes</td>\n",
       "    </tr>\n",
       "    <tr>\n",
       "      <th>10</th>\n",
       "      <td>Sunny</td>\n",
       "      <td>No</td>\n",
       "    </tr>\n",
       "    <tr>\n",
       "      <th>11</th>\n",
       "      <td>Overcast</td>\n",
       "      <td>Yes</td>\n",
       "    </tr>\n",
       "    <tr>\n",
       "      <th>12</th>\n",
       "      <td>Overcast</td>\n",
       "      <td>Yes</td>\n",
       "    </tr>\n",
       "    <tr>\n",
       "      <th>13</th>\n",
       "      <td>Rainy</td>\n",
       "      <td>No</td>\n",
       "    </tr>\n",
       "  </tbody>\n",
       "</table>\n",
       "</div>"
      ],
      "text/plain": [
       "     weather play\n",
       "0      Sunny   No\n",
       "1   Overcast  Yes\n",
       "2      Rainy  Yes\n",
       "3      Sunny  Yes\n",
       "4      Sunny  Yes\n",
       "5   Overcast  Yes\n",
       "6      Rainy   No\n",
       "7      Rainy   No\n",
       "8      Sunny  Yes\n",
       "9      Rainy  Yes\n",
       "10     Sunny   No\n",
       "11  Overcast  Yes\n",
       "12  Overcast  Yes\n",
       "13     Rainy   No"
      ]
     },
     "execution_count": 2,
     "metadata": {},
     "output_type": "execute_result"
    }
   ],
   "source": [
    "weather_data_example = ['Sunny', 'Overcast', 'Rainy', 'Sunny', 'Sunny', 'Overcast', 'Rainy', 'Rainy', 'Sunny',\n",
    "'Rainy', 'Sunny', 'Overcast', 'Overcast', 'Rainy']\n",
    "\n",
    "play_data_example = ['No', 'Yes', 'Yes', 'Yes', 'Yes', 'Yes', 'No', 'No', 'Yes', 'Yes', 'No', 'Yes', 'Yes', 'No']\n",
    "\n",
    "data = {'weather': weather_data_example, 'play': play_data_example}\n",
    "\n",
    "df = pd.DataFrame(data = data)\n",
    "df"
   ]
  },
  {
   "cell_type": "markdown",
   "id": "b673d7e2",
   "metadata": {},
   "source": [
    "🚀 Let's compute $ \\large P(play \\mid weather) = P(play) \\times \\frac{P(weather \\mid play)}{P(weather)} $"
   ]
  },
  {
   "cell_type": "markdown",
   "id": "dc2257ea",
   "metadata": {},
   "source": [
    "## 1) Warm-up : understanding the numbers with a `frequency table`"
   ]
  },
  {
   "cell_type": "markdown",
   "id": "65a6848b",
   "metadata": {},
   "source": [
    "✍️ Grab a pen + a piece of paper and complete the **`frequency table`**:\n",
    "\n",
    "| Weather  | Played | No | Total |\n",
    "|----------|------|----|-------|\n",
    "| Sunny    |     |   |      |\n",
    "| Overcast |     |   |      |\n",
    "| Rainy    |     |   |      |\n",
    "| Total    |     |   |   14  |\n",
    "\n",
    "<details>\n",
    "    <summary>Answer here</summary>\n",
    "    \n",
    "| Weather  | Played | No | Total |\n",
    "|----------|------|----|-------|\n",
    "| Sunny    | 3    | 2  | 5     |\n",
    "| Overcast | 4    | 0  | 4     |\n",
    "| Rainy    | 2    | 3  | 5     |\n",
    "| Total    | 9    | 5  | 14    |     \n",
    "</details>"
   ]
  },
  {
   "cell_type": "markdown",
   "id": "358b5b3f",
   "metadata": {},
   "source": [
    "## 2) Prior probability : $ \\mathbb{P}(play)$"
   ]
  },
  {
   "cell_type": "markdown",
   "id": "8d541588",
   "metadata": {},
   "source": [
    "🤔 What is the theoretical probability of a game being played ❓\n",
    "\n",
    "Look at the numbers in your previous table.\n",
    "\n",
    "<details>\n",
    "    <summary>Answer</summary>\n",
    "    \n",
    "| Weather  | Played | No | Total |\n",
    "|----------|------|----|-------|\n",
    "| Total    | 9    | 5  | 14    |     \n",
    "    \n",
    "$ \\mathbb{P}(played) = \\frac{9}{14} = 64.29 \\% $\n",
    "</details>"
   ]
  },
  {
   "cell_type": "markdown",
   "id": "61a9213d",
   "metadata": {},
   "source": [
    "👩🏻‍💻 Code the `prior_probability` function to compute the result."
   ]
  },
  {
   "cell_type": "code",
   "execution_count": 3,
   "id": "c530c09f",
   "metadata": {},
   "outputs": [],
   "source": [
    "def prior_probability(event_name: str, observations: list) -> float:\n",
    "    '''\n",
    "    Returns P(played)\n",
    "    '''\n",
    "    counter = 0\n",
    "    for i in observations:\n",
    "        if i == event_name:\n",
    "            counter += 1\n",
    "    return float(counter/len(observations))\n",
    "    \n",
    "# 👀 Run the following to test your code.\n",
    "# If nothing shows, your function works. Otherwise, inspect your code to fix it!\n",
    "assert(round(prior_probability(\"Yes\", play_data_example),4) == 0.6429)"
   ]
  },
  {
   "cell_type": "markdown",
   "id": "b8ecf975",
   "metadata": {},
   "source": [
    "☝️ FYI: These strange notations\n",
    "```python\n",
    "def prior_probability(event_name: bool, observations: list) -> float:\n",
    "```\n",
    "are called **typing hints**\n",
    "\n",
    "They are optional in Python, and used to let the reader know what type of arguments and output the function should accept/return. \n",
    "\n",
    "There also exist Python libraries that enforce respect for these types, and raise error when not. \n",
    "It's a good practice to use these hints in very large projects to make sure nothing breaks silently.\n",
    "\n"
   ]
  },
  {
   "cell_type": "markdown",
   "id": "b84da458",
   "metadata": {},
   "source": [
    "## 3) Likelihood :  $ \\mathbb{P}(weather | play)$"
   ]
  },
  {
   "cell_type": "markdown",
   "id": "f6aeabd4",
   "metadata": {},
   "source": [
    "🤔 What is the theoretical probability of the weather being rainy knowing that a game was NOT played ❓\n",
    "\n",
    "Look at the numbers in your previous table.\n",
    "\n",
    "<details>\n",
    "    <summary>Answer</summary>\n",
    "    \n",
    "| Weather  | No | \n",
    "|----------|----|\n",
    "| Sunny    | 2  | \n",
    "| Overcast | 0  | \n",
    "| Rainy    | 3  | \n",
    "| Total    | 5  |         \n",
    "    \n",
    "$ \\mathbb{P}(play) = \\frac{3}{5} = 60 \\% $\n",
    "</details>"
   ]
  },
  {
   "cell_type": "code",
   "execution_count": 4,
   "id": "493d0a79",
   "metadata": {},
   "outputs": [],
   "source": [
    "def likelihood(weather, played, weather_data, play_data):\n",
    "    '''TO DO: return P(weather|play)'''\n",
    "    total = 0\n",
    "    occurences = 0\n",
    "    for i in range(len(play_data)):\n",
    "        if play_data[i] == played:\n",
    "            total += 1\n",
    "            if weather_data[i] == weather:\n",
    "                occurences += 1\n",
    "    return float(occurences/total)\n",
    "\n",
    "# 👀 Run the following to test your code.\n",
    "# If nothing shows, your function works. Otherwise, inspect your code to fix it!\n",
    "assert(likelihood(\"Rainy\", \"No\", weather_data_example, play_data_example) == 0.60)"
   ]
  },
  {
   "cell_type": "markdown",
   "id": "1ac55b4a",
   "metadata": {},
   "source": [
    "## 4) Posterior probability : $ \\large P(play \\mid weather ) = P(play) \\times \\frac{P(weather \\mid play)}{P(weather)} $"
   ]
  },
  {
   "cell_type": "markdown",
   "id": "c227ba7d",
   "metadata": {},
   "source": [
    "🔥 We can finally compute the posterior probability as: \n",
    "\n",
    "$$\\large \\text{posterior probability} = \\text{prior probability} \\times \\text{likelihood} \\times \\beta $$ \n",
    "\n",
    "where $ \\large \\beta = \\frac{1}{P(weather)} $ is a _normalization factor_.\n",
    " \n",
    "<details>\n",
    "    <summary>Expected results</summary>\n",
    "\n",
    "Remember the table that you completed earlier ? \n",
    "\n",
    "| Weather  | Played | No | Total |\n",
    "|----------|------|----|-------|\n",
    "| Sunny    | 3    | 2  | 5     |\n",
    "| Overcast | 4    | 0  | 4     |\n",
    "| Rainy    | 2    | 3  | 5     |\n",
    "| Total    | 9    | 5  | 14    |   \n",
    "    \n",
    "Based on this table, we can compute $ \\mathbb{P}(played | weather) $\n",
    "    \n",
    "| Weather  | Proba(Played\\|Weather) | Proba(No\\|Weather) |\n",
    "|----------|----------------------|--------------------|\n",
    "| Sunny    | 3/5 = 0.6                  | 2/5 = 0.4                |\n",
    "| Overcast | 4/4 = 1.0                  | 0/4 = 0.0                |\n",
    "| Rainy    | 2/5 = 0.4                  | 3/5 = 0.6                |\n",
    "    \n",
    "</details>"
   ]
  },
  {
   "cell_type": "code",
   "execution_count": 6,
   "id": "79815ae4",
   "metadata": {},
   "outputs": [],
   "source": [
    "def posterior_probability(played, weather, weather_data, play_data):\n",
    "    '''TO DO: return P(play|weather)\n",
    "    \n",
    "    '''\n",
    "    p_played = prior_probability(played, play_data)\n",
    "    p_weather = prior_probability(weather, weather_data)\n",
    "    p_likelihood = likelihood(weather, played, weather_data, play_data)\n",
    "    return p_played * p_likelihood / p_weather"
   ]
  },
  {
   "cell_type": "code",
   "execution_count": 7,
   "id": "6e84d414",
   "metadata": {},
   "outputs": [],
   "source": [
    "# 👀 Run the following cell to test your code\n",
    "assert(np.isclose(posterior_probability(\"Yes\", \"Sunny\", weather_data_example, play_data_example), 0.6))\n",
    "assert(np.isclose(posterior_probability(\"No\", \"Sunny\", weather_data_example, play_data_example), 0.4))\n",
    "assert(np.isclose(posterior_probability(\"Yes\", \"Overcast\", weather_data_example, play_data_example), 1.0))\n",
    "assert(np.isclose(posterior_probability(\"No\", \"Overcast\", weather_data_example, play_data_example), 0))\n",
    "assert(np.isclose(posterior_probability(\"Yes\", \"Rainy\", weather_data_example, play_data_example), 0.4))\n",
    "assert(np.isclose(posterior_probability(\"No\", \"Rainy\", weather_data_example, play_data_example), 0.6))"
   ]
  },
  {
   "cell_type": "markdown",
   "id": "1a37a72e",
   "metadata": {},
   "source": [
    "## 5) Taking a step back to understand what you've done"
   ]
  },
  {
   "cell_type": "markdown",
   "id": "bc3b13d0",
   "metadata": {},
   "source": [
    "Thanks to what you’ve learned in this challenge, could you answer these questions :\n",
    "\n",
    "1. _\"Matches are more likely to be played than not if the weather is sunny\"_ 👉 Is this statement correct ?\n",
    "2. If you know for sure that it will be raining during the next game 🤔, what is your best guess (probability) that the game will be canceled ?"
   ]
  },
  {
   "cell_type": "code",
   "execution_count": 8,
   "id": "c978cdf3",
   "metadata": {
    "tags": [
     "challengify"
    ]
   },
   "outputs": [
    {
     "data": {
      "text/plain": [
       "0.6"
      ]
     },
     "execution_count": 8,
     "metadata": {},
     "output_type": "execute_result"
    }
   ],
   "source": [
    "# YOUR CODE HERE\n",
    "posterior_probability(\"Yes\", \"Sunny\", weather_data_example, play_data_example)"
   ]
  },
  {
   "cell_type": "code",
   "execution_count": 9,
   "id": "dabc261b",
   "metadata": {},
   "outputs": [
    {
     "data": {
      "text/plain": [
       "0.6"
      ]
     },
     "execution_count": 9,
     "metadata": {},
     "output_type": "execute_result"
    }
   ],
   "source": [
    "posterior_probability(\"No\", \"Rainy\", weather_data_example, play_data_example)"
   ]
  },
  {
   "cell_type": "markdown",
   "id": "9fdbb1b7",
   "metadata": {},
   "source": [
    "🏁 Congrats, you have a better idea of how the `Bayes formula` work !\n",
    "\n",
    "💾 Do not forget to `git add/commit/push` your notebook\n",
    "\n",
    "📆 We will revisit this concept again during the modules of :\n",
    "* `Decision Science - Inferential Stastistics`\n",
    "* `Machine Learning - Performance Metrics - Confusion Matrix`\n",
    "* `Natural Language Processinsg`\n",
    "\n",
    "\n",
    "▶️ If you are curious and/or impatient, you can already watch the [15-min Youtube video from 3Blue1Brown](https://www.youtube.com/watch?v=HZGCoVF3YvM) that we already mentioned in the lecture."
   ]
  }
 ],
 "metadata": {
  "kernelspec": {
   "display_name": "Python 3 (ipykernel)",
   "language": "python",
   "name": "python3"
  },
  "language_info": {
   "codemirror_mode": {
    "name": "ipython",
    "version": 3
   },
   "file_extension": ".py",
   "mimetype": "text/x-python",
   "name": "python",
   "nbconvert_exporter": "python",
   "pygments_lexer": "ipython3",
   "version": "3.8.12"
  },
  "toc": {
   "base_numbering": 1,
   "nav_menu": {},
   "number_sections": true,
   "sideBar": true,
   "skip_h1_title": false,
   "title_cell": "Table of Contents",
   "title_sidebar": "Contents",
   "toc_cell": false,
   "toc_position": {},
   "toc_section_display": true,
   "toc_window_display": false
  }
 },
 "nbformat": 4,
 "nbformat_minor": 5
}
