{
 "cells": [
  {
   "cell_type": "markdown",
   "metadata": {},
   "source": [
    "# Logistic Regression"
   ]
  },
  {
   "cell_type": "markdown",
   "metadata": {},
   "source": [
    "🎯 Up until now, you have been modeling a regression task. This time, you are going to be modeling a classification task, on the famous Titanic dataset."
   ]
  },
  {
   "cell_type": "markdown",
   "metadata": {},
   "source": [
    "👇 Load the `titanic.csv` dataset into this notebook as a pandas dataframe, and display its first 5 rows."
   ]
  },
  {
   "cell_type": "code",
   "execution_count": 1,
   "metadata": {
    "tags": []
   },
   "outputs": [
    {
     "data": {
      "text/html": [
       "<div>\n",
       "<style scoped>\n",
       "    .dataframe tbody tr th:only-of-type {\n",
       "        vertical-align: middle;\n",
       "    }\n",
       "\n",
       "    .dataframe tbody tr th {\n",
       "        vertical-align: top;\n",
       "    }\n",
       "\n",
       "    .dataframe thead th {\n",
       "        text-align: right;\n",
       "    }\n",
       "</style>\n",
       "<table border=\"1\" class=\"dataframe\">\n",
       "  <thead>\n",
       "    <tr style=\"text-align: right;\">\n",
       "      <th></th>\n",
       "      <th>PassengerId</th>\n",
       "      <th>Survived</th>\n",
       "      <th>Pclass</th>\n",
       "      <th>Name</th>\n",
       "      <th>Sex</th>\n",
       "      <th>Age</th>\n",
       "      <th>SibSp</th>\n",
       "      <th>Parch</th>\n",
       "      <th>Ticket</th>\n",
       "      <th>Fare</th>\n",
       "      <th>Cabin</th>\n",
       "      <th>Embarked</th>\n",
       "    </tr>\n",
       "  </thead>\n",
       "  <tbody>\n",
       "    <tr>\n",
       "      <th>0</th>\n",
       "      <td>1</td>\n",
       "      <td>0</td>\n",
       "      <td>3</td>\n",
       "      <td>Braund, Mr. Owen Harris</td>\n",
       "      <td>male</td>\n",
       "      <td>22.0</td>\n",
       "      <td>1</td>\n",
       "      <td>0</td>\n",
       "      <td>A/5 21171</td>\n",
       "      <td>7.2500</td>\n",
       "      <td>NaN</td>\n",
       "      <td>S</td>\n",
       "    </tr>\n",
       "    <tr>\n",
       "      <th>1</th>\n",
       "      <td>2</td>\n",
       "      <td>1</td>\n",
       "      <td>1</td>\n",
       "      <td>Cumings, Mrs. John Bradley (Florence Briggs Th...</td>\n",
       "      <td>female</td>\n",
       "      <td>38.0</td>\n",
       "      <td>1</td>\n",
       "      <td>0</td>\n",
       "      <td>PC 17599</td>\n",
       "      <td>71.2833</td>\n",
       "      <td>C85</td>\n",
       "      <td>C</td>\n",
       "    </tr>\n",
       "    <tr>\n",
       "      <th>2</th>\n",
       "      <td>3</td>\n",
       "      <td>1</td>\n",
       "      <td>3</td>\n",
       "      <td>Heikkinen, Miss. Laina</td>\n",
       "      <td>female</td>\n",
       "      <td>26.0</td>\n",
       "      <td>0</td>\n",
       "      <td>0</td>\n",
       "      <td>STON/O2. 3101282</td>\n",
       "      <td>7.9250</td>\n",
       "      <td>NaN</td>\n",
       "      <td>S</td>\n",
       "    </tr>\n",
       "    <tr>\n",
       "      <th>3</th>\n",
       "      <td>4</td>\n",
       "      <td>1</td>\n",
       "      <td>1</td>\n",
       "      <td>Futrelle, Mrs. Jacques Heath (Lily May Peel)</td>\n",
       "      <td>female</td>\n",
       "      <td>35.0</td>\n",
       "      <td>1</td>\n",
       "      <td>0</td>\n",
       "      <td>113803</td>\n",
       "      <td>53.1000</td>\n",
       "      <td>C123</td>\n",
       "      <td>S</td>\n",
       "    </tr>\n",
       "    <tr>\n",
       "      <th>4</th>\n",
       "      <td>5</td>\n",
       "      <td>0</td>\n",
       "      <td>3</td>\n",
       "      <td>Allen, Mr. William Henry</td>\n",
       "      <td>male</td>\n",
       "      <td>35.0</td>\n",
       "      <td>0</td>\n",
       "      <td>0</td>\n",
       "      <td>373450</td>\n",
       "      <td>8.0500</td>\n",
       "      <td>NaN</td>\n",
       "      <td>S</td>\n",
       "    </tr>\n",
       "  </tbody>\n",
       "</table>\n",
       "</div>"
      ],
      "text/plain": [
       "   PassengerId  Survived  Pclass  \\\n",
       "0            1         0       3   \n",
       "1            2         1       1   \n",
       "2            3         1       3   \n",
       "3            4         1       1   \n",
       "4            5         0       3   \n",
       "\n",
       "                                                Name     Sex   Age  SibSp  \\\n",
       "0                            Braund, Mr. Owen Harris    male  22.0      1   \n",
       "1  Cumings, Mrs. John Bradley (Florence Briggs Th...  female  38.0      1   \n",
       "2                             Heikkinen, Miss. Laina  female  26.0      0   \n",
       "3       Futrelle, Mrs. Jacques Heath (Lily May Peel)  female  35.0      1   \n",
       "4                           Allen, Mr. William Henry    male  35.0      0   \n",
       "\n",
       "   Parch            Ticket     Fare Cabin Embarked  \n",
       "0      0         A/5 21171   7.2500   NaN        S  \n",
       "1      0          PC 17599  71.2833   C85        C  \n",
       "2      0  STON/O2. 3101282   7.9250   NaN        S  \n",
       "3      0            113803  53.1000  C123        S  \n",
       "4      0            373450   8.0500   NaN        S  "
      ]
     },
     "execution_count": 1,
     "metadata": {},
     "output_type": "execute_result"
    }
   ],
   "source": [
    "import pandas as pd\n",
    "\n",
    "df = pd.read_csv('https://wagon-public-datasets.s3.amazonaws.com/Machine%20Learning%20Datasets/ML_Titanic_dataset.csv')\n",
    "\n",
    "df.head()"
   ]
  },
  {
   "cell_type": "markdown",
   "metadata": {},
   "source": [
    "```markdown\n",
    "Variable    Definition      Key\n",
    "\n",
    "survival    Survival        0 = No, 1 = Yes\n",
    "pclass      Ticket class    1 = 1st, 2 = 2nd, 3 = 3rd\n",
    "sex         Sex\n",
    "Age         Age in years\n",
    "sibsp       # of siblings / spouses aboard the Titanic\n",
    "parch       # of parents / children aboard the Titanic\n",
    "ticket      Ticket number\n",
    "fare        Passenger fare\n",
    "cabin       Cabin number\n",
    "embarked    Port of Embarkation C = Cherbourg, Q = Queenstown, S = Southampton\n",
    "```"
   ]
  },
  {
   "cell_type": "markdown",
   "metadata": {},
   "source": [
    "# 1. Model evaluation"
   ]
  },
  {
   "cell_type": "markdown",
   "metadata": {},
   "source": [
    "👇 We want to predict whether a passenger survived (`Survived`) the Titanic disaster, according to the following features:\n",
    "\n",
    "- The class in which she/he was travelling (`Pclass`)\n",
    "- The number of siblings/spouses he had onboard (`SibSp`)\n",
    "- The number of parents/children he had onboard (`Parch`)\n",
    "- The fare he paid for the ticket (`Fare`)\n",
    "\n",
    "❓How accurate would a `LogisticRegression` model be at such a task? Save the accuracy under variable name `accuracy`."
   ]
  },
  {
   "cell_type": "code",
   "execution_count": 2,
   "metadata": {
    "tags": [
     "challengify"
    ]
   },
   "outputs": [],
   "source": [
    "# YOUR CODE HERE\n",
    "from sklearn.linear_model import LogisticRegression\n",
    "model = LogisticRegression()\n",
    "\n",
    "X = df[['Pclass', 'SibSp', 'Parch', 'Fare' ]]\n",
    "y = df['Survived']\n",
    "\n",
    "model1 = model.fit(X, y)\n",
    "accuracy = model1.score(X,y)"
   ]
  },
  {
   "cell_type": "markdown",
   "metadata": {},
   "source": [
    "### ☑️ Check your code"
   ]
  },
  {
   "cell_type": "code",
   "execution_count": 3,
   "metadata": {
    "vscode": {
     "languageId": "python"
    }
   },
   "outputs": [
    {
     "name": "stdout",
     "output_type": "stream",
     "text": [
      "\u001b[1m============================= test session starts ==============================\u001b[0m\n",
      "platform linux -- Python 3.8.12, pytest-6.2.5, py-1.11.0, pluggy-1.0.0 -- /home/bitazaratustra/.pyenv/versions/lewagon/bin/python3\n",
      "cachedir: .pytest_cache\n",
      "rootdir: /home/bitazaratustra/code/bitazaratustra/data-challenges/05-ML/01-Fundamentals-of-Machine-Learning/04-Logistic-Regression\n",
      "plugins: anyio-3.4.0\n",
      "\u001b[1mcollecting ... \u001b[0mcollected 1 item\n",
      "\n",
      "tests/test_accuracy.py::TestAccuracy::test_accuracy \u001b[32mPASSED\u001b[0m\u001b[32m               [100%]\u001b[0m\n",
      "\n",
      "\u001b[32m============================== \u001b[32m\u001b[1m1 passed\u001b[0m\u001b[32m in 0.19s\u001b[0m\u001b[32m ===============================\u001b[0m\n",
      "\n",
      "\n",
      "💯 You can commit your code:\n",
      "\n",
      "\u001b[1;32mgit\u001b[39m add tests/accuracy.pickle\n",
      "\n",
      "\u001b[32mgit\u001b[39m commit -m \u001b[33m'Completed accuracy step'\u001b[39m\n",
      "\n",
      "\u001b[32mgit\u001b[39m push origin master\n"
     ]
    }
   ],
   "source": [
    "from nbresult import ChallengeResult\n",
    "\n",
    "result = ChallengeResult('accuracy',\n",
    "                         accuracy = accuracy\n",
    ")\n",
    "result.write()\n",
    "print(result.check())"
   ]
  },
  {
   "cell_type": "markdown",
   "metadata": {},
   "source": [
    "# 2. In-depth diagnosis"
   ]
  },
  {
   "cell_type": "markdown",
   "metadata": {},
   "source": [
    "❓We've evaluated the accuracy of the model at predicting, but we want to investigate its performance in more depth. Is the model overfitting? Underfitting? How many learning examples does it need to learn optimally on the given features?"
   ]
  },
  {
   "cell_type": "code",
   "execution_count": 4,
   "metadata": {
    "tags": [
     "challengify"
    ]
   },
   "outputs": [
    {
     "data": {
      "text/plain": [
       "0.6791044776119403"
      ]
     },
     "execution_count": 4,
     "metadata": {},
     "output_type": "execute_result"
    }
   ],
   "source": [
    "# YOUR CODE HERE\n",
    "from sklearn.model_selection import train_test_split\n",
    "X = df[['Pclass', 'SibSp', 'Parch', 'Fare' ]]\n",
    "y = df['Survived']\n",
    "\n",
    "X_train, X_test, y_train, y_test = train_test_split(X, y, test_size=0.3)\n",
    "model.fit(X_train, y_train)\n",
    "model.score(X_test,y_test)"
   ]
  },
  {
   "cell_type": "code",
   "execution_count": 5,
   "metadata": {},
   "outputs": [],
   "source": [
    "from sklearn.model_selection import cross_validate\n",
    "cv_results = cross_validate(model, X, y, cv=10)\n"
   ]
  },
  {
   "cell_type": "code",
   "execution_count": 6,
   "metadata": {},
   "outputs": [
    {
     "data": {
      "image/png": "[encoded data removed]",
      "text/plain": [
       "<Figure size 432x288 with 1 Axes>"
      ]
     },
     "metadata": {
      "needs_background": "light"
     },
     "output_type": "display_data"
    }
   ],
   "source": [
    "import numpy as np\n",
    "from sklearn.model_selection import learning_curve\n",
    "import matplotlib.pyplot as plt\n",
    "\n",
    "train_sizes = [25,50,75,100,250,500,700]\n",
    "train_sizes, train_scores, test_scores = learning_curve(estimator=LogisticRegression(), X=X, y=y, train_sizes=train_sizes, cv=5)\n",
    "\n",
    "train_scores_mean = np.mean(train_scores, axis=1)\n",
    "test_scores_mean = np.mean(test_scores, axis=1);\n",
    "\n",
    "\n",
    "plt.plot(train_sizes, test_scores_mean, label = 'Test score');\n"
   ]
  },
  {
   "cell_type": "markdown",
   "metadata": {},
   "source": [
    "\n",
    "<details>\n",
    "<summary> ℹ️ Once you have completed your diagnosis, unfold this cell </summary>   \n",
    "    \n",
    "<br/>\n",
    "You should have plotted the learning curves.\n",
    "\n",
    "👉 The curves should have converged:\n",
    "- The model is not overfitting (no variance): it generalizes well.\n",
    "\n",
    "👉 The test score stops increasing around 500 training observations:\n",
    "- The model does not need more than 500 training observations to perform optimally on the given features.\n",
    "    \n",
    "</details>\n"
   ]
  },
  {
   "cell_type": "markdown",
   "metadata": {},
   "source": [
    "# 3. Reduced training size"
   ]
  },
  {
   "cell_type": "markdown",
   "metadata": {},
   "source": [
    "👇 Evaluate a model on the training size suggested by the curves. Are you able to maintain a similar accuracy? Save the new accuracy under variable name `reduced_training_accuracy`"
   ]
  },
  {
   "cell_type": "code",
   "execution_count": 7,
   "metadata": {
    "tags": [
     "challengify"
    ]
   },
   "outputs": [],
   "source": [
    "# YOUR CODE HERE\n",
    "train_sizes, train_scores, test_scores = learning_curve(estimator=LogisticRegression(), X=X, y=y, train_sizes=([500]), cv=5)\n",
    "reduced_training_accuracy = model.score(X_test, y_test)"
   ]
  },
  {
   "cell_type": "markdown",
   "metadata": {},
   "source": [
    "ℹ️ The accuracy should be nearly the same, with a reduced computational expense."
   ]
  },
  {
   "cell_type": "markdown",
   "metadata": {},
   "source": [
    "### ☑️ Check your code"
   ]
  },
  {
   "cell_type": "code",
   "execution_count": 8,
   "metadata": {
    "vscode": {
     "languageId": "python"
    }
   },
   "outputs": [
    {
     "name": "stdout",
     "output_type": "stream",
     "text": [
      "\u001b[1m============================= test session starts ==============================\u001b[0m\n",
      "platform linux -- Python 3.8.12, pytest-6.2.5, py-1.11.0, pluggy-1.0.0 -- /home/bitazaratustra/.pyenv/versions/lewagon/bin/python3\n",
      "cachedir: .pytest_cache\n",
      "rootdir: /home/bitazaratustra/code/bitazaratustra/data-challenges/05-ML/01-Fundamentals-of-Machine-Learning/04-Logistic-Regression\n",
      "plugins: anyio-3.4.0\n",
      "\u001b[1mcollecting ... \u001b[0mcollected 1 item\n",
      "\n",
      "tests/test_reduced_accuracy.py::TestReduced_accuracy::test_accuracy \u001b[32mPASSED\u001b[0m\u001b[32m [100%]\u001b[0m\n",
      "\n",
      "\u001b[32m============================== \u001b[32m\u001b[1m1 passed\u001b[0m\u001b[32m in 0.19s\u001b[0m\u001b[32m ===============================\u001b[0m\n",
      "\n",
      "\n",
      "💯 You can commit your code:\n",
      "\n",
      "\u001b[1;32mgit\u001b[39m add tests/reduced_accuracy.pickle\n",
      "\n",
      "\u001b[32mgit\u001b[39m commit -m \u001b[33m'Completed reduced_accuracy step'\u001b[39m\n",
      "\n",
      "\u001b[32mgit\u001b[39m push origin master\n"
     ]
    }
   ],
   "source": [
    "from nbresult import ChallengeResult\n",
    "\n",
    "result = ChallengeResult('reduced_accuracy',\n",
    "                         accuracy = reduced_training_accuracy\n",
    ")\n",
    "result.write()\n",
    "print(result.check())"
   ]
  },
  {
   "cell_type": "markdown",
   "metadata": {},
   "source": [
    "# 4. Predictions"
   ]
  },
  {
   "cell_type": "markdown",
   "metadata": {},
   "source": [
    "❓ Did the following person survive the Titanic disaster?\n",
    "\n",
    "- Travelled in class 1 (`Pclass`)\n",
    "- Had no spouse or siblings on board(`SibSp`)\n",
    "- Had no parents or children on board (`Parch`)\n",
    "- Paid 15 for his ticket (`Fare`)\n",
    "\n",
    "⚠️ Make sure the model you use for predicting has the **least computational expense possible**. Save the prediction under variable name `prediction`."
   ]
  },
  {
   "cell_type": "code",
   "execution_count": 106,
   "metadata": {
    "tags": [
     "challengify"
    ]
   },
   "outputs": [
    {
     "data": {
      "text/plain": [
       "array([1])"
      ]
     },
     "execution_count": 106,
     "metadata": {},
     "output_type": "execute_result"
    }
   ],
   "source": [
    "# YOUR CODE HERE\n",
    "prediction = model.predict([[1, 0, 0 , 15]])\n",
    "prediction"
   ]
  },
  {
   "cell_type": "markdown",
   "metadata": {},
   "source": [
    "❓ What is the probability that the person survived? Compute your answer and save it under variable name `probability`.\n",
    "\n",
    "\n",
    "<details>\n",
    "    <summary markdown='span'>💡 Hint</summary>\n",
    "\n",
    "To return the predicted probabilities from a fitted sklearn Classifier, have a look at the method `.predict_proba()`\n",
    "</details>"
   ]
  },
  {
   "cell_type": "code",
   "execution_count": 84,
   "metadata": {
    "tags": [
     "challengify"
    ]
   },
   "outputs": [
    {
     "data": {
      "text/plain": [
       "array([[0.77891203, 0.22108797],\n",
       "       [0.67258906, 0.32741094],\n",
       "       [0.57690022, 0.42309978],\n",
       "       [0.77841974, 0.22158026],\n",
       "       [0.56098058, 0.43901942],\n",
       "       [0.77844213, 0.22155787],\n",
       "       [0.76870123, 0.23129877],\n",
       "       [0.28627282, 0.71372718],\n",
       "       [0.5544994 , 0.4455006 ],\n",
       "       [0.14269701, 0.85730299],\n",
       "       [0.58069858, 0.41930142],\n",
       "       [0.77888967, 0.22111033],\n",
       "       [0.77831151, 0.22168849],\n",
       "       [0.77550894, 0.22449106],\n",
       "       [0.85078132, 0.14921868],\n",
       "       [0.77203161, 0.22796839],\n",
       "       [0.7781733 , 0.2218267 ],\n",
       "       [0.79575431, 0.20424569],\n",
       "       [0.29407028, 0.70592972],\n",
       "       [0.2655387 , 0.7344613 ],\n",
       "       [0.21459144, 0.78540856],\n",
       "       [0.62890109, 0.37109891],\n",
       "       [0.76839804, 0.23160196],\n",
       "       [0.26614687, 0.73385313],\n",
       "       [0.79926273, 0.20073727],\n",
       "       [0.58069858, 0.41930142],\n",
       "       [0.28627282, 0.71372718],\n",
       "       [0.34442291, 0.65557709],\n",
       "       [0.34153129, 0.65846871],\n",
       "       [0.21599626, 0.78400374],\n",
       "       [0.50870213, 0.49129787],\n",
       "       [0.7781733 , 0.2218267 ],\n",
       "       [0.84368236, 0.15631764],\n",
       "       [0.7781733 , 0.2218267 ],\n",
       "       [0.77891203, 0.22108797],\n",
       "       [0.77780704, 0.22219296],\n",
       "       [0.58069858, 0.41930142],\n",
       "       [0.77831151, 0.22168849],\n",
       "       [0.84368236, 0.15631764],\n",
       "       [0.34822076, 0.65177924],\n",
       "       [0.77979395, 0.22020605],\n",
       "       [0.77828534, 0.22171466],\n",
       "       [0.5544994 , 0.4455006 ],\n",
       "       [0.77844213, 0.22155787],\n",
       "       [0.7790685 , 0.2209315 ],\n",
       "       [0.33751214, 0.66248786],\n",
       "       [0.77659207, 0.22340793],\n",
       "       [0.77807619, 0.22192381],\n",
       "       [0.15599664, 0.84400336],\n",
       "       [0.35038855, 0.64961145],\n",
       "       [0.77659207, 0.22340793],\n",
       "       [0.76340477, 0.23659523],\n",
       "       [0.58069858, 0.41930142],\n",
       "       [0.56824569, 0.43175431],\n",
       "       [0.35022602, 0.64977398],\n",
       "       [0.52541518, 0.47458482],\n",
       "       [0.33823342, 0.66176658],\n",
       "       [0.77762371, 0.22237629],\n",
       "       [0.77915788, 0.22084212],\n",
       "       [0.77862122, 0.22137878],\n",
       "       [0.59765676, 0.40234324],\n",
       "       [0.77956351, 0.22043649],\n",
       "       [0.77845709, 0.22154291],\n",
       "       [0.27266756, 0.72733244],\n",
       "       [0.57753392, 0.42246608],\n",
       "       [0.57753392, 0.42246608],\n",
       "       [0.77844213, 0.22155787],\n",
       "       [0.25297074, 0.74702926],\n",
       "       [0.57753392, 0.42246608],\n",
       "       [0.82537114, 0.17462886],\n",
       "       [0.2823704 , 0.7176296 ],\n",
       "       [0.77832638, 0.22167362],\n",
       "       [0.12121382, 0.87878618],\n",
       "       [0.30555072, 0.69444928],\n",
       "       [0.82786935, 0.17213065],\n",
       "       [0.31399432, 0.68600568],\n",
       "       [0.33823831, 0.66176169],\n",
       "       [0.57835736, 0.42164264],\n",
       "       [0.57493947, 0.42506053],\n",
       "       [0.73173634, 0.26826366],\n",
       "       [0.15307336, 0.84692664],\n",
       "       [0.34433989, 0.65566011],\n",
       "       [0.33615389, 0.66384611],\n",
       "       [0.33770087, 0.66229913],\n",
       "       [0.7781733 , 0.2218267 ],\n",
       "       [0.74425563, 0.25574437],\n",
       "       [0.83654745, 0.16345255],\n",
       "       [0.58069858, 0.41930142],\n",
       "       [0.78530612, 0.21469388],\n",
       "       [0.82795637, 0.17204363],\n",
       "       [0.7775788 , 0.2224212 ],\n",
       "       [0.78530612, 0.21469388],\n",
       "       [0.33294059, 0.66705941],\n",
       "       [0.82778607, 0.17221393],\n",
       "       [0.33751214, 0.66248786],\n",
       "       [0.77687065, 0.22312935],\n",
       "       [0.77841974, 0.22158026],\n",
       "       [0.77228288, 0.22771712],\n",
       "       [0.57753392, 0.42246608],\n",
       "       [0.36899899, 0.63100101],\n",
       "       [0.74280216, 0.25719784],\n",
       "       [0.16046618, 0.83953382],\n",
       "       [0.33386397, 0.66613603],\n",
       "       [0.33236413, 0.66763587],\n",
       "       [0.77837118, 0.22162882],\n",
       "       [0.77844213, 0.22155787],\n",
       "       [0.5631419 , 0.4368581 ],\n",
       "       [0.57753392, 0.42246608],\n",
       "       [0.4930825 , 0.5069175 ],\n",
       "       [0.77831151, 0.22168849],\n",
       "       [0.80981328, 0.19018672],\n",
       "       [0.16327042, 0.83672958],\n",
       "       [0.77828534, 0.22171466],\n",
       "       [0.89339874, 0.10660126],\n",
       "       [0.80381671, 0.19618329],\n",
       "       [0.57753392, 0.42246608],\n",
       "       [0.77831151, 0.22168849],\n",
       "       [0.19111897, 0.80888103],\n",
       "       [0.80924936, 0.19075064],\n",
       "       [0.58069858, 0.41930142],\n",
       "       [0.24806877, 0.75193123],\n",
       "       [0.8045418 , 0.1954582 ],\n",
       "       [0.25297074, 0.74702926],\n",
       "       [0.80267105, 0.19732895],\n",
       "       [0.56098058, 0.43901942],\n",
       "       [0.77655919, 0.22344081],\n",
       "       [0.77679187, 0.22320813],\n",
       "       [0.5794335 , 0.4205665 ],\n",
       "       [0.80381671, 0.19618329],\n",
       "       [0.60675014, 0.39324986],\n",
       "       [0.5749976 , 0.4250024 ],\n",
       "       [0.33615389, 0.66384611],\n",
       "       [0.77178867, 0.22821133],\n",
       "       [0.77923982, 0.22076018],\n",
       "       [0.77142257, 0.22857743],\n",
       "       [0.57404545, 0.42595455],\n",
       "       [0.28902752, 0.71097248],\n",
       "       [0.57753392, 0.42246608],\n",
       "       [0.60675014, 0.39324986],\n",
       "       [0.14269701, 0.85730299],\n",
       "       [0.61292862, 0.38707138],\n",
       "       [0.77831151, 0.22168849],\n",
       "       [0.21022209, 0.78977791],\n",
       "       [0.26960988, 0.73039012],\n",
       "       [0.28978622, 0.71021378],\n",
       "       [0.57690022, 0.42309978],\n",
       "       [0.32719868, 0.67280132],\n",
       "       [0.77745527, 0.22254473],\n",
       "       [0.77831151, 0.22168849],\n",
       "       [0.74716497, 0.25283503],\n",
       "       [0.29868551, 0.70131449],\n",
       "       [0.33271479, 0.66728521],\n",
       "       [0.77846076, 0.22153924],\n",
       "       [0.33236413, 0.66763587],\n",
       "       [0.57769231, 0.42230769],\n",
       "       [0.21957846, 0.78042154],\n",
       "       [0.24742651, 0.75257349],\n",
       "       [0.7781733 , 0.2218267 ],\n",
       "       [0.48148218, 0.51851782],\n",
       "       [0.77840111, 0.22159889],\n",
       "       [0.3077315 , 0.6922685 ],\n",
       "       [0.77933656, 0.22066344],\n",
       "       [0.3086208 , 0.6913792 ],\n",
       "       [0.57845234, 0.42154766],\n",
       "       [0.4675564 , 0.5324436 ],\n",
       "       [0.2707215 , 0.7292785 ],\n",
       "       [0.7781733 , 0.2218267 ],\n",
       "       [0.57753392, 0.42246608],\n",
       "       [0.77844213, 0.22155787],\n",
       "       [0.59391493, 0.40608507],\n",
       "       [0.48180634, 0.51819366],\n",
       "       [0.58069858, 0.41930142],\n",
       "       [0.32377808, 0.67622192],\n",
       "       [0.77418095, 0.22581905],\n",
       "       [0.57149825, 0.42850175],\n",
       "       [0.69776929, 0.30223071],\n",
       "       [0.16046618, 0.83953382],\n",
       "       [0.76839804, 0.23160196],\n",
       "       [0.80212046, 0.19787954],\n",
       "       [0.3232678 , 0.6767322 ],\n",
       "       [0.18354761, 0.81645239],\n",
       "       [0.7781733 , 0.2218267 ],\n",
       "       [0.26074607, 0.73925393],\n",
       "       [0.2242752 , 0.7757248 ],\n",
       "       [0.57753392, 0.42246608],\n",
       "       [0.57753392, 0.42246608],\n",
       "       [0.73173634, 0.26826366],\n",
       "       [0.57753392, 0.42246608],\n",
       "       [0.77891203, 0.22108797],\n",
       "       [0.71168984, 0.28831016],\n",
       "       [0.77831151, 0.22168849],\n",
       "       [0.33751214, 0.66248786],\n",
       "       [0.77656667, 0.22343333],\n",
       "       [0.77840111, 0.22159889],\n",
       "       [0.8029588 , 0.1970412 ],\n",
       "       [0.77890827, 0.22109173],\n",
       "       [0.77809485, 0.22190515],\n",
       "       [0.77853169, 0.22146831],\n",
       "       [0.77891203, 0.22108797],\n",
       "       [0.32019842, 0.67980158],\n",
       "       [0.77687065, 0.22312935],\n",
       "       [0.77687065, 0.22312935],\n",
       "       [0.32252854, 0.67747146],\n",
       "       [0.58069858, 0.41930142],\n",
       "       [0.77841974, 0.22158026],\n",
       "       [0.8426372 , 0.1573628 ],\n",
       "       [0.8426372 , 0.1573628 ],\n",
       "       [0.7781733 , 0.2218267 ],\n",
       "       [0.77834878, 0.22165122],\n",
       "       [0.7781733 , 0.2218267 ],\n",
       "       [0.77890827, 0.22109173],\n",
       "       [0.80643439, 0.19356561],\n",
       "       [0.33317254, 0.66682746],\n",
       "       [0.57690022, 0.42309978],\n",
       "       [0.77832638, 0.22167362],\n",
       "       [0.31139337, 0.68860663],\n",
       "       [0.52541518, 0.47458482],\n",
       "       [0.77888967, 0.22111033],\n",
       "       [0.3086208 , 0.6913792 ],\n",
       "       [0.73173634, 0.26826366],\n",
       "       [0.7781733 , 0.2218267 ],\n",
       "       [0.32019842, 0.67980158],\n",
       "       [0.3108415 , 0.6891585 ],\n",
       "       [0.78395589, 0.21604411],\n",
       "       [0.80246532, 0.19753468],\n",
       "       [0.77845709, 0.22154291],\n",
       "       [0.77866974, 0.22133026],\n",
       "       [0.58069858, 0.41930142],\n",
       "       [0.3143417 , 0.6856583 ],\n",
       "       [0.74518541, 0.25481459],\n",
       "       [0.77831151, 0.22168849],\n",
       "       [0.17804732, 0.82195268],\n",
       "       [0.77831151, 0.22168849],\n",
       "       [0.7781733 , 0.2218267 ],\n",
       "       [0.71036483, 0.28963517],\n",
       "       [0.58069858, 0.41930142],\n",
       "       [0.57753392, 0.42246608],\n",
       "       [0.8029588 , 0.1970412 ],\n",
       "       [0.80267105, 0.19732895],\n",
       "       [0.31139337, 0.68860663],\n",
       "       [0.77844213, 0.22155787],\n",
       "       [0.70360505, 0.29639495],\n",
       "       [0.77831151, 0.22168849],\n",
       "       [0.57753392, 0.42246608],\n",
       "       [0.7781733 , 0.2218267 ],\n",
       "       [0.77832638, 0.22167362],\n",
       "       [0.77763116, 0.22236884],\n",
       "       [0.0392678 , 0.9607322 ],\n",
       "       [0.7781733 , 0.2218267 ],\n",
       "       [0.57753392, 0.42246608],\n",
       "       [0.77844213, 0.22155787],\n",
       "       [0.80246532, 0.19753468],\n",
       "       [0.78395589, 0.21604411],\n",
       "       [0.24464675, 0.75535325],\n",
       "       [0.32158948, 0.67841052],\n",
       "       [0.77834878, 0.22165122],\n",
       "       [0.61254743, 0.38745257],\n",
       "       [0.57753392, 0.42246608],\n",
       "       [0.54560535, 0.45439465],\n",
       "       [0.77844213, 0.22155787],\n",
       "       [0.56441915, 0.43558085],\n",
       "       [0.77862122, 0.22137878],\n",
       "       [0.59391493, 0.40608507],\n",
       "       [0.77789302, 0.22210698],\n",
       "       [0.80786261, 0.19213739],\n",
       "       [0.57626627, 0.42373373],\n",
       "       [0.77883376, 0.22116624],\n",
       "       [0.77844213, 0.22155787],\n",
       "       [0.28978622, 0.71021378],\n",
       "       [0.78530612, 0.21469388],\n",
       "       [0.28483146, 0.71516854],\n",
       "       [0.13704575, 0.86295425],\n",
       "       [0.71526421, 0.28473579],\n",
       "       [0.77844213, 0.22155787],\n",
       "       [0.89339874, 0.10660126],\n",
       "       [0.77890827, 0.22109173],\n",
       "       [0.56824569, 0.43175431],\n",
       "       [0.77891203, 0.22108797],\n",
       "       [0.82778607, 0.17221393],\n",
       "       [0.33236413, 0.66763587],\n",
       "       [0.82795637, 0.17204363],\n",
       "       [0.77888967, 0.22111033],\n",
       "       [0.56098058, 0.43901942],\n",
       "       [0.77891203, 0.22108797],\n",
       "       [0.77841974, 0.22158026],\n",
       "       [0.77890827, 0.22109173],\n",
       "       [0.60675014, 0.39324986],\n",
       "       [0.77623144, 0.22376856],\n",
       "       [0.77844213, 0.22155787],\n",
       "       [0.77841974, 0.22158026],\n",
       "       [0.77828534, 0.22171466],\n",
       "       [0.20372187, 0.79627813],\n",
       "       [0.77687065, 0.22312935],\n",
       "       [0.77913554, 0.22086446],\n",
       "       [0.77828534, 0.22171466],\n",
       "       [0.77762371, 0.22237629],\n",
       "       [0.57753392, 0.42246608],\n",
       "       [0.77828534, 0.22171466],\n",
       "       [0.61292862, 0.38707138],\n",
       "       [0.7781733 , 0.2218267 ],\n",
       "       [0.77831151, 0.22168849],\n",
       "       [0.80212046, 0.19787954],\n",
       "       [0.77844213, 0.22155787],\n",
       "       [0.77844213, 0.22155787],\n",
       "       [0.80381671, 0.19618329],\n",
       "       [0.15210797, 0.84789203],\n",
       "       [0.8029588 , 0.1970412 ],\n",
       "       [0.59278979, 0.40721021],\n",
       "       [0.77834878, 0.22165122],\n",
       "       [0.85078132, 0.14921868],\n",
       "       [0.77732046, 0.22267954],\n",
       "       [0.77864736, 0.22135264],\n",
       "       [0.56824569, 0.43175431],\n",
       "       [0.7781733 , 0.2218267 ],\n",
       "       [0.33084376, 0.66915624],\n",
       "       [0.77841974, 0.22158026],\n",
       "       [0.79575431, 0.20424569],\n",
       "       [0.57753392, 0.42246608],\n",
       "       [0.8045418 , 0.1954582 ],\n",
       "       [0.33351755, 0.66648245],\n",
       "       [0.36899899, 0.63100101],\n",
       "       [0.7781733 , 0.2218267 ],\n",
       "       [0.33271479, 0.66728521],\n",
       "       [0.77890827, 0.22109173],\n",
       "       [0.33500553, 0.66499447],\n",
       "       [0.80643439, 0.19356561],\n",
       "       [0.7781733 , 0.2218267 ],\n",
       "       [0.58069858, 0.41930142],\n",
       "       [0.70556435, 0.29443565],\n",
       "       [0.77762371, 0.22237629],\n",
       "       [0.57753392, 0.42246608],\n",
       "       [0.57753392, 0.42246608],\n",
       "       [0.80106206, 0.19893794],\n",
       "       [0.77831151, 0.22168849],\n",
       "       [0.77844957, 0.22155043],\n",
       "       [0.7790685 , 0.2209315 ],\n",
       "       [0.49672964, 0.50327036],\n",
       "       [0.59278979, 0.40721021],\n",
       "       [0.77832638, 0.22167362],\n",
       "       [0.52663323, 0.47336677],\n",
       "       [0.7781733 , 0.2218267 ],\n",
       "       [0.27175223, 0.72824777],\n",
       "       [0.52152866, 0.47847134],\n",
       "       [0.77656289, 0.22343711],\n",
       "       [0.85571308, 0.14428692],\n",
       "       [0.7781733 , 0.2218267 ],\n",
       "       [0.23050114, 0.76949886],\n",
       "       [0.58283501, 0.41716499],\n",
       "       [0.33351755, 0.66648245],\n",
       "       [0.34616934, 0.65383066],\n",
       "       [0.49961295, 0.50038705],\n",
       "       [0.28191021, 0.71808979],\n",
       "       [0.5794335 , 0.4205665 ],\n",
       "       [0.33612005, 0.66387995],\n",
       "       [0.36899899, 0.63100101],\n",
       "       [0.73173634, 0.26826366],\n",
       "       [0.55161097, 0.44838903],\n",
       "       [0.80246532, 0.19753468],\n",
       "       [0.36899899, 0.63100101],\n",
       "       [0.80910903, 0.19089097],\n",
       "       [0.77233705, 0.22766295],\n",
       "       [0.32948936, 0.67051064],\n",
       "       [0.7781733 , 0.2218267 ],\n",
       "       [0.77834878, 0.22165122],\n",
       "       [0.59391493, 0.40608507],\n",
       "       [0.5124508 , 0.4875492 ],\n",
       "       [0.77762371, 0.22237629],\n",
       "       [0.77831151, 0.22168849],\n",
       "       [0.60169443, 0.39830557],\n",
       "       [0.77035155, 0.22964845],\n",
       "       [0.66920518, 0.33079482],\n",
       "       [0.80246532, 0.19753468],\n",
       "       [0.32816641, 0.67183359],\n",
       "       [0.77831151, 0.22168849],\n",
       "       [0.58069858, 0.41930142],\n",
       "       [0.55200826, 0.44799174],\n",
       "       [0.7781733 , 0.2218267 ],\n",
       "       [0.48180634, 0.51819366],\n",
       "       [0.33294059, 0.66705941],\n",
       "       [0.2242752 , 0.7757248 ],\n",
       "       [0.74825488, 0.25174512],\n",
       "       [0.73173634, 0.26826366],\n",
       "       [0.77828534, 0.22171466],\n",
       "       [0.77811726, 0.22188274],\n",
       "       [0.77828534, 0.22171466],\n",
       "       [0.32777058, 0.67222942],\n",
       "       [0.80922932, 0.19077068],\n",
       "       [0.60675014, 0.39324986],\n",
       "       [0.77831151, 0.22168849],\n",
       "       [0.77679187, 0.22320813],\n",
       "       [0.28530776, 0.71469224],\n",
       "       [0.80910903, 0.19089097],\n",
       "       [0.57493414, 0.42506586],\n",
       "       [0.57753392, 0.42246608],\n",
       "       [0.33751214, 0.66248786],\n",
       "       [0.77687065, 0.22312935],\n",
       "       [0.28113453, 0.71886547],\n",
       "       [0.32719868, 0.67280132],\n",
       "       [0.52994553, 0.47005447],\n",
       "       [0.80089648, 0.19910352],\n",
       "       [0.33781704, 0.66218296],\n",
       "       [0.77840111, 0.22159889],\n",
       "       [0.76448778, 0.23551222],\n",
       "       [0.56792712, 0.43207288],\n",
       "       [0.31545515, 0.68454485],\n",
       "       [0.77862122, 0.22137878],\n",
       "       [0.77890827, 0.22109173],\n",
       "       [0.57753392, 0.42246608],\n",
       "       [0.60675014, 0.39324986],\n",
       "       [0.80758031, 0.19241969],\n",
       "       [0.7781733 , 0.2218267 ],\n",
       "       [0.30674129, 0.69325871],\n",
       "       [0.3629736 , 0.6370264 ],\n",
       "       [0.35022602, 0.64977398],\n",
       "       [0.77831151, 0.22168849],\n",
       "       [0.77762371, 0.22237629],\n",
       "       [0.8426372 , 0.1573628 ],\n",
       "       [0.77831151, 0.22168849],\n",
       "       [0.77782948, 0.22217052],\n",
       "       [0.77760503, 0.22239497],\n",
       "       [0.77682103, 0.22317897],\n",
       "       [0.77831151, 0.22168849],\n",
       "       [0.77888967, 0.22111033],\n",
       "       [0.33351755, 0.66648245],\n",
       "       [0.7781733 , 0.2218267 ],\n",
       "       [0.77831151, 0.22168849],\n",
       "       [0.74280216, 0.25719784],\n",
       "       [0.58069858, 0.41930142],\n",
       "       [0.60675014, 0.39324986],\n",
       "       [0.77844213, 0.22155787],\n",
       "       [0.77834878, 0.22165122],\n",
       "       [0.33294059, 0.66705941],\n",
       "       [0.77762371, 0.22237629],\n",
       "       [0.80246532, 0.19753468],\n",
       "       [0.34892708, 0.65107292],\n",
       "       [0.77891203, 0.22108797],\n",
       "       [0.77913554, 0.22086446],\n",
       "       [0.89339874, 0.10660126],\n",
       "       [0.33751214, 0.66248786],\n",
       "       [0.3143417 , 0.6856583 ],\n",
       "       [0.7790685 , 0.2209315 ],\n",
       "       [0.57690022, 0.42309978],\n",
       "       [0.77626618, 0.22373382],\n",
       "       [0.32719868, 0.67280132],\n",
       "       [0.77853169, 0.22146831],\n",
       "       [0.27175223, 0.72824777]])"
      ]
     },
     "execution_count": 84,
     "metadata": {},
     "output_type": "execute_result"
    }
   ],
   "source": [
    "# YOUR CODE HERE\n",
    "probability = model.predict_proba(X_test)\n",
    "probability = probability[:,0].mean()\n",
    "\n",
    "probability2 = model.predict_proba(X_test)\n",
    "probability2\n"
   ]
  },
  {
   "cell_type": "markdown",
   "metadata": {},
   "source": [
    "### ☑️ Check your code"
   ]
  },
  {
   "cell_type": "code",
   "execution_count": 75,
   "metadata": {
    "vscode": {
     "languageId": "python"
    }
   },
   "outputs": [
    {
     "name": "stdout",
     "output_type": "stream",
     "text": [
      "\u001b[1m============================= test session starts ==============================\u001b[0m\n",
      "platform linux -- Python 3.8.12, pytest-6.2.5, py-1.11.0, pluggy-1.0.0 -- /home/bitazaratustra/.pyenv/versions/lewagon/bin/python3\n",
      "cachedir: .pytest_cache\n",
      "rootdir: /home/bitazaratustra/code/bitazaratustra/data-challenges/05-ML/01-Fundamentals-of-Machine-Learning/04-Logistic-Regression\n",
      "plugins: anyio-3.4.0\n",
      "\u001b[1mcollecting ... \u001b[0mcollected 3 items\n",
      "\n",
      "tests/test_predictions.py::TestPredictions::test_prediction_is_1 \u001b[32mPASSED\u001b[0m\u001b[32m  [ 33%]\u001b[0m\n",
      "tests/test_predictions.py::TestPredictions::test_probability \u001b[32mPASSED\u001b[0m\u001b[32m      [ 66%]\u001b[0m\n",
      "tests/test_predictions.py::TestPredictions::test_probability_type \u001b[32mPASSED\u001b[0m\u001b[32m [100%]\u001b[0m\n",
      "\n",
      "\u001b[32m============================== \u001b[32m\u001b[1m3 passed\u001b[0m\u001b[32m in 0.18s\u001b[0m\u001b[32m ===============================\u001b[0m\n",
      "\n",
      "\n",
      "💯 You can commit your code:\n",
      "\n",
      "\u001b[1;32mgit\u001b[39m add tests/predictions.pickle\n",
      "\n",
      "\u001b[32mgit\u001b[39m commit -m \u001b[33m'Completed predictions step'\u001b[39m\n",
      "\n",
      "\u001b[32mgit\u001b[39m push origin master\n"
     ]
    }
   ],
   "source": [
    "from nbresult import ChallengeResult\n",
    "\n",
    "result = ChallengeResult('predictions',\n",
    "                         prediction = prediction,\n",
    "                         probability = probability\n",
    ")\n",
    "\n",
    "result.write()\n",
    "print(result.check())"
   ]
  },
  {
   "cell_type": "markdown",
   "metadata": {},
   "source": [
    "# 5 Optional - Model Calibration\n",
    "*Can you trust the predicted probabilities?* 🤔"
   ]
  },
  {
   "cell_type": "markdown",
   "metadata": {},
   "source": [
    "- ❗️ Accuracy only evaluate your model performance based on the predicted **classes** 0s and 1s (obtained via`.predict()`)\n",
    "- ❗️ High accuracy does not necessarily mean that predicted **probabilities** are \"calibrated\" (obtained via `.predict_probas()`)\n",
    "\n",
    "What does \"calibrated\" probabilities mean? \n",
    "> _Among the samples to which your model gave a predict_proba value close to 0.9, approximately 90% actually belong to the positive class._\n",
    "\n",
    "<img src='https://wagon-public-datasets.s3.amazonaws.com/data-science-images/math/logistic-regression.png'>"
   ]
  },
  {
   "cell_type": "markdown",
   "metadata": {},
   "source": [
    "❓ **Question 1**: Read more about [Calibration](https://scikit-learn.org/stable/modules/calibration.html) on sklearn docs"
   ]
  },
  {
   "cell_type": "markdown",
   "metadata": {},
   "source": []
  },
  {
   "cell_type": "markdown",
   "metadata": {},
   "source": [
    "❓ **Question 2**: Try to implement `CalibrationDisplay` to check if you model is calibrated (on a holdout test set)"
   ]
  },
  {
   "cell_type": "code",
   "execution_count": 88,
   "metadata": {},
   "outputs": [],
   "source": [
    "from sklearn.model_selection import train_test_split\n",
    "from sklearn.calibration import CalibrationDisplay\n",
    "X_train, X_test, y_train, y_test = train_test_split(np.array(X), np.array(y), test_size=0.5)\n",
    "\n",
    "model = LogisticRegression()\n",
    "\n",
    "# Fit a model on the train set\n",
    "modelo = model.fit(X_train, y_train)\n",
    "\n",
    "# Print calibration curve on the test set\n"
   ]
  },
  {
   "cell_type": "code",
   "execution_count": 104,
   "metadata": {},
   "outputs": [
    {
     "data": {
      "image/png": "[encoded data removed]",
      "text/plain": [
       "<Figure size 432x288 with 1 Axes>"
      ]
     },
     "metadata": {
      "needs_background": "light"
     },
     "output_type": "display_data"
    }
   ],
   "source": [
    "\n",
    "display = CalibrationDisplay.from_estimator(calibrated, X_test, y_test, n_bins=5)\n",
    "\n"
   ]
  },
  {
   "cell_type": "markdown",
   "metadata": {},
   "source": [
    "❓ **Question 3**: Try to calibrate your model using `CalibratedClassifierCV`, and compute your new probability of survival. \n",
    "\n",
    "(Note that logistic regression are already generally well calibrated because they try to minimize the log-loss, refer to lecture https://kitt.lewagon.com/camps/YOUR_CAMP_NUMBER/lectures/content/04-Decision-Science_04-Logistic-Regression.slides.html?title=Logistic-Regression#/2/7/0)"
   ]
  },
  {
   "cell_type": "code",
   "execution_count": 98,
   "metadata": {
    "tags": [
     "challengify"
    ]
   },
   "outputs": [
    {
     "data": {
      "text/plain": [
       "CalibratedClassifierCV(base_estimator=LogisticRegression(), cv=5)"
      ]
     },
     "execution_count": 98,
     "metadata": {},
     "output_type": "execute_result"
    }
   ],
   "source": [
    "# YOUR CODE HERE\n",
    "\n",
    "\n",
    "\n",
    "from sklearn.calibration import CalibratedClassifierCV \n",
    "\n",
    "calibrated = CalibratedClassifierCV(model, cv=5)\n",
    "calibrated.fit(X_train, y_train)\n",
    "\n"
   ]
  },
  {
   "cell_type": "code",
   "execution_count": 111,
   "metadata": {},
   "outputs": [
    {
     "name": "stdout",
     "output_type": "stream",
     "text": [
      "[1] [[0.42409435 0.57590565]]\n"
     ]
    }
   ],
   "source": [
    "calibrated_prediction = calibrated.predict([[1, 0, 0 , 15]])\n",
    "calibrated_prediction2 = calibrated.predict_proba([[1, 0, 0 , 15]])\n",
    "\n",
    "print(calibrated_prediction, calibrated_prediction2)"
   ]
  },
  {
   "cell_type": "markdown",
   "metadata": {},
   "source": [
    "# 🏁"
   ]
  }
 ],
 "metadata": {
  "kernelspec": {
   "display_name": "Python 3 (ipykernel)",
   "language": "python",
   "name": "python3"
  },
  "language_info": {
   "codemirror_mode": {
    "name": "ipython",
    "version": 3
   },
   "file_extension": ".py",
   "mimetype": "text/x-python",
   "name": "python",
   "nbconvert_exporter": "python",
   "pygments_lexer": "ipython3",
   "version": "3.8.12"
  },
  "toc": {
   "base_numbering": 1,
   "nav_menu": {},
   "number_sections": true,
   "sideBar": true,
   "skip_h1_title": false,
   "title_cell": "Table of Contents",
   "title_sidebar": "Contents",
   "toc_cell": false,
   "toc_position": {},
   "toc_section_display": true,
   "toc_window_display": false
  }
 },
 "nbformat": 4,
 "nbformat_minor": 4
}
