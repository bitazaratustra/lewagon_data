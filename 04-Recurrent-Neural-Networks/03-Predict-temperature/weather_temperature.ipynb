{
 "cells": [
  {
   "cell_type": "markdown",
   "id": "2677302e",
   "metadata": {},
   "source": [
    "# 🌤 Weather Temperature"
   ]
  },
  {
   "cell_type": "markdown",
   "id": "7b8f7b7d",
   "metadata": {},
   "source": [
    "### Libraries"
   ]
  },
  {
   "cell_type": "markdown",
   "id": "c9271a74",
   "metadata": {},
   "source": [
    "* Let's import the usual libraries:"
   ]
  },
  {
   "cell_type": "code",
   "execution_count": 1,
   "id": "1c587bbf",
   "metadata": {},
   "outputs": [],
   "source": [
    "# Data manipulation\n",
    "import numpy as np\n",
    "import pandas as pd\n",
    "pd.set_option(\"max_columns\", None)\n",
    "\n",
    "# Data Visualization\n",
    "import matplotlib.pyplot as plt\n",
    "import seaborn as sns\n",
    "\n",
    "# System\n",
    "import os\n",
    "\n",
    "# Deep Learning\n",
    "import tensorflow as tf"
   ]
  },
  {
   "cell_type": "markdown",
   "id": "0f44591e",
   "metadata": {},
   "source": [
    "* Manipulating temporal data is tricky, let's also import 📚 [`typing`](https://docs.python.org/3/library/typing.html) to check the types of variables we will be dealing with in our Python functions:"
   ]
  },
  {
   "cell_type": "code",
   "execution_count": 2,
   "id": "656567a6",
   "metadata": {},
   "outputs": [],
   "source": [
    "from typing import Dict, List, Tuple, Sequence"
   ]
  },
  {
   "cell_type": "markdown",
   "id": "e3ac51c9",
   "metadata": {},
   "source": [
    "# (0) The weather temperature challenge"
   ]
  },
  {
   "cell_type": "markdown",
   "id": "18861674",
   "metadata": {},
   "source": [
    "## (0.0) Introduction"
   ]
  },
  {
   "cell_type": "markdown",
   "id": "4cc52a14",
   "metadata": {},
   "source": [
    "🧑🏻‍🏫 **Goals:**\n",
    "- Prepare a dataset to be fed into a Recurrent Neural Network\n",
    "- Develop a better understanding of Time Series\n",
    "\n",
    "❗️ **Warning/Disclaimer**:\n",
    "- This challenge is truly designed to help you understand **how to deal with temporal data**, using an LSTM architecture as a _tool_, not to focus on the different gates of the LSTM or designing the \"best\" recurrent network."
   ]
  },
  {
   "cell_type": "markdown",
   "id": "daf7cd9f",
   "metadata": {},
   "source": [
    "🎯 **ML target**:\n",
    "* In this challenge, we want to **predict the temperature in the next 3, 6, 9, 12... hours**... \n",
    "* ...based on a sequence of weather features such as the _past temperature_, the _atmospheric pressure_, the _humidity_, etc.."
   ]
  },
  {
   "cell_type": "markdown",
   "id": "c57d8ca5",
   "metadata": {},
   "source": [
    "## (0.1) The weather dataset"
   ]
  },
  {
   "cell_type": "markdown",
   "id": "4db6b13c",
   "metadata": {},
   "source": [
    "### (0.1.1) Loading the dataset"
   ]
  },
  {
   "cell_type": "markdown",
   "id": "5694d5ff",
   "metadata": {},
   "source": [
    "🌤 This challenge uses a [**weather time series dataset**](https://www.bgc-jena.mpg.de/wetter/) recorded by the [**Max-Planck-Institute for Biogeochemistry**](https://www.bgc-jena.mpg.de/index.php/Main/HomePage). This dataset contains $14$ different features such as _air temperature_, _atmospheric pressure_ and _humidity_ that were collected starting in 2003 every 10 minutes (~ 420k rows). But for efficiency, you will use \"only\" the data collected between 2009 and 2016 every three hours. Indeed, this time interval seems reasonable to observe the evolution of the temperature throughout a given day.\n",
    "\n",
    "🛠 We've already performed the following feature engineering steps for you:\n",
    "- taking every $18$th record to focus on predictions every three hours $ ( 18 =  \\frac{6 records}{hour} \\times 3 hours)$\n",
    "- replacing absurd values\n",
    "- _wind_: computing the wind directions as wind vectors with coordinates (`Wx`, `Wy`)\n",
    "- computing _the daily and yearly periodicities_, stored through (`Day sin`, `Day cos`) and (`Year sin`, `Year cos`)"
   ]
  },
  {
   "cell_type": "markdown",
   "id": "50926f80",
   "metadata": {
    "heading_collapsed": true
   },
   "source": [
    "##### (Keep this section for later) Downloading the original dataset and engineer the features manually\n",
    "\n",
    "_(Toggle the section to hide it for the moment)_"
   ]
  },
  {
   "cell_type": "markdown",
   "id": "40ef9faf",
   "metadata": {
    "hidden": true
   },
   "source": [
    "🥋 If you want to practice your feature engineering skills, feel free to download the original dataset and work on it (but not today, there are many questions and reading sections to cover 😉)"
   ]
  },
  {
   "cell_type": "code",
   "execution_count": null,
   "id": "1ffb696d",
   "metadata": {
    "hidden": true
   },
   "outputs": [],
   "source": [
    "#########################################################\n",
    "# Uncomment later -not today- to download the original  #\n",
    "# dataset and try to perform the features engineering   #\n",
    "# by yourself                                           #\n",
    "#########################################################\n",
    "\n",
    "\n",
    "zip_path = tf.keras.utils.get_file(\n",
    "    origin='https://storage.googleapis.com/tensorflow/tf-keras-datasets/jena_climate_2009_2016.csv.zip',\n",
    "    fname='jena_climate_2009_2016.csv.zip',\n",
    "    extract=True)\n",
    "csv_path, _ = os.path.splitext(zip_path)\n",
    "\n",
    "raw = pd.read_csv(csv_path)\n",
    "\n",
    "print(f\"raw.shape = {raw.shape}\")\n",
    "display(raw.head())"
   ]
  },
  {
   "cell_type": "code",
   "execution_count": null,
   "id": "8dbbff02",
   "metadata": {
    "hidden": true
   },
   "outputs": [],
   "source": [
    "# Inspecting each feature to detect their type and null values\n",
    "raw.info()"
   ]
  },
  {
   "cell_type": "code",
   "execution_count": null,
   "id": "0d7a036e",
   "metadata": {
    "hidden": true
   },
   "outputs": [],
   "source": [
    "# Slice [start:stop:step], \n",
    "# starting from index 5, take every 6th record\n",
    "# to get only hourly records\n",
    "\n",
    "pass  # YOUR CODE HERE"
   ]
  },
  {
   "cell_type": "code",
   "execution_count": null,
   "id": "a1bebf21",
   "metadata": {
    "hidden": true
   },
   "outputs": [],
   "source": [
    "# Convert the \"Date Time\" column to a datetime format\n",
    "\n",
    "pass  # YOUR CODE HERE"
   ]
  },
  {
   "cell_type": "code",
   "execution_count": null,
   "id": "89ef618c",
   "metadata": {
    "hidden": true
   },
   "outputs": [],
   "source": [
    "# Describe the dataset\n",
    "\n",
    "pass  # YOUR CODE HERE"
   ]
  },
  {
   "cell_type": "code",
   "execution_count": null,
   "id": "75920778",
   "metadata": {
    "hidden": true
   },
   "outputs": [],
   "source": [
    "## Fixing the wv\n",
    "\n",
    "pass  # YOUR CODE HERE\n",
    "\n",
    "## Fixing the max wv\n",
    "\n",
    "pass  # YOUR CODE HERE"
   ]
  },
  {
   "cell_type": "code",
   "execution_count": null,
   "id": "feb610ba",
   "metadata": {
    "hidden": true
   },
   "outputs": [],
   "source": [
    "# Wind : Wd degrees from 0 to 360 degrees\n",
    "# Angles do not make good models inputs because 0 and 360 should be \"close\"\n",
    "\n",
    "print('-'*50)\n",
    "print(\"Working with angles...\")\n",
    "\n",
    "plt.hist2d(\n",
    "    df['wd (deg)'], df['wv (m/s)'], \n",
    "    bins=(50, 50), \n",
    "    vmax=400\n",
    ")\n",
    "\n",
    "plt.colorbar()\n",
    "plt.xlabel('Wind Direction [deg]')\n",
    "plt.ylabel('Wind Velocity [m/s]')\n",
    "plt.show()\n",
    "\n",
    "# It is much easier for the model to interpret\n",
    "# the wind direction and the wind velocity through a vector\n",
    "\n",
    "\n",
    "# Convert degrees to radians and store the values into wd_rad\n",
    "pass  # YOUR CODE HERE\n",
    "\n",
    "# Calculate the wind x and y components and store then in two new columns\n",
    "# `Wx` and `Wy`\n",
    "pass  # YOUR CODE HERE\n",
    "\n",
    "# Calculate the max wind x and y components and store then in two new columns\n",
    "# `max Wx` and `max Wy`\n",
    "pass  # YOUR CODE HERE\n",
    "\n",
    "print('-'*50)\n",
    "print(\"Working with wind vectors\")\n",
    "\n",
    "plt.hist2d(\n",
    "    df['Wx'], df['Wy'], \n",
    "    bins=(50, 50), vmax=400\n",
    ")\n",
    "\n",
    "plt.colorbar()\n",
    "plt.xlabel('Wind X [m/s]')\n",
    "plt.ylabel('Wind Y [m/s]')\n",
    "ax = plt.gca()\n",
    "ax.axis('tight')\n",
    "plt.show()\n",
    "\n",
    "# $CHALLENGIFY_END"
   ]
  },
  {
   "cell_type": "code",
   "execution_count": null,
   "id": "f3180565",
   "metadata": {
    "hidden": true
   },
   "outputs": [],
   "source": [
    "# Similarly to the wind direction, the time in seconds is not a useful model input\n",
    "# The weather dataset has clear daily and yearly periodicities\n",
    "# Using sine and cosine functions, we can compute:\n",
    "# - the time of the day\n",
    "# - the time of the year\n",
    "\n",
    "pass  # YOUR CODE HERE"
   ]
  },
  {
   "cell_type": "code",
   "execution_count": null,
   "id": "285325f4",
   "metadata": {
    "hidden": true
   },
   "outputs": [],
   "source": [
    "# Select every 3 hours \n",
    "\n",
    "pass  # YOUR CODE HERE"
   ]
  },
  {
   "cell_type": "markdown",
   "id": "8c155471",
   "metadata": {},
   "source": [
    "##### Trust us and start from this already preprocessed dataset for this challenge"
   ]
  },
  {
   "cell_type": "code",
   "execution_count": 3,
   "id": "0d5f1ae5",
   "metadata": {},
   "outputs": [
    {
     "data": {
      "text/html": [
       "<div>\n",
       "<style scoped>\n",
       "    .dataframe tbody tr th:only-of-type {\n",
       "        vertical-align: middle;\n",
       "    }\n",
       "\n",
       "    .dataframe tbody tr th {\n",
       "        vertical-align: top;\n",
       "    }\n",
       "\n",
       "    .dataframe thead th {\n",
       "        text-align: right;\n",
       "    }\n",
       "</style>\n",
       "<table border=\"1\" class=\"dataframe\">\n",
       "  <thead>\n",
       "    <tr style=\"text-align: right;\">\n",
       "      <th></th>\n",
       "      <th>p (mbar)</th>\n",
       "      <th>T (degC)</th>\n",
       "      <th>Tpot (K)</th>\n",
       "      <th>Tdew (degC)</th>\n",
       "      <th>rh (%)</th>\n",
       "      <th>VPmax (mbar)</th>\n",
       "      <th>VPact (mbar)</th>\n",
       "      <th>VPdef (mbar)</th>\n",
       "      <th>sh (g/kg)</th>\n",
       "      <th>H2OC (mmol/mol)</th>\n",
       "      <th>rho (g/m**3)</th>\n",
       "      <th>Wx</th>\n",
       "      <th>Wy</th>\n",
       "      <th>max Wx</th>\n",
       "      <th>max Wy</th>\n",
       "      <th>Day_sin</th>\n",
       "      <th>Day_cos</th>\n",
       "      <th>Year_sin</th>\n",
       "      <th>Year_cos</th>\n",
       "    </tr>\n",
       "  </thead>\n",
       "  <tbody>\n",
       "    <tr>\n",
       "      <th>0</th>\n",
       "      <td>996.84</td>\n",
       "      <td>-8.81</td>\n",
       "      <td>264.59</td>\n",
       "      <td>-9.66</td>\n",
       "      <td>93.50</td>\n",
       "      <td>3.13</td>\n",
       "      <td>2.93</td>\n",
       "      <td>0.20</td>\n",
       "      <td>1.83</td>\n",
       "      <td>2.94</td>\n",
       "      <td>1312.18</td>\n",
       "      <td>-0.175527</td>\n",
       "      <td>0.039879</td>\n",
       "      <td>-0.614344</td>\n",
       "      <td>0.139576</td>\n",
       "      <td>7.071068e-01</td>\n",
       "      <td>7.071068e-01</td>\n",
       "      <td>0.011483</td>\n",
       "      <td>0.999934</td>\n",
       "    </tr>\n",
       "    <tr>\n",
       "      <th>1</th>\n",
       "      <td>997.71</td>\n",
       "      <td>-9.67</td>\n",
       "      <td>263.66</td>\n",
       "      <td>-10.62</td>\n",
       "      <td>92.70</td>\n",
       "      <td>2.93</td>\n",
       "      <td>2.71</td>\n",
       "      <td>0.21</td>\n",
       "      <td>1.69</td>\n",
       "      <td>2.72</td>\n",
       "      <td>1317.71</td>\n",
       "      <td>-0.041452</td>\n",
       "      <td>0.027960</td>\n",
       "      <td>-0.414519</td>\n",
       "      <td>0.279596</td>\n",
       "      <td>1.000000e+00</td>\n",
       "      <td>4.339955e-12</td>\n",
       "      <td>0.013633</td>\n",
       "      <td>0.999907</td>\n",
       "    </tr>\n",
       "    <tr>\n",
       "      <th>2</th>\n",
       "      <td>999.69</td>\n",
       "      <td>-7.66</td>\n",
       "      <td>265.52</td>\n",
       "      <td>-8.84</td>\n",
       "      <td>91.20</td>\n",
       "      <td>3.43</td>\n",
       "      <td>3.13</td>\n",
       "      <td>0.30</td>\n",
       "      <td>1.95</td>\n",
       "      <td>3.13</td>\n",
       "      <td>1310.14</td>\n",
       "      <td>-0.314796</td>\n",
       "      <td>-0.128466</td>\n",
       "      <td>-0.583298</td>\n",
       "      <td>-0.238040</td>\n",
       "      <td>7.071068e-01</td>\n",
       "      <td>-7.071068e-01</td>\n",
       "      <td>0.015783</td>\n",
       "      <td>0.999875</td>\n",
       "    </tr>\n",
       "    <tr>\n",
       "      <th>3</th>\n",
       "      <td>1000.30</td>\n",
       "      <td>-6.87</td>\n",
       "      <td>266.27</td>\n",
       "      <td>-8.28</td>\n",
       "      <td>89.60</td>\n",
       "      <td>3.64</td>\n",
       "      <td>3.27</td>\n",
       "      <td>0.38</td>\n",
       "      <td>2.03</td>\n",
       "      <td>3.26</td>\n",
       "      <td>1306.98</td>\n",
       "      <td>-1.834577</td>\n",
       "      <td>-0.141163</td>\n",
       "      <td>-2.622249</td>\n",
       "      <td>-0.201771</td>\n",
       "      <td>6.903299e-12</td>\n",
       "      <td>-1.000000e+00</td>\n",
       "      <td>0.017933</td>\n",
       "      <td>0.999839</td>\n",
       "    </tr>\n",
       "    <tr>\n",
       "      <th>4</th>\n",
       "      <td>999.88</td>\n",
       "      <td>-5.69</td>\n",
       "      <td>267.48</td>\n",
       "      <td>-7.00</td>\n",
       "      <td>90.40</td>\n",
       "      <td>3.99</td>\n",
       "      <td>3.61</td>\n",
       "      <td>0.38</td>\n",
       "      <td>2.25</td>\n",
       "      <td>3.61</td>\n",
       "      <td>1300.51</td>\n",
       "      <td>-0.825870</td>\n",
       "      <td>0.828758</td>\n",
       "      <td>-1.327039</td>\n",
       "      <td>1.331679</td>\n",
       "      <td>-7.071068e-01</td>\n",
       "      <td>-7.071068e-01</td>\n",
       "      <td>0.020083</td>\n",
       "      <td>0.999798</td>\n",
       "    </tr>\n",
       "    <tr>\n",
       "      <th>...</th>\n",
       "      <td>...</td>\n",
       "      <td>...</td>\n",
       "      <td>...</td>\n",
       "      <td>...</td>\n",
       "      <td>...</td>\n",
       "      <td>...</td>\n",
       "      <td>...</td>\n",
       "      <td>...</td>\n",
       "      <td>...</td>\n",
       "      <td>...</td>\n",
       "      <td>...</td>\n",
       "      <td>...</td>\n",
       "      <td>...</td>\n",
       "      <td>...</td>\n",
       "      <td>...</td>\n",
       "      <td>...</td>\n",
       "      <td>...</td>\n",
       "      <td>...</td>\n",
       "      <td>...</td>\n",
       "    </tr>\n",
       "    <tr>\n",
       "      <th>23358</th>\n",
       "      <td>1006.23</td>\n",
       "      <td>-6.31</td>\n",
       "      <td>266.37</td>\n",
       "      <td>-8.42</td>\n",
       "      <td>84.90</td>\n",
       "      <td>3.81</td>\n",
       "      <td>3.23</td>\n",
       "      <td>0.57</td>\n",
       "      <td>2.00</td>\n",
       "      <td>3.21</td>\n",
       "      <td>1312.01</td>\n",
       "      <td>-1.279930</td>\n",
       "      <td>-0.013404</td>\n",
       "      <td>-1.839899</td>\n",
       "      <td>-0.019268</td>\n",
       "      <td>6.755902e-01</td>\n",
       "      <td>-7.372773e-01</td>\n",
       "      <td>-0.000268</td>\n",
       "      <td>1.000000</td>\n",
       "    </tr>\n",
       "    <tr>\n",
       "      <th>23359</th>\n",
       "      <td>1004.62</td>\n",
       "      <td>-0.71</td>\n",
       "      <td>272.09</td>\n",
       "      <td>-5.97</td>\n",
       "      <td>67.37</td>\n",
       "      <td>5.80</td>\n",
       "      <td>3.91</td>\n",
       "      <td>1.89</td>\n",
       "      <td>2.42</td>\n",
       "      <td>3.89</td>\n",
       "      <td>1282.65</td>\n",
       "      <td>-0.976457</td>\n",
       "      <td>-0.412471</td>\n",
       "      <td>-1.916066</td>\n",
       "      <td>-0.809378</td>\n",
       "      <td>-4.361939e-02</td>\n",
       "      <td>-9.990482e-01</td>\n",
       "      <td>0.001883</td>\n",
       "      <td>0.999998</td>\n",
       "    </tr>\n",
       "    <tr>\n",
       "      <th>23360</th>\n",
       "      <td>1003.09</td>\n",
       "      <td>4.97</td>\n",
       "      <td>277.88</td>\n",
       "      <td>-3.04</td>\n",
       "      <td>56.03</td>\n",
       "      <td>8.71</td>\n",
       "      <td>4.88</td>\n",
       "      <td>3.83</td>\n",
       "      <td>3.03</td>\n",
       "      <td>4.86</td>\n",
       "      <td>1254.09</td>\n",
       "      <td>-0.403185</td>\n",
       "      <td>-0.359224</td>\n",
       "      <td>-0.776504</td>\n",
       "      <td>-0.691840</td>\n",
       "      <td>-7.372773e-01</td>\n",
       "      <td>-6.755902e-01</td>\n",
       "      <td>0.004033</td>\n",
       "      <td>0.999992</td>\n",
       "    </tr>\n",
       "    <tr>\n",
       "      <th>23361</th>\n",
       "      <td>1002.27</td>\n",
       "      <td>-0.42</td>\n",
       "      <td>272.56</td>\n",
       "      <td>-4.92</td>\n",
       "      <td>71.50</td>\n",
       "      <td>5.92</td>\n",
       "      <td>4.23</td>\n",
       "      <td>1.69</td>\n",
       "      <td>2.63</td>\n",
       "      <td>4.22</td>\n",
       "      <td>1278.14</td>\n",
       "      <td>-0.266024</td>\n",
       "      <td>-0.350473</td>\n",
       "      <td>-0.604599</td>\n",
       "      <td>-0.796530</td>\n",
       "      <td>-9.990482e-01</td>\n",
       "      <td>4.361939e-02</td>\n",
       "      <td>0.006183</td>\n",
       "      <td>0.999981</td>\n",
       "    </tr>\n",
       "    <tr>\n",
       "      <th>23362</th>\n",
       "      <td>1001.19</td>\n",
       "      <td>-2.75</td>\n",
       "      <td>270.32</td>\n",
       "      <td>-6.90</td>\n",
       "      <td>72.90</td>\n",
       "      <td>4.99</td>\n",
       "      <td>3.64</td>\n",
       "      <td>1.35</td>\n",
       "      <td>2.26</td>\n",
       "      <td>3.63</td>\n",
       "      <td>1288.02</td>\n",
       "      <td>-0.661501</td>\n",
       "      <td>0.257908</td>\n",
       "      <td>-1.453438</td>\n",
       "      <td>0.566672</td>\n",
       "      <td>-6.755902e-01</td>\n",
       "      <td>7.372773e-01</td>\n",
       "      <td>0.008334</td>\n",
       "      <td>0.999965</td>\n",
       "    </tr>\n",
       "  </tbody>\n",
       "</table>\n",
       "<p>23363 rows × 19 columns</p>\n",
       "</div>"
      ],
      "text/plain": [
       "       p (mbar)  T (degC)  Tpot (K)  Tdew (degC)  rh (%)  VPmax (mbar)  \\\n",
       "0        996.84     -8.81    264.59        -9.66   93.50          3.13   \n",
       "1        997.71     -9.67    263.66       -10.62   92.70          2.93   \n",
       "2        999.69     -7.66    265.52        -8.84   91.20          3.43   \n",
       "3       1000.30     -6.87    266.27        -8.28   89.60          3.64   \n",
       "4        999.88     -5.69    267.48        -7.00   90.40          3.99   \n",
       "...         ...       ...       ...          ...     ...           ...   \n",
       "23358   1006.23     -6.31    266.37        -8.42   84.90          3.81   \n",
       "23359   1004.62     -0.71    272.09        -5.97   67.37          5.80   \n",
       "23360   1003.09      4.97    277.88        -3.04   56.03          8.71   \n",
       "23361   1002.27     -0.42    272.56        -4.92   71.50          5.92   \n",
       "23362   1001.19     -2.75    270.32        -6.90   72.90          4.99   \n",
       "\n",
       "       VPact (mbar)  VPdef (mbar)  sh (g/kg)  H2OC (mmol/mol)  rho (g/m**3)  \\\n",
       "0              2.93          0.20       1.83             2.94       1312.18   \n",
       "1              2.71          0.21       1.69             2.72       1317.71   \n",
       "2              3.13          0.30       1.95             3.13       1310.14   \n",
       "3              3.27          0.38       2.03             3.26       1306.98   \n",
       "4              3.61          0.38       2.25             3.61       1300.51   \n",
       "...             ...           ...        ...              ...           ...   \n",
       "23358          3.23          0.57       2.00             3.21       1312.01   \n",
       "23359          3.91          1.89       2.42             3.89       1282.65   \n",
       "23360          4.88          3.83       3.03             4.86       1254.09   \n",
       "23361          4.23          1.69       2.63             4.22       1278.14   \n",
       "23362          3.64          1.35       2.26             3.63       1288.02   \n",
       "\n",
       "             Wx        Wy    max Wx    max Wy       Day_sin       Day_cos  \\\n",
       "0     -0.175527  0.039879 -0.614344  0.139576  7.071068e-01  7.071068e-01   \n",
       "1     -0.041452  0.027960 -0.414519  0.279596  1.000000e+00  4.339955e-12   \n",
       "2     -0.314796 -0.128466 -0.583298 -0.238040  7.071068e-01 -7.071068e-01   \n",
       "3     -1.834577 -0.141163 -2.622249 -0.201771  6.903299e-12 -1.000000e+00   \n",
       "4     -0.825870  0.828758 -1.327039  1.331679 -7.071068e-01 -7.071068e-01   \n",
       "...         ...       ...       ...       ...           ...           ...   \n",
       "23358 -1.279930 -0.013404 -1.839899 -0.019268  6.755902e-01 -7.372773e-01   \n",
       "23359 -0.976457 -0.412471 -1.916066 -0.809378 -4.361939e-02 -9.990482e-01   \n",
       "23360 -0.403185 -0.359224 -0.776504 -0.691840 -7.372773e-01 -6.755902e-01   \n",
       "23361 -0.266024 -0.350473 -0.604599 -0.796530 -9.990482e-01  4.361939e-02   \n",
       "23362 -0.661501  0.257908 -1.453438  0.566672 -6.755902e-01  7.372773e-01   \n",
       "\n",
       "       Year_sin  Year_cos  \n",
       "0      0.011483  0.999934  \n",
       "1      0.013633  0.999907  \n",
       "2      0.015783  0.999875  \n",
       "3      0.017933  0.999839  \n",
       "4      0.020083  0.999798  \n",
       "...         ...       ...  \n",
       "23358 -0.000268  1.000000  \n",
       "23359  0.001883  0.999998  \n",
       "23360  0.004033  0.999992  \n",
       "23361  0.006183  0.999981  \n",
       "23362  0.008334  0.999965  \n",
       "\n",
       "[23363 rows x 19 columns]"
      ]
     },
     "execution_count": 3,
     "metadata": {},
     "output_type": "execute_result"
    }
   ],
   "source": [
    "url = \"https://wagon-public-datasets.s3.amazonaws.com/deep_learning_datasets/weather_every_three_hours_engineered.csv\"\n",
    "df = pd.read_csv(url).drop(columns = ['Unnamed: 0'])\n",
    "df"
   ]
  },
  {
   "cell_type": "markdown",
   "id": "139b96cb",
   "metadata": {},
   "source": [
    "👆 In the preprocessed dataset, we have :\n",
    "- $23$k rows  (~ 8 years of weather data)\n",
    "- $19$ features composed of:\n",
    "    - $1$ <font color=green>**target**</font> (we will use the past values of the temperature as a feature)\n",
    "    - $18$ <font color=orange>**past covariates**</font> (= features which past values are known)\n",
    "    - $0$ <font color=blue>**future covariates**</font> (= features which future values are known, e.g. public holidays)\n",
    "\n",
    "    \n",
    "<img src='https://wagon-public-datasets.s3.amazonaws.com/data-science-images/DL/time-series-covariates.png'>\n",
    "\n",
    "👨🏻‍🏫 This weather dataset is a DataFrame (dimension = 2) which is a single Time Series from the beginning of 2009 to the end 2016 with records every 3 hours. \n",
    "\n",
    "* `df.shape = (n_timesteps, n_features) = (23363, 19)`\n",
    "\n",
    "🎯 The goal is to predict the temperature in 3, 6, 9, 12, ... hours using the past values."
   ]
  },
  {
   "cell_type": "code",
   "execution_count": 4,
   "id": "855073c8",
   "metadata": {},
   "outputs": [
    {
     "data": {
      "text/plain": [
       "(23363, 19)"
      ]
     },
     "execution_count": 4,
     "metadata": {},
     "output_type": "execute_result"
    }
   ],
   "source": [
    "df.shape"
   ]
  },
  {
   "cell_type": "code",
   "execution_count": 5,
   "id": "2b0499de",
   "metadata": {},
   "outputs": [],
   "source": [
    "# Let's define the global variables of our dataset\n",
    "TARGET = 'T (degC)'\n",
    "N_TARGETS = 1\n",
    "N_FEATURES = 19"
   ]
  },
  {
   "cell_type": "markdown",
   "id": "997c6c45",
   "metadata": {},
   "source": [
    "### (0.0.2) Visualising your Time Series"
   ]
  },
  {
   "cell_type": "markdown",
   "id": "41168f9d",
   "metadata": {},
   "source": [
    "📈  Here is the ***evolution of some features over time***:\n",
    "* `T (degC)` (temperature)\n",
    "* `p (mbar)` (atmospheric pressure)\n",
    "* `rho (g/m**3)` (atmospheric density)\n",
    "\n"
   ]
  },
  {
   "cell_type": "code",
   "execution_count": 6,
   "id": "bf9be6ee",
   "metadata": {},
   "outputs": [
    {
     "data": {
      "image/png": "[encoded data removed]",
      "text/plain": [
       "<Figure size 432x288 with 3 Axes>"
      ]
     },
     "metadata": {
      "needs_background": "light"
     },
     "output_type": "display_data"
    }
   ],
   "source": [
    "plot_cols = [TARGET, 'p (mbar)', 'rho (g/m**3)']\n",
    "plot_features = df[plot_cols]\n",
    "plot_features.index = df.index\n",
    "plot_features.plot(subplots = True);"
   ]
  },
  {
   "cell_type": "code",
   "execution_count": 7,
   "id": "502a3a74",
   "metadata": {},
   "outputs": [
    {
     "data": {
      "image/png": "[encoded data removed]",
      "text/plain": [
       "<Figure size 432x288 with 3 Axes>"
      ]
     },
     "metadata": {
      "needs_background": "light"
     },
     "output_type": "display_data"
    }
   ],
   "source": [
    "zoomed_slice = slice(1000,1100)\n",
    "\n",
    "plot_features = df.loc[zoomed_slice, plot_cols]\n",
    "plot_features.plot(subplots = True);"
   ]
  },
  {
   "cell_type": "markdown",
   "id": "0c53155a",
   "metadata": {},
   "source": [
    "# (1) Prepare the dataset"
   ]
  },
  {
   "cell_type": "markdown",
   "id": "e1596592",
   "metadata": {},
   "source": [
    "##  (1.0) The big picture"
   ]
  },
  {
   "cell_type": "markdown",
   "id": "88705d34",
   "metadata": {},
   "source": [
    "<b><u>Step 1: Cross-Validation in Time Series [FOLDS] </u></b>\n",
    "\n",
    "* Starting from this single Time Series, we will create <font color=\"#c91ac9\">**FOLDS**</font>...\n",
    "* ... and train/evaluate our LSTM on these different <font color=\"#c91ac9\">**FOLDS**</font> to conclude about the robustness of the neural network\n",
    "* It is very common to create ***hundreds*** of <font color=\"#c91ac9\">**FOLDS**</font> in Time Series forecasting, in order to to cover all types of external conditions: e.g.\n",
    "    - crash market periods 📉\n",
    "    - bull markets 📈\n",
    "    - atone markets 😴, etc...\n",
    "\n",
    "<b><u>Step 2: Holdout method within each fold [TRAIN-TEST SPLIT]</u></b>\n",
    "\n",
    "* For each <font color=\"#c91ac9\">**FOLD**</font>, we will do a TRAIN-TEST SPLIT to:\n",
    "    * <font color=blue>**fit**</font> the model on the <font color=blue>**train**</font> set \n",
    "    * and <font color=\"#ff8005\">**evaluate**</font> it on the <font color=\"#ff8005\">**test**</font> set\n",
    "    * Always split the train set **chronologically** before the test set!\n",
    "\n",
    "👇 The first two steps can be summarized in the following image that contains 4 FOLDS:\n",
    "\n",
    "<img src=\"https://bit.ly/3yLoa92\" alt=\"Time Series Cross Validation\" width=\"500\" height=\"500\">\n",
    "\n",
    "\n",
    "<b><u>Step 3: Sampling SEQUENCES in both the train set and the test set</u></b>\n",
    "\n",
    "In each <font color=blue>**train**</font> set and each <font color=\"#ff8005\">**test**</font> set, we will create <font color=magenta>**random sequences**</font> as illustrated down below 👇:\n",
    "\n",
    "<img src=\"https://bit.ly/3Ri8Vfd\" alt=\"Sequences in each fold\" width=\"500\" height=\"500\"> \n",
    "\n"
   ]
  },
  {
   "cell_type": "markdown",
   "id": "b3811b95",
   "metadata": {},
   "source": [
    "## (1.1) Creating  <font color=\"#c91ac9\">**FOLDS**</font> for cross-validation\n",
    "\n",
    "Each of them with shape `(FOLD_LENGTH, n_features)` "
   ]
  },
  {
   "cell_type": "markdown",
   "id": "d8adf15c",
   "metadata": {},
   "source": [
    "🌐 Let's define some global variables that we will use for our tests everywhere in this notebook:"
   ]
  },
  {
   "cell_type": "code",
   "execution_count": 8,
   "id": "b772725e",
   "metadata": {},
   "outputs": [],
   "source": [
    "# --------------------------------------------------- #\n",
    "# Let's consider FOLDS with a length of 3 years       #\n",
    "# (2 years will be used for train, 1 for test!)       #\n",
    "# --------------------------------------------------- #\n",
    "\n",
    "FOLD_LENGTH = 8*365 * 3 # every 3 hrs x 8 = 24h\n",
    "                        # three years\n",
    "\n",
    "# --------------------------------------------------- #\n",
    "# Let's consider FOLDS starting every trimester       #\n",
    "# --------------------------------------------------- #\n",
    "    \n",
    "FOLD_STRIDE = 8*91 # every 3 hrs x 8 = 24h\n",
    "                   # 1 quarter = 91 days\n",
    "\n",
    "# --------------------------------------------------- #\n",
    "# Let's consider a train-test-split ratio of 2/3      #\n",
    "# --------------------------------------------------- #\n",
    "\n",
    "TRAIN_TEST_RATIO = 0.66"
   ]
  },
  {
   "cell_type": "markdown",
   "id": "846f9d38",
   "metadata": {},
   "source": [
    "❓ **Question (<font color=\"#c91ac9\">FOLDS</font>)** ❓\n",
    "\n",
    "Code the function `get_folds` below that we will use to create folds  `folds = get_folds(df, FOLD_LENGTH, FOLD_STRIDE)`"
   ]
  },
  {
   "cell_type": "code",
   "execution_count": 9,
   "id": "314a4641",
   "metadata": {},
   "outputs": [],
   "source": [
    "def get_folds(\n",
    "    df: pd.DataFrame, \n",
    "    fold_length: int,\n",
    "    fold_stride: int) -> List[pd.DataFrame]:\n",
    "    '''\n",
    "    This function slides through the Time Series dataframe of shape (n_timesteps, n_features) to create folds\n",
    "    - of equal `fold_length`\n",
    "    - using `fold_stride` between each fold\n",
    "    \n",
    "    Returns a list of folds, each as a DataFrame\n",
    "    '''\n",
    "    lista = []\n",
    "    for stride in range(0,len(df)- fold_length,fold_stride):\n",
    "        lista.append(df.iloc[stride:fold_length + stride, :])\n",
    "        \n",
    "    return lista\n",
    "   "
   ]
  },
  {
   "cell_type": "markdown",
   "id": "a05ea40d",
   "metadata": {},
   "source": [
    "🧪 ***Test your code***"
   ]
  },
  {
   "cell_type": "code",
   "execution_count": 10,
   "id": "5bf5094c",
   "metadata": {},
   "outputs": [
    {
     "name": "stdout",
     "output_type": "stream",
     "text": [
      "The function generated 21 folds.\n",
      "Each fold has a shape equal to (8760, 19).\n"
     ]
    }
   ],
   "source": [
    "folds = get_folds(df, FOLD_LENGTH, FOLD_STRIDE)\n",
    "\n",
    "print(f'The function generated {len(folds)} folds.')\n",
    "print(f'Each fold has a shape equal to {folds[0].shape}.')"
   ]
  },
  {
   "cell_type": "code",
   "execution_count": 11,
   "id": "bf6206e4",
   "metadata": {
    "collapsed": true
   },
   "outputs": [
    {
     "name": "stdout",
     "output_type": "stream",
     "text": [
      "\u001b[1m============================= test session starts ==============================\u001b[0m\n",
      "platform linux -- Python 3.8.12, pytest-6.2.5, py-1.11.0, pluggy-1.0.0 -- /home/bitazaratustra/.pyenv/versions/lewagon/bin/python3\n",
      "cachedir: .pytest_cache\n",
      "rootdir: /home/bitazaratustra/code/bitazaratustra/data-challenges/06-Deep-Learning/04-Recurrent-Neural-Networks/03-Predict-temperature\n",
      "plugins: anyio-3.4.0\n",
      "\u001b[1mcollecting ... \u001b[0mcollected 2 items\n",
      "\n",
      "tests/test_folds.py::TestFolds::test_variable_fold_shape \u001b[32mPASSED\u001b[0m\u001b[32m          [ 50%]\u001b[0m\n",
      "tests/test_folds.py::TestFolds::test_variable_number_of_folds \u001b[32mPASSED\u001b[0m\u001b[32m     [100%]\u001b[0m\n",
      "\n",
      "\u001b[32m============================== \u001b[32m\u001b[1m2 passed\u001b[0m\u001b[32m in 0.03s\u001b[0m\u001b[32m ===============================\u001b[0m\n",
      "\n",
      "\n",
      "💯 You can commit your code:\n",
      "\n",
      "\u001b[1;32mgit\u001b[39m add tests/folds.pickle\n",
      "\n",
      "\u001b[32mgit\u001b[39m commit -m \u001b[33m'Completed folds step'\u001b[39m\n",
      "\n",
      "\u001b[32mgit\u001b[39m push origin master\n"
     ]
    }
   ],
   "source": [
    "from nbresult import ChallengeResult\n",
    "\n",
    "result = ChallengeResult('folds',\n",
    "                         number_of_folds = len(folds),\n",
    "                         fold_shape = folds[0].shape)\n",
    "result.write()\n",
    "print(result.check())"
   ]
  },
  {
   "cell_type": "markdown",
   "id": "c124e510",
   "metadata": {},
   "source": [
    "☝️ This amount of <font color=\"#c91ac9\">**FOLDS**</font> should be enough to cross-validate our model correctly !"
   ]
  },
  {
   "cell_type": "markdown",
   "id": "7b8cdd62",
   "metadata": {},
   "source": [
    "## (1.2) Temporal <font color=blue>**Train**</font>/<font color=\"#ff8005\">**Test**</font> Split"
   ]
  },
  {
   "cell_type": "markdown",
   "id": "09b16ee9",
   "metadata": {},
   "source": [
    "👩🏻‍🏫 Let's focus on one fold for the moment."
   ]
  },
  {
   "cell_type": "code",
   "execution_count": 12,
   "id": "cef64bd8",
   "metadata": {},
   "outputs": [
    {
     "data": {
      "text/html": [
       "<div>\n",
       "<style scoped>\n",
       "    .dataframe tbody tr th:only-of-type {\n",
       "        vertical-align: middle;\n",
       "    }\n",
       "\n",
       "    .dataframe tbody tr th {\n",
       "        vertical-align: top;\n",
       "    }\n",
       "\n",
       "    .dataframe thead th {\n",
       "        text-align: right;\n",
       "    }\n",
       "</style>\n",
       "<table border=\"1\" class=\"dataframe\">\n",
       "  <thead>\n",
       "    <tr style=\"text-align: right;\">\n",
       "      <th></th>\n",
       "      <th>p (mbar)</th>\n",
       "      <th>T (degC)</th>\n",
       "      <th>Tpot (K)</th>\n",
       "      <th>Tdew (degC)</th>\n",
       "      <th>rh (%)</th>\n",
       "      <th>VPmax (mbar)</th>\n",
       "      <th>VPact (mbar)</th>\n",
       "      <th>VPdef (mbar)</th>\n",
       "      <th>sh (g/kg)</th>\n",
       "      <th>H2OC (mmol/mol)</th>\n",
       "      <th>rho (g/m**3)</th>\n",
       "      <th>Wx</th>\n",
       "      <th>Wy</th>\n",
       "      <th>max Wx</th>\n",
       "      <th>max Wy</th>\n",
       "      <th>Day_sin</th>\n",
       "      <th>Day_cos</th>\n",
       "      <th>Year_sin</th>\n",
       "      <th>Year_cos</th>\n",
       "    </tr>\n",
       "  </thead>\n",
       "  <tbody>\n",
       "    <tr>\n",
       "      <th>0</th>\n",
       "      <td>996.84</td>\n",
       "      <td>-8.81</td>\n",
       "      <td>264.59</td>\n",
       "      <td>-9.66</td>\n",
       "      <td>93.5</td>\n",
       "      <td>3.13</td>\n",
       "      <td>2.93</td>\n",
       "      <td>0.20</td>\n",
       "      <td>1.83</td>\n",
       "      <td>2.94</td>\n",
       "      <td>1312.18</td>\n",
       "      <td>-0.175527</td>\n",
       "      <td>0.039879</td>\n",
       "      <td>-0.614344</td>\n",
       "      <td>0.139576</td>\n",
       "      <td>7.071068e-01</td>\n",
       "      <td>7.071068e-01</td>\n",
       "      <td>0.011483</td>\n",
       "      <td>0.999934</td>\n",
       "    </tr>\n",
       "    <tr>\n",
       "      <th>1</th>\n",
       "      <td>997.71</td>\n",
       "      <td>-9.67</td>\n",
       "      <td>263.66</td>\n",
       "      <td>-10.62</td>\n",
       "      <td>92.7</td>\n",
       "      <td>2.93</td>\n",
       "      <td>2.71</td>\n",
       "      <td>0.21</td>\n",
       "      <td>1.69</td>\n",
       "      <td>2.72</td>\n",
       "      <td>1317.71</td>\n",
       "      <td>-0.041452</td>\n",
       "      <td>0.027960</td>\n",
       "      <td>-0.414519</td>\n",
       "      <td>0.279596</td>\n",
       "      <td>1.000000e+00</td>\n",
       "      <td>4.339955e-12</td>\n",
       "      <td>0.013633</td>\n",
       "      <td>0.999907</td>\n",
       "    </tr>\n",
       "    <tr>\n",
       "      <th>2</th>\n",
       "      <td>999.69</td>\n",
       "      <td>-7.66</td>\n",
       "      <td>265.52</td>\n",
       "      <td>-8.84</td>\n",
       "      <td>91.2</td>\n",
       "      <td>3.43</td>\n",
       "      <td>3.13</td>\n",
       "      <td>0.30</td>\n",
       "      <td>1.95</td>\n",
       "      <td>3.13</td>\n",
       "      <td>1310.14</td>\n",
       "      <td>-0.314796</td>\n",
       "      <td>-0.128466</td>\n",
       "      <td>-0.583298</td>\n",
       "      <td>-0.238040</td>\n",
       "      <td>7.071068e-01</td>\n",
       "      <td>-7.071068e-01</td>\n",
       "      <td>0.015783</td>\n",
       "      <td>0.999875</td>\n",
       "    </tr>\n",
       "    <tr>\n",
       "      <th>3</th>\n",
       "      <td>1000.30</td>\n",
       "      <td>-6.87</td>\n",
       "      <td>266.27</td>\n",
       "      <td>-8.28</td>\n",
       "      <td>89.6</td>\n",
       "      <td>3.64</td>\n",
       "      <td>3.27</td>\n",
       "      <td>0.38</td>\n",
       "      <td>2.03</td>\n",
       "      <td>3.26</td>\n",
       "      <td>1306.98</td>\n",
       "      <td>-1.834577</td>\n",
       "      <td>-0.141163</td>\n",
       "      <td>-2.622249</td>\n",
       "      <td>-0.201771</td>\n",
       "      <td>6.903299e-12</td>\n",
       "      <td>-1.000000e+00</td>\n",
       "      <td>0.017933</td>\n",
       "      <td>0.999839</td>\n",
       "    </tr>\n",
       "    <tr>\n",
       "      <th>4</th>\n",
       "      <td>999.88</td>\n",
       "      <td>-5.69</td>\n",
       "      <td>267.48</td>\n",
       "      <td>-7.00</td>\n",
       "      <td>90.4</td>\n",
       "      <td>3.99</td>\n",
       "      <td>3.61</td>\n",
       "      <td>0.38</td>\n",
       "      <td>2.25</td>\n",
       "      <td>3.61</td>\n",
       "      <td>1300.51</td>\n",
       "      <td>-0.825870</td>\n",
       "      <td>0.828758</td>\n",
       "      <td>-1.327039</td>\n",
       "      <td>1.331679</td>\n",
       "      <td>-7.071068e-01</td>\n",
       "      <td>-7.071068e-01</td>\n",
       "      <td>0.020083</td>\n",
       "      <td>0.999798</td>\n",
       "    </tr>\n",
       "    <tr>\n",
       "      <th>...</th>\n",
       "      <td>...</td>\n",
       "      <td>...</td>\n",
       "      <td>...</td>\n",
       "      <td>...</td>\n",
       "      <td>...</td>\n",
       "      <td>...</td>\n",
       "      <td>...</td>\n",
       "      <td>...</td>\n",
       "      <td>...</td>\n",
       "      <td>...</td>\n",
       "      <td>...</td>\n",
       "      <td>...</td>\n",
       "      <td>...</td>\n",
       "      <td>...</td>\n",
       "      <td>...</td>\n",
       "      <td>...</td>\n",
       "      <td>...</td>\n",
       "      <td>...</td>\n",
       "      <td>...</td>\n",
       "    </tr>\n",
       "    <tr>\n",
       "      <th>8755</th>\n",
       "      <td>980.34</td>\n",
       "      <td>1.45</td>\n",
       "      <td>276.18</td>\n",
       "      <td>0.03</td>\n",
       "      <td>90.2</td>\n",
       "      <td>6.79</td>\n",
       "      <td>6.12</td>\n",
       "      <td>0.67</td>\n",
       "      <td>3.89</td>\n",
       "      <td>6.24</td>\n",
       "      <td>1240.67</td>\n",
       "      <td>-0.604351</td>\n",
       "      <td>-3.731375</td>\n",
       "      <td>-1.191115</td>\n",
       "      <td>-7.354165</td>\n",
       "      <td>-8.715574e-02</td>\n",
       "      <td>-9.961947e-01</td>\n",
       "      <td>-0.028744</td>\n",
       "      <td>0.999587</td>\n",
       "    </tr>\n",
       "    <tr>\n",
       "      <th>8756</th>\n",
       "      <td>983.25</td>\n",
       "      <td>2.23</td>\n",
       "      <td>276.73</td>\n",
       "      <td>0.21</td>\n",
       "      <td>86.4</td>\n",
       "      <td>7.18</td>\n",
       "      <td>6.20</td>\n",
       "      <td>0.98</td>\n",
       "      <td>3.93</td>\n",
       "      <td>6.31</td>\n",
       "      <td>1240.81</td>\n",
       "      <td>-0.432628</td>\n",
       "      <td>-2.126437</td>\n",
       "      <td>-0.849307</td>\n",
       "      <td>-4.174479</td>\n",
       "      <td>-7.660444e-01</td>\n",
       "      <td>-6.427876e-01</td>\n",
       "      <td>-0.026594</td>\n",
       "      <td>0.999646</td>\n",
       "    </tr>\n",
       "    <tr>\n",
       "      <th>8757</th>\n",
       "      <td>985.46</td>\n",
       "      <td>1.69</td>\n",
       "      <td>276.00</td>\n",
       "      <td>-0.52</td>\n",
       "      <td>85.2</td>\n",
       "      <td>6.90</td>\n",
       "      <td>5.88</td>\n",
       "      <td>1.02</td>\n",
       "      <td>3.72</td>\n",
       "      <td>5.97</td>\n",
       "      <td>1246.23</td>\n",
       "      <td>-0.626578</td>\n",
       "      <td>-2.513066</td>\n",
       "      <td>-0.977364</td>\n",
       "      <td>-3.919995</td>\n",
       "      <td>-9.961947e-01</td>\n",
       "      <td>8.715574e-02</td>\n",
       "      <td>-0.024445</td>\n",
       "      <td>0.999701</td>\n",
       "    </tr>\n",
       "    <tr>\n",
       "      <th>8758</th>\n",
       "      <td>986.63</td>\n",
       "      <td>2.16</td>\n",
       "      <td>276.38</td>\n",
       "      <td>-1.14</td>\n",
       "      <td>78.7</td>\n",
       "      <td>7.14</td>\n",
       "      <td>5.62</td>\n",
       "      <td>1.52</td>\n",
       "      <td>3.55</td>\n",
       "      <td>5.70</td>\n",
       "      <td>1245.68</td>\n",
       "      <td>-0.773266</td>\n",
       "      <td>-3.669409</td>\n",
       "      <td>-1.222791</td>\n",
       "      <td>-5.802558</td>\n",
       "      <td>-6.427876e-01</td>\n",
       "      <td>7.660444e-01</td>\n",
       "      <td>-0.022295</td>\n",
       "      <td>0.999751</td>\n",
       "    </tr>\n",
       "    <tr>\n",
       "      <th>8759</th>\n",
       "      <td>987.50</td>\n",
       "      <td>1.57</td>\n",
       "      <td>275.72</td>\n",
       "      <td>-0.88</td>\n",
       "      <td>83.7</td>\n",
       "      <td>6.84</td>\n",
       "      <td>5.73</td>\n",
       "      <td>1.12</td>\n",
       "      <td>3.61</td>\n",
       "      <td>5.80</td>\n",
       "      <td>1249.44</td>\n",
       "      <td>-0.430321</td>\n",
       "      <td>-1.973632</td>\n",
       "      <td>-0.766909</td>\n",
       "      <td>-3.517364</td>\n",
       "      <td>8.715574e-02</td>\n",
       "      <td>9.961947e-01</td>\n",
       "      <td>-0.020145</td>\n",
       "      <td>0.999797</td>\n",
       "    </tr>\n",
       "  </tbody>\n",
       "</table>\n",
       "<p>8760 rows × 19 columns</p>\n",
       "</div>"
      ],
      "text/plain": [
       "      p (mbar)  T (degC)  Tpot (K)  Tdew (degC)  rh (%)  VPmax (mbar)  \\\n",
       "0       996.84     -8.81    264.59        -9.66    93.5          3.13   \n",
       "1       997.71     -9.67    263.66       -10.62    92.7          2.93   \n",
       "2       999.69     -7.66    265.52        -8.84    91.2          3.43   \n",
       "3      1000.30     -6.87    266.27        -8.28    89.6          3.64   \n",
       "4       999.88     -5.69    267.48        -7.00    90.4          3.99   \n",
       "...        ...       ...       ...          ...     ...           ...   \n",
       "8755    980.34      1.45    276.18         0.03    90.2          6.79   \n",
       "8756    983.25      2.23    276.73         0.21    86.4          7.18   \n",
       "8757    985.46      1.69    276.00        -0.52    85.2          6.90   \n",
       "8758    986.63      2.16    276.38        -1.14    78.7          7.14   \n",
       "8759    987.50      1.57    275.72        -0.88    83.7          6.84   \n",
       "\n",
       "      VPact (mbar)  VPdef (mbar)  sh (g/kg)  H2OC (mmol/mol)  rho (g/m**3)  \\\n",
       "0             2.93          0.20       1.83             2.94       1312.18   \n",
       "1             2.71          0.21       1.69             2.72       1317.71   \n",
       "2             3.13          0.30       1.95             3.13       1310.14   \n",
       "3             3.27          0.38       2.03             3.26       1306.98   \n",
       "4             3.61          0.38       2.25             3.61       1300.51   \n",
       "...            ...           ...        ...              ...           ...   \n",
       "8755          6.12          0.67       3.89             6.24       1240.67   \n",
       "8756          6.20          0.98       3.93             6.31       1240.81   \n",
       "8757          5.88          1.02       3.72             5.97       1246.23   \n",
       "8758          5.62          1.52       3.55             5.70       1245.68   \n",
       "8759          5.73          1.12       3.61             5.80       1249.44   \n",
       "\n",
       "            Wx        Wy    max Wx    max Wy       Day_sin       Day_cos  \\\n",
       "0    -0.175527  0.039879 -0.614344  0.139576  7.071068e-01  7.071068e-01   \n",
       "1    -0.041452  0.027960 -0.414519  0.279596  1.000000e+00  4.339955e-12   \n",
       "2    -0.314796 -0.128466 -0.583298 -0.238040  7.071068e-01 -7.071068e-01   \n",
       "3    -1.834577 -0.141163 -2.622249 -0.201771  6.903299e-12 -1.000000e+00   \n",
       "4    -0.825870  0.828758 -1.327039  1.331679 -7.071068e-01 -7.071068e-01   \n",
       "...        ...       ...       ...       ...           ...           ...   \n",
       "8755 -0.604351 -3.731375 -1.191115 -7.354165 -8.715574e-02 -9.961947e-01   \n",
       "8756 -0.432628 -2.126437 -0.849307 -4.174479 -7.660444e-01 -6.427876e-01   \n",
       "8757 -0.626578 -2.513066 -0.977364 -3.919995 -9.961947e-01  8.715574e-02   \n",
       "8758 -0.773266 -3.669409 -1.222791 -5.802558 -6.427876e-01  7.660444e-01   \n",
       "8759 -0.430321 -1.973632 -0.766909 -3.517364  8.715574e-02  9.961947e-01   \n",
       "\n",
       "      Year_sin  Year_cos  \n",
       "0     0.011483  0.999934  \n",
       "1     0.013633  0.999907  \n",
       "2     0.015783  0.999875  \n",
       "3     0.017933  0.999839  \n",
       "4     0.020083  0.999798  \n",
       "...        ...       ...  \n",
       "8755 -0.028744  0.999587  \n",
       "8756 -0.026594  0.999646  \n",
       "8757 -0.024445  0.999701  \n",
       "8758 -0.022295  0.999751  \n",
       "8759 -0.020145  0.999797  \n",
       "\n",
       "[8760 rows x 19 columns]"
      ]
     },
     "execution_count": 12,
     "metadata": {},
     "output_type": "execute_result"
    }
   ],
   "source": [
    "fold = folds[0]\n",
    "fold"
   ]
  },
  {
   "cell_type": "markdown",
   "id": "8d9a7026",
   "metadata": {},
   "source": [
    "☝️ We want to split this fold **chronologically** into:\n",
    "\n",
    "- a <font color=blue>train</font> DataFrame\n",
    "- a <font color=\"#ff8005\">test</font> DataFrame\n",
    "\n",
    "that will contain all the data we need to be able to sample many `(X_i, y_i)` pairs in each DataFrame in a next step! "
   ]
  },
  {
   "cell_type": "markdown",
   "id": "0831f17a",
   "metadata": {},
   "source": [
    "The `INPUT_LENGTH` of each `X_i` is going to be equal to 2 weeks (it is quite a common period for weather forecasting)"
   ]
  },
  {
   "cell_type": "code",
   "execution_count": 15,
   "id": "37fa17d6",
   "metadata": {},
   "outputs": [],
   "source": [
    "INPUT_LENGTH = 8 * 14 # records every 3 hours x 8 = 24 hours\n",
    "                      # two weeks"
   ]
  },
  {
   "cell_type": "markdown",
   "id": "38099cae",
   "metadata": {},
   "source": [
    "❓ **Question (temporal <font color=blue>train</font>-<font color=orange>test</font> split)** ❓\n",
    "\n",
    "Code the function `train_test_split` down below which:\n",
    "- <i>(input)</i> given a `fold` (like above), a `train_test_ratio` (e.g 0.8) and an `input_length` (fixed)\n",
    "- <i>(output)</i> a tuple of (`fold_train`, `fold_test`) DataFrames\n",
    "\n",
    "\n",
    "❗️Hints to avoid data leakage❗️ \n",
    "\n",
    "- `fold_train` last index will become the last `y_train` later on\n",
    "- `fold_test` first index will be used to create the first `X_test`\n",
    "- To avoid data leakage, `y_train_last` should be JUST before `y_test_first`\n",
    "\n",
    "<img src=\"https://wagon-public-datasets.s3.amazonaws.com/data-science-images/DL/explanations_for_train_test_split_temporal.png\" alt=\"train_test_split_temporal\" width=\"500\" height=\"500\"> "
   ]
  },
  {
   "cell_type": "code",
   "execution_count": 21,
   "id": "13a8513e",
   "metadata": {},
   "outputs": [],
   "source": [
    "def train_test_split(fold:pd.DataFrame,\n",
    "                     train_test_ratio: float,\n",
    "                     input_length: int) -> Tuple[pd.DataFrame]:\n",
    "    '''\n",
    "    Returns a train dataframe and a test dataframe (fold_train, fold_test)\n",
    "    from which one can sample (X,y) sequences.\n",
    "    df_train should contain all the timesteps until round(train_test_ratio * len(fold))   \n",
    "    '''\n",
    "    last_train_idx = round(train_test_ratio * len(fold))\n",
    "    fold_train = fold.iloc[0:last_train_idx, :]\n",
    "    \n",
    "    first_test_idx = last_train_idx - input_length\n",
    "    fold_test = fold.iloc[first_test_idx:, :]\n",
    "    \n",
    "    return (fold_train, fold_test)"
   ]
  },
  {
   "cell_type": "markdown",
   "id": "ba5f4c0a",
   "metadata": {},
   "source": [
    "🧪 ***Test your code***"
   ]
  },
  {
   "cell_type": "code",
   "execution_count": 22,
   "id": "d0becdef",
   "metadata": {},
   "outputs": [],
   "source": [
    "(fold_train, fold_test) = train_test_split(fold, TRAIN_TEST_RATIO, INPUT_LENGTH)"
   ]
  },
  {
   "cell_type": "code",
   "execution_count": 23,
   "id": "29539b12",
   "metadata": {},
   "outputs": [
    {
     "name": "stdout",
     "output_type": "stream",
     "text": [
      "\u001b[1m============================= test session starts ==============================\u001b[0m\n",
      "platform linux -- Python 3.8.12, pytest-6.2.5, py-1.11.0, pluggy-1.0.0 -- /home/bitazaratustra/.pyenv/versions/lewagon/bin/python3\n",
      "cachedir: .pytest_cache\n",
      "rootdir: /home/bitazaratustra/code/bitazaratustra/data-challenges/06-Deep-Learning/04-Recurrent-Neural-Networks/03-Predict-temperature\n",
      "plugins: anyio-3.4.0\n",
      "\u001b[1mcollecting ... \u001b[0mcollected 4 items\n",
      "\n",
      "tests/test_holdout.py::TestHoldout::test_variable_test_index_start \u001b[32mPASSED\u001b[0m\u001b[32m [ 25%]\u001b[0m\n",
      "tests/test_holdout.py::TestHoldout::test_variable_test_index_stop \u001b[32mPASSED\u001b[0m\u001b[32m [ 50%]\u001b[0m\n",
      "tests/test_holdout.py::TestHoldout::test_variable_train_index_start \u001b[32mPASSED\u001b[0m\u001b[32m [ 75%]\u001b[0m\n",
      "tests/test_holdout.py::TestHoldout::test_variable_train_index_stop \u001b[32mPASSED\u001b[0m\u001b[32m [100%]\u001b[0m\n",
      "\n",
      "\u001b[32m============================== \u001b[32m\u001b[1m4 passed\u001b[0m\u001b[32m in 0.03s\u001b[0m\u001b[32m ===============================\u001b[0m\n",
      "\n",
      "\n",
      "💯 You can commit your code:\n",
      "\n",
      "\u001b[1;32mgit\u001b[39m add tests/holdout.pickle\n",
      "\n",
      "\u001b[32mgit\u001b[39m commit -m \u001b[33m'Completed holdout step'\u001b[39m\n",
      "\n",
      "\u001b[32mgit\u001b[39m push origin master\n"
     ]
    }
   ],
   "source": [
    "from nbresult import ChallengeResult\n",
    "\n",
    "result = ChallengeResult('holdout',\n",
    "                         train_index_start = fold_train.index.start,\n",
    "                         train_index_stop = fold_train.index.stop,\n",
    "                         test_index_start = fold_test.index.start,\n",
    "                         test_index_stop = fold_test.index.stop)\n",
    "result.write()\n",
    "print(result.check())"
   ]
  },
  {
   "cell_type": "markdown",
   "id": "c9bf3b52",
   "metadata": {},
   "source": [
    "## (1.3) Create (X, y) sequences"
   ]
  },
  {
   "cell_type": "markdown",
   "id": "de788300",
   "metadata": {},
   "source": [
    "Now that we have split our fold into a <font color=\"blue\">train</font> set and a <font color=\"#ff8005\">test</font> set, it is time to:\n",
    "- 🏋 sample lots of sequences $(X_i, y_i)$ on which the model will be <font color=\"blue\">trained</font>\n",
    "- 👩🏻‍🏫 sample lots of sequences $(X_i, y_i)$ on which the model will be <font color=\"#ff8005\">evaluated</font>\n",
    "\n",
    "<img src=\"https://bit.ly/3Ri8Vfd\" alt=\"Sequences in each fold\" width=\"300\" height=\"300\"> \n",
    "\n",
    "🎯 Our goal is to create 3D-arrays `(X_train, y_train)` and `(X_test, y_test)` containing all the SEQUENCES we need from this fold:\n",
    "\n",
    "* `X_train.shape = (n_samples_train, input_length, n_features)`\n",
    "* `y_train.shape = (n_samples_train, output_length, n_targets)`\n",
    "\n",
    "👉 Notice that we are now dealing with **3D arrays** instead of **2D DataFrames** time-series\n",
    "\n",
    "<img src=\"https://bit.ly/3bOhKNj\" alt=\"3d arrays time series\" width=\"1200\" height=\"800\"> "
   ]
  },
  {
   "cell_type": "code",
   "execution_count": 26,
   "id": "5a03141e",
   "metadata": {},
   "outputs": [
    {
     "name": "stdout",
     "output_type": "stream",
     "text": [
      "N_FEATURES = 19\n",
      "INPUT_LENGTH = 112\n"
     ]
    }
   ],
   "source": [
    "# INPUT X\n",
    "print(f'N_FEATURES = {N_FEATURES}')\n",
    "print(f'INPUT_LENGTH = {INPUT_LENGTH}')"
   ]
  },
  {
   "cell_type": "markdown",
   "id": "10c4955e",
   "metadata": {},
   "source": [
    "☝️ `X` is the **input** of our model. \n",
    "- It contains $19$ features: the past values of the <font color=green>**target**</font> + $18$ <font color=orange>**past-covariates**</font>\n",
    "- Each sequence has a length equal to $112$ timesteps (=$2$ weeks)"
   ]
  },
  {
   "cell_type": "code",
   "execution_count": 27,
   "id": "27a8b153",
   "metadata": {},
   "outputs": [
    {
     "name": "stdout",
     "output_type": "stream",
     "text": [
      "N_TARGETS = 1\n"
     ]
    }
   ],
   "source": [
    "# TARGET Y\n",
    "print(f'N_TARGETS = {N_TARGETS}')\n",
    "\n",
    "# Let's only predict 1 value ahead of us\n",
    "OUTPUT_LENGTH = 1"
   ]
  },
  {
   "cell_type": "markdown",
   "id": "041787e9",
   "metadata": {},
   "source": [
    "☝️ `y` is the <font color=green>**target**</font> that we want to predict\n",
    "- It is the value at the single next time step (=3 hours later)\n",
    "- We could also predict `OUTPUT_LENGTH > 1`, i.e several values in the future (3 hours later, 6 hours later, 9 hours later, ...) but let's keep it simple here and just try to predict the next point (in 3 hours)"
   ]
  },
  {
   "cell_type": "markdown",
   "id": "d49c5fd2",
   "metadata": {},
   "source": [
    "💡 To create these SEQUENCES within the <font color=\"blue\">train</font> set and the <font color=\"#ff8005\">test</font> set, you have several options, among them:\n",
    "- 🎲 <u><i>Option 1</i></u>: creating these sequences by randomly sampling $(X_i, y_i)$ from <font color=\"blue\">fold_train</font> and <font color=\"#ff8005\">fold_test</font>.\n",
    "- ⌚️ <u><i>Option 2</i></u>: scanning a fold chronologically and create all the possible pairs $(X_i, y_i)$. \n",
    " \n",
    "\n",
    "👉 Let's focus on the first option: random sampling\n",
    "\n",
    "🎁 If you want to scan the folds chronologically, we provided the solution in the section and you can come back to it later\n"
   ]
  },
  {
   "cell_type": "markdown",
   "id": "e2cdffed",
   "metadata": {},
   "source": [
    "### (1.2.1) Option 1: Create (X, y) by random sampling in each split"
   ]
  },
  {
   "cell_type": "markdown",
   "id": "a6547036",
   "metadata": {},
   "source": [
    "👇 We will code:\n",
    "\n",
    "* 1️⃣ a function `get_Xi_yi` to generate a single sequence randomly from within a fold\n",
    "\n",
    "* 2️⃣ a function `get_X_y` to generate 3D-arrays containing multiple sequences from a fold, calling the first function `get_Xi_yi` many times over"
   ]
  },
  {
   "cell_type": "markdown",
   "id": "f253cc0d",
   "metadata": {},
   "source": [
    "#### (1.2.2.1) Generating one random sequence"
   ]
  },
  {
   "cell_type": "markdown",
   "id": "cdf7bc56",
   "metadata": {},
   "source": [
    "<img src=\"https://wagon-public-datasets.s3.amazonaws.com/data-science-images/DL/get_xi_yi.png\" alt=\"one sequence\" width=\"400\" height=\"400\"> "
   ]
  },
  {
   "cell_type": "markdown",
   "id": "829cfd5e",
   "metadata": {},
   "source": [
    "❓ **Question (extracting a random sequence from a fold)** ❓\n",
    "\n",
    "Code the function `get_Xi_yi` down below which:\n",
    "- <i>(input)</i> given a fold, an `input_length` and an `output_length`\n",
    "- <i>(output)</i> returns a sequence $(X_i,y_i)$"
   ]
  },
  {
   "cell_type": "code",
   "execution_count": 35,
   "id": "d21f37a0",
   "metadata": {},
   "outputs": [],
   "source": [
    "def get_Xi_yi(\n",
    "    fold:pd.DataFrame, \n",
    "    input_length:int, \n",
    "    output_length:int):\n",
    "    '''\n",
    "    - given a fold, it returns one sequence (X_i, y_i)\n",
    "    - with the starting point of the sequence being chosen at random\n",
    "    '''\n",
    "    first_possible_start = 0\n",
    "    last_possible_start = len(fold) - (input_length + output_length) + 1\n",
    "    random_start = np.random.randint(first_possible_start, last_possible_start)\n",
    "    X_i = fold.iloc[random_start:random_start + input_length]\n",
    "    y_i = fold.iloc[random_start + input_length:random_start + input_length + 1][[TARGET]]\n",
    "    \n",
    "    return (X_i, y_i)"
   ]
  },
  {
   "cell_type": "markdown",
   "id": "038c82de",
   "metadata": {},
   "source": [
    "🧪 ***Test your code below***"
   ]
  },
  {
   "cell_type": "code",
   "execution_count": 36,
   "id": "e3328427",
   "metadata": {},
   "outputs": [],
   "source": [
    "X_train_i, y_train_i = get_Xi_yi(fold_train, INPUT_LENGTH, OUTPUT_LENGTH)\n",
    "X_test_i, y_test_i = get_Xi_yi(fold_test, INPUT_LENGTH, OUTPUT_LENGTH)"
   ]
  },
  {
   "cell_type": "code",
   "execution_count": 37,
   "id": "a79f630c",
   "metadata": {},
   "outputs": [
    {
     "name": "stdout",
     "output_type": "stream",
     "text": [
      "\u001b[1m============================= test session starts ==============================\u001b[0m\n",
      "platform linux -- Python 3.8.12, pytest-6.2.5, py-1.11.0, pluggy-1.0.0 -- /home/bitazaratustra/.pyenv/versions/lewagon/bin/python3\n",
      "cachedir: .pytest_cache\n",
      "rootdir: /home/bitazaratustra/code/bitazaratustra/data-challenges/06-Deep-Learning/04-Recurrent-Neural-Networks/03-Predict-temperature\n",
      "plugins: anyio-3.4.0\n",
      "\u001b[1mcollecting ... \u001b[0mcollected 4 items\n",
      "\n",
      "tests/test_sequence.py::TestSequence::test_variable_x_test_i_shape \u001b[32mPASSED\u001b[0m\u001b[32m [ 25%]\u001b[0m\n",
      "tests/test_sequence.py::TestSequence::test_variable_x_train_i_shape \u001b[32mPASSED\u001b[0m\u001b[32m [ 50%]\u001b[0m\n",
      "tests/test_sequence.py::TestSequence::test_variable_y_test_i_shape \u001b[32mPASSED\u001b[0m\u001b[32m [ 75%]\u001b[0m\n",
      "tests/test_sequence.py::TestSequence::test_variable_y_train_i_shape \u001b[32mPASSED\u001b[0m\u001b[32m [100%]\u001b[0m\n",
      "\n",
      "\u001b[32m============================== \u001b[32m\u001b[1m4 passed\u001b[0m\u001b[32m in 0.03s\u001b[0m\u001b[32m ===============================\u001b[0m\n",
      "\n",
      "\n",
      "💯 You can commit your code:\n",
      "\n",
      "\u001b[1;32mgit\u001b[39m add tests/sequence.pickle\n",
      "\n",
      "\u001b[32mgit\u001b[39m commit -m \u001b[33m'Completed sequence step'\u001b[39m\n",
      "\n",
      "\u001b[32mgit\u001b[39m push origin master\n"
     ]
    }
   ],
   "source": [
    "from nbresult import ChallengeResult\n",
    "\n",
    "result = ChallengeResult('sequence',\n",
    "                         x_train_i_shape = X_train_i.shape,\n",
    "                         y_train_i_shape = y_train_i.shape,\n",
    "                         x_test_i_shape = X_test_i.shape,\n",
    "                         y_test_i_shape = y_test_i.shape)\n",
    "result.write()\n",
    "print(result.check())"
   ]
  },
  {
   "cell_type": "code",
   "execution_count": 38,
   "id": "fb525c6f",
   "metadata": {},
   "outputs": [],
   "source": [
    "# Advanced check 😈 \n",
    "# You should not allow some truncated (X_i,y_i) pairs to be generating,\n",
    "# should you start sampling too close from the end of the fold... !\n",
    "\n",
    "X_last, y_last = get_Xi_yi(fold_test, input_length=len(fold_test)-1, output_length=OUTPUT_LENGTH)\n",
    "assert y_last.values == fold_test.iloc[-1,:][TARGET]"
   ]
  },
  {
   "cell_type": "markdown",
   "id": "c64e8713",
   "metadata": {},
   "source": [
    "#### (1.2.2.2) Generating multiple random sequences"
   ]
  },
  {
   "cell_type": "markdown",
   "id": "73e072b5",
   "metadata": {},
   "source": [
    "<img src=\"https://bit.ly/3Ri8Vfd\" alt=\"Sequences in each fold\" width=\"500\" height=\"500\"> "
   ]
  },
  {
   "cell_type": "markdown",
   "id": "e0db41a5",
   "metadata": {},
   "source": [
    "❓ **Question (extracting multiple random sequence from a fold)** ❓\n",
    "\n",
    "Code the function `get_X_y` down below which:\n",
    "- <i>(input)</i> given a fold, a `number_of_sequences` an `input_length` and an `output_length`\n",
    "- <i>(output)</i> returns $(X,y)$ \n",
    "\n",
    "_Don't forget to use the `get_Xi_yi` function that you have just coded!_"
   ]
  },
  {
   "cell_type": "code",
   "execution_count": 46,
   "id": "929d9d20",
   "metadata": {},
   "outputs": [],
   "source": [
    "def get_X_y(\n",
    "    fold:pd.DataFrame,\n",
    "    number_of_sequences:int,\n",
    "    input_length:int,\n",
    "    output_length:int\n",
    "):\n",
    "    X = []\n",
    "    y = []\n",
    "    \n",
    "    for x in range(number_of_sequences):\n",
    "        (Xi, yi) = get_Xi_yi(fold, input_length, output_length)\n",
    "        X.append(Xi)\n",
    "        y.append(yi)\n",
    "        \n",
    "    return(np.array(X),np.array(y))"
   ]
  },
  {
   "cell_type": "markdown",
   "id": "7f02c8ab",
   "metadata": {},
   "source": [
    "🧪 ***Test your code***"
   ]
  },
  {
   "cell_type": "code",
   "execution_count": 47,
   "id": "2081cd45",
   "metadata": {},
   "outputs": [],
   "source": [
    "N_TRAIN = 6666 # number_of_sequences_train\n",
    "N_TEST =  3333 # number_of_sequences_test\n",
    "\n",
    "X_train, y_train = get_X_y(fold_train, N_TRAIN, INPUT_LENGTH, OUTPUT_LENGTH)\n",
    "X_test, y_test = get_X_y(fold_test, N_TEST, INPUT_LENGTH, OUTPUT_LENGTH)"
   ]
  },
  {
   "cell_type": "code",
   "execution_count": 49,
   "id": "df64e2b1",
   "metadata": {},
   "outputs": [
    {
     "name": "stdout",
     "output_type": "stream",
     "text": [
      "\u001b[1m============================= test session starts ==============================\u001b[0m\n",
      "platform linux -- Python 3.8.12, pytest-6.2.5, py-1.11.0, pluggy-1.0.0 -- /home/bitazaratustra/.pyenv/versions/lewagon/bin/python3\n",
      "cachedir: .pytest_cache\n",
      "rootdir: /home/bitazaratustra/code/bitazaratustra/data-challenges/06-Deep-Learning/04-Recurrent-Neural-Networks/03-Predict-temperature\n",
      "plugins: anyio-3.4.0\n",
      "\u001b[1mcollecting ... \u001b[0mcollected 4 items\n",
      "\n",
      "tests/test_multiple_sequences.py::TestMultipleSequences::test_variable_x_test_i_shape \u001b[32mPASSED\u001b[0m\u001b[32m [ 25%]\u001b[0m\n",
      "tests/test_multiple_sequences.py::TestMultipleSequences::test_variable_x_train_shape \u001b[32mPASSED\u001b[0m\u001b[32m [ 50%]\u001b[0m\n",
      "tests/test_multiple_sequences.py::TestMultipleSequences::test_variable_y_test_i_shape \u001b[32mPASSED\u001b[0m\u001b[32m [ 75%]\u001b[0m\n",
      "tests/test_multiple_sequences.py::TestMultipleSequences::test_variable_y_train_shape \u001b[32mPASSED\u001b[0m\u001b[32m [100%]\u001b[0m\n",
      "\n",
      "\u001b[32m============================== \u001b[32m\u001b[1m4 passed\u001b[0m\u001b[32m in 0.03s\u001b[0m\u001b[32m ===============================\u001b[0m\n",
      "\n",
      "\n",
      "💯 You can commit your code:\n",
      "\n",
      "\u001b[1;32mgit\u001b[39m add tests/multiple_sequences.pickle\n",
      "\n",
      "\u001b[32mgit\u001b[39m commit -m \u001b[33m'Completed multiple_sequences step'\u001b[39m\n",
      "\n",
      "\u001b[32mgit\u001b[39m push origin master\n"
     ]
    }
   ],
   "source": [
    "from nbresult import ChallengeResult\n",
    "\n",
    "result = ChallengeResult('multiple_sequences',\n",
    "                         x_train_shape = X_train.shape,\n",
    "                         y_train_shape = y_train.shape,\n",
    "                         x_test_shape = X_test.shape,\n",
    "                         y_test_shape = y_test.shape)\n",
    "result.write()\n",
    "print(result.check())"
   ]
  },
  {
   "cell_type": "markdown",
   "id": "5b60b327",
   "metadata": {
    "heading_collapsed": true
   },
   "source": [
    "### (1.2.2) (Don't read this now, keep for later) 🎁 Option 2: Scanning  chronologically"
   ]
  },
  {
   "cell_type": "markdown",
   "id": "ffc77b1c",
   "metadata": {
    "hidden": true
   },
   "source": [
    "As stated earlier, there are multiple ways to extract sequences from a fold. \n",
    "\n",
    "- 🎲 In the previous section, you coded:\n",
    "    - `get_Xi_yi` which randomly samples _one_ sequence \n",
    "    - and `get_X_y` which randomly generates _multiple_ sequences\n",
    "\n",
    "- ⌚️ In this section, we provide you a unique function `get_X_y_strides`.\n",
    "    - It scans a fold chronologically based on:\n",
    "         - an `input_length` (let's still use `INPUT_LENGTH = 8 * 14`, i.e. two weeks) \n",
    "         - and a `sequence_stride` (think about a one-dimensional convolutional operation!)"
   ]
  },
  {
   "cell_type": "markdown",
   "id": "e83e2dc3",
   "metadata": {
    "hidden": true
   },
   "source": [
    "👉 Let's scan the fold with a temporal stride of 3 hours (the minimum one):"
   ]
  },
  {
   "cell_type": "code",
   "execution_count": null,
   "id": "462457e8",
   "metadata": {
    "hidden": true
   },
   "outputs": [],
   "source": [
    "SEQUENCE_STRIDE = 1"
   ]
  },
  {
   "cell_type": "code",
   "execution_count": null,
   "id": "1976055f",
   "metadata": {
    "hidden": true
   },
   "outputs": [],
   "source": [
    "def get_X_y_strides(fold: pd.DataFrame, input_length: int, output_length: int, sequence_stride: int):\n",
    "    '''\n",
    "    - slides through a `fold` Time Series (2D array) to create sequences of equal\n",
    "        * `input_length` for X,\n",
    "        * `output_length` for y,\n",
    "    using a temporal gap `sequence_stride` between each sequence\n",
    "    - returns a list of sequences, each as a 2D-array time series\n",
    "    '''\n",
    "\n",
    "    X, y = [], []\n",
    "\n",
    "    for i in range(0, len(fold), sequence_stride):\n",
    "        # Exits the loop as soon as the last fold index would exceed the last index\n",
    "        if (i + input_length + output_length) > len(fold):\n",
    "            break\n",
    "        X_i = fold.iloc[i:i + input_length, :]\n",
    "        y_i = fold.iloc[i + input_length:i + input_length + output_length, :][[TARGET]]\n",
    "        X.append(X_i)\n",
    "        y.append(y_i)\n",
    "\n",
    "    return np.array(X), np.array(y)"
   ]
  },
  {
   "cell_type": "markdown",
   "id": "3d84c4b6",
   "metadata": {
    "hidden": true
   },
   "source": [
    "🧑🏻‍🎓 Some clarifications about scanning a fold sequentially :"
   ]
  },
  {
   "cell_type": "code",
   "execution_count": null,
   "id": "aa4c2b9a",
   "metadata": {
    "hidden": true
   },
   "outputs": [],
   "source": [
    "print(\"FOLD_LENGTH\") \n",
    "print(f\"= {FOLD_LENGTH} timesteps\")\n",
    "print(f\"= {int(FOLD_LENGTH/8)} days\") # 8 records per day, every 3 hours\n",
    "print(f\"= {int(FOLD_LENGTH/8/7)} weeks\")"
   ]
  },
  {
   "cell_type": "code",
   "execution_count": null,
   "id": "c2e27bf7",
   "metadata": {
    "hidden": true
   },
   "outputs": [],
   "source": [
    "X_train, y_train = get_X_y_strides(fold_train, INPUT_LENGTH, OUTPUT_LENGTH, SEQUENCE_STRIDE)\n",
    "X_test, y_test = get_X_y_strides(fold_test, INPUT_LENGTH, OUTPUT_LENGTH, SEQUENCE_STRIDE)\n",
    "\n",
    "print(X_train.shape)\n",
    "print(y_train.shape)"
   ]
  },
  {
   "cell_type": "markdown",
   "id": "72122d0a",
   "metadata": {
    "hidden": true
   },
   "source": [
    "👇 Illustration down below if *SEQUENCE_STRIDE = 1 week*\n",
    "\n",
    "<img src=\"https://wagon-public-datasets.s3.amazonaws.com/data-science-images/DL/scanning_a_time_series_chronologically_v3.png\">"
   ]
  },
  {
   "cell_type": "markdown",
   "id": "9fcccab0",
   "metadata": {},
   "source": [
    "# (2) Modelling"
   ]
  },
  {
   "cell_type": "markdown",
   "id": "e2394d04",
   "metadata": {},
   "source": [
    "**The MAE as a metrics to monitor the temperature prediction**"
   ]
  },
  {
   "cell_type": "markdown",
   "id": "b6a38413",
   "metadata": {},
   "source": [
    "The Mean Absolute Error seems to be a reasonable metrics to evaluate a model's capability to predict the temperature:\n",
    "\n",
    "$$ MAE = \\frac{1}{n_{samples}} \\times \\sum_{i = 1}^{n_{samples}} |y_{true}^{(i)} - y_{pred}^{(i)}|$$"
   ]
  },
  {
   "cell_type": "markdown",
   "id": "7208f595",
   "metadata": {},
   "source": [
    "## (2.1) A Recurrent Neural Network: the `LSTM`\n",
    "\n",
    "🚀 It is time to design a Recurrent Neural Network and hopefully beat the baseline 💪 !"
   ]
  },
  {
   "cell_type": "markdown",
   "id": "d4c1ffb6",
   "metadata": {},
   "source": [
    "❓ **Question (RNN)** ❓ \n",
    "\n",
    "- Create a function `init_model` which builds and compiles a simple Recurrent Neural Network with an LSTM layer\n",
    "- Don't forget to normalize your data with a [📚 Normalization layer](https://www.tensorflow.org/api_docs/python/tf/keras/layers/Normalization)"
   ]
  },
  {
   "cell_type": "code",
   "execution_count": 58,
   "id": "27e80d5b",
   "metadata": {},
   "outputs": [],
   "source": [
    "from tensorflow.keras import models\n",
    "from tensorflow.keras import layers\n",
    "from tensorflow.keras import optimizers, metrics\n",
    "from tensorflow.keras.layers.experimental.preprocessing import Normalization\n",
    "from tensorflow.keras.layers import SimpleRNN, LSTM, GRU\n",
    "from tensorflow.keras.layers import Conv2D, MaxPooling2D, Flatten, Dense\n",
    "\n",
    "def init_model(X_train, y_train):\n",
    "    \n",
    "    model = models.Sequential()\n",
    "    normalize = Normalization()\n",
    "    normalize.adapt(X_train)\n",
    "    model.add(normalize)\n",
    "    model.add(LSTM(units=10, activation='tanh'))\n",
    "    model.add(Dense(1, activation='linear'))\n",
    "    \n",
    "    model.compile(loss='mse', optimizer='rmsprop', metrics='mae')\n",
    "    \n",
    "    \n",
    "    return model"
   ]
  },
  {
   "cell_type": "code",
   "execution_count": 59,
   "id": "d45ef330",
   "metadata": {
    "scrolled": true
   },
   "outputs": [
    {
     "name": "stdout",
     "output_type": "stream",
     "text": [
      "Model: \"sequential_4\"\n",
      "_________________________________________________________________\n",
      " Layer (type)                Output Shape              Param #   \n",
      "=================================================================\n",
      " normalization_4 (Normalizat  (None, None, 19)         39        \n",
      " ion)                                                            \n",
      "                                                                 \n",
      " lstm_4 (LSTM)               (None, 10)                1200      \n",
      "                                                                 \n",
      " dense_3 (Dense)             (None, 1)                 11        \n",
      "                                                                 \n",
      "=================================================================\n",
      "Total params: 1,250\n",
      "Trainable params: 1,211\n",
      "Non-trainable params: 39\n",
      "_________________________________________________________________\n"
     ]
    }
   ],
   "source": [
    "model = init_model(X_train, y_train)\n",
    "model.summary()"
   ]
  },
  {
   "cell_type": "markdown",
   "id": "90bf4ad3",
   "metadata": {},
   "source": [
    "🛠 🎁 📉 We coded a function `plot_history` for you to visualize the training of your RNN over epochs. This function shows both the evolution of the loss function (MSE) and metrics (MAE)."
   ]
  },
  {
   "cell_type": "code",
   "execution_count": 60,
   "id": "0f2b0f3e",
   "metadata": {},
   "outputs": [],
   "source": [
    "def plot_history(history):\n",
    "    \n",
    "    fig, ax = plt.subplots(1,2, figsize=(20,7))\n",
    "    # --- LOSS: MSE --- \n",
    "    ax[0].plot(history.history['loss'])\n",
    "    ax[0].plot(history.history['val_loss'])\n",
    "    ax[0].set_title('MSE')\n",
    "    ax[0].set_ylabel('Loss')\n",
    "    ax[0].set_xlabel('Epoch')\n",
    "    ax[0].legend(['Train', 'Test'], loc='best')\n",
    "    ax[0].grid(axis=\"x\",linewidth=0.5)\n",
    "    ax[0].grid(axis=\"y\",linewidth=0.5)\n",
    "    \n",
    "    # --- METRICS:MAE ---\n",
    "    \n",
    "    ax[1].plot(history.history['mae'])\n",
    "    ax[1].plot(history.history['val_mae'])\n",
    "    ax[1].set_title('MAE')\n",
    "    ax[1].set_ylabel('MAE')\n",
    "    ax[1].set_xlabel('Epoch')\n",
    "    ax[1].legend(['Train', 'Test'], loc='best')\n",
    "    ax[1].grid(axis=\"x\",linewidth=0.5)\n",
    "    ax[1].grid(axis=\"y\",linewidth=0.5)\n",
    "                        \n",
    "    return ax"
   ]
  },
  {
   "cell_type": "markdown",
   "id": "57ce9764",
   "metadata": {},
   "source": [
    "❓ **Questions (training and evaluating)** ❓\n",
    "\n",
    "- Code the `fit_model()` method that \n",
    "    - <i>(input)</i> given `model`\n",
    "    - <i>(output)</i> returns the fitted model through a tuple `(model, history)` \n",
    "- Then:\n",
    "    - Initialize an RNN model with the `init_model` function\n",
    "    - <font color=blue>Train</font> the model\n",
    "    - <font color=orange>Evaluate</font> it on the test set"
   ]
  },
  {
   "cell_type": "code",
   "execution_count": 67,
   "id": "c877b666",
   "metadata": {
    "tags": [
     "challengify"
    ]
   },
   "outputs": [],
   "source": [
    "# YOUR CODE HERE\n",
    "from tensorflow.keras.callbacks import EarlyStopping\n",
    "\n",
    "def fit_model(model):\n",
    "    es = EarlyStopping(monitor = \"val_loss\",\n",
    "                      patience = 3,\n",
    "                      mode = \"min\",\n",
    "                      restore_best_weights = True)\n",
    "    history = model.fit(X_train, y_train,\n",
    "                        validation_split = 0.3,\n",
    "                        shuffle = False,\n",
    "                        batch_size = 32,\n",
    "                        epochs = 50,\n",
    "                        callbacks = [es],\n",
    "                        verbose = 1)\n",
    "    return model, history"
   ]
  },
  {
   "cell_type": "code",
   "execution_count": 68,
   "id": "f5da327e",
   "metadata": {},
   "outputs": [
    {
     "name": "stdout",
     "output_type": "stream",
     "text": [
      "Model: \"sequential_7\"\n",
      "_________________________________________________________________\n",
      " Layer (type)                Output Shape              Param #   \n",
      "=================================================================\n",
      " normalization_7 (Normalizat  (None, None, 19)         39        \n",
      " ion)                                                            \n",
      "                                                                 \n",
      " lstm_7 (LSTM)               (None, 10)                1200      \n",
      "                                                                 \n",
      " dense_6 (Dense)             (None, 1)                 11        \n",
      "                                                                 \n",
      "=================================================================\n",
      "Total params: 1,250\n",
      "Trainable params: 1,211\n",
      "Non-trainable params: 39\n",
      "_________________________________________________________________\n"
     ]
    }
   ],
   "source": [
    "model = init_model(X_train, y_train)\n",
    "model.summary()"
   ]
  },
  {
   "cell_type": "code",
   "execution_count": 70,
   "id": "b549ecae",
   "metadata": {},
   "outputs": [
    {
     "data": {
      "image/png": "[encoded data removed]",
      "text/plain": [
       "<Figure size 1440x504 with 2 Axes>"
      ]
     },
     "metadata": {
      "needs_background": "light"
     },
     "output_type": "display_data"
    }
   ],
   "source": [
    "plot_history(history);"
   ]
  },
  {
   "cell_type": "code",
   "execution_count": 69,
   "id": "6993ca70",
   "metadata": {
    "scrolled": true
   },
   "outputs": [
    {
     "name": "stdout",
     "output_type": "stream",
     "text": [
      "Epoch 1/50\n",
      "146/146 [==============================] - 12s 70ms/step - loss: 113.6586 - mae: 8.7234 - val_loss: 81.2077 - val_mae: 7.3008\n",
      "Epoch 2/50\n",
      "146/146 [==============================] - 10s 68ms/step - loss: 66.0492 - mae: 6.2744 - val_loss: 54.3722 - val_mae: 5.5762\n",
      "Epoch 3/50\n",
      "146/146 [==============================] - 10s 67ms/step - loss: 48.6439 - mae: 5.1759 - val_loss: 41.4159 - val_mae: 4.7196\n",
      "Epoch 4/50\n",
      "146/146 [==============================] - 10s 67ms/step - loss: 37.1866 - mae: 4.3683 - val_loss: 31.4947 - val_mae: 3.9719\n",
      "Epoch 5/50\n",
      "146/146 [==============================] - 10s 67ms/step - loss: 28.2884 - mae: 3.6966 - val_loss: 23.7851 - val_mae: 3.3478\n",
      "Epoch 6/50\n",
      "146/146 [==============================] - 10s 67ms/step - loss: 21.3028 - mae: 3.1366 - val_loss: 17.6846 - val_mae: 2.8263\n",
      "Epoch 7/50\n",
      "146/146 [==============================] - 11s 73ms/step - loss: 15.9590 - mae: 2.6843 - val_loss: 13.2558 - val_mae: 2.4361\n",
      "Epoch 8/50\n",
      "146/146 [==============================] - 10s 70ms/step - loss: 12.1015 - mae: 2.3350 - val_loss: 10.1194 - val_mae: 2.1349\n",
      "Epoch 9/50\n",
      "146/146 [==============================] - 10s 67ms/step - loss: 9.3857 - mae: 2.0679 - val_loss: 7.9391 - val_mae: 1.9082\n",
      "Epoch 10/50\n",
      "146/146 [==============================] - 10s 68ms/step - loss: 7.4731 - mae: 1.8662 - val_loss: 6.4373 - val_mae: 1.7490\n",
      "Epoch 11/50\n",
      "146/146 [==============================] - 10s 68ms/step - loss: 6.1046 - mae: 1.7085 - val_loss: 5.3756 - val_mae: 1.6249\n",
      "Epoch 12/50\n",
      "146/146 [==============================] - 10s 67ms/step - loss: 5.1045 - mae: 1.5824 - val_loss: 4.6108 - val_mae: 1.5278\n",
      "Epoch 13/50\n",
      "146/146 [==============================] - 10s 67ms/step - loss: 4.3689 - mae: 1.4817 - val_loss: 4.0596 - val_mae: 1.4516\n",
      "Epoch 14/50\n",
      "146/146 [==============================] - 10s 67ms/step - loss: 3.8263 - mae: 1.4005 - val_loss: 3.6566 - val_mae: 1.3916\n",
      "Epoch 15/50\n",
      "146/146 [==============================] - 10s 68ms/step - loss: 3.4228 - mae: 1.3358 - val_loss: 3.3532 - val_mae: 1.3449\n",
      "Epoch 16/50\n",
      "146/146 [==============================] - 10s 67ms/step - loss: 3.1178 - mae: 1.2834 - val_loss: 3.1224 - val_mae: 1.3057\n",
      "Epoch 17/50\n",
      "146/146 [==============================] - 10s 67ms/step - loss: 2.8872 - mae: 1.2416 - val_loss: 2.9474 - val_mae: 1.2738\n",
      "Epoch 18/50\n",
      "146/146 [==============================] - 10s 67ms/step - loss: 2.7119 - mae: 1.2082 - val_loss: 2.8144 - val_mae: 1.2458\n",
      "Epoch 19/50\n",
      "146/146 [==============================] - 10s 67ms/step - loss: 2.5768 - mae: 1.1810 - val_loss: 2.7106 - val_mae: 1.2233\n",
      "Epoch 20/50\n",
      "146/146 [==============================] - 10s 68ms/step - loss: 2.4701 - mae: 1.1591 - val_loss: 2.6265 - val_mae: 1.2038\n",
      "Epoch 21/50\n",
      "146/146 [==============================] - 10s 68ms/step - loss: 2.3833 - mae: 1.1400 - val_loss: 2.5565 - val_mae: 1.1868\n",
      "Epoch 22/50\n",
      "146/146 [==============================] - 10s 68ms/step - loss: 2.3139 - mae: 1.1246 - val_loss: 2.4926 - val_mae: 1.1708\n",
      "Epoch 23/50\n",
      "146/146 [==============================] - 10s 67ms/step - loss: 2.2747 - mae: 1.1154 - val_loss: 2.4384 - val_mae: 1.1566\n",
      "Epoch 24/50\n",
      "146/146 [==============================] - 10s 69ms/step - loss: 2.1950 - mae: 1.0990 - val_loss: 2.3964 - val_mae: 1.1482\n",
      "Epoch 25/50\n",
      "146/146 [==============================] - 10s 67ms/step - loss: 2.1767 - mae: 1.0925 - val_loss: 2.3528 - val_mae: 1.1360\n",
      "Epoch 26/50\n",
      "146/146 [==============================] - 10s 67ms/step - loss: 2.1026 - mae: 1.0779 - val_loss: 2.3172 - val_mae: 1.1283\n",
      "Epoch 27/50\n",
      "146/146 [==============================] - 10s 69ms/step - loss: 2.0636 - mae: 1.0682 - val_loss: 2.2803 - val_mae: 1.1185\n",
      "Epoch 28/50\n",
      "146/146 [==============================] - 10s 68ms/step - loss: 2.0254 - mae: 1.0588 - val_loss: 2.2519 - val_mae: 1.1110\n",
      "Epoch 29/50\n",
      "146/146 [==============================] - 10s 69ms/step - loss: 1.9974 - mae: 1.0526 - val_loss: 2.2305 - val_mae: 1.1046\n",
      "Epoch 30/50\n",
      "146/146 [==============================] - 10s 65ms/step - loss: 1.9606 - mae: 1.0429 - val_loss: 2.2072 - val_mae: 1.0988\n",
      "Epoch 31/50\n",
      "146/146 [==============================] - 10s 68ms/step - loss: 1.9313 - mae: 1.0350 - val_loss: 2.1834 - val_mae: 1.0921\n",
      "Epoch 32/50\n",
      "146/146 [==============================] - 10s 68ms/step - loss: 1.9019 - mae: 1.0271 - val_loss: 2.1617 - val_mae: 1.0859\n",
      "Epoch 33/50\n",
      "146/146 [==============================] - 10s 70ms/step - loss: 1.8754 - mae: 1.0197 - val_loss: 2.1420 - val_mae: 1.0805\n",
      "Epoch 34/50\n",
      "146/146 [==============================] - 10s 69ms/step - loss: 1.8505 - mae: 1.0127 - val_loss: 2.1226 - val_mae: 1.0748\n",
      "Epoch 35/50\n",
      "146/146 [==============================] - 10s 67ms/step - loss: 1.8271 - mae: 1.0062 - val_loss: 2.1044 - val_mae: 1.0692\n",
      "Epoch 36/50\n",
      "146/146 [==============================] - 11s 73ms/step - loss: 1.8050 - mae: 1.0000 - val_loss: 2.0868 - val_mae: 1.0638\n",
      "Epoch 37/50\n",
      "146/146 [==============================] - 12s 81ms/step - loss: 1.7843 - mae: 0.9943 - val_loss: 2.0684 - val_mae: 1.0575\n",
      "Epoch 38/50\n",
      "146/146 [==============================] - 11s 72ms/step - loss: 1.7658 - mae: 0.9889 - val_loss: 2.0563 - val_mae: 1.0543\n",
      "Epoch 39/50\n",
      "146/146 [==============================] - 10s 67ms/step - loss: 1.7470 - mae: 0.9838 - val_loss: 2.0380 - val_mae: 1.0478\n",
      "Epoch 40/50\n",
      "146/146 [==============================] - 10s 70ms/step - loss: 1.7290 - mae: 0.9785 - val_loss: 2.0299 - val_mae: 1.0463\n",
      "Epoch 41/50\n",
      "146/146 [==============================] - 10s 66ms/step - loss: 1.7136 - mae: 0.9742 - val_loss: 2.0093 - val_mae: 1.0391\n",
      "Epoch 42/50\n",
      "146/146 [==============================] - 11s 75ms/step - loss: 1.6962 - mae: 0.9692 - val_loss: 1.9986 - val_mae: 1.0369\n",
      "Epoch 43/50\n",
      "146/146 [==============================] - 10s 69ms/step - loss: 1.6815 - mae: 0.9649 - val_loss: 1.9845 - val_mae: 1.0324\n",
      "Epoch 44/50\n",
      "146/146 [==============================] - 10s 66ms/step - loss: 1.6665 - mae: 0.9606 - val_loss: 1.9733 - val_mae: 1.0295\n",
      "Epoch 45/50\n",
      "146/146 [==============================] - 10s 66ms/step - loss: 1.6527 - mae: 0.9567 - val_loss: 1.9620 - val_mae: 1.0262\n",
      "Epoch 46/50\n",
      "146/146 [==============================] - 11s 74ms/step - loss: 1.6393 - mae: 0.9528 - val_loss: 1.9511 - val_mae: 1.0231\n",
      "Epoch 47/50\n",
      "146/146 [==============================] - 10s 67ms/step - loss: 1.6264 - mae: 0.9490 - val_loss: 1.9406 - val_mae: 1.0199\n",
      "Epoch 48/50\n",
      "146/146 [==============================] - 10s 69ms/step - loss: 1.6141 - mae: 0.9454 - val_loss: 1.9305 - val_mae: 1.0169\n",
      "Epoch 49/50\n",
      "146/146 [==============================] - 10s 65ms/step - loss: 1.6023 - mae: 0.9419 - val_loss: 1.9208 - val_mae: 1.0140\n",
      "Epoch 50/50\n",
      "146/146 [==============================] - 10s 71ms/step - loss: 1.5910 - mae: 0.9386 - val_loss: 1.9113 - val_mae: 1.0112\n"
     ]
    }
   ],
   "source": [
    "model, history = fit_model(model)"
   ]
  },
  {
   "cell_type": "code",
   "execution_count": 71,
   "id": "653eeb23",
   "metadata": {},
   "outputs": [
    {
     "name": "stdout",
     "output_type": "stream",
     "text": [
      "105/105 [==============================] - 1s 14ms/step - loss: 2.4173 - mae: 1.1799\n",
      "The LSTM MAE on the test set is equal to 1.18 Celsius degrees\n"
     ]
    }
   ],
   "source": [
    "res = model.evaluate(X_test, y_test)\n",
    "print(f\"The LSTM MAE on the test set is equal to {round(res[1],2)} Celsius degrees\")"
   ]
  },
  {
   "cell_type": "markdown",
   "id": "a96c2398",
   "metadata": {},
   "source": [
    "## (2.2) A Baseline Model to compare our LSTM with!"
   ]
  },
  {
   "cell_type": "markdown",
   "id": "1910960b",
   "metadata": {},
   "source": [
    "👉 In Time Series, an \"intuitive\" baseline model is to predict the **last seen value** for the future value(s) you want to forecast, as illustrated down below!\n",
    "\n",
    "<img src = \"https://wagon-public-datasets.s3.amazonaws.com/data-science-images/DL/rnn_time_series_no_horizon.png\" width = 600, height = 300>"
   ]
  },
  {
   "cell_type": "markdown",
   "id": "b7c8613f",
   "metadata": {},
   "source": [
    "❓ **Question (Last Seen Value Baseline Model)** ❓ \n",
    "\n",
    "Create a new method `init_baseline` that initializes and compiles a baseline model in a similar way to the LSTM.\n",
    "\n",
    "- The baseline should be as a [📚 Keras Lambda Layer](https://www.tensorflow.org/api_docs/python/tf/keras/layers/Lambda)\n",
    "- It should not even need a `fit` because it should have 0 trainable params\n",
    "- Then, compute the MAE for this FOLD and compare it with the MAE you obtained on the test set after training the LSTM \n",
    " \n",
    "<details>\n",
    "    <summary markdown='span'>💡 <i>Hint</i></summary>\n",
    "\n",
    "- Remember that `X_train[:,:,1]` is your temperature time-series (it's the second column in your `fold`) \n",
    "</details>\n"
   ]
  },
  {
   "cell_type": "code",
   "execution_count": 72,
   "id": "480a18be",
   "metadata": {},
   "outputs": [],
   "source": [
    "from tensorflow.keras.layers import Lambda\n",
    "\n",
    "def init_baseline():\n",
    "\n",
    "    model = models.Sequential()\n",
    "    model.add(Lambda(lambda x: x[:,-1,1,None]))\n",
    "    \n",
    "    model.compile(loss='mse', optimizer='adam', metrics=[\"mae\"])\n",
    "    \n",
    "    return model"
   ]
  },
  {
   "cell_type": "code",
   "execution_count": 73,
   "id": "30487021",
   "metadata": {},
   "outputs": [
    {
     "name": "stdout",
     "output_type": "stream",
     "text": [
      "105/105 [==============================] - 0s 1ms/step - loss: 7.8817 - mae: 2.0620\n",
      "- The Baseline MAE on the test set is equal to 2.06 Celsius degrees\n"
     ]
    }
   ],
   "source": [
    "baseline_model = init_baseline()\n",
    "baseline_score = baseline_model.evaluate(X_test, y_test)\n",
    "print(f\"- The Baseline MAE on the test set is equal to {round(baseline_score[1],2)} Celsius degrees\")"
   ]
  },
  {
   "cell_type": "code",
   "execution_count": 74,
   "id": "575ef148",
   "metadata": {},
   "outputs": [
    {
     "name": "stdout",
     "output_type": "stream",
     "text": [
      "- The LSTM MAE on the test set is equal to 1.18 Celsius degrees\n",
      "🔥 Improvement of the LSTM model over the baseline (on this fold for the test set) = : 42.78 % 🔥\n"
     ]
    }
   ],
   "source": [
    "print(f\"- The LSTM MAE on the test set is equal to {round(res[1],2)} Celsius degrees\")\n",
    "print(f\"🔥 Improvement of the LSTM model over the baseline (on this fold for the test set) = : {round((1 - (res[1]/baseline_score[1]))*100,2)} % 🔥\")"
   ]
  },
  {
   "cell_type": "markdown",
   "id": "360d75e3",
   "metadata": {},
   "source": [
    "## (2.3) Cross-Validation"
   ]
  },
  {
   "cell_type": "markdown",
   "id": "3f2fcbf7",
   "metadata": {},
   "source": [
    "Remember **\"The big picture\"** ? \n",
    "\n",
    "<br>\n",
    "\n",
    "<details>\n",
    "    <summary markdown='span'><i>The big picture</i></summary>\n",
    "\n",
    "\n",
    "<b><u>Step 1: Cross-Validation in Time Series [FOLDS] </u></b>\n",
    "\n",
    "* Starting from this single Time Series, we will create <font color=\"#c91ac9\">**FOLDS**</font>...\n",
    "* ... and train/evaluate our LSTM on these different <font color=\"#c91ac9\">**FOLDS**</font> to conclude about the robustness of the neural network\n",
    "* It is very common to create ***hundreds*** of <font color=\"#c91ac9\">**FOLDS**</font> in Time Series forecasting, so as to cover all type of external conditions: e.g.\n",
    "    - crash market periods 📉\n",
    "    - bull markets 📈\n",
    "    - atone markets 😴, etc...\n",
    "\n",
    "<b><u>Step 2: Holdout method within each fold [TRAIN-TEST SPLIT]</u></b>\n",
    "\n",
    "* For each <font color=\"#c91ac9\">**FOLD**</font>, we will do a TRAIN-TEST SPLIT to:\n",
    "    * <font color=blue>**fit**</font> the model on the <font color=blue>**train**</font> set \n",
    "    * and <font color=\"#ff8005\">**evaluate**</font> it on the <font color=\"#ff8005\">**test**</font> set\n",
    "    * Always split the train set **chronologically** before the test set!\n",
    "\n",
    "👇 The first two steps can be summarized in the following image that contains 4 FOLDS:\n",
    "\n",
    "<img src=\"https://bit.ly/3yLoa92\" alt=\"Time Series Cross Validation\" width=\"500\" height=\"500\">\n",
    "\n",
    "\n",
    "<b><u>Step 3: Sampling SEQUENCES in both the train set and the test set</u></b>\n",
    "\n",
    "In each <font color=blue>**train**</font> set and each <font color=\"#ff8005\">**test**</font> set, we will create <font color=magenta>**random sequences**</font> as illustrated down below 👇:\n",
    "\n",
    "<img src=\"https://bit.ly/3Ri8Vfd\" alt=\"Sequences in each fold\" width=\"500\" height=\"500\"> \n",
    "\n",
    "\n",
    "</details>\n",
    "\n",
    "❗️ ***Warnings*** ❗️\n",
    "\n",
    "* Keep in mind that we did <u><i>step 2</i></u> (<font color=\"blue\">train</font>/<font color=\"orange\">test</font> split) and <u><i>step 3</i></u> (get_X_y) only **<font color=\"#c91ac9\">for one single FOLD</font>**. \n",
    "* ***If we want to ensure the robustness of a model, we need to <font color=\"\">cross-validate the model on <font color=\"#c91ac9\">ALL the folds</font>!***\n"
   ]
  },
  {
   "cell_type": "code",
   "execution_count": 75,
   "id": "ab6799ad",
   "metadata": {},
   "outputs": [
    {
     "name": "stdout",
     "output_type": "stream",
     "text": [
      "N_FEATURES = 19\n",
      "N_TARGETS = 1\n",
      "\n",
      "FOLD_LENGTH = 8760\n",
      "FOLD_STRIDE = 728\n",
      "TRAIN_TEST_RATIO = 0.66\n",
      "\n",
      "N_TRAIN = 6666\n",
      "N_TEST = 3333\n",
      "INPUT_LENGTH = 112\n",
      "OUTPUT_LENGTH = 1\n"
     ]
    }
   ],
   "source": [
    "# Reminders of the global variables in this notebook\n",
    "\n",
    "print(f'N_FEATURES = {N_FEATURES}') \n",
    "print(f'N_TARGETS = {N_TARGETS}') \n",
    "print('')\n",
    "print(f'FOLD_LENGTH = {FOLD_LENGTH}')\n",
    "print(f'FOLD_STRIDE = {FOLD_STRIDE}')\n",
    "print(f'TRAIN_TEST_RATIO = {TRAIN_TEST_RATIO}')\n",
    "print('')\n",
    "print(f'N_TRAIN = {N_TRAIN}')\n",
    "print(f'N_TEST = {N_TEST}')\n",
    "print(f'INPUT_LENGTH = {INPUT_LENGTH}')\n",
    "print(f'OUTPUT_LENGTH = {OUTPUT_LENGTH}')\n"
   ]
  },
  {
   "cell_type": "code",
   "execution_count": 76,
   "id": "a222d5b5",
   "metadata": {},
   "outputs": [
    {
     "name": "stdout",
     "output_type": "stream",
     "text": [
      "WARNING, we have 21 FOLDS, so you may want to run the cross-validation of the RNN on Colab.\n"
     ]
    }
   ],
   "source": [
    "# Remember how many folds do we have ?\n",
    "folds = get_folds(df, FOLD_LENGTH, FOLD_STRIDE)\n",
    "\n",
    "print(f\"WARNING, we have {len(folds)} FOLDS, so you may want to run the cross-validation of the RNN on Colab.\")"
   ]
  },
  {
   "cell_type": "markdown",
   "id": "b14f7abd",
   "metadata": {},
   "source": [
    "**❓ Cross validate your baseline and your model in a for-loop!❓**\n",
    "\n",
    "Re-using your previously defined methods\n",
    "- `get_folds`\n",
    "- `train_test_split`\n",
    "- `get_X_y`\n",
    "- `init_model`\n",
    "- `init_baseline`"
   ]
  },
  {
   "cell_type": "code",
   "execution_count": 77,
   "id": "787ad729",
   "metadata": {},
   "outputs": [],
   "source": [
    "from tensorflow.keras.callbacks import EarlyStopping\n",
    "\n",
    "def cross_validate_baseline_and_lstm():\n",
    "    '''\n",
    "    This function cross-validates \n",
    "    - the \"last seen value\" baseline model\n",
    "    - the RNN model\n",
    "    '''\n",
    "    \n",
    "    list_of_mae_baseline_model = []\n",
    "    list_of_mae_recurrent_model = []\n",
    "    \n",
    "    # 0 - Creating folds\n",
    "    # =========================================    \n",
    "    folds = get_folds(df, FOLD_LENGTH, FOLD_STRIDE)\n",
    "    \n",
    "    for fold_id, fold in enumerate(folds):\n",
    "        \n",
    "        # 1 - Train/Test split the current fold\n",
    "        # =========================================\n",
    "        (fold_train, fold_test) = train_test_split(fold, TRAIN_TEST_RATIO, INPUT_LENGTH)                   \n",
    "\n",
    "        X_train, y_train = get_X_y(fold_train, N_TRAIN, INPUT_LENGTH, OUTPUT_LENGTH)\n",
    "        X_test, y_test = get_X_y(fold_test, N_TEST, INPUT_LENGTH, OUTPUT_LENGTH)\n",
    "        \n",
    "        # 2 - Modelling\n",
    "        # =========================================\n",
    "        \n",
    "        ##### Baseline Model\n",
    "        baseline_model = init_baseline()\n",
    "        mae_baseline = baseline_model.evaluate(X_test, y_test, verbose=0)[1]\n",
    "        list_of_mae_baseline_model.append(mae_baseline)\n",
    "        print(\"-\"*50)\n",
    "        print(f\"MAE baseline fold n°{fold_id} = {round(mae_baseline, 2)}\")\n",
    "\n",
    "        ##### LSTM Model\n",
    "        model = init_model(X_train, y_train)\n",
    "        es = EarlyStopping(monitor = \"val_mae\",\n",
    "                           mode = \"min\",\n",
    "                           patience = 2, \n",
    "                           restore_best_weights = True)\n",
    "        history = model.fit(X_train, y_train,\n",
    "                            validation_split = 0.3,\n",
    "                            shuffle = False,\n",
    "                            batch_size = 32,\n",
    "                            epochs = 50,\n",
    "                            callbacks = [es],\n",
    "                            verbose = 0)\n",
    "        res = model.evaluate(X_test, y_test, verbose=0)\n",
    "        mae_lstm = res[1]\n",
    "        list_of_mae_recurrent_model.append(mae_lstm)\n",
    "        print(f\"MAE LSTM fold n°{fold_id} = {round(mae_lstm, 2)}\")\n",
    "        \n",
    "        ##### Comparison LSTM vs Baseline for the current fold\n",
    "        print(f\"🏋🏽‍♂️ improvement over baseline: {round((1 - (mae_lstm/mae_baseline))*100,2)} % \\n\")\n",
    "\n",
    "    return list_of_mae_baseline_model, list_of_mae_recurrent_model"
   ]
  },
  {
   "cell_type": "code",
   "execution_count": 78,
   "id": "d2baaa8f",
   "metadata": {},
   "outputs": [
    {
     "name": "stdout",
     "output_type": "stream",
     "text": [
      "--------------------------------------------------\n",
      "MAE baseline fold n°0 = 2.02\n",
      "MAE LSTM fold n°0 = 1.26\n",
      "🏋🏽‍♂️ improvement over baseline: 37.36 % \n",
      "\n",
      "--------------------------------------------------\n",
      "MAE baseline fold n°1 = 2.05\n",
      "MAE LSTM fold n°1 = 1.28\n",
      "🏋🏽‍♂️ improvement over baseline: 37.31 % \n",
      "\n",
      "--------------------------------------------------\n",
      "MAE baseline fold n°2 = 1.89\n",
      "MAE LSTM fold n°2 = 1.23\n",
      "🏋🏽‍♂️ improvement over baseline: 35.09 % \n",
      "\n",
      "--------------------------------------------------\n",
      "MAE baseline fold n°3 = 2.02\n",
      "MAE LSTM fold n°3 = 1.23\n",
      "🏋🏽‍♂️ improvement over baseline: 39.18 % \n",
      "\n",
      "--------------------------------------------------\n",
      "MAE baseline fold n°4 = 1.84\n",
      "MAE LSTM fold n°4 = 1.24\n",
      "🏋🏽‍♂️ improvement over baseline: 32.48 % \n",
      "\n",
      "--------------------------------------------------\n",
      "MAE baseline fold n°5 = 1.74\n",
      "MAE LSTM fold n°5 = 1.11\n",
      "🏋🏽‍♂️ improvement over baseline: 36.1 % \n",
      "\n",
      "--------------------------------------------------\n",
      "MAE baseline fold n°6 = 1.66\n"
     ]
    },
    {
     "ename": "KeyboardInterrupt",
     "evalue": "",
     "output_type": "error",
     "traceback": [
      "\u001b[0;31m---------------------------------------------------------------------------\u001b[0m",
      "\u001b[0;31mKeyboardInterrupt\u001b[0m                         Traceback (most recent call last)",
      "\u001b[0;32m<timed exec>\u001b[0m in \u001b[0;36m<module>\u001b[0;34m\u001b[0m\n",
      "\u001b[0;32m/tmp/ipykernel_1083/2706832892.py\u001b[0m in \u001b[0;36mcross_validate_baseline_and_lstm\u001b[0;34m()\u001b[0m\n\u001b[1;32m     40\u001b[0m                            \u001b[0mpatience\u001b[0m \u001b[0;34m=\u001b[0m \u001b[0;36m2\u001b[0m\u001b[0;34m,\u001b[0m\u001b[0;34m\u001b[0m\u001b[0;34m\u001b[0m\u001b[0m\n\u001b[1;32m     41\u001b[0m                            restore_best_weights = True)\n\u001b[0;32m---> 42\u001b[0;31m         history = model.fit(X_train, y_train,\n\u001b[0m\u001b[1;32m     43\u001b[0m                             \u001b[0mvalidation_split\u001b[0m \u001b[0;34m=\u001b[0m \u001b[0;36m0.3\u001b[0m\u001b[0;34m,\u001b[0m\u001b[0;34m\u001b[0m\u001b[0;34m\u001b[0m\u001b[0m\n\u001b[1;32m     44\u001b[0m                             \u001b[0mshuffle\u001b[0m \u001b[0;34m=\u001b[0m \u001b[0;32mFalse\u001b[0m\u001b[0;34m,\u001b[0m\u001b[0;34m\u001b[0m\u001b[0;34m\u001b[0m\u001b[0m\n",
      "\u001b[0;32m~/.pyenv/versions/3.8.12/envs/lewagon/lib/python3.8/site-packages/keras/utils/traceback_utils.py\u001b[0m in \u001b[0;36merror_handler\u001b[0;34m(*args, **kwargs)\u001b[0m\n\u001b[1;32m     62\u001b[0m     \u001b[0mfiltered_tb\u001b[0m \u001b[0;34m=\u001b[0m \u001b[0;32mNone\u001b[0m\u001b[0;34m\u001b[0m\u001b[0;34m\u001b[0m\u001b[0m\n\u001b[1;32m     63\u001b[0m     \u001b[0;32mtry\u001b[0m\u001b[0;34m:\u001b[0m\u001b[0;34m\u001b[0m\u001b[0;34m\u001b[0m\u001b[0m\n\u001b[0;32m---> 64\u001b[0;31m       \u001b[0;32mreturn\u001b[0m \u001b[0mfn\u001b[0m\u001b[0;34m(\u001b[0m\u001b[0;34m*\u001b[0m\u001b[0margs\u001b[0m\u001b[0;34m,\u001b[0m \u001b[0;34m**\u001b[0m\u001b[0mkwargs\u001b[0m\u001b[0;34m)\u001b[0m\u001b[0;34m\u001b[0m\u001b[0;34m\u001b[0m\u001b[0m\n\u001b[0m\u001b[1;32m     65\u001b[0m     \u001b[0;32mexcept\u001b[0m \u001b[0mException\u001b[0m \u001b[0;32mas\u001b[0m \u001b[0me\u001b[0m\u001b[0;34m:\u001b[0m  \u001b[0;31m# pylint: disable=broad-except\u001b[0m\u001b[0;34m\u001b[0m\u001b[0;34m\u001b[0m\u001b[0m\n\u001b[1;32m     66\u001b[0m       \u001b[0mfiltered_tb\u001b[0m \u001b[0;34m=\u001b[0m \u001b[0m_process_traceback_frames\u001b[0m\u001b[0;34m(\u001b[0m\u001b[0me\u001b[0m\u001b[0;34m.\u001b[0m\u001b[0m__traceback__\u001b[0m\u001b[0;34m)\u001b[0m\u001b[0;34m\u001b[0m\u001b[0;34m\u001b[0m\u001b[0m\n",
      "\u001b[0;32m~/.pyenv/versions/3.8.12/envs/lewagon/lib/python3.8/site-packages/keras/engine/training.py\u001b[0m in \u001b[0;36mfit\u001b[0;34m(self, x, y, batch_size, epochs, verbose, callbacks, validation_split, validation_data, shuffle, class_weight, sample_weight, initial_epoch, steps_per_epoch, validation_steps, validation_batch_size, validation_freq, max_queue_size, workers, use_multiprocessing)\u001b[0m\n\u001b[1;32m   1214\u001b[0m                 _r=1):\n\u001b[1;32m   1215\u001b[0m               \u001b[0mcallbacks\u001b[0m\u001b[0;34m.\u001b[0m\u001b[0mon_train_batch_begin\u001b[0m\u001b[0;34m(\u001b[0m\u001b[0mstep\u001b[0m\u001b[0;34m)\u001b[0m\u001b[0;34m\u001b[0m\u001b[0;34m\u001b[0m\u001b[0m\n\u001b[0;32m-> 1216\u001b[0;31m               \u001b[0mtmp_logs\u001b[0m \u001b[0;34m=\u001b[0m \u001b[0mself\u001b[0m\u001b[0;34m.\u001b[0m\u001b[0mtrain_function\u001b[0m\u001b[0;34m(\u001b[0m\u001b[0miterator\u001b[0m\u001b[0;34m)\u001b[0m\u001b[0;34m\u001b[0m\u001b[0;34m\u001b[0m\u001b[0m\n\u001b[0m\u001b[1;32m   1217\u001b[0m               \u001b[0;32mif\u001b[0m \u001b[0mdata_handler\u001b[0m\u001b[0;34m.\u001b[0m\u001b[0mshould_sync\u001b[0m\u001b[0;34m:\u001b[0m\u001b[0;34m\u001b[0m\u001b[0;34m\u001b[0m\u001b[0m\n\u001b[1;32m   1218\u001b[0m                 \u001b[0mcontext\u001b[0m\u001b[0;34m.\u001b[0m\u001b[0masync_wait\u001b[0m\u001b[0;34m(\u001b[0m\u001b[0;34m)\u001b[0m\u001b[0;34m\u001b[0m\u001b[0;34m\u001b[0m\u001b[0m\n",
      "\u001b[0;32m~/.pyenv/versions/3.8.12/envs/lewagon/lib/python3.8/site-packages/tensorflow/python/util/traceback_utils.py\u001b[0m in \u001b[0;36merror_handler\u001b[0;34m(*args, **kwargs)\u001b[0m\n\u001b[1;32m    148\u001b[0m     \u001b[0mfiltered_tb\u001b[0m \u001b[0;34m=\u001b[0m \u001b[0;32mNone\u001b[0m\u001b[0;34m\u001b[0m\u001b[0;34m\u001b[0m\u001b[0m\n\u001b[1;32m    149\u001b[0m     \u001b[0;32mtry\u001b[0m\u001b[0;34m:\u001b[0m\u001b[0;34m\u001b[0m\u001b[0;34m\u001b[0m\u001b[0m\n\u001b[0;32m--> 150\u001b[0;31m       \u001b[0;32mreturn\u001b[0m \u001b[0mfn\u001b[0m\u001b[0;34m(\u001b[0m\u001b[0;34m*\u001b[0m\u001b[0margs\u001b[0m\u001b[0;34m,\u001b[0m \u001b[0;34m**\u001b[0m\u001b[0mkwargs\u001b[0m\u001b[0;34m)\u001b[0m\u001b[0;34m\u001b[0m\u001b[0;34m\u001b[0m\u001b[0m\n\u001b[0m\u001b[1;32m    151\u001b[0m     \u001b[0;32mexcept\u001b[0m \u001b[0mException\u001b[0m \u001b[0;32mas\u001b[0m \u001b[0me\u001b[0m\u001b[0;34m:\u001b[0m\u001b[0;34m\u001b[0m\u001b[0;34m\u001b[0m\u001b[0m\n\u001b[1;32m    152\u001b[0m       \u001b[0mfiltered_tb\u001b[0m \u001b[0;34m=\u001b[0m \u001b[0m_process_traceback_frames\u001b[0m\u001b[0;34m(\u001b[0m\u001b[0me\u001b[0m\u001b[0;34m.\u001b[0m\u001b[0m__traceback__\u001b[0m\u001b[0;34m)\u001b[0m\u001b[0;34m\u001b[0m\u001b[0;34m\u001b[0m\u001b[0m\n",
      "\u001b[0;32m~/.pyenv/versions/3.8.12/envs/lewagon/lib/python3.8/site-packages/tensorflow/python/eager/def_function.py\u001b[0m in \u001b[0;36m__call__\u001b[0;34m(self, *args, **kwds)\u001b[0m\n\u001b[1;32m    908\u001b[0m \u001b[0;34m\u001b[0m\u001b[0m\n\u001b[1;32m    909\u001b[0m       \u001b[0;32mwith\u001b[0m \u001b[0mOptionalXlaContext\u001b[0m\u001b[0;34m(\u001b[0m\u001b[0mself\u001b[0m\u001b[0;34m.\u001b[0m\u001b[0m_jit_compile\u001b[0m\u001b[0;34m)\u001b[0m\u001b[0;34m:\u001b[0m\u001b[0;34m\u001b[0m\u001b[0;34m\u001b[0m\u001b[0m\n\u001b[0;32m--> 910\u001b[0;31m         \u001b[0mresult\u001b[0m \u001b[0;34m=\u001b[0m \u001b[0mself\u001b[0m\u001b[0;34m.\u001b[0m\u001b[0m_call\u001b[0m\u001b[0;34m(\u001b[0m\u001b[0;34m*\u001b[0m\u001b[0margs\u001b[0m\u001b[0;34m,\u001b[0m \u001b[0;34m**\u001b[0m\u001b[0mkwds\u001b[0m\u001b[0;34m)\u001b[0m\u001b[0;34m\u001b[0m\u001b[0;34m\u001b[0m\u001b[0m\n\u001b[0m\u001b[1;32m    911\u001b[0m \u001b[0;34m\u001b[0m\u001b[0m\n\u001b[1;32m    912\u001b[0m       \u001b[0mnew_tracing_count\u001b[0m \u001b[0;34m=\u001b[0m \u001b[0mself\u001b[0m\u001b[0;34m.\u001b[0m\u001b[0mexperimental_get_tracing_count\u001b[0m\u001b[0;34m(\u001b[0m\u001b[0;34m)\u001b[0m\u001b[0;34m\u001b[0m\u001b[0;34m\u001b[0m\u001b[0m\n",
      "\u001b[0;32m~/.pyenv/versions/3.8.12/envs/lewagon/lib/python3.8/site-packages/tensorflow/python/eager/def_function.py\u001b[0m in \u001b[0;36m_call\u001b[0;34m(self, *args, **kwds)\u001b[0m\n\u001b[1;32m    940\u001b[0m       \u001b[0;31m# In this case we have created variables on the first call, so we run the\u001b[0m\u001b[0;34m\u001b[0m\u001b[0;34m\u001b[0m\u001b[0;34m\u001b[0m\u001b[0m\n\u001b[1;32m    941\u001b[0m       \u001b[0;31m# defunned version which is guaranteed to never create variables.\u001b[0m\u001b[0;34m\u001b[0m\u001b[0;34m\u001b[0m\u001b[0;34m\u001b[0m\u001b[0m\n\u001b[0;32m--> 942\u001b[0;31m       \u001b[0;32mreturn\u001b[0m \u001b[0mself\u001b[0m\u001b[0;34m.\u001b[0m\u001b[0m_stateless_fn\u001b[0m\u001b[0;34m(\u001b[0m\u001b[0;34m*\u001b[0m\u001b[0margs\u001b[0m\u001b[0;34m,\u001b[0m \u001b[0;34m**\u001b[0m\u001b[0mkwds\u001b[0m\u001b[0;34m)\u001b[0m  \u001b[0;31m# pylint: disable=not-callable\u001b[0m\u001b[0;34m\u001b[0m\u001b[0;34m\u001b[0m\u001b[0m\n\u001b[0m\u001b[1;32m    943\u001b[0m     \u001b[0;32melif\u001b[0m \u001b[0mself\u001b[0m\u001b[0;34m.\u001b[0m\u001b[0m_stateful_fn\u001b[0m \u001b[0;32mis\u001b[0m \u001b[0;32mnot\u001b[0m \u001b[0;32mNone\u001b[0m\u001b[0;34m:\u001b[0m\u001b[0;34m\u001b[0m\u001b[0;34m\u001b[0m\u001b[0m\n\u001b[1;32m    944\u001b[0m       \u001b[0;31m# Release the lock early so that multiple threads can perform the call\u001b[0m\u001b[0;34m\u001b[0m\u001b[0;34m\u001b[0m\u001b[0;34m\u001b[0m\u001b[0m\n",
      "\u001b[0;32m~/.pyenv/versions/3.8.12/envs/lewagon/lib/python3.8/site-packages/tensorflow/python/eager/function.py\u001b[0m in \u001b[0;36m__call__\u001b[0;34m(self, *args, **kwargs)\u001b[0m\n\u001b[1;32m   3128\u001b[0m       (graph_function,\n\u001b[1;32m   3129\u001b[0m        filtered_flat_args) = self._maybe_define_function(args, kwargs)\n\u001b[0;32m-> 3130\u001b[0;31m     return graph_function._call_flat(\n\u001b[0m\u001b[1;32m   3131\u001b[0m         filtered_flat_args, captured_inputs=graph_function.captured_inputs)  # pylint: disable=protected-access\n\u001b[1;32m   3132\u001b[0m \u001b[0;34m\u001b[0m\u001b[0m\n",
      "\u001b[0;32m~/.pyenv/versions/3.8.12/envs/lewagon/lib/python3.8/site-packages/tensorflow/python/eager/function.py\u001b[0m in \u001b[0;36m_call_flat\u001b[0;34m(self, args, captured_inputs, cancellation_manager)\u001b[0m\n\u001b[1;32m   1957\u001b[0m         and executing_eagerly):\n\u001b[1;32m   1958\u001b[0m       \u001b[0;31m# No tape is watching; skip to running the function.\u001b[0m\u001b[0;34m\u001b[0m\u001b[0;34m\u001b[0m\u001b[0;34m\u001b[0m\u001b[0m\n\u001b[0;32m-> 1959\u001b[0;31m       return self._build_call_outputs(self._inference_function.call(\n\u001b[0m\u001b[1;32m   1960\u001b[0m           ctx, args, cancellation_manager=cancellation_manager))\n\u001b[1;32m   1961\u001b[0m     forward_backward = self._select_forward_and_backward_functions(\n",
      "\u001b[0;32m~/.pyenv/versions/3.8.12/envs/lewagon/lib/python3.8/site-packages/tensorflow/python/eager/function.py\u001b[0m in \u001b[0;36mcall\u001b[0;34m(self, ctx, args, cancellation_manager)\u001b[0m\n\u001b[1;32m    596\u001b[0m       \u001b[0;32mwith\u001b[0m \u001b[0m_InterpolateFunctionError\u001b[0m\u001b[0;34m(\u001b[0m\u001b[0mself\u001b[0m\u001b[0;34m)\u001b[0m\u001b[0;34m:\u001b[0m\u001b[0;34m\u001b[0m\u001b[0;34m\u001b[0m\u001b[0m\n\u001b[1;32m    597\u001b[0m         \u001b[0;32mif\u001b[0m \u001b[0mcancellation_manager\u001b[0m \u001b[0;32mis\u001b[0m \u001b[0;32mNone\u001b[0m\u001b[0;34m:\u001b[0m\u001b[0;34m\u001b[0m\u001b[0;34m\u001b[0m\u001b[0m\n\u001b[0;32m--> 598\u001b[0;31m           outputs = execute.execute(\n\u001b[0m\u001b[1;32m    599\u001b[0m               \u001b[0mstr\u001b[0m\u001b[0;34m(\u001b[0m\u001b[0mself\u001b[0m\u001b[0;34m.\u001b[0m\u001b[0msignature\u001b[0m\u001b[0;34m.\u001b[0m\u001b[0mname\u001b[0m\u001b[0;34m)\u001b[0m\u001b[0;34m,\u001b[0m\u001b[0;34m\u001b[0m\u001b[0;34m\u001b[0m\u001b[0m\n\u001b[1;32m    600\u001b[0m               \u001b[0mnum_outputs\u001b[0m\u001b[0;34m=\u001b[0m\u001b[0mself\u001b[0m\u001b[0;34m.\u001b[0m\u001b[0m_num_outputs\u001b[0m\u001b[0;34m,\u001b[0m\u001b[0;34m\u001b[0m\u001b[0;34m\u001b[0m\u001b[0m\n",
      "\u001b[0;32m~/.pyenv/versions/3.8.12/envs/lewagon/lib/python3.8/site-packages/tensorflow/python/eager/execute.py\u001b[0m in \u001b[0;36mquick_execute\u001b[0;34m(op_name, num_outputs, inputs, attrs, ctx, name)\u001b[0m\n\u001b[1;32m     56\u001b[0m   \u001b[0;32mtry\u001b[0m\u001b[0;34m:\u001b[0m\u001b[0;34m\u001b[0m\u001b[0;34m\u001b[0m\u001b[0m\n\u001b[1;32m     57\u001b[0m     \u001b[0mctx\u001b[0m\u001b[0;34m.\u001b[0m\u001b[0mensure_initialized\u001b[0m\u001b[0;34m(\u001b[0m\u001b[0;34m)\u001b[0m\u001b[0;34m\u001b[0m\u001b[0;34m\u001b[0m\u001b[0m\n\u001b[0;32m---> 58\u001b[0;31m     tensors = pywrap_tfe.TFE_Py_Execute(ctx._handle, device_name, op_name,\n\u001b[0m\u001b[1;32m     59\u001b[0m                                         inputs, attrs, num_outputs)\n\u001b[1;32m     60\u001b[0m   \u001b[0;32mexcept\u001b[0m \u001b[0mcore\u001b[0m\u001b[0;34m.\u001b[0m\u001b[0m_NotOkStatusException\u001b[0m \u001b[0;32mas\u001b[0m \u001b[0me\u001b[0m\u001b[0;34m:\u001b[0m\u001b[0;34m\u001b[0m\u001b[0;34m\u001b[0m\u001b[0m\n",
      "\u001b[0;31mKeyboardInterrupt\u001b[0m: "
     ]
    }
   ],
   "source": [
    "%%time\n",
    "# WARNING : it takes 75 minutes to run this cell \n",
    "mae_baselines, mae_lstms = cross_validate_baseline_and_lstm()"
   ]
  },
  {
   "cell_type": "code",
   "execution_count": 79,
   "id": "bd76727e",
   "metadata": {},
   "outputs": [
    {
     "ename": "NameError",
     "evalue": "name 'mae_lstms' is not defined",
     "output_type": "error",
     "traceback": [
      "\u001b[0;31m---------------------------------------------------------------------------\u001b[0m",
      "\u001b[0;31mNameError\u001b[0m                                 Traceback (most recent call last)",
      "\u001b[0;32m/tmp/ipykernel_1083/3798887936.py\u001b[0m in \u001b[0;36m<module>\u001b[0;34m\u001b[0m\n\u001b[0;32m----> 1\u001b[0;31m \u001b[0mprint\u001b[0m\u001b[0;34m(\u001b[0m\u001b[0;34mf\"average percentage improvement over baseline = {round(np.mean(1 - (np.array(mae_lstms)/np.array(mae_baselines))),2)*100}%\"\u001b[0m\u001b[0;34m)\u001b[0m\u001b[0;34m\u001b[0m\u001b[0;34m\u001b[0m\u001b[0m\n\u001b[0m",
      "\u001b[0;31mNameError\u001b[0m: name 'mae_lstms' is not defined"
     ]
    }
   ],
   "source": [
    "print(f\"average percentage improvement over baseline = {round(np.mean(1 - (np.array(mae_lstms)/np.array(mae_baselines))),2)*100}%\")"
   ]
  },
  {
   "cell_type": "markdown",
   "id": "54f77019",
   "metadata": {},
   "source": [
    "## Acknowledgments"
   ]
  },
  {
   "cell_type": "markdown",
   "id": "d60ed70e",
   "metadata": {},
   "source": [
    "* This challenge was truly inspired by the `Time Series Forecasting` tutorial from `Google>Tensorflow>Keras`\n",
    "* The technical functions were inspired by Bruno Lajoie's [data-template package about Time Series](https://github.com/lewagon/data-templates/tree/main/project-boilerplates)"
   ]
  }
 ],
 "metadata": {
  "kernelspec": {
   "display_name": "Python 3 (ipykernel)",
   "language": "python",
   "name": "python3"
  },
  "language_info": {
   "codemirror_mode": {
    "name": "ipython",
    "version": 3
   },
   "file_extension": ".py",
   "mimetype": "text/x-python",
   "name": "python",
   "nbconvert_exporter": "python",
   "pygments_lexer": "ipython3",
   "version": "3.8.12"
  },
  "toc": {
   "base_numbering": 1,
   "nav_menu": {},
   "number_sections": true,
   "sideBar": true,
   "skip_h1_title": false,
   "title_cell": "Table of Contents",
   "title_sidebar": "Contents",
   "toc_cell": false,
   "toc_position": {},
   "toc_section_display": true,
   "toc_window_display": false
  }
 },
 "nbformat": 4,
 "nbformat_minor": 5
}
