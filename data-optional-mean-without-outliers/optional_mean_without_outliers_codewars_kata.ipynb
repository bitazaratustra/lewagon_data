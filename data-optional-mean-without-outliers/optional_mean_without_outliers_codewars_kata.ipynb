{
 "cells": [
  {
   "cell_type": "markdown",
   "id": "dd71bd7a",
   "metadata": {},
   "source": [
    "# Mean without outliers (Optional Challenge)"
   ]
  },
  {
   "cell_type": "markdown",
   "id": "77c81058",
   "metadata": {},
   "source": [
    "\n",
    "\n",
    "📚 As you already know, the mean is defined by:\n",
    "\n",
    "$$ \\bar{x} = \\frac{1}{n} \\sum_{i=0}^{n} x_i = \\frac{x_1 + x_2 + ... + x_{n-1} + x_n}{n}$$\n",
    "\n",
    "⚠️ However, an outlier can wrongly influence the mean.\n",
    "\n",
    "💪 The median is a more robust measure of central tendancy.\n",
    "\n",
    "🤔 But what if we could create a function `mean_without_outliers` to compute - as the name says - the mean without outliers ?\n"
   ]
  },
  {
   "cell_type": "markdown",
   "id": "bc025ab7",
   "metadata": {},
   "source": [
    "\n",
    "\n",
    "## Preliminary step: defining `outliers`\n",
    "\n",
    "This question implies a preliminary step: what is an `outlier` ?\n",
    "\n",
    "For each observation:\n",
    "\n",
    "* `option 1:` We could consider that an outlier is an observation with a **`z-score`** below -3 or above 3 for example. \n",
    "    - But it implies a strong assumption: you are assuming that your distribution is Gaussian.\n",
    "    - We could also be stricter with the z-score replacing 3-std-limit by 2, or more loose replacing the 3-std-limit by 4 or 5...\n",
    "\n",
    "* `option 2:` We could use the definition of an outlier in a **`whisker boxplot`** where an outlier is an observation that lives below `Q1 - 1.5 IQR` or above `Q3 + 1.5 IQR`\n",
    "\n"
   ]
  },
  {
   "cell_type": "code",
   "execution_count": 1,
   "id": "1039d39b",
   "metadata": {},
   "outputs": [],
   "source": [
    "import numpy as np\n",
    "import pandas as pd"
   ]
  },
  {
   "cell_type": "code",
   "execution_count": 2,
   "id": "f16d0a1f",
   "metadata": {},
   "outputs": [],
   "source": [
    "sample = [1, 2, 3, 4, 5, 6, 7, 8, 9, 10, 100]"
   ]
  },
  {
   "cell_type": "markdown",
   "id": "0c5a2528",
   "metadata": {},
   "source": [
    "## Outliers defined by Z-score"
   ]
  },
  {
   "cell_type": "markdown",
   "id": "3c5f6c06",
   "metadata": {},
   "source": [
    "### Draft\n",
    "\n",
    "- For your sample, compute:\n",
    "    - the mean\n",
    "    - the standard deviation\n",
    "    - the z-score of each observation\n",
    "- Remove the outliers (observation with a z-score higher than your cutoff or lower than -cutoff\n",
    "- Compute the mean with the remaining elements\n",
    "\n",
    "Once you are satisfied with your steps, you can wrap these steps up into a single function in the next section of this notebook."
   ]
  },
  {
   "cell_type": "code",
   "execution_count": 3,
   "id": "6d4b74f0",
   "metadata": {
    "tags": [
     "challengify"
    ]
   },
   "outputs": [
    {
     "data": {
      "text/plain": [
       "14.090909090909092"
      ]
     },
     "execution_count": 3,
     "metadata": {},
     "output_type": "execute_result"
    }
   ],
   "source": [
    "sample_mean = np.mean(sample)\n",
    "sample_mean\n"
   ]
  },
  {
   "cell_type": "code",
   "execution_count": 4,
   "id": "71b1c1e3",
   "metadata": {},
   "outputs": [
    {
     "data": {
      "text/plain": [
       "27.304526915561905"
      ]
     },
     "execution_count": 4,
     "metadata": {},
     "output_type": "execute_result"
    }
   ],
   "source": [
    "sample_std = np.std(sample)\n",
    "sample_std\n"
   ]
  },
  {
   "cell_type": "code",
   "execution_count": 5,
   "id": "70ce258a",
   "metadata": {},
   "outputs": [
    {
     "data": {
      "text/plain": [
       "array([-0.47944098, -0.44281701, -0.40619305, -0.36956909, -0.33294512,\n",
       "       -0.29632116, -0.2596972 , -0.22307323, -0.18644927, -0.14982531,\n",
       "        3.14633142])"
      ]
     },
     "execution_count": 5,
     "metadata": {},
     "output_type": "execute_result"
    }
   ],
   "source": [
    "sample_z_scores = (sample - sample_mean)/sample_std\n",
    "sample_z_scores"
   ]
  },
  {
   "cell_type": "code",
   "execution_count": 6,
   "id": "5e008e90",
   "metadata": {},
   "outputs": [],
   "source": [
    "cutoff = 3"
   ]
  },
  {
   "cell_type": "markdown",
   "id": "d4813ccc",
   "metadata": {},
   "source": [
    "## `mean_without_outliers_z_score`"
   ]
  },
  {
   "cell_type": "code",
   "execution_count": 7,
   "id": "429f9a0b",
   "metadata": {},
   "outputs": [],
   "source": [
    "def mean_without_outliers_z_score(elements):\n",
    "    ''' return the mean of of a list of elements without outliers using the z_score'''\n",
    "   \n",
    "    mu = np.mean(elements)\n",
    "    sigma = np.std(elements)\n",
    "    \n",
    "    z_scores = (elements - mu)/sigma\n",
    "    \n",
    "    cutoff = 3\n",
    "    filtered = [x for i, x in enumerate(sample) if (np.abs(sample_z_scores)[i] >= cutoff) == False]\n",
    "    \n",
    "    return np.mean(filtered)\n",
    "   "
   ]
  },
  {
   "cell_type": "markdown",
   "id": "32363da0",
   "metadata": {},
   "source": [
    "## Outliers defined by the boxplot"
   ]
  },
  {
   "cell_type": "markdown",
   "id": "28f3d6d1",
   "metadata": {},
   "source": [
    "### Draft\n",
    "\n",
    "- For your sample, compute:\n",
    "    - Q1\n",
    "    - Q3\n",
    "    - IQR\n",
    "    - the lower bound Q1 - 1.5 IQR\n",
    "    - the upper bound Q3 + 1.5 IQR\n",
    "- Remove the outliers (observations that are lower than the lower bound or greaterthan the upper bound\n",
    "- Compute the mean with the remaining elements\n",
    "\n",
    "Once you are satisfied with your steps, you can wrap these steps up into a single function in the next section of this notebook."
   ]
  },
  {
   "cell_type": "code",
   "execution_count": 8,
   "id": "45659600",
   "metadata": {
    "tags": [
     "challengify"
    ]
   },
   "outputs": [],
   "source": [
    "q1 = pd.Series(sample).describe()[\"25%\"]\n",
    "q3 = pd.Series(sample).describe()[\"75%\"]"
   ]
  },
  {
   "cell_type": "code",
   "execution_count": 9,
   "id": "6e4f4fa3",
   "metadata": {},
   "outputs": [
    {
     "data": {
      "text/plain": [
       "5.0"
      ]
     },
     "execution_count": 9,
     "metadata": {},
     "output_type": "execute_result"
    }
   ],
   "source": [
    "iqr = q3 - q1\n",
    "iqr"
   ]
  },
  {
   "cell_type": "code",
   "execution_count": 10,
   "id": "36f488f9",
   "metadata": {},
   "outputs": [
    {
     "data": {
      "text/plain": [
       "-4.0"
      ]
     },
     "execution_count": 10,
     "metadata": {},
     "output_type": "execute_result"
    }
   ],
   "source": [
    "lower_bound_outliers = q1 - 1.5 * iqr\n",
    "lower_bound_outliers"
   ]
  },
  {
   "cell_type": "code",
   "execution_count": 11,
   "id": "58a7b87f",
   "metadata": {},
   "outputs": [
    {
     "data": {
      "text/plain": [
       "16.0"
      ]
     },
     "execution_count": 11,
     "metadata": {},
     "output_type": "execute_result"
    }
   ],
   "source": [
    "upper_bound_outliers = q3 + 1.5 * iqr\n",
    "upper_bound_outliers"
   ]
  },
  {
   "cell_type": "code",
   "execution_count": 12,
   "id": "dfc39324",
   "metadata": {},
   "outputs": [
    {
     "data": {
      "text/plain": [
       "array([0, 1, 2, 3, 4, 5, 6, 7, 8, 9])"
      ]
     },
     "execution_count": 12,
     "metadata": {},
     "output_type": "execute_result"
    }
   ],
   "source": [
    "filtered = np.where(np.logical_and(sample>=lower_bound_outliers, sample<=upper_bound_outliers))[0]\n",
    "filtered"
   ]
  },
  {
   "cell_type": "markdown",
   "id": "a9488d07",
   "metadata": {},
   "source": [
    "### `mean_without_outliers_boxplot`"
   ]
  },
  {
   "cell_type": "code",
   "execution_count": 13,
   "id": "3f15c198",
   "metadata": {},
   "outputs": [],
   "source": [
    "def mean_without_outliers_boxplot(elements):\n",
    "    ''' return the mean of elements without outliers using the boxplot definition'''\n",
    "    # $CHALLENGIFY_BEGIN\n",
    "    # statistics\n",
    "    q1 = pd.Series(elements).describe()[\"25%\"]\n",
    "    q3 = pd.Series(elements).describe()[\"75%\"]\n",
    "    \n",
    "    # computing the inter-quartile range\n",
    "    iqr = q3 - q1\n",
    "    lower = q1 - 1.5 * iqr\n",
    "    upper = q3 + 1.5 * iqr\n",
    "    \n",
    "    # filtering\n",
    "    filtered = np.where(\n",
    "        np.logical_and(\n",
    "            elements>=lower,\n",
    "            elements<=upper\n",
    "        )\n",
    "    )[0]\n",
    "    \n",
    "    return np.mean(np.array(elements)[filtered])"
   ]
  },
  {
   "cell_type": "code",
   "execution_count": 14,
   "id": "01306ad5",
   "metadata": {},
   "outputs": [
    {
     "data": {
      "text/plain": [
       "5.5"
      ]
     },
     "execution_count": 14,
     "metadata": {},
     "output_type": "execute_result"
    }
   ],
   "source": [
    "mean_without_outliers_boxplot(sample)"
   ]
  },
  {
   "cell_type": "markdown",
   "id": "26b16dea",
   "metadata": {},
   "source": [
    "## Comparisons\n",
    "\n",
    "*Uncomment the following cell*"
   ]
  },
  {
   "cell_type": "code",
   "execution_count": null,
   "id": "b44f3a2b",
   "metadata": {},
   "outputs": [],
   "source": [
    "data = {'method': ['mean', 'mean filtering by z-score', 'mean filtering by outliers'], \n",
    "         'result': [np.mean(sample),mean_without_outliers_z_score(sample), mean_without_outliers_boxplot(sample)]}\n",
    "# comparison_df = pd.DataFrame(data = data)\n",
    "# round(comparison_df,2)"
   ]
  },
  {
   "cell_type": "markdown",
   "id": "b60e4565",
   "metadata": {},
   "source": [
    "👏 If you managed to finish the optional, congrats !\n",
    "\n",
    "💾 Do not forget to `git add/commit/push` your work !"
   ]
  },
  {
   "cell_type": "code",
   "execution_count": null,
   "id": "e593645f",
   "metadata": {},
   "outputs": [],
   "source": []
  }
 ],
 "metadata": {
  "kernelspec": {
   "display_name": "Python 3 (ipykernel)",
   "language": "python",
   "name": "python3"
  },
  "language_info": {
   "codemirror_mode": {
    "name": "ipython",
    "version": 3
   },
   "file_extension": ".py",
   "mimetype": "text/x-python",
   "name": "python",
   "nbconvert_exporter": "python",
   "pygments_lexer": "ipython3",
   "version": "3.8.12"
  },
  "toc": {
   "base_numbering": 1,
   "nav_menu": {},
   "number_sections": true,
   "sideBar": true,
   "skip_h1_title": false,
   "title_cell": "Table of Contents",
   "title_sidebar": "Contents",
   "toc_cell": false,
   "toc_position": {},
   "toc_section_display": true,
   "toc_window_display": false
  }
 },
 "nbformat": 4,
 "nbformat_minor": 5
}
